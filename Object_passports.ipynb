{
  "cells": [
    {
      "cell_type": "markdown",
      "metadata": {
        "id": "e4ReGO4mtRFf"
      },
      "source": [
        "# Здесь построим программу для вывода пасспортов скважин\n",
        "Используем гугл хранилище, файл должен быть открыть в Google Colaboratory (требуется соединение с интернетом). Пасспорта скважин оформляются в соответсвии с данными в сводных ведомостях в установленном формате.\n",
        "\n",
        "Важное в оформлении сводных ведомостей в таблице: \n",
        "1.   Дата съемки должна быть обозначена ДАТОЙ\n",
        "2.   Измерения фиксируются при дате съемки темпераратур (второе измерение), если хочется убрать эту строчку, то просто удаляем дату второго измерения\n",
        "3.   Числовые значения должны быть определены как ЧИСЛОВЫЕ (возможны ошибки)\n",
        "4.   В таблице можно указать желаемое кол-во знаков в дробной части чисел\n",
        "\n",
        "Монтируем Гугл диск (важно зайти с аккаунта на котором хранятся файлы). Запускаем следующий раздел (кнопка play).\n",
        "\n",
        "Пояснения: \n",
        "1. Можно использовать локальное хранилище если указать новые пути для используемых томов. Для этого раскрываем скрытые ячейки и меняем переменную path_to_file (которая соответствует путям файлов, не путаем слеши /\\)\n",
        "2. В новом сезоне необходимо добавлять соответствующие листы сводных ведомостей в list_of_table_names (список экселевских листов в файле)\n",
        "\n",
        "\n",
        "\n"
      ]
    },
    {
      "cell_type": "markdown",
      "metadata": {
        "id": "0ML_1jYmHk8O",
        "tags": []
      },
      "source": [
        "## Импорт библиотек и функций \n",
        "(запускаем скрытый код ниже) спрятано чтобы не было страшно"
      ]
    },
    {
      "cell_type": "code",
      "execution_count": null,
      "metadata": {
        "id": "kaMrtTnGXb0S",
        "pycharm": {
          "is_executing": true
        },
        "scrolled": true
      },
      "outputs": [],
      "source": [
        "import pandas as pd\n",
        "import numpy as np\n",
        "import os\n",
        "\n",
        "import openpyxl\n",
        "from openpyxl.cell import WriteOnlyCell\n",
        "from openpyxl.comments import Comment\n",
        "from openpyxl.styles import PatternFill, Border, Side, Alignment, Protection, Font\n",
        "\n",
        "from openpyxl.chart import (\n",
        "  ScatterChart,\n",
        "  Reference,\n",
        "  Series,\n",
        "  LineChart,\n",
        ")\n",
        "from openpyxl.chart.axis import DateAxis\n",
        "from openpyxl.chart.text import RichText\n",
        "from openpyxl.drawing.text import Paragraph, ParagraphProperties, CharacterProperties, RegularTextRun\n",
        "from openpyxl.drawing.image import Image\n",
        "\n",
        "import matplotlib.pyplot as plt\n",
        "\n",
        "from PIL import Image as PIL_Image\n",
        "# import Image as PIL_Image\n",
        "from PIL import ImageFile\n",
        "ImageFile.LOAD_TRUNCATED_IMAGES = True\n",
        "\n",
        "# upg 20.aug.2021\n",
        "from scipy.interpolate import make_interp_spline, BSpline\n",
        "from scipy.interpolate import interp1d\n",
        "\n",
        "import warnings\n",
        "\n",
        "from pandas.core.common import SettingWithCopyWarning\n",
        "\n",
        "warnings.simplefilter(action=\"ignore\", category=SettingWithCopyWarning)\n",
        "\n",
        "df_add = pd.read_excel('Вспомогательная таблица Скважины.xlsx') #номер вспомогательной таблицы\n",
        "\n",
        "df_add['Название по таблице'] = df_add['Название по таблице'].astype(str) # добавляем костыли"
      ]
    },
    {
      "cell_type": "code",
      "execution_count": null,
      "metadata": {
        "id": "ji9Nvx6WtRFk",
        "tags": []
      },
      "outputs": [],
      "source": [
        "def read_df(path_to_file, name_of_area, list_of_table_names,  column_with_well_names = 'Unnamed: 3'):\n",
        "  # например: column_with_well_names = 'Unnamed: 3' # значит третью колонку мы используем для обозначения названий скважин\n",
        "\n",
        "  for i, sheet in enumerate (list_of_table_names):\n",
        "    if i==0:\n",
        "        df = pd.read_excel(path_to_file, sheet_name = sheet, skiprows = 12) # вроде вставка дат работает как надо\n",
        "        rename_df(df, column_with_well_names, name_of_area)\n",
        "    else:\n",
        "        df_temp = pd.read_excel(path_to_file, sheet_name = sheet, skiprows = 12) # вроде вставка дат работает как надо\n",
        "        rename_df(df_temp, column_with_well_names, name_of_area)\n",
        "        df = pd.concat([df, df_temp])\n",
        "    df = df[df['Дата'].notna()]\n",
        "    df = df[df['Скважина'].notna()]\n",
        "    df['Скважина'] = df['Скважина'].astype(str).str.replace(',', '.')\n",
        "\n",
        "  return(df)\n",
        "\n",
        "def rename_df(df, column_with_well_names, name_of_area = 'Default'):\n",
        "  # переименовываем и удаляем ненужные колонки, column_with_well_names здесь означает колонку с названием скважины\n",
        "\n",
        "  # additional_columns = True\n",
        "  # if name_of_area == 'Газопоршневая электростанция':\n",
        "  #   additional_columns = False\n",
        "\n",
        "  df.rename(columns = {'Unnamed: 1' : 'Позиция по ГП', column_with_well_names : 'Скважина', 'Дата.1' : 'ДАТА', 'Unnamed: 13' : 'Высота ТС от уровня земли, м', \n",
        "                        'Unnamed: 9' : '№ Термокосы', 'Unnamed: 20' : 'Температура воздуха, °С',\n",
        "                        0:str('0.0'), 0.5:str('0.5'), 1:str('1.0'), 1.5:str('1.5'), 2:str('2.0'), 2.5:str('2.5'), 3 : str('3.0'), \n",
        "                        4:str('4.0'), 5:str('5.0'), 6:str('6.0'), 7:str('7.0'), 8:str('8.0'), 9:str('9.0'), \n",
        "                        10:str('10.0'), 12:str('12.0'), 14:str('14.0'), 15:str('15.0')}, inplace = True)\n",
        "  df.rename(columns = {df.columns[-1] :'Средняя температура'}, inplace = True) # добавляем значения средних температур из сводной ведомости\n",
        "  # df = df[df['Средняя температура'] != '#DIV/0!']\n",
        "  # df['Средняя температура'] = (df['Средняя температура'].astype(float)//0.01)/100\n",
        "  actual_columns = ['Позиция по ГП', 'Скважина', 'ДАТА', 'Высота ТС от уровня земли, м', '0.0', '№ Термокосы', 'Температура воздуха, °С', '0.5', '1.0', '1.5', '2.0', '2.5', '3.0', \n",
        "                    '4.0', '5.0', '6.0', '7.0', '8.0', '9.0', \n",
        "                    '10.0', '12.0', '14.0', '15.0', 'Средняя температура']\n",
        "  \n",
        "  \n",
        "  \n",
        "  current_col = list(df.columns)\n",
        "  for temp in current_col:\n",
        "    dropped_col = []\n",
        "    if temp not in actual_columns:\n",
        "      dropped_col.append(temp)\n",
        "    df.drop(columns = dropped_col, inplace = True)\n",
        "  df.rename(columns = {'ДАТА' : 'Дата'}, inplace = True) # хз зачем я так сделал\n",
        "  # добавляем костыль\n",
        "  for column in actual_columns:\n",
        "    if column not in df.columns:\n",
        "      df[column] = float('nan')\n",
        "  \n",
        "  # преобразуем данные температур в формат float с одним знаком после\n",
        "  numeric_columns = ['0.0', 'Температура воздуха, °С', '0.5', '1.0', '1.5', '2.0', '2.5', '3.0', \n",
        "                    '4.0', '5.0', '6.0', '7.0', '8.0', '9.0', \n",
        "                    '10.0', '12.0', '14.0', '15.0', 'Средняя температура']\n",
        "  real_columns = list(df.columns)\n",
        "  for numeric_column in numeric_columns:\n",
        "    if numeric_column in real_columns: # на всякий случай\n",
        "      df[numeric_column] = df[numeric_column].astype(float).round(1)\n",
        "      \n",
        "def get_formatting_cells(formating_cells_col, formating_cells_row):\n",
        "  # получаем диапазон форматируемых ячеек\n",
        "  formating_cells = []\n",
        "  formating_cells_row.append(formating_cells_row[-1])# правка\n",
        "  for ind2 in formating_cells_col:\n",
        "    for ind3 in formating_cells_row:\n",
        "      formating_cells.append(ind2 + str(ind3))\n",
        "  return (formating_cells)\n",
        "\n",
        "def standart_formating_cell(formating_cell):\n",
        "  # формат ячеек по умолчанию\n",
        "  formating_cell.alignment= Alignment(horizontal='center', vertical='center', text_rotation=0,\n",
        "                                      wrap_text=True, shrink_to_fit=False, indent=0)\n",
        "  formating_cell.font = Font(name='Arial', size=11, bold=False, italic=False,\n",
        "                             vertAlign=None, underline='none', strike=False, color='FF000000')\n",
        "    \n",
        "def plot_graph(df_of_well, name_of_picture_file, list_of_plottiong_columns):\n",
        "    # строим график\n",
        "    df_plotting = df_of_well[list_of_plottiong_columns]\n",
        "\n",
        "    df_plotting['Дата'] = df_plotting['Дата'].dt.strftime(\"%d.%m.%Y\") # временно, снять выделение\n",
        "    \n",
        "    # размеры шрифтов\n",
        "    size_of_label_text = 11\n",
        "    size_of_axis_text = size_of_label_text - 2\n",
        "    size_of_legend_text=size_of_label_text - 2\n",
        "    \n",
        "    fig, ax = plt.subplots(figsize=(11, 3))\n",
        "\n",
        "    for index, row in df_plotting.iterrows():\n",
        "        row = row.dropna()\n",
        "        names = row.dropna().keys()[1:].astype(float)\n",
        "        ax.scatter(row[1:], names, s=20)\n",
        "\n",
        "        ############## changing area 20.aug.2021\n",
        "        # ax.plot(row[1:], names, label=row[0]) # предыдущий вариант\n",
        "\n",
        "        x = list(map(float, row[1:]))\n",
        "        y = list(names)\n",
        "        f_cubic = interp1d(y, x, kind='cubic')\n",
        "        y_new = np.linspace(min(y), max(y), 100)\n",
        "\n",
        "        ax.plot(f_cubic(y_new), y_new, label=row[0])\n",
        "        ###############\n",
        "\n",
        "#     names = list(df_plotting.columns[6:])\n",
        "    names = df_plotting.columns[1:].astype(float)\n",
        "    \n",
        "    ax.legend(loc=\"lower center\", ncol=len(df_plotting), bbox_to_anchor=(0.5,-0.15), frameon=False, \n",
        "              fontsize = size_of_legend_text)\n",
        "    temperatue_ticks = list((np.arange(min(list(df_plotting.dropna(axis = 1).min()[1:]))//1, \n",
        "                                       max(list(df_plotting.dropna(axis = 1).max()[1:])), 1))//1+1)\n",
        "    depth_ticks = list(list((np.arange(0, max(names)+1, 1))))\n",
        "  \n",
        "    ax.set_ylabel('Глубина, м', size = size_of_label_text)\n",
        "    ax.yaxis.set_ticks(depth_ticks)\n",
        "\n",
        "#     # ax.set_title('Глубина, м')\n",
        "\n",
        "    ax.set_xlabel('Температура грунта, °С', size = size_of_label_text, labelpad =10)\n",
        "    ax.xaxis.tick_top()\n",
        "    ax.xaxis.set_label_position('top')\n",
        "    ax.xaxis.set_ticks(temperatue_ticks)\n",
        "#     ax.tick_params(axis='both', which='major', labelsize=size_of_axis_text)\n",
        "\n",
        "    ax.grid()\n",
        "    plt.xlim(min(list(df_plotting.dropna(axis = 1).min()[1:]))//1, \n",
        "             max(list(df_plotting.dropna(axis = 1).max()[1:]))//1+1)\n",
        "    plt.ylim(max(list(map(float, (list_of_plottiong_columns[1:])))), 0)\n",
        "#     plt.show()\n",
        "    fig.savefig(name_of_picture_file, dpi = 100, bbox_inches = 'tight')\n",
        "    print('save_pic', well)\n",
        "    plt.close() # отключаем показ графиков\n",
        "\n",
        "def get_temperature_mean(row, name_of_area = False, variant = 2):\n",
        "    # выщитываем среднюю температуру\n",
        "    if variant == 1:\n",
        "      my_list = list([row['3.0'], row['4.0'], row['5.0'], row['6.0'], row['7.0'], row['8.0'], row['9.0'], row['10.0']])\n",
        "      my_list = [x for x in my_list if str(x) != 'nan']\n",
        "      my_list = [x for x in my_list if str(x) != '-']\n",
        "\n",
        "      if len(my_list) != 0:\n",
        "          t_mean = round(sum(my_list)/len(my_list),2)\n",
        "      else:\n",
        "          t_mean = ''\n",
        "    elif variant == 2:\n",
        "      t_mean = round(row['Средняя температура'], 2)\n",
        "    return(t_mean)\n",
        "\n",
        "\n",
        "\n",
        "def scale_image(input_image_path,\n",
        "                output_image_path,\n",
        "                width=None,\n",
        "                height=None\n",
        "                ):\n",
        "  # меняем размер в пикселях для картинок\n",
        "  if fifteen_meter_well:\n",
        "    width = width_for_15m_well\n",
        "  else:\n",
        "    width = width_for_10m_well\n",
        "  \n",
        "  original_image = PIL_Image.open(input_image_path)\n",
        "  w, h = original_image.size\n",
        "#     print('The original image size is {wide} wide x {height} '\n",
        "#           'high'.format(wide=w, height=h))\n",
        "\n",
        "  if width and height:\n",
        "    max_size = (width, height)\n",
        "  elif width:\n",
        "    max_size = (width, h)\n",
        "  elif height:\n",
        "    max_size = (w, height)\n",
        "  else:\n",
        "    # No width or height specified\n",
        "    raise RuntimeError('Width or height required!')\n",
        "  if w > width:\n",
        "      original_image.thumbnail(max_size, PIL_Image.ANTIALIAS)\n",
        "  elif w < width:\n",
        "    #print('хуй')\n",
        "    modificator = w/width\n",
        "    h2 = int(round(h/modificator, 2))\n",
        "    original_image = original_image.resize((width, h2), PIL_Image.ANTIALIAS)\n",
        "  original_image.save(output_image_path, optimize=True, quality=0.8)\n",
        "\n",
        "\n",
        "def add_heading (well, variant = 1):\n",
        "  if variant == 1:\n",
        "    cell = WriteOnlyCell(ws, value=\"Паспорт термометрической скважины:\")\n",
        "    cell.font = Font(name='Arial', size=14, bold = 'True')\n",
        "    cell.alignment = Alignment(horizontal = 'right')\n",
        "\n",
        "    cell_well = WriteOnlyCell(ws, value=well)\n",
        "    cell_well.font = Font(name='Arial', size=12, bold = 'True')\n",
        "    cell_well.alignment = Alignment(horizontal = 'center')\n",
        "    cell_well.border = Border(bottom=Side(border_style='thin', color='FF000000'),)\n",
        "    cell_Border = WriteOnlyCell(ws, value='')\n",
        "    cell_Border.border = Border(bottom=Side(border_style='thin', color='FF000000'),)\n",
        "\n",
        "    ws.append(['']) #первый отступ\n",
        "    ws.append([cell, *['']*12, cell_well, cell_Border])\n",
        "    ws.merged_cells.ranges.append(\"A2:M2\")\n",
        "    ws.merged_cells.ranges.append(\"N2:O2\")\n",
        "    ws.append([])\n",
        "\n",
        "def add_location(name_of_area, genplan_position, variant = 1):\n",
        "  if variant ==1:\n",
        "    column_of_center = 7\n",
        "    \n",
        "    cell = WriteOnlyCell(ws, value=\"Местоположение термоскважины:\")\n",
        "    cell.font = Font(name='Arial', size=12, bold = 'True')\n",
        "    cell.alignment = Alignment(horizontal = 'right')\n",
        "\n",
        "    cell_area = WriteOnlyCell(ws, value=name_of_area)\n",
        "    cell_area.font = Font(name='Arial', size=12)\n",
        "    cell_area.alignment = Alignment(horizontal = 'left')\n",
        "\n",
        "    ws.append([cell,*['']*(column_of_center-1), cell_area]) ## центровка отступов\n",
        "    ws.merged_cells.ranges.append(\"A4:G4\")\n",
        "    ws.merged_cells.ranges.append(\"H4:S4\")\n",
        "\n",
        "    cell = WriteOnlyCell(ws, value=genplan_position)\n",
        "    cell.font = Font(name='Arial', size=12)\n",
        "    cell.alignment = Alignment(horizontal = 'left')\n",
        "    ws.append([*['']*column_of_center, cell]) ##\n",
        "    ws.merged_cells.ranges.append(\"H5:S5\")\n",
        "\n",
        "    ws.append([])\n",
        "\n",
        "def add_temperature_table(df_of_well, name_of_area, variant = 1):\n",
        "  if variant == 1:\n",
        "    cell = WriteOnlyCell(ws, value=\"Результаты измерений температуры:\")\n",
        "    cell.font = Font(name='Arial', size=12, bold = 'True')\n",
        "    cell.alignment = Alignment(horizontal = 'center')\n",
        "    ws.append([cell])\n",
        "\n",
        "    # Вставляем заголовок таблицы температур\n",
        "    ws.append(['Дата замера', '№ Термокосы', 'Высота оголовка, м', 'Температура воздуха, °С', 'Температура в скважине на глубине от поверхности земли, м, °С', \n",
        "               '', '', '', '', '', '', '', '', '', '', '', '', '', *['']*3*fifteen_meter_well, 'Температура средняя, °С'])\n",
        "    ws.append(['', '', '', '', '0.0', '0.5', '1.0', '1.5', '2.0', '2.5', '3.0', '4.0', '5.0', '6.0', '7.0', '8.0', '9.0', \n",
        "               '10.0', *['12.0', '14.0', '15.0']*fifteen_meter_well])\n",
        "#########################   определяем название ячейки для среднего значения\n",
        "# правка для КС 17,06,2022\n",
        "    if ((tech_name_of_area == \"ПД\") | \n",
        "        (tech_name_of_area == \"ГПЭС\") | \n",
        "        (tech_name_of_area == \"ГТЭС\") | \n",
        "        (tech_name_of_area == \"ВЖК\") | \n",
        "        (tech_name_of_area == \"КС\")):\n",
        "        current_well_depth_value = df_add[(df_add['Площадка'] == tech_name_of_area) & (df_add['Название по таблице'] == well)]\n",
        "    \n",
        "    else:\n",
        "        current_well_depth_value = df_add[(df_add['Площадка'] == tech_name_of_area) & (df_add['Название по прибору (или новой схеме)'] == well)]\n",
        "    \n",
        "    if len(current_well_depth_value) !=0: \n",
        "        first_depth_for_mean_temp = current_well_depth_value['Первая отметка измерения средней температуры'].iloc[0]\n",
        "    else:\n",
        "        first_depth_for_mean_temp = 4\n",
        "    #### костыль 06,07,2022    \n",
        "    if tech_name_of_area=='НН':\n",
        "        first_depth_for_mean_temp = 2\n",
        "    if tech_name_of_area=='НН':\n",
        "        first_depth_for_mean_temp = 3\n",
        "    if tech_name_of_area=='КП':\n",
        "        first_depth_for_mean_temp = 3\n",
        "    ####    \n",
        "    if first_depth_for_mean_temp == 2:\n",
        "        cell_mean_temp = \"=ROUND(AVERAGE($K10:$Q10, $I10), 1)\"\n",
        "    elif first_depth_for_mean_temp == 4:\n",
        "        cell_mean_temp = \"=ROUND(AVERAGE($L10:$Q10), 1)\"\n",
        "    else:\n",
        "        cell_mean_temp = \"=ROUND(AVERAGE($K10:$Q10), 1)\"\n",
        "    scetchic_for_mean_temp = 0\n",
        "    for index, row in df_of_well.iterrows():\n",
        "      if row['Дата'] !='-':\n",
        "        date_value = row['Дата'].strftime(\"%d.%m.%Y\")\n",
        "        \n",
        "      else:\n",
        "        date_value = row['Дата']\n",
        "      ws.append([date_value, str(row['№ Термокосы']).replace('.0', ''), row['Высота ТС от уровня земли, м'], row['Температура воздуха, °С'],\n",
        "                 row['0.0'], row['0.5'], row['1.0'], row['1.5'], row['2.0'], row['2.5'], row['3.0'], row['4.0'], row['5.0'], row['6.0'], \n",
        "                 row['7.0'], row['8.0'], row['9.0'], row['10.0'], *[row['12.0'], row['14.0'], row['15.0']]*fifteen_meter_well, \n",
        "                 cell_mean_temp.replace('10', str(10+scetchic_for_mean_temp))])\n",
        "      scetchic_for_mean_temp +=1\n",
        "#  здесь заменить \"гет температуре роу\" на инфу с формулой   \n",
        "    if fifteen_meter_well == True:\n",
        "      ws.merged_cells.ranges.append(\"A7:V7\")  \n",
        "      ws.merged_cells.ranges.append(\"A8:A9\")\n",
        "      ws.merged_cells.ranges.append(\"B8:B9\")\n",
        "      ws.merged_cells.ranges.append(\"C8:C9\")\n",
        "      ws.merged_cells.ranges.append(\"D8:D9\")\n",
        "      ws.merged_cells.ranges.append(\"V8:V9\")        \n",
        "      ws.merged_cells.ranges.append(\"E8:U8\")\n",
        "    elif fifteen_meter_well==False:\n",
        "      ws.merged_cells.ranges.append(\"A7:S7\")\n",
        "      ws.merged_cells.ranges.append(\"A8:A9\")\n",
        "      ws.merged_cells.ranges.append(\"B8:B9\")\n",
        "      ws.merged_cells.ranges.append(\"C8:C9\")\n",
        "      ws.merged_cells.ranges.append(\"D8:D9\")\n",
        "      ws.merged_cells.ranges.append(\"S8:S9\")        \n",
        "      ws.merged_cells.ranges.append(\"E8:R8\")\n",
        "\n",
        "    formating_cells = ['A8'] # format A8\n",
        "    for formating_cell_position in formating_cells:\n",
        "      formating_cell = ws[formating_cell_position]\n",
        "      formating_cell.border = Border(top=medium, left=medium, right=thin, bottom=thin)\n",
        "      standart_formating_cell(formating_cell)\n",
        "\n",
        "    # форматируем верхнюю шапку\n",
        "    formating_cells = ['B8','C8', 'D8', 'E8','F8', 'G8', 'H8','I8', 'J8', 'K8','L8', 'M8',\n",
        "                      'N8','O8', 'P8', 'Q8', 'R8', *['S8', 'T8','U8',]*fifteen_meter_well]\n",
        "    for formating_cell_position in formating_cells:\n",
        "      formating_cell = ws[formating_cell_position]\n",
        "      formating_cell.border = Border(top=medium, left=thin, right=thin, bottom=thin)\n",
        "      standart_formating_cell(formating_cell)\n",
        "    \n",
        "    if fifteen_meter_well:\n",
        "      formating_cells = ['V8']\n",
        "    else:\n",
        "      formating_cells = ['S8'] \n",
        "    for formating_cell_position in formating_cells:\n",
        "      formating_cell = ws[formating_cell_position]\n",
        "      formating_cell.border = Border(top=medium, left=thin, right=medium, bottom=thin)\n",
        "      standart_formating_cell(formating_cell)\n",
        "      \n",
        "    formating_cells = ['A9']\n",
        "    for formating_cell_position in formating_cells:\n",
        "      formating_cell = ws[formating_cell_position]\n",
        "      formating_cell.border = Border(top=thin, left=medium, right=thin, bottom=thin)\n",
        "\n",
        "    formating_cells = ['B9','C9', 'D9', 'E9','F9', 'G9', 'H9','I9', 'J9', 'K9','L9', 'M9', 'N9','O9', 'P9', 'Q9','R9', *['S9', 'T9','U9',]*fifteen_meter_well]\n",
        "    for formating_cell_position in formating_cells:\n",
        "      formating_cell = ws[formating_cell_position]\n",
        "      formating_cell.border = Border(top=medium, left=thin, right=thin, bottom=thin)\n",
        "      standart_formating_cell(formating_cell)\n",
        "    \n",
        "    if fifteen_meter_well:\n",
        "      formating_cells = ['V9']\n",
        "    else:\n",
        "      formating_cells = ['S9']\n",
        "    for formating_cell_position in formating_cells:\n",
        "      formating_cell = ws[formating_cell_position]\n",
        "      formating_cell.border = Border(top=thin, left=thin, right=medium, bottom=thin)\n",
        "      standart_formating_cell(formating_cell)\n",
        "    # форматируем область значений таблицы\n",
        "    count_of_meathures = len(df_of_well)\n",
        "    formating_cells_col = ['A']\n",
        "    formating_cells_row = list(range(10, 10+count_of_meathures))\n",
        "    formating_cells = get_formatting_cells(formating_cells_col, formating_cells_row)\n",
        "    for ind, formating_cell_position in enumerate (formating_cells):\n",
        "      formating_cell = ws[formating_cell_position]\n",
        "      formating_cell.border = Border(left=medium, right=thin)\n",
        "      standart_formating_cell(formating_cell)\n",
        "      if str(formating_cells_row[-1]) in formating_cell_position:\n",
        "        formating_cell = ws[formating_cell_position]\n",
        "        formating_cell.border = Border(left=medium, right=thin, bottom=medium)\n",
        "        standart_formating_cell(formating_cell)\n",
        "    \n",
        "    count_of_meathures = len(df_of_well)\n",
        "    formating_cells_col = ['B', 'C', 'D', 'E', 'F', 'G', 'H', 'I', 'J', 'K', 'L', 'M', 'N',\n",
        "                            'O', 'P', 'Q', 'R' , *['S', 'T', 'U']*fifteen_meter_well]\n",
        "    formating_cells_row = list(range(10, 10+count_of_meathures))\n",
        "    formating_cells = get_formatting_cells(formating_cells_col, formating_cells_row)\n",
        "    for ind, formating_cell_position in enumerate (formating_cells):\n",
        "      formating_cell = ws[formating_cell_position]\n",
        "      formating_cell.border = Border(left=thin, right=thin)\n",
        "      standart_formating_cell(formating_cell)\n",
        "      if str(formating_cells_row[-1]) in formating_cell_position:\n",
        "        formating_cell = ws[formating_cell_position]\n",
        "        formating_cell.border = Border(left=thin, right=thin, bottom=medium)\n",
        "        standart_formating_cell(formating_cell)\n",
        "                          \n",
        "    if fifteen_meter_well:\n",
        "      formating_cells_col = ['V']\n",
        "    else:\n",
        "      formating_cells_col = ['S']\n",
        "    formating_cells_row = list(range(10, 10+count_of_meathures))\n",
        "    formating_cells = get_formatting_cells(formating_cells_col, formating_cells_row)\n",
        "    for ind, formating_cell_position in enumerate (formating_cells):\n",
        "      formating_cell = ws[formating_cell_position]\n",
        "      formating_cell.border = Border(left=thin, right=medium)\n",
        "      standart_formating_cell(formating_cell)\n",
        "      if str(formating_cells_row[-1]) in formating_cell_position:\n",
        "        formating_cell = ws[formating_cell_position]\n",
        "        formating_cell.border = Border(left=thin, right=medium, bottom=medium)\n",
        "        standart_formating_cell(formating_cell)\n",
        "    \n",
        "    # Настраиваем ширину ячеек\n",
        "    ws.column_dimensions[\"A\"].width = 11\n",
        "    ws.column_dimensions[\"B\"].width = 7\n",
        "    ws.column_dimensions[\"C\"].width = 10\n",
        "    ws.column_dimensions[\"D\"].width = 10\n",
        "    formating_cells_col = ['E', 'F', 'G', 'H', 'I', 'J', 'K', 'L', 'M', 'N',\n",
        "                          'O', 'P', 'Q', 'R', *['S', 'T', 'U']*fifteen_meter_well]\n",
        "    for column_of_cells in formating_cells_col:\n",
        "        ws.column_dimensions[column_of_cells].width = 6\n",
        "    if fifteen_meter_well:\n",
        "      ws.column_dimensions[\"V\"].width = 10\n",
        "    else:\n",
        "      ws.column_dimensions[\"S\"].width = 10\n",
        "\n",
        "    \n",
        "    ws.row_dimensions[8].height = 32.531\n",
        "    ws.row_dimensions[9].height = 32.531\n",
        "    \n",
        "    formating_cells_row = list(range(10, 10 + count_of_meathures))\n",
        "    for form_row in formating_cells_row:\n",
        "        ws.row_dimensions[form_row].height = 16\n",
        "    \n",
        "    # блок вставки рисунка графика\n",
        "    name_of_picture_file = tech_name_of_area+'/Graphs/'+str(well)+'.png'\n",
        "    \n",
        "    if (os.path.exists(name_of_picture_file) == False) or do_you_want_refrest_graph:\n",
        "      list_of_plottiong_columns = ['Дата', '0.0', '0.5', '1.0', '1.5', '2.0', '2.5', '3.0', '4.0', '5.0', '6.0', \n",
        "                                    '7.0', '8.0', '9.0', '10.0', *['12.0', '14.0', '15.0']*fifteen_meter_well]\n",
        "      plot_graph(df_of_well, name_of_picture_file, list_of_plottiong_columns)\n",
        "    \n",
        "    scale_image(input_image_path=name_of_picture_file,\n",
        "                output_image_path=name_of_picture_file,\n",
        "                width=width_for_15m_well,)\n",
        "    \n",
        "    img = Image(name_of_picture_file)\n",
        "    ws.add_image(img, 'A24')\n",
        "\n",
        "    #блок вставки схемы местоположения (растр)\n",
        "    if name_of_area == 'Площадка ГТЭС':\n",
        "      name_of_location_pic_file = tech_name_of_area+'/Locate/'+str(well)+'.png'\n",
        "    elif name_of_area == 'Площадка ЦПС':\n",
        "      name_of_location_pic_file = tech_name_of_area+'/Locate/'+str(well).replace('ТС', '').split('_')[0]+'.PNG'\n",
        "    elif (name_of_area == 'Водозабор') or (name_of_area == 'Площадка ЖК'):\n",
        "      name_of_location_pic_file = tech_name_of_area+'/Locate/'+str(well).replace('ТС ', '').split('_')[0]+'.PNG'\n",
        "    else:\n",
        "      name_of_location_pic_file = tech_name_of_area+'/Locate/'+str(well).replace('Т', '')+'.png'\n",
        "    if os.path.exists(name_of_location_pic_file):\n",
        "        scale_image(input_image_path=name_of_location_pic_file,\n",
        "                    output_image_path=name_of_location_pic_file,\n",
        "                    width=width_for_15m_well,)\n",
        "        img = Image(name_of_location_pic_file)\n",
        "        ws.add_image(img, 'A45')\n",
        "    else:\n",
        "        print('Для скважины', well, 'отсутствует картинка местоположения')\n",
        "\n",
        "width_for_10m_well = 940\n",
        "width_for_15m_well = 1050\n",
        "\n",
        "thin = Side(border_style=\"thin\", color=\"000000\")\n",
        "double = Side(border_style=\"double\", color=\"000000\")\n",
        "medium = Side(border_style=\"medium\", color=\"000000\")"
      ]
    },
    {
      "cell_type": "markdown",
      "metadata": {
        "id": "qjK2BB6ktRFp",
        "jp-MarkdownHeadingCollapsed": true,
        "tags": []
      },
      "source": [
        "## 1. ___"
      ]
    },
    {
      "cell_type": "code",
      "execution_count": null,
      "metadata": {
        "colab": {
          "base_uri": "https://localhost:8080/"
        },
        "id": "i-LcYJgitRFs",
        "outputId": "2734b2da-19ba-499c-95c6-028679fc3f20",
        "scrolled": true,
        "tags": []
      },
      "outputs": [
        {
          "name": "stderr",
          "output_type": "stream",
          "text": [
            "C:\\Users\\user\\AppData\\Local\\Temp\\ipykernel_12576\\1688310086.py:80: SettingWithCopyWarning: \n",
            "A value is trying to be set on a copy of a slice from a DataFrame.\n",
            "Try using .loc[row_indexer,col_indexer] = value instead\n",
            "\n",
            "See the caveats in the documentation: https://pandas.pydata.org/pandas-docs/stable/user_guide/indexing.html#returning-a-view-versus-a-copy\n",
            "  df_plotting['Дата'] = df_plotting['Дата'].dt.strftime(\"%d.%m.%Y\") # временно, снять выделение\n"
          ]
        },
        {
          "name": "stdout",
          "output_type": "stream",
          "text": [
            "save_pic ТТ1\n"
          ]
        },
        {
          "name": "stderr",
          "output_type": "stream",
          "text": [
            "C:\\Users\\user\\AppData\\Local\\Temp\\ipykernel_12576\\1688310086.py:177: DeprecationWarning: ANTIALIAS is deprecated and will be removed in Pillow 10 (2023-07-01). Use Resampling.LANCZOS instead.\n",
            "  original_image.thumbnail(max_size, PIL_Image.ANTIALIAS)\n",
            "C:\\Users\\user\\AppData\\Local\\Temp\\ipykernel_12576\\1688310086.py:80: SettingWithCopyWarning: \n",
            "A value is trying to be set on a copy of a slice from a DataFrame.\n",
            "Try using .loc[row_indexer,col_indexer] = value instead\n",
            "\n",
            "See the caveats in the documentation: https://pandas.pydata.org/pandas-docs/stable/user_guide/indexing.html#returning-a-view-versus-a-copy\n",
            "  df_plotting['Дата'] = df_plotting['Дата'].dt.strftime(\"%d.%m.%Y\") # временно, снять выделение\n"
          ]
        },
        {
          "name": "stdout",
          "output_type": "stream",
          "text": [
            "save_pic ТТ2\n"
          ]
        },
        {
          "name": "stderr",
          "output_type": "stream",
          "text": [
            "C:\\Users\\user\\AppData\\Local\\Temp\\ipykernel_12576\\1688310086.py:177: DeprecationWarning: ANTIALIAS is deprecated and will be removed in Pillow 10 (2023-07-01). Use Resampling.LANCZOS instead.\n",
            "  original_image.thumbnail(max_size, PIL_Image.ANTIALIAS)\n",
            "C:\\Users\\user\\AppData\\Local\\Temp\\ipykernel_12576\\1688310086.py:80: SettingWithCopyWarning: \n",
            "A value is trying to be set on a copy of a slice from a DataFrame.\n",
            "Try using .loc[row_indexer,col_indexer] = value instead\n",
            "\n",
            "See the caveats in the documentation: https://pandas.pydata.org/pandas-docs/stable/user_guide/indexing.html#returning-a-view-versus-a-copy\n",
            "  df_plotting['Дата'] = df_plotting['Дата'].dt.strftime(\"%d.%m.%Y\") # временно, снять выделение\n"
          ]
        },
        {
          "name": "stdout",
          "output_type": "stream",
          "text": [
            "save_pic ТТ24\n"
          ]
        },
        {
          "name": "stderr",
          "output_type": "stream",
          "text": [
            "C:\\Users\\user\\AppData\\Local\\Temp\\ipykernel_12576\\1688310086.py:177: DeprecationWarning: ANTIALIAS is deprecated and will be removed in Pillow 10 (2023-07-01). Use Resampling.LANCZOS instead.\n",
            "  original_image.thumbnail(max_size, PIL_Image.ANTIALIAS)\n",
            "C:\\Users\\user\\AppData\\Local\\Temp\\ipykernel_12576\\1688310086.py:80: SettingWithCopyWarning: \n",
            "A value is trying to be set on a copy of a slice from a DataFrame.\n",
            "Try using .loc[row_indexer,col_indexer] = value instead\n",
            "\n",
            "See the caveats in the documentation: https://pandas.pydata.org/pandas-docs/stable/user_guide/indexing.html#returning-a-view-versus-a-copy\n",
            "  df_plotting['Дата'] = df_plotting['Дата'].dt.strftime(\"%d.%m.%Y\") # временно, снять выделение\n"
          ]
        },
        {
          "name": "stdout",
          "output_type": "stream",
          "text": [
            "save_pic ТТ30\n"
          ]
        },
        {
          "name": "stderr",
          "output_type": "stream",
          "text": [
            "C:\\Users\\user\\AppData\\Local\\Temp\\ipykernel_12576\\1688310086.py:177: DeprecationWarning: ANTIALIAS is deprecated and will be removed in Pillow 10 (2023-07-01). Use Resampling.LANCZOS instead.\n",
            "  original_image.thumbnail(max_size, PIL_Image.ANTIALIAS)\n",
            "C:\\Users\\user\\AppData\\Local\\Temp\\ipykernel_12576\\1688310086.py:80: SettingWithCopyWarning: \n",
            "A value is trying to be set on a copy of a slice from a DataFrame.\n",
            "Try using .loc[row_indexer,col_indexer] = value instead\n",
            "\n",
            "See the caveats in the documentation: https://pandas.pydata.org/pandas-docs/stable/user_guide/indexing.html#returning-a-view-versus-a-copy\n",
            "  df_plotting['Дата'] = df_plotting['Дата'].dt.strftime(\"%d.%m.%Y\") # временно, снять выделение\n"
          ]
        },
        {
          "name": "stdout",
          "output_type": "stream",
          "text": [
            "save_pic ТТ38\n"
          ]
        },
        {
          "name": "stderr",
          "output_type": "stream",
          "text": [
            "C:\\Users\\user\\AppData\\Local\\Temp\\ipykernel_12576\\1688310086.py:177: DeprecationWarning: ANTIALIAS is deprecated and will be removed in Pillow 10 (2023-07-01). Use Resampling.LANCZOS instead.\n",
            "  original_image.thumbnail(max_size, PIL_Image.ANTIALIAS)\n",
            "C:\\Users\\user\\AppData\\Local\\Temp\\ipykernel_12576\\1688310086.py:80: SettingWithCopyWarning: \n",
            "A value is trying to be set on a copy of a slice from a DataFrame.\n",
            "Try using .loc[row_indexer,col_indexer] = value instead\n",
            "\n",
            "See the caveats in the documentation: https://pandas.pydata.org/pandas-docs/stable/user_guide/indexing.html#returning-a-view-versus-a-copy\n",
            "  df_plotting['Дата'] = df_plotting['Дата'].dt.strftime(\"%d.%m.%Y\") # временно, снять выделение\n"
          ]
        },
        {
          "name": "stdout",
          "output_type": "stream",
          "text": [
            "save_pic ТТ39\n"
          ]
        },
        {
          "name": "stderr",
          "output_type": "stream",
          "text": [
            "C:\\Users\\user\\AppData\\Local\\Temp\\ipykernel_12576\\1688310086.py:177: DeprecationWarning: ANTIALIAS is deprecated and will be removed in Pillow 10 (2023-07-01). Use Resampling.LANCZOS instead.\n",
            "  original_image.thumbnail(max_size, PIL_Image.ANTIALIAS)\n",
            "C:\\Users\\user\\AppData\\Local\\Temp\\ipykernel_12576\\1688310086.py:80: SettingWithCopyWarning: \n",
            "A value is trying to be set on a copy of a slice from a DataFrame.\n",
            "Try using .loc[row_indexer,col_indexer] = value instead\n",
            "\n",
            "See the caveats in the documentation: https://pandas.pydata.org/pandas-docs/stable/user_guide/indexing.html#returning-a-view-versus-a-copy\n",
            "  df_plotting['Дата'] = df_plotting['Дата'].dt.strftime(\"%d.%m.%Y\") # временно, снять выделение\n"
          ]
        },
        {
          "name": "stdout",
          "output_type": "stream",
          "text": [
            "save_pic ТТ92\n"
          ]
        },
        {
          "name": "stderr",
          "output_type": "stream",
          "text": [
            "C:\\Users\\user\\AppData\\Local\\Temp\\ipykernel_12576\\1688310086.py:177: DeprecationWarning: ANTIALIAS is deprecated and will be removed in Pillow 10 (2023-07-01). Use Resampling.LANCZOS instead.\n",
            "  original_image.thumbnail(max_size, PIL_Image.ANTIALIAS)\n",
            "C:\\Users\\user\\AppData\\Local\\Temp\\ipykernel_12576\\1688310086.py:80: SettingWithCopyWarning: \n",
            "A value is trying to be set on a copy of a slice from a DataFrame.\n",
            "Try using .loc[row_indexer,col_indexer] = value instead\n",
            "\n",
            "See the caveats in the documentation: https://pandas.pydata.org/pandas-docs/stable/user_guide/indexing.html#returning-a-view-versus-a-copy\n",
            "  df_plotting['Дата'] = df_plotting['Дата'].dt.strftime(\"%d.%m.%Y\") # временно, снять выделение\n"
          ]
        },
        {
          "name": "stdout",
          "output_type": "stream",
          "text": [
            "save_pic ТТ95\n"
          ]
        },
        {
          "name": "stderr",
          "output_type": "stream",
          "text": [
            "C:\\Users\\user\\AppData\\Local\\Temp\\ipykernel_12576\\1688310086.py:177: DeprecationWarning: ANTIALIAS is deprecated and will be removed in Pillow 10 (2023-07-01). Use Resampling.LANCZOS instead.\n",
            "  original_image.thumbnail(max_size, PIL_Image.ANTIALIAS)\n",
            "C:\\Users\\user\\AppData\\Local\\Temp\\ipykernel_12576\\1688310086.py:80: SettingWithCopyWarning: \n",
            "A value is trying to be set on a copy of a slice from a DataFrame.\n",
            "Try using .loc[row_indexer,col_indexer] = value instead\n",
            "\n",
            "See the caveats in the documentation: https://pandas.pydata.org/pandas-docs/stable/user_guide/indexing.html#returning-a-view-versus-a-copy\n",
            "  df_plotting['Дата'] = df_plotting['Дата'].dt.strftime(\"%d.%m.%Y\") # временно, снять выделение\n"
          ]
        },
        {
          "name": "stdout",
          "output_type": "stream",
          "text": [
            "save_pic ТТ120\n"
          ]
        },
        {
          "name": "stderr",
          "output_type": "stream",
          "text": [
            "C:\\Users\\user\\AppData\\Local\\Temp\\ipykernel_12576\\1688310086.py:177: DeprecationWarning: ANTIALIAS is deprecated and will be removed in Pillow 10 (2023-07-01). Use Resampling.LANCZOS instead.\n",
            "  original_image.thumbnail(max_size, PIL_Image.ANTIALIAS)\n",
            "C:\\Users\\user\\AppData\\Local\\Temp\\ipykernel_12576\\1688310086.py:80: SettingWithCopyWarning: \n",
            "A value is trying to be set on a copy of a slice from a DataFrame.\n",
            "Try using .loc[row_indexer,col_indexer] = value instead\n",
            "\n",
            "See the caveats in the documentation: https://pandas.pydata.org/pandas-docs/stable/user_guide/indexing.html#returning-a-view-versus-a-copy\n",
            "  df_plotting['Дата'] = df_plotting['Дата'].dt.strftime(\"%d.%m.%Y\") # временно, снять выделение\n"
          ]
        },
        {
          "name": "stdout",
          "output_type": "stream",
          "text": [
            "save_pic ТТ121\n"
          ]
        },
        {
          "name": "stderr",
          "output_type": "stream",
          "text": [
            "C:\\Users\\user\\AppData\\Local\\Temp\\ipykernel_12576\\1688310086.py:177: DeprecationWarning: ANTIALIAS is deprecated and will be removed in Pillow 10 (2023-07-01). Use Resampling.LANCZOS instead.\n",
            "  original_image.thumbnail(max_size, PIL_Image.ANTIALIAS)\n",
            "C:\\Users\\user\\AppData\\Local\\Temp\\ipykernel_12576\\1688310086.py:80: SettingWithCopyWarning: \n",
            "A value is trying to be set on a copy of a slice from a DataFrame.\n",
            "Try using .loc[row_indexer,col_indexer] = value instead\n",
            "\n",
            "See the caveats in the documentation: https://pandas.pydata.org/pandas-docs/stable/user_guide/indexing.html#returning-a-view-versus-a-copy\n",
            "  df_plotting['Дата'] = df_plotting['Дата'].dt.strftime(\"%d.%m.%Y\") # временно, снять выделение\n"
          ]
        },
        {
          "name": "stdout",
          "output_type": "stream",
          "text": [
            "save_pic ТТ147\n"
          ]
        },
        {
          "name": "stderr",
          "output_type": "stream",
          "text": [
            "C:\\Users\\user\\AppData\\Local\\Temp\\ipykernel_12576\\1688310086.py:177: DeprecationWarning: ANTIALIAS is deprecated and will be removed in Pillow 10 (2023-07-01). Use Resampling.LANCZOS instead.\n",
            "  original_image.thumbnail(max_size, PIL_Image.ANTIALIAS)\n",
            "C:\\Users\\user\\AppData\\Local\\Temp\\ipykernel_12576\\1688310086.py:80: SettingWithCopyWarning: \n",
            "A value is trying to be set on a copy of a slice from a DataFrame.\n",
            "Try using .loc[row_indexer,col_indexer] = value instead\n",
            "\n",
            "See the caveats in the documentation: https://pandas.pydata.org/pandas-docs/stable/user_guide/indexing.html#returning-a-view-versus-a-copy\n",
            "  df_plotting['Дата'] = df_plotting['Дата'].dt.strftime(\"%d.%m.%Y\") # временно, снять выделение\n"
          ]
        },
        {
          "name": "stdout",
          "output_type": "stream",
          "text": [
            "save_pic ТТ156\n"
          ]
        },
        {
          "name": "stderr",
          "output_type": "stream",
          "text": [
            "C:\\Users\\user\\AppData\\Local\\Temp\\ipykernel_12576\\1688310086.py:177: DeprecationWarning: ANTIALIAS is deprecated and will be removed in Pillow 10 (2023-07-01). Use Resampling.LANCZOS instead.\n",
            "  original_image.thumbnail(max_size, PIL_Image.ANTIALIAS)\n",
            "C:\\Users\\user\\AppData\\Local\\Temp\\ipykernel_12576\\1688310086.py:80: SettingWithCopyWarning: \n",
            "A value is trying to be set on a copy of a slice from a DataFrame.\n",
            "Try using .loc[row_indexer,col_indexer] = value instead\n",
            "\n",
            "See the caveats in the documentation: https://pandas.pydata.org/pandas-docs/stable/user_guide/indexing.html#returning-a-view-versus-a-copy\n",
            "  df_plotting['Дата'] = df_plotting['Дата'].dt.strftime(\"%d.%m.%Y\") # временно, снять выделение\n"
          ]
        },
        {
          "name": "stdout",
          "output_type": "stream",
          "text": [
            "save_pic ТТ4\n"
          ]
        },
        {
          "name": "stderr",
          "output_type": "stream",
          "text": [
            "C:\\Users\\user\\AppData\\Local\\Temp\\ipykernel_12576\\1688310086.py:177: DeprecationWarning: ANTIALIAS is deprecated and will be removed in Pillow 10 (2023-07-01). Use Resampling.LANCZOS instead.\n",
            "  original_image.thumbnail(max_size, PIL_Image.ANTIALIAS)\n",
            "C:\\Users\\user\\AppData\\Local\\Temp\\ipykernel_12576\\1688310086.py:80: SettingWithCopyWarning: \n",
            "A value is trying to be set on a copy of a slice from a DataFrame.\n",
            "Try using .loc[row_indexer,col_indexer] = value instead\n",
            "\n",
            "See the caveats in the documentation: https://pandas.pydata.org/pandas-docs/stable/user_guide/indexing.html#returning-a-view-versus-a-copy\n",
            "  df_plotting['Дата'] = df_plotting['Дата'].dt.strftime(\"%d.%m.%Y\") # временно, снять выделение\n"
          ]
        },
        {
          "name": "stdout",
          "output_type": "stream",
          "text": [
            "save_pic ТТ8\n"
          ]
        },
        {
          "name": "stderr",
          "output_type": "stream",
          "text": [
            "C:\\Users\\user\\AppData\\Local\\Temp\\ipykernel_12576\\1688310086.py:177: DeprecationWarning: ANTIALIAS is deprecated and will be removed in Pillow 10 (2023-07-01). Use Resampling.LANCZOS instead.\n",
            "  original_image.thumbnail(max_size, PIL_Image.ANTIALIAS)\n",
            "C:\\Users\\user\\AppData\\Local\\Temp\\ipykernel_12576\\1688310086.py:80: SettingWithCopyWarning: \n",
            "A value is trying to be set on a copy of a slice from a DataFrame.\n",
            "Try using .loc[row_indexer,col_indexer] = value instead\n",
            "\n",
            "See the caveats in the documentation: https://pandas.pydata.org/pandas-docs/stable/user_guide/indexing.html#returning-a-view-versus-a-copy\n",
            "  df_plotting['Дата'] = df_plotting['Дата'].dt.strftime(\"%d.%m.%Y\") # временно, снять выделение\n"
          ]
        },
        {
          "name": "stdout",
          "output_type": "stream",
          "text": [
            "save_pic ТТ11\n"
          ]
        },
        {
          "name": "stderr",
          "output_type": "stream",
          "text": [
            "C:\\Users\\user\\AppData\\Local\\Temp\\ipykernel_12576\\1688310086.py:177: DeprecationWarning: ANTIALIAS is deprecated and will be removed in Pillow 10 (2023-07-01). Use Resampling.LANCZOS instead.\n",
            "  original_image.thumbnail(max_size, PIL_Image.ANTIALIAS)\n",
            "C:\\Users\\user\\AppData\\Local\\Temp\\ipykernel_12576\\1688310086.py:80: SettingWithCopyWarning: \n",
            "A value is trying to be set on a copy of a slice from a DataFrame.\n",
            "Try using .loc[row_indexer,col_indexer] = value instead\n",
            "\n",
            "See the caveats in the documentation: https://pandas.pydata.org/pandas-docs/stable/user_guide/indexing.html#returning-a-view-versus-a-copy\n",
            "  df_plotting['Дата'] = df_plotting['Дата'].dt.strftime(\"%d.%m.%Y\") # временно, снять выделение\n"
          ]
        },
        {
          "name": "stdout",
          "output_type": "stream",
          "text": [
            "save_pic ТТ15\n"
          ]
        },
        {
          "name": "stderr",
          "output_type": "stream",
          "text": [
            "C:\\Users\\user\\AppData\\Local\\Temp\\ipykernel_12576\\1688310086.py:177: DeprecationWarning: ANTIALIAS is deprecated and will be removed in Pillow 10 (2023-07-01). Use Resampling.LANCZOS instead.\n",
            "  original_image.thumbnail(max_size, PIL_Image.ANTIALIAS)\n",
            "C:\\Users\\user\\AppData\\Local\\Temp\\ipykernel_12576\\1688310086.py:80: SettingWithCopyWarning: \n",
            "A value is trying to be set on a copy of a slice from a DataFrame.\n",
            "Try using .loc[row_indexer,col_indexer] = value instead\n",
            "\n",
            "See the caveats in the documentation: https://pandas.pydata.org/pandas-docs/stable/user_guide/indexing.html#returning-a-view-versus-a-copy\n",
            "  df_plotting['Дата'] = df_plotting['Дата'].dt.strftime(\"%d.%m.%Y\") # временно, снять выделение\n"
          ]
        },
        {
          "name": "stdout",
          "output_type": "stream",
          "text": [
            "save_pic ТТ19\n"
          ]
        },
        {
          "name": "stderr",
          "output_type": "stream",
          "text": [
            "C:\\Users\\user\\AppData\\Local\\Temp\\ipykernel_12576\\1688310086.py:177: DeprecationWarning: ANTIALIAS is deprecated and will be removed in Pillow 10 (2023-07-01). Use Resampling.LANCZOS instead.\n",
            "  original_image.thumbnail(max_size, PIL_Image.ANTIALIAS)\n",
            "C:\\Users\\user\\AppData\\Local\\Temp\\ipykernel_12576\\1688310086.py:80: SettingWithCopyWarning: \n",
            "A value is trying to be set on a copy of a slice from a DataFrame.\n",
            "Try using .loc[row_indexer,col_indexer] = value instead\n",
            "\n",
            "See the caveats in the documentation: https://pandas.pydata.org/pandas-docs/stable/user_guide/indexing.html#returning-a-view-versus-a-copy\n",
            "  df_plotting['Дата'] = df_plotting['Дата'].dt.strftime(\"%d.%m.%Y\") # временно, снять выделение\n"
          ]
        },
        {
          "name": "stdout",
          "output_type": "stream",
          "text": [
            "save_pic ТТ28\n"
          ]
        },
        {
          "name": "stderr",
          "output_type": "stream",
          "text": [
            "C:\\Users\\user\\AppData\\Local\\Temp\\ipykernel_12576\\1688310086.py:177: DeprecationWarning: ANTIALIAS is deprecated and will be removed in Pillow 10 (2023-07-01). Use Resampling.LANCZOS instead.\n",
            "  original_image.thumbnail(max_size, PIL_Image.ANTIALIAS)\n",
            "C:\\Users\\user\\AppData\\Local\\Temp\\ipykernel_12576\\1688310086.py:80: SettingWithCopyWarning: \n",
            "A value is trying to be set on a copy of a slice from a DataFrame.\n",
            "Try using .loc[row_indexer,col_indexer] = value instead\n",
            "\n",
            "See the caveats in the documentation: https://pandas.pydata.org/pandas-docs/stable/user_guide/indexing.html#returning-a-view-versus-a-copy\n",
            "  df_plotting['Дата'] = df_plotting['Дата'].dt.strftime(\"%d.%m.%Y\") # временно, снять выделение\n",
            "C:\\Users\\user\\AppData\\Local\\Temp\\ipykernel_12576\\1688310086.py:177: DeprecationWarning: ANTIALIAS is deprecated and will be removed in Pillow 10 (2023-07-01). Use Resampling.LANCZOS instead.\n",
            "  original_image.thumbnail(max_size, PIL_Image.ANTIALIAS)\n"
          ]
        },
        {
          "name": "stdout",
          "output_type": "stream",
          "text": [
            "save_pic ТТ113\n"
          ]
        },
        {
          "name": "stderr",
          "output_type": "stream",
          "text": [
            "C:\\Users\\user\\AppData\\Local\\Temp\\ipykernel_12576\\1688310086.py:80: SettingWithCopyWarning: \n",
            "A value is trying to be set on a copy of a slice from a DataFrame.\n",
            "Try using .loc[row_indexer,col_indexer] = value instead\n",
            "\n",
            "See the caveats in the documentation: https://pandas.pydata.org/pandas-docs/stable/user_guide/indexing.html#returning-a-view-versus-a-copy\n",
            "  df_plotting['Дата'] = df_plotting['Дата'].dt.strftime(\"%d.%m.%Y\") # временно, снять выделение\n"
          ]
        },
        {
          "name": "stdout",
          "output_type": "stream",
          "text": [
            "save_pic ТТ114\n"
          ]
        },
        {
          "name": "stderr",
          "output_type": "stream",
          "text": [
            "C:\\Users\\user\\AppData\\Local\\Temp\\ipykernel_12576\\1688310086.py:177: DeprecationWarning: ANTIALIAS is deprecated and will be removed in Pillow 10 (2023-07-01). Use Resampling.LANCZOS instead.\n",
            "  original_image.thumbnail(max_size, PIL_Image.ANTIALIAS)\n",
            "C:\\Users\\user\\AppData\\Local\\Temp\\ipykernel_12576\\1688310086.py:80: SettingWithCopyWarning: \n",
            "A value is trying to be set on a copy of a slice from a DataFrame.\n",
            "Try using .loc[row_indexer,col_indexer] = value instead\n",
            "\n",
            "See the caveats in the documentation: https://pandas.pydata.org/pandas-docs/stable/user_guide/indexing.html#returning-a-view-versus-a-copy\n",
            "  df_plotting['Дата'] = df_plotting['Дата'].dt.strftime(\"%d.%m.%Y\") # временно, снять выделение\n"
          ]
        },
        {
          "name": "stdout",
          "output_type": "stream",
          "text": [
            "save_pic ТТ115\n"
          ]
        },
        {
          "name": "stderr",
          "output_type": "stream",
          "text": [
            "C:\\Users\\user\\AppData\\Local\\Temp\\ipykernel_12576\\1688310086.py:177: DeprecationWarning: ANTIALIAS is deprecated and will be removed in Pillow 10 (2023-07-01). Use Resampling.LANCZOS instead.\n",
            "  original_image.thumbnail(max_size, PIL_Image.ANTIALIAS)\n",
            "C:\\Users\\user\\AppData\\Local\\Temp\\ipykernel_12576\\1688310086.py:80: SettingWithCopyWarning: \n",
            "A value is trying to be set on a copy of a slice from a DataFrame.\n",
            "Try using .loc[row_indexer,col_indexer] = value instead\n",
            "\n",
            "See the caveats in the documentation: https://pandas.pydata.org/pandas-docs/stable/user_guide/indexing.html#returning-a-view-versus-a-copy\n",
            "  df_plotting['Дата'] = df_plotting['Дата'].dt.strftime(\"%d.%m.%Y\") # временно, снять выделение\n"
          ]
        },
        {
          "name": "stdout",
          "output_type": "stream",
          "text": [
            "save_pic ТТ116\n"
          ]
        },
        {
          "name": "stderr",
          "output_type": "stream",
          "text": [
            "C:\\Users\\user\\AppData\\Local\\Temp\\ipykernel_12576\\1688310086.py:177: DeprecationWarning: ANTIALIAS is deprecated and will be removed in Pillow 10 (2023-07-01). Use Resampling.LANCZOS instead.\n",
            "  original_image.thumbnail(max_size, PIL_Image.ANTIALIAS)\n",
            "C:\\Users\\user\\AppData\\Local\\Temp\\ipykernel_12576\\1688310086.py:80: SettingWithCopyWarning: \n",
            "A value is trying to be set on a copy of a slice from a DataFrame.\n",
            "Try using .loc[row_indexer,col_indexer] = value instead\n",
            "\n",
            "See the caveats in the documentation: https://pandas.pydata.org/pandas-docs/stable/user_guide/indexing.html#returning-a-view-versus-a-copy\n",
            "  df_plotting['Дата'] = df_plotting['Дата'].dt.strftime(\"%d.%m.%Y\") # временно, снять выделение\n"
          ]
        },
        {
          "name": "stdout",
          "output_type": "stream",
          "text": [
            "save_pic ТТ31\n"
          ]
        },
        {
          "name": "stderr",
          "output_type": "stream",
          "text": [
            "C:\\Users\\user\\AppData\\Local\\Temp\\ipykernel_12576\\1688310086.py:177: DeprecationWarning: ANTIALIAS is deprecated and will be removed in Pillow 10 (2023-07-01). Use Resampling.LANCZOS instead.\n",
            "  original_image.thumbnail(max_size, PIL_Image.ANTIALIAS)\n",
            "C:\\Users\\user\\AppData\\Local\\Temp\\ipykernel_12576\\1688310086.py:80: SettingWithCopyWarning: \n",
            "A value is trying to be set on a copy of a slice from a DataFrame.\n",
            "Try using .loc[row_indexer,col_indexer] = value instead\n",
            "\n",
            "See the caveats in the documentation: https://pandas.pydata.org/pandas-docs/stable/user_guide/indexing.html#returning-a-view-versus-a-copy\n",
            "  df_plotting['Дата'] = df_plotting['Дата'].dt.strftime(\"%d.%m.%Y\") # временно, снять выделение\n"
          ]
        },
        {
          "name": "stdout",
          "output_type": "stream",
          "text": [
            "save_pic ТТ32\n"
          ]
        },
        {
          "name": "stderr",
          "output_type": "stream",
          "text": [
            "C:\\Users\\user\\AppData\\Local\\Temp\\ipykernel_12576\\1688310086.py:177: DeprecationWarning: ANTIALIAS is deprecated and will be removed in Pillow 10 (2023-07-01). Use Resampling.LANCZOS instead.\n",
            "  original_image.thumbnail(max_size, PIL_Image.ANTIALIAS)\n",
            "C:\\Users\\user\\AppData\\Local\\Temp\\ipykernel_12576\\1688310086.py:80: SettingWithCopyWarning: \n",
            "A value is trying to be set on a copy of a slice from a DataFrame.\n",
            "Try using .loc[row_indexer,col_indexer] = value instead\n",
            "\n",
            "See the caveats in the documentation: https://pandas.pydata.org/pandas-docs/stable/user_guide/indexing.html#returning-a-view-versus-a-copy\n",
            "  df_plotting['Дата'] = df_plotting['Дата'].dt.strftime(\"%d.%m.%Y\") # временно, снять выделение\n"
          ]
        },
        {
          "name": "stdout",
          "output_type": "stream",
          "text": [
            "save_pic ТТ33\n"
          ]
        },
        {
          "name": "stderr",
          "output_type": "stream",
          "text": [
            "C:\\Users\\user\\AppData\\Local\\Temp\\ipykernel_12576\\1688310086.py:177: DeprecationWarning: ANTIALIAS is deprecated and will be removed in Pillow 10 (2023-07-01). Use Resampling.LANCZOS instead.\n",
            "  original_image.thumbnail(max_size, PIL_Image.ANTIALIAS)\n",
            "C:\\Users\\user\\AppData\\Local\\Temp\\ipykernel_12576\\1688310086.py:80: SettingWithCopyWarning: \n",
            "A value is trying to be set on a copy of a slice from a DataFrame.\n",
            "Try using .loc[row_indexer,col_indexer] = value instead\n",
            "\n",
            "See the caveats in the documentation: https://pandas.pydata.org/pandas-docs/stable/user_guide/indexing.html#returning-a-view-versus-a-copy\n",
            "  df_plotting['Дата'] = df_plotting['Дата'].dt.strftime(\"%d.%m.%Y\") # временно, снять выделение\n"
          ]
        },
        {
          "name": "stdout",
          "output_type": "stream",
          "text": [
            "save_pic ТТ35\n"
          ]
        },
        {
          "name": "stderr",
          "output_type": "stream",
          "text": [
            "C:\\Users\\user\\AppData\\Local\\Temp\\ipykernel_12576\\1688310086.py:177: DeprecationWarning: ANTIALIAS is deprecated and will be removed in Pillow 10 (2023-07-01). Use Resampling.LANCZOS instead.\n",
            "  original_image.thumbnail(max_size, PIL_Image.ANTIALIAS)\n",
            "C:\\Users\\user\\AppData\\Local\\Temp\\ipykernel_12576\\1688310086.py:80: SettingWithCopyWarning: \n",
            "A value is trying to be set on a copy of a slice from a DataFrame.\n",
            "Try using .loc[row_indexer,col_indexer] = value instead\n",
            "\n",
            "See the caveats in the documentation: https://pandas.pydata.org/pandas-docs/stable/user_guide/indexing.html#returning-a-view-versus-a-copy\n",
            "  df_plotting['Дата'] = df_plotting['Дата'].dt.strftime(\"%d.%m.%Y\") # временно, снять выделение\n"
          ]
        },
        {
          "name": "stdout",
          "output_type": "stream",
          "text": [
            "save_pic ТТ66\n"
          ]
        },
        {
          "name": "stderr",
          "output_type": "stream",
          "text": [
            "C:\\Users\\user\\AppData\\Local\\Temp\\ipykernel_12576\\1688310086.py:177: DeprecationWarning: ANTIALIAS is deprecated and will be removed in Pillow 10 (2023-07-01). Use Resampling.LANCZOS instead.\n",
            "  original_image.thumbnail(max_size, PIL_Image.ANTIALIAS)\n",
            "C:\\Users\\user\\AppData\\Local\\Temp\\ipykernel_12576\\1688310086.py:80: SettingWithCopyWarning: \n",
            "A value is trying to be set on a copy of a slice from a DataFrame.\n",
            "Try using .loc[row_indexer,col_indexer] = value instead\n",
            "\n",
            "See the caveats in the documentation: https://pandas.pydata.org/pandas-docs/stable/user_guide/indexing.html#returning-a-view-versus-a-copy\n",
            "  df_plotting['Дата'] = df_plotting['Дата'].dt.strftime(\"%d.%m.%Y\") # временно, снять выделение\n"
          ]
        },
        {
          "name": "stdout",
          "output_type": "stream",
          "text": [
            "save_pic ТТ67\n"
          ]
        },
        {
          "name": "stderr",
          "output_type": "stream",
          "text": [
            "C:\\Users\\user\\AppData\\Local\\Temp\\ipykernel_12576\\1688310086.py:177: DeprecationWarning: ANTIALIAS is deprecated and will be removed in Pillow 10 (2023-07-01). Use Resampling.LANCZOS instead.\n",
            "  original_image.thumbnail(max_size, PIL_Image.ANTIALIAS)\n",
            "C:\\Users\\user\\AppData\\Local\\Temp\\ipykernel_12576\\1688310086.py:80: SettingWithCopyWarning: \n",
            "A value is trying to be set on a copy of a slice from a DataFrame.\n",
            "Try using .loc[row_indexer,col_indexer] = value instead\n",
            "\n",
            "See the caveats in the documentation: https://pandas.pydata.org/pandas-docs/stable/user_guide/indexing.html#returning-a-view-versus-a-copy\n",
            "  df_plotting['Дата'] = df_plotting['Дата'].dt.strftime(\"%d.%m.%Y\") # временно, снять выделение\n"
          ]
        },
        {
          "name": "stdout",
          "output_type": "stream",
          "text": [
            "save_pic ТТ40\n"
          ]
        },
        {
          "name": "stderr",
          "output_type": "stream",
          "text": [
            "C:\\Users\\user\\AppData\\Local\\Temp\\ipykernel_12576\\1688310086.py:177: DeprecationWarning: ANTIALIAS is deprecated and will be removed in Pillow 10 (2023-07-01). Use Resampling.LANCZOS instead.\n",
            "  original_image.thumbnail(max_size, PIL_Image.ANTIALIAS)\n",
            "C:\\Users\\user\\AppData\\Local\\Temp\\ipykernel_12576\\1688310086.py:80: SettingWithCopyWarning: \n",
            "A value is trying to be set on a copy of a slice from a DataFrame.\n",
            "Try using .loc[row_indexer,col_indexer] = value instead\n",
            "\n",
            "See the caveats in the documentation: https://pandas.pydata.org/pandas-docs/stable/user_guide/indexing.html#returning-a-view-versus-a-copy\n",
            "  df_plotting['Дата'] = df_plotting['Дата'].dt.strftime(\"%d.%m.%Y\") # временно, снять выделение\n"
          ]
        },
        {
          "name": "stdout",
          "output_type": "stream",
          "text": [
            "save_pic ТТ47\n"
          ]
        },
        {
          "name": "stderr",
          "output_type": "stream",
          "text": [
            "C:\\Users\\user\\AppData\\Local\\Temp\\ipykernel_12576\\1688310086.py:177: DeprecationWarning: ANTIALIAS is deprecated and will be removed in Pillow 10 (2023-07-01). Use Resampling.LANCZOS instead.\n",
            "  original_image.thumbnail(max_size, PIL_Image.ANTIALIAS)\n",
            "C:\\Users\\user\\AppData\\Local\\Temp\\ipykernel_12576\\1688310086.py:80: SettingWithCopyWarning: \n",
            "A value is trying to be set on a copy of a slice from a DataFrame.\n",
            "Try using .loc[row_indexer,col_indexer] = value instead\n",
            "\n",
            "See the caveats in the documentation: https://pandas.pydata.org/pandas-docs/stable/user_guide/indexing.html#returning-a-view-versus-a-copy\n",
            "  df_plotting['Дата'] = df_plotting['Дата'].dt.strftime(\"%d.%m.%Y\") # временно, снять выделение\n"
          ]
        },
        {
          "name": "stdout",
          "output_type": "stream",
          "text": [
            "save_pic ТТ48\n"
          ]
        },
        {
          "name": "stderr",
          "output_type": "stream",
          "text": [
            "C:\\Users\\user\\AppData\\Local\\Temp\\ipykernel_12576\\1688310086.py:177: DeprecationWarning: ANTIALIAS is deprecated and will be removed in Pillow 10 (2023-07-01). Use Resampling.LANCZOS instead.\n",
            "  original_image.thumbnail(max_size, PIL_Image.ANTIALIAS)\n",
            "C:\\Users\\user\\AppData\\Local\\Temp\\ipykernel_12576\\1688310086.py:80: SettingWithCopyWarning: \n",
            "A value is trying to be set on a copy of a slice from a DataFrame.\n",
            "Try using .loc[row_indexer,col_indexer] = value instead\n",
            "\n",
            "See the caveats in the documentation: https://pandas.pydata.org/pandas-docs/stable/user_guide/indexing.html#returning-a-view-versus-a-copy\n",
            "  df_plotting['Дата'] = df_plotting['Дата'].dt.strftime(\"%d.%m.%Y\") # временно, снять выделение\n"
          ]
        },
        {
          "name": "stdout",
          "output_type": "stream",
          "text": [
            "save_pic ТТ51\n"
          ]
        },
        {
          "name": "stderr",
          "output_type": "stream",
          "text": [
            "C:\\Users\\user\\AppData\\Local\\Temp\\ipykernel_12576\\1688310086.py:177: DeprecationWarning: ANTIALIAS is deprecated and will be removed in Pillow 10 (2023-07-01). Use Resampling.LANCZOS instead.\n",
            "  original_image.thumbnail(max_size, PIL_Image.ANTIALIAS)\n",
            "C:\\Users\\user\\AppData\\Local\\Temp\\ipykernel_12576\\1688310086.py:80: SettingWithCopyWarning: \n",
            "A value is trying to be set on a copy of a slice from a DataFrame.\n",
            "Try using .loc[row_indexer,col_indexer] = value instead\n",
            "\n",
            "See the caveats in the documentation: https://pandas.pydata.org/pandas-docs/stable/user_guide/indexing.html#returning-a-view-versus-a-copy\n",
            "  df_plotting['Дата'] = df_plotting['Дата'].dt.strftime(\"%d.%m.%Y\") # временно, снять выделение\n"
          ]
        },
        {
          "name": "stdout",
          "output_type": "stream",
          "text": [
            "save_pic ТТ54\n"
          ]
        },
        {
          "name": "stderr",
          "output_type": "stream",
          "text": [
            "C:\\Users\\user\\AppData\\Local\\Temp\\ipykernel_12576\\1688310086.py:177: DeprecationWarning: ANTIALIAS is deprecated and will be removed in Pillow 10 (2023-07-01). Use Resampling.LANCZOS instead.\n",
            "  original_image.thumbnail(max_size, PIL_Image.ANTIALIAS)\n",
            "C:\\Users\\user\\AppData\\Local\\Temp\\ipykernel_12576\\1688310086.py:80: SettingWithCopyWarning: \n",
            "A value is trying to be set on a copy of a slice from a DataFrame.\n",
            "Try using .loc[row_indexer,col_indexer] = value instead\n",
            "\n",
            "See the caveats in the documentation: https://pandas.pydata.org/pandas-docs/stable/user_guide/indexing.html#returning-a-view-versus-a-copy\n",
            "  df_plotting['Дата'] = df_plotting['Дата'].dt.strftime(\"%d.%m.%Y\") # временно, снять выделение\n"
          ]
        },
        {
          "name": "stdout",
          "output_type": "stream",
          "text": [
            "save_pic ТТ57\n"
          ]
        },
        {
          "name": "stderr",
          "output_type": "stream",
          "text": [
            "C:\\Users\\user\\AppData\\Local\\Temp\\ipykernel_12576\\1688310086.py:177: DeprecationWarning: ANTIALIAS is deprecated and will be removed in Pillow 10 (2023-07-01). Use Resampling.LANCZOS instead.\n",
            "  original_image.thumbnail(max_size, PIL_Image.ANTIALIAS)\n",
            "C:\\Users\\user\\AppData\\Local\\Temp\\ipykernel_12576\\1688310086.py:80: SettingWithCopyWarning: \n",
            "A value is trying to be set on a copy of a slice from a DataFrame.\n",
            "Try using .loc[row_indexer,col_indexer] = value instead\n",
            "\n",
            "See the caveats in the documentation: https://pandas.pydata.org/pandas-docs/stable/user_guide/indexing.html#returning-a-view-versus-a-copy\n",
            "  df_plotting['Дата'] = df_plotting['Дата'].dt.strftime(\"%d.%m.%Y\") # временно, снять выделение\n"
          ]
        },
        {
          "name": "stdout",
          "output_type": "stream",
          "text": [
            "save_pic ТТ72\n"
          ]
        },
        {
          "name": "stderr",
          "output_type": "stream",
          "text": [
            "C:\\Users\\user\\AppData\\Local\\Temp\\ipykernel_12576\\1688310086.py:177: DeprecationWarning: ANTIALIAS is deprecated and will be removed in Pillow 10 (2023-07-01). Use Resampling.LANCZOS instead.\n",
            "  original_image.thumbnail(max_size, PIL_Image.ANTIALIAS)\n",
            "C:\\Users\\user\\AppData\\Local\\Temp\\ipykernel_12576\\1688310086.py:80: SettingWithCopyWarning: \n",
            "A value is trying to be set on a copy of a slice from a DataFrame.\n",
            "Try using .loc[row_indexer,col_indexer] = value instead\n",
            "\n",
            "See the caveats in the documentation: https://pandas.pydata.org/pandas-docs/stable/user_guide/indexing.html#returning-a-view-versus-a-copy\n",
            "  df_plotting['Дата'] = df_plotting['Дата'].dt.strftime(\"%d.%m.%Y\") # временно, снять выделение\n"
          ]
        },
        {
          "name": "stdout",
          "output_type": "stream",
          "text": [
            "save_pic ТТ73\n"
          ]
        },
        {
          "name": "stderr",
          "output_type": "stream",
          "text": [
            "C:\\Users\\user\\AppData\\Local\\Temp\\ipykernel_12576\\1688310086.py:177: DeprecationWarning: ANTIALIAS is deprecated and will be removed in Pillow 10 (2023-07-01). Use Resampling.LANCZOS instead.\n",
            "  original_image.thumbnail(max_size, PIL_Image.ANTIALIAS)\n",
            "C:\\Users\\user\\AppData\\Local\\Temp\\ipykernel_12576\\1688310086.py:80: SettingWithCopyWarning: \n",
            "A value is trying to be set on a copy of a slice from a DataFrame.\n",
            "Try using .loc[row_indexer,col_indexer] = value instead\n",
            "\n",
            "See the caveats in the documentation: https://pandas.pydata.org/pandas-docs/stable/user_guide/indexing.html#returning-a-view-versus-a-copy\n",
            "  df_plotting['Дата'] = df_plotting['Дата'].dt.strftime(\"%d.%m.%Y\") # временно, снять выделение\n"
          ]
        },
        {
          "name": "stdout",
          "output_type": "stream",
          "text": [
            "save_pic ТТ91\n"
          ]
        },
        {
          "name": "stderr",
          "output_type": "stream",
          "text": [
            "C:\\Users\\user\\AppData\\Local\\Temp\\ipykernel_12576\\1688310086.py:177: DeprecationWarning: ANTIALIAS is deprecated and will be removed in Pillow 10 (2023-07-01). Use Resampling.LANCZOS instead.\n",
            "  original_image.thumbnail(max_size, PIL_Image.ANTIALIAS)\n",
            "C:\\Users\\user\\AppData\\Local\\Temp\\ipykernel_12576\\1688310086.py:80: SettingWithCopyWarning: \n",
            "A value is trying to be set on a copy of a slice from a DataFrame.\n",
            "Try using .loc[row_indexer,col_indexer] = value instead\n",
            "\n",
            "See the caveats in the documentation: https://pandas.pydata.org/pandas-docs/stable/user_guide/indexing.html#returning-a-view-versus-a-copy\n",
            "  df_plotting['Дата'] = df_plotting['Дата'].dt.strftime(\"%d.%m.%Y\") # временно, снять выделение\n"
          ]
        },
        {
          "name": "stdout",
          "output_type": "stream",
          "text": [
            "save_pic ТТ78\n"
          ]
        },
        {
          "name": "stderr",
          "output_type": "stream",
          "text": [
            "C:\\Users\\user\\AppData\\Local\\Temp\\ipykernel_12576\\1688310086.py:177: DeprecationWarning: ANTIALIAS is deprecated and will be removed in Pillow 10 (2023-07-01). Use Resampling.LANCZOS instead.\n",
            "  original_image.thumbnail(max_size, PIL_Image.ANTIALIAS)\n",
            "C:\\Users\\user\\AppData\\Local\\Temp\\ipykernel_12576\\1688310086.py:80: SettingWithCopyWarning: \n",
            "A value is trying to be set on a copy of a slice from a DataFrame.\n",
            "Try using .loc[row_indexer,col_indexer] = value instead\n",
            "\n",
            "See the caveats in the documentation: https://pandas.pydata.org/pandas-docs/stable/user_guide/indexing.html#returning-a-view-versus-a-copy\n",
            "  df_plotting['Дата'] = df_plotting['Дата'].dt.strftime(\"%d.%m.%Y\") # временно, снять выделение\n"
          ]
        },
        {
          "name": "stdout",
          "output_type": "stream",
          "text": [
            "save_pic ТТ82\n"
          ]
        },
        {
          "name": "stderr",
          "output_type": "stream",
          "text": [
            "C:\\Users\\user\\AppData\\Local\\Temp\\ipykernel_12576\\1688310086.py:177: DeprecationWarning: ANTIALIAS is deprecated and will be removed in Pillow 10 (2023-07-01). Use Resampling.LANCZOS instead.\n",
            "  original_image.thumbnail(max_size, PIL_Image.ANTIALIAS)\n",
            "C:\\Users\\user\\AppData\\Local\\Temp\\ipykernel_12576\\1688310086.py:80: SettingWithCopyWarning: \n",
            "A value is trying to be set on a copy of a slice from a DataFrame.\n",
            "Try using .loc[row_indexer,col_indexer] = value instead\n",
            "\n",
            "See the caveats in the documentation: https://pandas.pydata.org/pandas-docs/stable/user_guide/indexing.html#returning-a-view-versus-a-copy\n",
            "  df_plotting['Дата'] = df_plotting['Дата'].dt.strftime(\"%d.%m.%Y\") # временно, снять выделение\n"
          ]
        },
        {
          "name": "stdout",
          "output_type": "stream",
          "text": [
            "save_pic ТТ90\n"
          ]
        },
        {
          "name": "stderr",
          "output_type": "stream",
          "text": [
            "C:\\Users\\user\\AppData\\Local\\Temp\\ipykernel_12576\\1688310086.py:177: DeprecationWarning: ANTIALIAS is deprecated and will be removed in Pillow 10 (2023-07-01). Use Resampling.LANCZOS instead.\n",
            "  original_image.thumbnail(max_size, PIL_Image.ANTIALIAS)\n",
            "C:\\Users\\user\\AppData\\Local\\Temp\\ipykernel_12576\\1688310086.py:80: SettingWithCopyWarning: \n",
            "A value is trying to be set on a copy of a slice from a DataFrame.\n",
            "Try using .loc[row_indexer,col_indexer] = value instead\n",
            "\n",
            "See the caveats in the documentation: https://pandas.pydata.org/pandas-docs/stable/user_guide/indexing.html#returning-a-view-versus-a-copy\n",
            "  df_plotting['Дата'] = df_plotting['Дата'].dt.strftime(\"%d.%m.%Y\") # временно, снять выделение\n"
          ]
        },
        {
          "name": "stdout",
          "output_type": "stream",
          "text": [
            "save_pic ТТ94\n"
          ]
        },
        {
          "name": "stderr",
          "output_type": "stream",
          "text": [
            "C:\\Users\\user\\AppData\\Local\\Temp\\ipykernel_12576\\1688310086.py:177: DeprecationWarning: ANTIALIAS is deprecated and will be removed in Pillow 10 (2023-07-01). Use Resampling.LANCZOS instead.\n",
            "  original_image.thumbnail(max_size, PIL_Image.ANTIALIAS)\n",
            "C:\\Users\\user\\AppData\\Local\\Temp\\ipykernel_12576\\1688310086.py:80: SettingWithCopyWarning: \n",
            "A value is trying to be set on a copy of a slice from a DataFrame.\n",
            "Try using .loc[row_indexer,col_indexer] = value instead\n",
            "\n",
            "See the caveats in the documentation: https://pandas.pydata.org/pandas-docs/stable/user_guide/indexing.html#returning-a-view-versus-a-copy\n",
            "  df_plotting['Дата'] = df_plotting['Дата'].dt.strftime(\"%d.%m.%Y\") # временно, снять выделение\n"
          ]
        },
        {
          "name": "stdout",
          "output_type": "stream",
          "text": [
            "save_pic ТТ130\n"
          ]
        },
        {
          "name": "stderr",
          "output_type": "stream",
          "text": [
            "C:\\Users\\user\\AppData\\Local\\Temp\\ipykernel_12576\\1688310086.py:177: DeprecationWarning: ANTIALIAS is deprecated and will be removed in Pillow 10 (2023-07-01). Use Resampling.LANCZOS instead.\n",
            "  original_image.thumbnail(max_size, PIL_Image.ANTIALIAS)\n",
            "C:\\Users\\user\\AppData\\Local\\Temp\\ipykernel_12576\\1688310086.py:80: SettingWithCopyWarning: \n",
            "A value is trying to be set on a copy of a slice from a DataFrame.\n",
            "Try using .loc[row_indexer,col_indexer] = value instead\n",
            "\n",
            "See the caveats in the documentation: https://pandas.pydata.org/pandas-docs/stable/user_guide/indexing.html#returning-a-view-versus-a-copy\n",
            "  df_plotting['Дата'] = df_plotting['Дата'].dt.strftime(\"%d.%m.%Y\") # временно, снять выделение\n"
          ]
        },
        {
          "name": "stdout",
          "output_type": "stream",
          "text": [
            "save_pic ТТ104\n"
          ]
        },
        {
          "name": "stderr",
          "output_type": "stream",
          "text": [
            "C:\\Users\\user\\AppData\\Local\\Temp\\ipykernel_12576\\1688310086.py:177: DeprecationWarning: ANTIALIAS is deprecated and will be removed in Pillow 10 (2023-07-01). Use Resampling.LANCZOS instead.\n",
            "  original_image.thumbnail(max_size, PIL_Image.ANTIALIAS)\n",
            "C:\\Users\\user\\AppData\\Local\\Temp\\ipykernel_12576\\1688310086.py:80: SettingWithCopyWarning: \n",
            "A value is trying to be set on a copy of a slice from a DataFrame.\n",
            "Try using .loc[row_indexer,col_indexer] = value instead\n",
            "\n",
            "See the caveats in the documentation: https://pandas.pydata.org/pandas-docs/stable/user_guide/indexing.html#returning-a-view-versus-a-copy\n",
            "  df_plotting['Дата'] = df_plotting['Дата'].dt.strftime(\"%d.%m.%Y\") # временно, снять выделение\n"
          ]
        },
        {
          "name": "stdout",
          "output_type": "stream",
          "text": [
            "save_pic ТТ106\n"
          ]
        },
        {
          "name": "stderr",
          "output_type": "stream",
          "text": [
            "C:\\Users\\user\\AppData\\Local\\Temp\\ipykernel_12576\\1688310086.py:177: DeprecationWarning: ANTIALIAS is deprecated and will be removed in Pillow 10 (2023-07-01). Use Resampling.LANCZOS instead.\n",
            "  original_image.thumbnail(max_size, PIL_Image.ANTIALIAS)\n",
            "C:\\Users\\user\\AppData\\Local\\Temp\\ipykernel_12576\\1688310086.py:80: SettingWithCopyWarning: \n",
            "A value is trying to be set on a copy of a slice from a DataFrame.\n",
            "Try using .loc[row_indexer,col_indexer] = value instead\n",
            "\n",
            "See the caveats in the documentation: https://pandas.pydata.org/pandas-docs/stable/user_guide/indexing.html#returning-a-view-versus-a-copy\n",
            "  df_plotting['Дата'] = df_plotting['Дата'].dt.strftime(\"%d.%m.%Y\") # временно, снять выделение\n"
          ]
        },
        {
          "name": "stdout",
          "output_type": "stream",
          "text": [
            "save_pic ТТ119\n"
          ]
        },
        {
          "name": "stderr",
          "output_type": "stream",
          "text": [
            "C:\\Users\\user\\AppData\\Local\\Temp\\ipykernel_12576\\1688310086.py:177: DeprecationWarning: ANTIALIAS is deprecated and will be removed in Pillow 10 (2023-07-01). Use Resampling.LANCZOS instead.\n",
            "  original_image.thumbnail(max_size, PIL_Image.ANTIALIAS)\n",
            "C:\\Users\\user\\AppData\\Local\\Temp\\ipykernel_12576\\1688310086.py:80: SettingWithCopyWarning: \n",
            "A value is trying to be set on a copy of a slice from a DataFrame.\n",
            "Try using .loc[row_indexer,col_indexer] = value instead\n",
            "\n",
            "See the caveats in the documentation: https://pandas.pydata.org/pandas-docs/stable/user_guide/indexing.html#returning-a-view-versus-a-copy\n",
            "  df_plotting['Дата'] = df_plotting['Дата'].dt.strftime(\"%d.%m.%Y\") # временно, снять выделение\n"
          ]
        },
        {
          "name": "stdout",
          "output_type": "stream",
          "text": [
            "save_pic ТТ126\n"
          ]
        },
        {
          "name": "stderr",
          "output_type": "stream",
          "text": [
            "C:\\Users\\user\\AppData\\Local\\Temp\\ipykernel_12576\\1688310086.py:177: DeprecationWarning: ANTIALIAS is deprecated and will be removed in Pillow 10 (2023-07-01). Use Resampling.LANCZOS instead.\n",
            "  original_image.thumbnail(max_size, PIL_Image.ANTIALIAS)\n",
            "C:\\Users\\user\\AppData\\Local\\Temp\\ipykernel_12576\\1688310086.py:80: SettingWithCopyWarning: \n",
            "A value is trying to be set on a copy of a slice from a DataFrame.\n",
            "Try using .loc[row_indexer,col_indexer] = value instead\n",
            "\n",
            "See the caveats in the documentation: https://pandas.pydata.org/pandas-docs/stable/user_guide/indexing.html#returning-a-view-versus-a-copy\n",
            "  df_plotting['Дата'] = df_plotting['Дата'].dt.strftime(\"%d.%m.%Y\") # временно, снять выделение\n"
          ]
        },
        {
          "name": "stdout",
          "output_type": "stream",
          "text": [
            "save_pic ТТ133\n"
          ]
        },
        {
          "name": "stderr",
          "output_type": "stream",
          "text": [
            "C:\\Users\\user\\AppData\\Local\\Temp\\ipykernel_12576\\1688310086.py:177: DeprecationWarning: ANTIALIAS is deprecated and will be removed in Pillow 10 (2023-07-01). Use Resampling.LANCZOS instead.\n",
            "  original_image.thumbnail(max_size, PIL_Image.ANTIALIAS)\n",
            "C:\\Users\\user\\AppData\\Local\\Temp\\ipykernel_12576\\1688310086.py:80: SettingWithCopyWarning: \n",
            "A value is trying to be set on a copy of a slice from a DataFrame.\n",
            "Try using .loc[row_indexer,col_indexer] = value instead\n",
            "\n",
            "See the caveats in the documentation: https://pandas.pydata.org/pandas-docs/stable/user_guide/indexing.html#returning-a-view-versus-a-copy\n",
            "  df_plotting['Дата'] = df_plotting['Дата'].dt.strftime(\"%d.%m.%Y\") # временно, снять выделение\n"
          ]
        },
        {
          "name": "stdout",
          "output_type": "stream",
          "text": [
            "save_pic ТТ135\n"
          ]
        },
        {
          "name": "stderr",
          "output_type": "stream",
          "text": [
            "C:\\Users\\user\\AppData\\Local\\Temp\\ipykernel_12576\\1688310086.py:177: DeprecationWarning: ANTIALIAS is deprecated and will be removed in Pillow 10 (2023-07-01). Use Resampling.LANCZOS instead.\n",
            "  original_image.thumbnail(max_size, PIL_Image.ANTIALIAS)\n",
            "C:\\Users\\user\\AppData\\Local\\Temp\\ipykernel_12576\\1688310086.py:80: SettingWithCopyWarning: \n",
            "A value is trying to be set on a copy of a slice from a DataFrame.\n",
            "Try using .loc[row_indexer,col_indexer] = value instead\n",
            "\n",
            "See the caveats in the documentation: https://pandas.pydata.org/pandas-docs/stable/user_guide/indexing.html#returning-a-view-versus-a-copy\n",
            "  df_plotting['Дата'] = df_plotting['Дата'].dt.strftime(\"%d.%m.%Y\") # временно, снять выделение\n"
          ]
        },
        {
          "name": "stdout",
          "output_type": "stream",
          "text": [
            "save_pic ТТ137\n"
          ]
        },
        {
          "name": "stderr",
          "output_type": "stream",
          "text": [
            "C:\\Users\\user\\AppData\\Local\\Temp\\ipykernel_12576\\1688310086.py:177: DeprecationWarning: ANTIALIAS is deprecated and will be removed in Pillow 10 (2023-07-01). Use Resampling.LANCZOS instead.\n",
            "  original_image.thumbnail(max_size, PIL_Image.ANTIALIAS)\n",
            "C:\\Users\\user\\AppData\\Local\\Temp\\ipykernel_12576\\1688310086.py:80: SettingWithCopyWarning: \n",
            "A value is trying to be set on a copy of a slice from a DataFrame.\n",
            "Try using .loc[row_indexer,col_indexer] = value instead\n",
            "\n",
            "See the caveats in the documentation: https://pandas.pydata.org/pandas-docs/stable/user_guide/indexing.html#returning-a-view-versus-a-copy\n",
            "  df_plotting['Дата'] = df_plotting['Дата'].dt.strftime(\"%d.%m.%Y\") # временно, снять выделение\n"
          ]
        },
        {
          "name": "stdout",
          "output_type": "stream",
          "text": [
            "save_pic ТТ140\n"
          ]
        },
        {
          "name": "stderr",
          "output_type": "stream",
          "text": [
            "C:\\Users\\user\\AppData\\Local\\Temp\\ipykernel_12576\\1688310086.py:177: DeprecationWarning: ANTIALIAS is deprecated and will be removed in Pillow 10 (2023-07-01). Use Resampling.LANCZOS instead.\n",
            "  original_image.thumbnail(max_size, PIL_Image.ANTIALIAS)\n",
            "C:\\Users\\user\\AppData\\Local\\Temp\\ipykernel_12576\\1688310086.py:80: SettingWithCopyWarning: \n",
            "A value is trying to be set on a copy of a slice from a DataFrame.\n",
            "Try using .loc[row_indexer,col_indexer] = value instead\n",
            "\n",
            "See the caveats in the documentation: https://pandas.pydata.org/pandas-docs/stable/user_guide/indexing.html#returning-a-view-versus-a-copy\n",
            "  df_plotting['Дата'] = df_plotting['Дата'].dt.strftime(\"%d.%m.%Y\") # временно, снять выделение\n"
          ]
        },
        {
          "name": "stdout",
          "output_type": "stream",
          "text": [
            "save_pic ТТ141\n"
          ]
        },
        {
          "name": "stderr",
          "output_type": "stream",
          "text": [
            "C:\\Users\\user\\AppData\\Local\\Temp\\ipykernel_12576\\1688310086.py:177: DeprecationWarning: ANTIALIAS is deprecated and will be removed in Pillow 10 (2023-07-01). Use Resampling.LANCZOS instead.\n",
            "  original_image.thumbnail(max_size, PIL_Image.ANTIALIAS)\n",
            "C:\\Users\\user\\AppData\\Local\\Temp\\ipykernel_12576\\1688310086.py:80: SettingWithCopyWarning: \n",
            "A value is trying to be set on a copy of a slice from a DataFrame.\n",
            "Try using .loc[row_indexer,col_indexer] = value instead\n",
            "\n",
            "See the caveats in the documentation: https://pandas.pydata.org/pandas-docs/stable/user_guide/indexing.html#returning-a-view-versus-a-copy\n",
            "  df_plotting['Дата'] = df_plotting['Дата'].dt.strftime(\"%d.%m.%Y\") # временно, снять выделение\n"
          ]
        },
        {
          "name": "stdout",
          "output_type": "stream",
          "text": [
            "save_pic ТТ148\n"
          ]
        },
        {
          "name": "stderr",
          "output_type": "stream",
          "text": [
            "C:\\Users\\user\\AppData\\Local\\Temp\\ipykernel_12576\\1688310086.py:177: DeprecationWarning: ANTIALIAS is deprecated and will be removed in Pillow 10 (2023-07-01). Use Resampling.LANCZOS instead.\n",
            "  original_image.thumbnail(max_size, PIL_Image.ANTIALIAS)\n",
            "C:\\Users\\user\\AppData\\Local\\Temp\\ipykernel_12576\\1688310086.py:80: SettingWithCopyWarning: \n",
            "A value is trying to be set on a copy of a slice from a DataFrame.\n",
            "Try using .loc[row_indexer,col_indexer] = value instead\n",
            "\n",
            "See the caveats in the documentation: https://pandas.pydata.org/pandas-docs/stable/user_guide/indexing.html#returning-a-view-versus-a-copy\n",
            "  df_plotting['Дата'] = df_plotting['Дата'].dt.strftime(\"%d.%m.%Y\") # временно, снять выделение\n"
          ]
        },
        {
          "name": "stdout",
          "output_type": "stream",
          "text": [
            "save_pic ТТ154\n"
          ]
        },
        {
          "name": "stderr",
          "output_type": "stream",
          "text": [
            "C:\\Users\\user\\AppData\\Local\\Temp\\ipykernel_12576\\1688310086.py:177: DeprecationWarning: ANTIALIAS is deprecated and will be removed in Pillow 10 (2023-07-01). Use Resampling.LANCZOS instead.\n",
            "  original_image.thumbnail(max_size, PIL_Image.ANTIALIAS)\n",
            "C:\\Users\\user\\AppData\\Local\\Temp\\ipykernel_12576\\1688310086.py:80: SettingWithCopyWarning: \n",
            "A value is trying to be set on a copy of a slice from a DataFrame.\n",
            "Try using .loc[row_indexer,col_indexer] = value instead\n",
            "\n",
            "See the caveats in the documentation: https://pandas.pydata.org/pandas-docs/stable/user_guide/indexing.html#returning-a-view-versus-a-copy\n",
            "  df_plotting['Дата'] = df_plotting['Дата'].dt.strftime(\"%d.%m.%Y\") # временно, снять выделение\n"
          ]
        },
        {
          "name": "stdout",
          "output_type": "stream",
          "text": [
            "save_pic ТТ163\n"
          ]
        },
        {
          "name": "stderr",
          "output_type": "stream",
          "text": [
            "C:\\Users\\user\\AppData\\Local\\Temp\\ipykernel_12576\\1688310086.py:177: DeprecationWarning: ANTIALIAS is deprecated and will be removed in Pillow 10 (2023-07-01). Use Resampling.LANCZOS instead.\n",
            "  original_image.thumbnail(max_size, PIL_Image.ANTIALIAS)\n",
            "C:\\Users\\user\\AppData\\Local\\Temp\\ipykernel_12576\\1688310086.py:80: SettingWithCopyWarning: \n",
            "A value is trying to be set on a copy of a slice from a DataFrame.\n",
            "Try using .loc[row_indexer,col_indexer] = value instead\n",
            "\n",
            "See the caveats in the documentation: https://pandas.pydata.org/pandas-docs/stable/user_guide/indexing.html#returning-a-view-versus-a-copy\n",
            "  df_plotting['Дата'] = df_plotting['Дата'].dt.strftime(\"%d.%m.%Y\") # временно, снять выделение\n"
          ]
        },
        {
          "name": "stdout",
          "output_type": "stream",
          "text": [
            "save_pic ТТ164\n"
          ]
        },
        {
          "name": "stderr",
          "output_type": "stream",
          "text": [
            "C:\\Users\\user\\AppData\\Local\\Temp\\ipykernel_12576\\1688310086.py:177: DeprecationWarning: ANTIALIAS is deprecated and will be removed in Pillow 10 (2023-07-01). Use Resampling.LANCZOS instead.\n",
            "  original_image.thumbnail(max_size, PIL_Image.ANTIALIAS)\n",
            "C:\\Users\\user\\AppData\\Local\\Temp\\ipykernel_12576\\1688310086.py:80: SettingWithCopyWarning: \n",
            "A value is trying to be set on a copy of a slice from a DataFrame.\n",
            "Try using .loc[row_indexer,col_indexer] = value instead\n",
            "\n",
            "See the caveats in the documentation: https://pandas.pydata.org/pandas-docs/stable/user_guide/indexing.html#returning-a-view-versus-a-copy\n",
            "  df_plotting['Дата'] = df_plotting['Дата'].dt.strftime(\"%d.%m.%Y\") # временно, снять выделение\n"
          ]
        },
        {
          "name": "stdout",
          "output_type": "stream",
          "text": [
            "save_pic ТТ168\n"
          ]
        },
        {
          "name": "stderr",
          "output_type": "stream",
          "text": [
            "C:\\Users\\user\\AppData\\Local\\Temp\\ipykernel_12576\\1688310086.py:177: DeprecationWarning: ANTIALIAS is deprecated and will be removed in Pillow 10 (2023-07-01). Use Resampling.LANCZOS instead.\n",
            "  original_image.thumbnail(max_size, PIL_Image.ANTIALIAS)\n",
            "C:\\Users\\user\\AppData\\Local\\Temp\\ipykernel_12576\\1688310086.py:80: SettingWithCopyWarning: \n",
            "A value is trying to be set on a copy of a slice from a DataFrame.\n",
            "Try using .loc[row_indexer,col_indexer] = value instead\n",
            "\n",
            "See the caveats in the documentation: https://pandas.pydata.org/pandas-docs/stable/user_guide/indexing.html#returning-a-view-versus-a-copy\n",
            "  df_plotting['Дата'] = df_plotting['Дата'].dt.strftime(\"%d.%m.%Y\") # временно, снять выделение\n"
          ]
        },
        {
          "name": "stdout",
          "output_type": "stream",
          "text": [
            "save_pic ТТ170\n"
          ]
        },
        {
          "name": "stderr",
          "output_type": "stream",
          "text": [
            "C:\\Users\\user\\AppData\\Local\\Temp\\ipykernel_12576\\1688310086.py:177: DeprecationWarning: ANTIALIAS is deprecated and will be removed in Pillow 10 (2023-07-01). Use Resampling.LANCZOS instead.\n",
            "  original_image.thumbnail(max_size, PIL_Image.ANTIALIAS)\n",
            "C:\\Users\\user\\AppData\\Local\\Temp\\ipykernel_12576\\1688310086.py:80: SettingWithCopyWarning: \n",
            "A value is trying to be set on a copy of a slice from a DataFrame.\n",
            "Try using .loc[row_indexer,col_indexer] = value instead\n",
            "\n",
            "See the caveats in the documentation: https://pandas.pydata.org/pandas-docs/stable/user_guide/indexing.html#returning-a-view-versus-a-copy\n",
            "  df_plotting['Дата'] = df_plotting['Дата'].dt.strftime(\"%d.%m.%Y\") # временно, снять выделение\n"
          ]
        },
        {
          "name": "stdout",
          "output_type": "stream",
          "text": [
            "save_pic ТТ171\n"
          ]
        },
        {
          "name": "stderr",
          "output_type": "stream",
          "text": [
            "C:\\Users\\user\\AppData\\Local\\Temp\\ipykernel_12576\\1688310086.py:177: DeprecationWarning: ANTIALIAS is deprecated and will be removed in Pillow 10 (2023-07-01). Use Resampling.LANCZOS instead.\n",
            "  original_image.thumbnail(max_size, PIL_Image.ANTIALIAS)\n",
            "C:\\Users\\user\\AppData\\Local\\Temp\\ipykernel_12576\\1688310086.py:80: SettingWithCopyWarning: \n",
            "A value is trying to be set on a copy of a slice from a DataFrame.\n",
            "Try using .loc[row_indexer,col_indexer] = value instead\n",
            "\n",
            "See the caveats in the documentation: https://pandas.pydata.org/pandas-docs/stable/user_guide/indexing.html#returning-a-view-versus-a-copy\n",
            "  df_plotting['Дата'] = df_plotting['Дата'].dt.strftime(\"%d.%m.%Y\") # временно, снять выделение\n"
          ]
        },
        {
          "name": "stdout",
          "output_type": "stream",
          "text": [
            "save_pic ТТ173\n"
          ]
        },
        {
          "name": "stderr",
          "output_type": "stream",
          "text": [
            "C:\\Users\\user\\AppData\\Local\\Temp\\ipykernel_12576\\1688310086.py:177: DeprecationWarning: ANTIALIAS is deprecated and will be removed in Pillow 10 (2023-07-01). Use Resampling.LANCZOS instead.\n",
            "  original_image.thumbnail(max_size, PIL_Image.ANTIALIAS)\n",
            "C:\\Users\\user\\AppData\\Local\\Temp\\ipykernel_12576\\1688310086.py:80: SettingWithCopyWarning: \n",
            "A value is trying to be set on a copy of a slice from a DataFrame.\n",
            "Try using .loc[row_indexer,col_indexer] = value instead\n",
            "\n",
            "See the caveats in the documentation: https://pandas.pydata.org/pandas-docs/stable/user_guide/indexing.html#returning-a-view-versus-a-copy\n",
            "  df_plotting['Дата'] = df_plotting['Дата'].dt.strftime(\"%d.%m.%Y\") # временно, снять выделение\n"
          ]
        },
        {
          "name": "stdout",
          "output_type": "stream",
          "text": [
            "save_pic ТТ175\n"
          ]
        },
        {
          "name": "stderr",
          "output_type": "stream",
          "text": [
            "C:\\Users\\user\\AppData\\Local\\Temp\\ipykernel_12576\\1688310086.py:177: DeprecationWarning: ANTIALIAS is deprecated and will be removed in Pillow 10 (2023-07-01). Use Resampling.LANCZOS instead.\n",
            "  original_image.thumbnail(max_size, PIL_Image.ANTIALIAS)\n",
            "C:\\Users\\user\\AppData\\Local\\Temp\\ipykernel_12576\\1688310086.py:80: SettingWithCopyWarning: \n",
            "A value is trying to be set on a copy of a slice from a DataFrame.\n",
            "Try using .loc[row_indexer,col_indexer] = value instead\n",
            "\n",
            "See the caveats in the documentation: https://pandas.pydata.org/pandas-docs/stable/user_guide/indexing.html#returning-a-view-versus-a-copy\n",
            "  df_plotting['Дата'] = df_plotting['Дата'].dt.strftime(\"%d.%m.%Y\") # временно, снять выделение\n"
          ]
        },
        {
          "name": "stdout",
          "output_type": "stream",
          "text": [
            "save_pic ТТ176\n"
          ]
        },
        {
          "name": "stderr",
          "output_type": "stream",
          "text": [
            "C:\\Users\\user\\AppData\\Local\\Temp\\ipykernel_12576\\1688310086.py:177: DeprecationWarning: ANTIALIAS is deprecated and will be removed in Pillow 10 (2023-07-01). Use Resampling.LANCZOS instead.\n",
            "  original_image.thumbnail(max_size, PIL_Image.ANTIALIAS)\n",
            "C:\\Users\\user\\AppData\\Local\\Temp\\ipykernel_12576\\1688310086.py:80: SettingWithCopyWarning: \n",
            "A value is trying to be set on a copy of a slice from a DataFrame.\n",
            "Try using .loc[row_indexer,col_indexer] = value instead\n",
            "\n",
            "See the caveats in the documentation: https://pandas.pydata.org/pandas-docs/stable/user_guide/indexing.html#returning-a-view-versus-a-copy\n",
            "  df_plotting['Дата'] = df_plotting['Дата'].dt.strftime(\"%d.%m.%Y\") # временно, снять выделение\n"
          ]
        },
        {
          "name": "stdout",
          "output_type": "stream",
          "text": [
            "save_pic ТТ177\n"
          ]
        },
        {
          "name": "stderr",
          "output_type": "stream",
          "text": [
            "C:\\Users\\user\\AppData\\Local\\Temp\\ipykernel_12576\\1688310086.py:177: DeprecationWarning: ANTIALIAS is deprecated and will be removed in Pillow 10 (2023-07-01). Use Resampling.LANCZOS instead.\n",
            "  original_image.thumbnail(max_size, PIL_Image.ANTIALIAS)\n",
            "C:\\Users\\user\\AppData\\Local\\Temp\\ipykernel_12576\\1688310086.py:80: SettingWithCopyWarning: \n",
            "A value is trying to be set on a copy of a slice from a DataFrame.\n",
            "Try using .loc[row_indexer,col_indexer] = value instead\n",
            "\n",
            "See the caveats in the documentation: https://pandas.pydata.org/pandas-docs/stable/user_guide/indexing.html#returning-a-view-versus-a-copy\n",
            "  df_plotting['Дата'] = df_plotting['Дата'].dt.strftime(\"%d.%m.%Y\") # временно, снять выделение\n"
          ]
        },
        {
          "name": "stdout",
          "output_type": "stream",
          "text": [
            "save_pic ТТ178\n"
          ]
        },
        {
          "name": "stderr",
          "output_type": "stream",
          "text": [
            "C:\\Users\\user\\AppData\\Local\\Temp\\ipykernel_12576\\1688310086.py:177: DeprecationWarning: ANTIALIAS is deprecated and will be removed in Pillow 10 (2023-07-01). Use Resampling.LANCZOS instead.\n",
            "  original_image.thumbnail(max_size, PIL_Image.ANTIALIAS)\n",
            "C:\\Users\\user\\AppData\\Local\\Temp\\ipykernel_12576\\1688310086.py:80: SettingWithCopyWarning: \n",
            "A value is trying to be set on a copy of a slice from a DataFrame.\n",
            "Try using .loc[row_indexer,col_indexer] = value instead\n",
            "\n",
            "See the caveats in the documentation: https://pandas.pydata.org/pandas-docs/stable/user_guide/indexing.html#returning-a-view-versus-a-copy\n",
            "  df_plotting['Дата'] = df_plotting['Дата'].dt.strftime(\"%d.%m.%Y\") # временно, снять выделение\n"
          ]
        },
        {
          "name": "stdout",
          "output_type": "stream",
          "text": [
            "save_pic ТТ180\n"
          ]
        },
        {
          "name": "stderr",
          "output_type": "stream",
          "text": [
            "C:\\Users\\user\\AppData\\Local\\Temp\\ipykernel_12576\\1688310086.py:177: DeprecationWarning: ANTIALIAS is deprecated and will be removed in Pillow 10 (2023-07-01). Use Resampling.LANCZOS instead.\n",
            "  original_image.thumbnail(max_size, PIL_Image.ANTIALIAS)\n",
            "C:\\Users\\user\\AppData\\Local\\Temp\\ipykernel_12576\\1688310086.py:80: SettingWithCopyWarning: \n",
            "A value is trying to be set on a copy of a slice from a DataFrame.\n",
            "Try using .loc[row_indexer,col_indexer] = value instead\n",
            "\n",
            "See the caveats in the documentation: https://pandas.pydata.org/pandas-docs/stable/user_guide/indexing.html#returning-a-view-versus-a-copy\n",
            "  df_plotting['Дата'] = df_plotting['Дата'].dt.strftime(\"%d.%m.%Y\") # временно, снять выделение\n"
          ]
        },
        {
          "name": "stdout",
          "output_type": "stream",
          "text": [
            "save_pic ТТ181\n"
          ]
        },
        {
          "name": "stderr",
          "output_type": "stream",
          "text": [
            "C:\\Users\\user\\AppData\\Local\\Temp\\ipykernel_12576\\1688310086.py:177: DeprecationWarning: ANTIALIAS is deprecated and will be removed in Pillow 10 (2023-07-01). Use Resampling.LANCZOS instead.\n",
            "  original_image.thumbnail(max_size, PIL_Image.ANTIALIAS)\n",
            "C:\\Users\\user\\AppData\\Local\\Temp\\ipykernel_12576\\1688310086.py:80: SettingWithCopyWarning: \n",
            "A value is trying to be set on a copy of a slice from a DataFrame.\n",
            "Try using .loc[row_indexer,col_indexer] = value instead\n",
            "\n",
            "See the caveats in the documentation: https://pandas.pydata.org/pandas-docs/stable/user_guide/indexing.html#returning-a-view-versus-a-copy\n",
            "  df_plotting['Дата'] = df_plotting['Дата'].dt.strftime(\"%d.%m.%Y\") # временно, снять выделение\n"
          ]
        },
        {
          "name": "stdout",
          "output_type": "stream",
          "text": [
            "save_pic ТТ182\n"
          ]
        },
        {
          "name": "stderr",
          "output_type": "stream",
          "text": [
            "C:\\Users\\user\\AppData\\Local\\Temp\\ipykernel_12576\\1688310086.py:177: DeprecationWarning: ANTIALIAS is deprecated and will be removed in Pillow 10 (2023-07-01). Use Resampling.LANCZOS instead.\n",
            "  original_image.thumbnail(max_size, PIL_Image.ANTIALIAS)\n",
            "C:\\Users\\user\\AppData\\Local\\Temp\\ipykernel_12576\\1688310086.py:80: SettingWithCopyWarning: \n",
            "A value is trying to be set on a copy of a slice from a DataFrame.\n",
            "Try using .loc[row_indexer,col_indexer] = value instead\n",
            "\n",
            "See the caveats in the documentation: https://pandas.pydata.org/pandas-docs/stable/user_guide/indexing.html#returning-a-view-versus-a-copy\n",
            "  df_plotting['Дата'] = df_plotting['Дата'].dt.strftime(\"%d.%m.%Y\") # временно, снять выделение\n"
          ]
        },
        {
          "name": "stdout",
          "output_type": "stream",
          "text": [
            "save_pic ТТ184\n"
          ]
        },
        {
          "name": "stderr",
          "output_type": "stream",
          "text": [
            "C:\\Users\\user\\AppData\\Local\\Temp\\ipykernel_12576\\1688310086.py:177: DeprecationWarning: ANTIALIAS is deprecated and will be removed in Pillow 10 (2023-07-01). Use Resampling.LANCZOS instead.\n",
            "  original_image.thumbnail(max_size, PIL_Image.ANTIALIAS)\n",
            "C:\\Users\\user\\AppData\\Local\\Temp\\ipykernel_12576\\1688310086.py:80: SettingWithCopyWarning: \n",
            "A value is trying to be set on a copy of a slice from a DataFrame.\n",
            "Try using .loc[row_indexer,col_indexer] = value instead\n",
            "\n",
            "See the caveats in the documentation: https://pandas.pydata.org/pandas-docs/stable/user_guide/indexing.html#returning-a-view-versus-a-copy\n",
            "  df_plotting['Дата'] = df_plotting['Дата'].dt.strftime(\"%d.%m.%Y\") # временно, снять выделение\n"
          ]
        },
        {
          "name": "stdout",
          "output_type": "stream",
          "text": [
            "save_pic ТТ185\n"
          ]
        },
        {
          "name": "stderr",
          "output_type": "stream",
          "text": [
            "C:\\Users\\user\\AppData\\Local\\Temp\\ipykernel_12576\\1688310086.py:177: DeprecationWarning: ANTIALIAS is deprecated and will be removed in Pillow 10 (2023-07-01). Use Resampling.LANCZOS instead.\n",
            "  original_image.thumbnail(max_size, PIL_Image.ANTIALIAS)\n",
            "C:\\Users\\user\\AppData\\Local\\Temp\\ipykernel_12576\\1688310086.py:80: SettingWithCopyWarning: \n",
            "A value is trying to be set on a copy of a slice from a DataFrame.\n",
            "Try using .loc[row_indexer,col_indexer] = value instead\n",
            "\n",
            "See the caveats in the documentation: https://pandas.pydata.org/pandas-docs/stable/user_guide/indexing.html#returning-a-view-versus-a-copy\n",
            "  df_plotting['Дата'] = df_plotting['Дата'].dt.strftime(\"%d.%m.%Y\") # временно, снять выделение\n"
          ]
        },
        {
          "name": "stdout",
          "output_type": "stream",
          "text": [
            "save_pic ТТ186\n"
          ]
        },
        {
          "name": "stderr",
          "output_type": "stream",
          "text": [
            "C:\\Users\\user\\AppData\\Local\\Temp\\ipykernel_12576\\1688310086.py:177: DeprecationWarning: ANTIALIAS is deprecated and will be removed in Pillow 10 (2023-07-01). Use Resampling.LANCZOS instead.\n",
            "  original_image.thumbnail(max_size, PIL_Image.ANTIALIAS)\n",
            "C:\\Users\\user\\AppData\\Local\\Temp\\ipykernel_12576\\1688310086.py:80: SettingWithCopyWarning: \n",
            "A value is trying to be set on a copy of a slice from a DataFrame.\n",
            "Try using .loc[row_indexer,col_indexer] = value instead\n",
            "\n",
            "See the caveats in the documentation: https://pandas.pydata.org/pandas-docs/stable/user_guide/indexing.html#returning-a-view-versus-a-copy\n",
            "  df_plotting['Дата'] = df_plotting['Дата'].dt.strftime(\"%d.%m.%Y\") # временно, снять выделение\n"
          ]
        },
        {
          "name": "stdout",
          "output_type": "stream",
          "text": [
            "save_pic ТТ188\n"
          ]
        },
        {
          "name": "stderr",
          "output_type": "stream",
          "text": [
            "C:\\Users\\user\\AppData\\Local\\Temp\\ipykernel_12576\\1688310086.py:177: DeprecationWarning: ANTIALIAS is deprecated and will be removed in Pillow 10 (2023-07-01). Use Resampling.LANCZOS instead.\n",
            "  original_image.thumbnail(max_size, PIL_Image.ANTIALIAS)\n",
            "C:\\Users\\user\\AppData\\Local\\Temp\\ipykernel_12576\\1688310086.py:80: SettingWithCopyWarning: \n",
            "A value is trying to be set on a copy of a slice from a DataFrame.\n",
            "Try using .loc[row_indexer,col_indexer] = value instead\n",
            "\n",
            "See the caveats in the documentation: https://pandas.pydata.org/pandas-docs/stable/user_guide/indexing.html#returning-a-view-versus-a-copy\n",
            "  df_plotting['Дата'] = df_plotting['Дата'].dt.strftime(\"%d.%m.%Y\") # временно, снять выделение\n"
          ]
        },
        {
          "name": "stdout",
          "output_type": "stream",
          "text": [
            "save_pic ТТ189\n"
          ]
        },
        {
          "name": "stderr",
          "output_type": "stream",
          "text": [
            "C:\\Users\\user\\AppData\\Local\\Temp\\ipykernel_12576\\1688310086.py:177: DeprecationWarning: ANTIALIAS is deprecated and will be removed in Pillow 10 (2023-07-01). Use Resampling.LANCZOS instead.\n",
            "  original_image.thumbnail(max_size, PIL_Image.ANTIALIAS)\n",
            "C:\\Users\\user\\AppData\\Local\\Temp\\ipykernel_12576\\1688310086.py:80: SettingWithCopyWarning: \n",
            "A value is trying to be set on a copy of a slice from a DataFrame.\n",
            "Try using .loc[row_indexer,col_indexer] = value instead\n",
            "\n",
            "See the caveats in the documentation: https://pandas.pydata.org/pandas-docs/stable/user_guide/indexing.html#returning-a-view-versus-a-copy\n",
            "  df_plotting['Дата'] = df_plotting['Дата'].dt.strftime(\"%d.%m.%Y\") # временно, снять выделение\n"
          ]
        },
        {
          "name": "stdout",
          "output_type": "stream",
          "text": [
            "save_pic ТТ190\n"
          ]
        },
        {
          "name": "stderr",
          "output_type": "stream",
          "text": [
            "C:\\Users\\user\\AppData\\Local\\Temp\\ipykernel_12576\\1688310086.py:177: DeprecationWarning: ANTIALIAS is deprecated and will be removed in Pillow 10 (2023-07-01). Use Resampling.LANCZOS instead.\n",
            "  original_image.thumbnail(max_size, PIL_Image.ANTIALIAS)\n",
            "C:\\Users\\user\\AppData\\Local\\Temp\\ipykernel_12576\\1688310086.py:80: SettingWithCopyWarning: \n",
            "A value is trying to be set on a copy of a slice from a DataFrame.\n",
            "Try using .loc[row_indexer,col_indexer] = value instead\n",
            "\n",
            "See the caveats in the documentation: https://pandas.pydata.org/pandas-docs/stable/user_guide/indexing.html#returning-a-view-versus-a-copy\n",
            "  df_plotting['Дата'] = df_plotting['Дата'].dt.strftime(\"%d.%m.%Y\") # временно, снять выделение\n"
          ]
        },
        {
          "name": "stdout",
          "output_type": "stream",
          "text": [
            "save_pic ТТ191\n"
          ]
        },
        {
          "name": "stderr",
          "output_type": "stream",
          "text": [
            "C:\\Users\\user\\AppData\\Local\\Temp\\ipykernel_12576\\1688310086.py:177: DeprecationWarning: ANTIALIAS is deprecated and will be removed in Pillow 10 (2023-07-01). Use Resampling.LANCZOS instead.\n",
            "  original_image.thumbnail(max_size, PIL_Image.ANTIALIAS)\n",
            "C:\\Users\\user\\AppData\\Local\\Temp\\ipykernel_12576\\1688310086.py:80: SettingWithCopyWarning: \n",
            "A value is trying to be set on a copy of a slice from a DataFrame.\n",
            "Try using .loc[row_indexer,col_indexer] = value instead\n",
            "\n",
            "See the caveats in the documentation: https://pandas.pydata.org/pandas-docs/stable/user_guide/indexing.html#returning-a-view-versus-a-copy\n",
            "  df_plotting['Дата'] = df_plotting['Дата'].dt.strftime(\"%d.%m.%Y\") # временно, снять выделение\n"
          ]
        },
        {
          "name": "stdout",
          "output_type": "stream",
          "text": [
            "save_pic ТТ192\n"
          ]
        },
        {
          "name": "stderr",
          "output_type": "stream",
          "text": [
            "C:\\Users\\user\\AppData\\Local\\Temp\\ipykernel_12576\\1688310086.py:177: DeprecationWarning: ANTIALIAS is deprecated and will be removed in Pillow 10 (2023-07-01). Use Resampling.LANCZOS instead.\n",
            "  original_image.thumbnail(max_size, PIL_Image.ANTIALIAS)\n",
            "C:\\Users\\user\\AppData\\Local\\Temp\\ipykernel_12576\\1688310086.py:80: SettingWithCopyWarning: \n",
            "A value is trying to be set on a copy of a slice from a DataFrame.\n",
            "Try using .loc[row_indexer,col_indexer] = value instead\n",
            "\n",
            "See the caveats in the documentation: https://pandas.pydata.org/pandas-docs/stable/user_guide/indexing.html#returning-a-view-versus-a-copy\n",
            "  df_plotting['Дата'] = df_plotting['Дата'].dt.strftime(\"%d.%m.%Y\") # временно, снять выделение\n"
          ]
        },
        {
          "name": "stdout",
          "output_type": "stream",
          "text": [
            "save_pic ТТ193\n"
          ]
        },
        {
          "name": "stderr",
          "output_type": "stream",
          "text": [
            "C:\\Users\\user\\AppData\\Local\\Temp\\ipykernel_12576\\1688310086.py:177: DeprecationWarning: ANTIALIAS is deprecated and will be removed in Pillow 10 (2023-07-01). Use Resampling.LANCZOS instead.\n",
            "  original_image.thumbnail(max_size, PIL_Image.ANTIALIAS)\n",
            "C:\\Users\\user\\AppData\\Local\\Temp\\ipykernel_12576\\1688310086.py:80: SettingWithCopyWarning: \n",
            "A value is trying to be set on a copy of a slice from a DataFrame.\n",
            "Try using .loc[row_indexer,col_indexer] = value instead\n",
            "\n",
            "See the caveats in the documentation: https://pandas.pydata.org/pandas-docs/stable/user_guide/indexing.html#returning-a-view-versus-a-copy\n",
            "  df_plotting['Дата'] = df_plotting['Дата'].dt.strftime(\"%d.%m.%Y\") # временно, снять выделение\n"
          ]
        },
        {
          "name": "stdout",
          "output_type": "stream",
          "text": [
            "save_pic ТТ194\n"
          ]
        },
        {
          "name": "stderr",
          "output_type": "stream",
          "text": [
            "C:\\Users\\user\\AppData\\Local\\Temp\\ipykernel_12576\\1688310086.py:177: DeprecationWarning: ANTIALIAS is deprecated and will be removed in Pillow 10 (2023-07-01). Use Resampling.LANCZOS instead.\n",
            "  original_image.thumbnail(max_size, PIL_Image.ANTIALIAS)\n",
            "C:\\Users\\user\\AppData\\Local\\Temp\\ipykernel_12576\\1688310086.py:80: SettingWithCopyWarning: \n",
            "A value is trying to be set on a copy of a slice from a DataFrame.\n",
            "Try using .loc[row_indexer,col_indexer] = value instead\n",
            "\n",
            "See the caveats in the documentation: https://pandas.pydata.org/pandas-docs/stable/user_guide/indexing.html#returning-a-view-versus-a-copy\n",
            "  df_plotting['Дата'] = df_plotting['Дата'].dt.strftime(\"%d.%m.%Y\") # временно, снять выделение\n"
          ]
        },
        {
          "name": "stdout",
          "output_type": "stream",
          "text": [
            "save_pic ТТ195\n"
          ]
        },
        {
          "name": "stderr",
          "output_type": "stream",
          "text": [
            "C:\\Users\\user\\AppData\\Local\\Temp\\ipykernel_12576\\1688310086.py:177: DeprecationWarning: ANTIALIAS is deprecated and will be removed in Pillow 10 (2023-07-01). Use Resampling.LANCZOS instead.\n",
            "  original_image.thumbnail(max_size, PIL_Image.ANTIALIAS)\n",
            "C:\\Users\\user\\AppData\\Local\\Temp\\ipykernel_12576\\1688310086.py:80: SettingWithCopyWarning: \n",
            "A value is trying to be set on a copy of a slice from a DataFrame.\n",
            "Try using .loc[row_indexer,col_indexer] = value instead\n",
            "\n",
            "See the caveats in the documentation: https://pandas.pydata.org/pandas-docs/stable/user_guide/indexing.html#returning-a-view-versus-a-copy\n",
            "  df_plotting['Дата'] = df_plotting['Дата'].dt.strftime(\"%d.%m.%Y\") # временно, снять выделение\n"
          ]
        },
        {
          "name": "stdout",
          "output_type": "stream",
          "text": [
            "save_pic ТТ196\n"
          ]
        },
        {
          "name": "stderr",
          "output_type": "stream",
          "text": [
            "C:\\Users\\user\\AppData\\Local\\Temp\\ipykernel_12576\\1688310086.py:177: DeprecationWarning: ANTIALIAS is deprecated and will be removed in Pillow 10 (2023-07-01). Use Resampling.LANCZOS instead.\n",
            "  original_image.thumbnail(max_size, PIL_Image.ANTIALIAS)\n",
            "C:\\Users\\user\\AppData\\Local\\Temp\\ipykernel_12576\\1688310086.py:80: SettingWithCopyWarning: \n",
            "A value is trying to be set on a copy of a slice from a DataFrame.\n",
            "Try using .loc[row_indexer,col_indexer] = value instead\n",
            "\n",
            "See the caveats in the documentation: https://pandas.pydata.org/pandas-docs/stable/user_guide/indexing.html#returning-a-view-versus-a-copy\n",
            "  df_plotting['Дата'] = df_plotting['Дата'].dt.strftime(\"%d.%m.%Y\") # временно, снять выделение\n"
          ]
        },
        {
          "name": "stdout",
          "output_type": "stream",
          "text": [
            "save_pic ТТ197\n"
          ]
        },
        {
          "name": "stderr",
          "output_type": "stream",
          "text": [
            "C:\\Users\\user\\AppData\\Local\\Temp\\ipykernel_12576\\1688310086.py:177: DeprecationWarning: ANTIALIAS is deprecated and will be removed in Pillow 10 (2023-07-01). Use Resampling.LANCZOS instead.\n",
            "  original_image.thumbnail(max_size, PIL_Image.ANTIALIAS)\n",
            "C:\\Users\\user\\AppData\\Local\\Temp\\ipykernel_12576\\1688310086.py:80: SettingWithCopyWarning: \n",
            "A value is trying to be set on a copy of a slice from a DataFrame.\n",
            "Try using .loc[row_indexer,col_indexer] = value instead\n",
            "\n",
            "See the caveats in the documentation: https://pandas.pydata.org/pandas-docs/stable/user_guide/indexing.html#returning-a-view-versus-a-copy\n",
            "  df_plotting['Дата'] = df_plotting['Дата'].dt.strftime(\"%d.%m.%Y\") # временно, снять выделение\n"
          ]
        },
        {
          "name": "stdout",
          "output_type": "stream",
          "text": [
            "save_pic ТТ198\n"
          ]
        },
        {
          "name": "stderr",
          "output_type": "stream",
          "text": [
            "C:\\Users\\user\\AppData\\Local\\Temp\\ipykernel_12576\\1688310086.py:177: DeprecationWarning: ANTIALIAS is deprecated and will be removed in Pillow 10 (2023-07-01). Use Resampling.LANCZOS instead.\n",
            "  original_image.thumbnail(max_size, PIL_Image.ANTIALIAS)\n",
            "C:\\Users\\user\\AppData\\Local\\Temp\\ipykernel_12576\\1688310086.py:80: SettingWithCopyWarning: \n",
            "A value is trying to be set on a copy of a slice from a DataFrame.\n",
            "Try using .loc[row_indexer,col_indexer] = value instead\n",
            "\n",
            "See the caveats in the documentation: https://pandas.pydata.org/pandas-docs/stable/user_guide/indexing.html#returning-a-view-versus-a-copy\n",
            "  df_plotting['Дата'] = df_plotting['Дата'].dt.strftime(\"%d.%m.%Y\") # временно, снять выделение\n"
          ]
        },
        {
          "name": "stdout",
          "output_type": "stream",
          "text": [
            "save_pic ТТ199\n"
          ]
        },
        {
          "name": "stderr",
          "output_type": "stream",
          "text": [
            "C:\\Users\\user\\AppData\\Local\\Temp\\ipykernel_12576\\1688310086.py:177: DeprecationWarning: ANTIALIAS is deprecated and will be removed in Pillow 10 (2023-07-01). Use Resampling.LANCZOS instead.\n",
            "  original_image.thumbnail(max_size, PIL_Image.ANTIALIAS)\n",
            "C:\\Users\\user\\AppData\\Local\\Temp\\ipykernel_12576\\1688310086.py:80: SettingWithCopyWarning: \n",
            "A value is trying to be set on a copy of a slice from a DataFrame.\n",
            "Try using .loc[row_indexer,col_indexer] = value instead\n",
            "\n",
            "See the caveats in the documentation: https://pandas.pydata.org/pandas-docs/stable/user_guide/indexing.html#returning-a-view-versus-a-copy\n",
            "  df_plotting['Дата'] = df_plotting['Дата'].dt.strftime(\"%d.%m.%Y\") # временно, снять выделение\n"
          ]
        },
        {
          "name": "stdout",
          "output_type": "stream",
          "text": [
            "save_pic ТТ200\n"
          ]
        },
        {
          "name": "stderr",
          "output_type": "stream",
          "text": [
            "C:\\Users\\user\\AppData\\Local\\Temp\\ipykernel_12576\\1688310086.py:182: DeprecationWarning: ANTIALIAS is deprecated and will be removed in Pillow 10 (2023-07-01). Use Resampling.LANCZOS instead.\n",
            "  original_image = original_image.resize((width, h2), PIL_Image.ANTIALIAS)\n",
            "C:\\Users\\user\\AppData\\Local\\Temp\\ipykernel_12576\\1688310086.py:80: SettingWithCopyWarning: \n",
            "A value is trying to be set on a copy of a slice from a DataFrame.\n",
            "Try using .loc[row_indexer,col_indexer] = value instead\n",
            "\n",
            "See the caveats in the documentation: https://pandas.pydata.org/pandas-docs/stable/user_guide/indexing.html#returning-a-view-versus-a-copy\n",
            "  df_plotting['Дата'] = df_plotting['Дата'].dt.strftime(\"%d.%m.%Y\") # временно, снять выделение\n"
          ]
        },
        {
          "name": "stdout",
          "output_type": "stream",
          "text": [
            "save_pic ТТ201\n"
          ]
        },
        {
          "name": "stderr",
          "output_type": "stream",
          "text": [
            "C:\\Users\\user\\AppData\\Local\\Temp\\ipykernel_12576\\1688310086.py:177: DeprecationWarning: ANTIALIAS is deprecated and will be removed in Pillow 10 (2023-07-01). Use Resampling.LANCZOS instead.\n",
            "  original_image.thumbnail(max_size, PIL_Image.ANTIALIAS)\n",
            "C:\\Users\\user\\AppData\\Local\\Temp\\ipykernel_12576\\1688310086.py:80: SettingWithCopyWarning: \n",
            "A value is trying to be set on a copy of a slice from a DataFrame.\n",
            "Try using .loc[row_indexer,col_indexer] = value instead\n",
            "\n",
            "See the caveats in the documentation: https://pandas.pydata.org/pandas-docs/stable/user_guide/indexing.html#returning-a-view-versus-a-copy\n",
            "  df_plotting['Дата'] = df_plotting['Дата'].dt.strftime(\"%d.%m.%Y\") # временно, снять выделение\n"
          ]
        },
        {
          "name": "stdout",
          "output_type": "stream",
          "text": [
            "save_pic ТТ202\n"
          ]
        },
        {
          "name": "stderr",
          "output_type": "stream",
          "text": [
            "C:\\Users\\user\\AppData\\Local\\Temp\\ipykernel_12576\\1688310086.py:177: DeprecationWarning: ANTIALIAS is deprecated and will be removed in Pillow 10 (2023-07-01). Use Resampling.LANCZOS instead.\n",
            "  original_image.thumbnail(max_size, PIL_Image.ANTIALIAS)\n",
            "C:\\Users\\user\\AppData\\Local\\Temp\\ipykernel_12576\\1688310086.py:80: SettingWithCopyWarning: \n",
            "A value is trying to be set on a copy of a slice from a DataFrame.\n",
            "Try using .loc[row_indexer,col_indexer] = value instead\n",
            "\n",
            "See the caveats in the documentation: https://pandas.pydata.org/pandas-docs/stable/user_guide/indexing.html#returning-a-view-versus-a-copy\n",
            "  df_plotting['Дата'] = df_plotting['Дата'].dt.strftime(\"%d.%m.%Y\") # временно, снять выделение\n"
          ]
        },
        {
          "name": "stdout",
          "output_type": "stream",
          "text": [
            "save_pic ТТ204\n"
          ]
        },
        {
          "name": "stderr",
          "output_type": "stream",
          "text": [
            "C:\\Users\\user\\AppData\\Local\\Temp\\ipykernel_12576\\1688310086.py:177: DeprecationWarning: ANTIALIAS is deprecated and will be removed in Pillow 10 (2023-07-01). Use Resampling.LANCZOS instead.\n",
            "  original_image.thumbnail(max_size, PIL_Image.ANTIALIAS)\n",
            "C:\\Users\\user\\AppData\\Local\\Temp\\ipykernel_12576\\1688310086.py:80: SettingWithCopyWarning: \n",
            "A value is trying to be set on a copy of a slice from a DataFrame.\n",
            "Try using .loc[row_indexer,col_indexer] = value instead\n",
            "\n",
            "See the caveats in the documentation: https://pandas.pydata.org/pandas-docs/stable/user_guide/indexing.html#returning-a-view-versus-a-copy\n",
            "  df_plotting['Дата'] = df_plotting['Дата'].dt.strftime(\"%d.%m.%Y\") # временно, снять выделение\n"
          ]
        },
        {
          "name": "stdout",
          "output_type": "stream",
          "text": [
            "save_pic ТТ206\n"
          ]
        },
        {
          "name": "stderr",
          "output_type": "stream",
          "text": [
            "C:\\Users\\user\\AppData\\Local\\Temp\\ipykernel_12576\\1688310086.py:177: DeprecationWarning: ANTIALIAS is deprecated and will be removed in Pillow 10 (2023-07-01). Use Resampling.LANCZOS instead.\n",
            "  original_image.thumbnail(max_size, PIL_Image.ANTIALIAS)\n",
            "C:\\Users\\user\\AppData\\Local\\Temp\\ipykernel_12576\\1688310086.py:80: SettingWithCopyWarning: \n",
            "A value is trying to be set on a copy of a slice from a DataFrame.\n",
            "Try using .loc[row_indexer,col_indexer] = value instead\n",
            "\n",
            "See the caveats in the documentation: https://pandas.pydata.org/pandas-docs/stable/user_guide/indexing.html#returning-a-view-versus-a-copy\n",
            "  df_plotting['Дата'] = df_plotting['Дата'].dt.strftime(\"%d.%m.%Y\") # временно, снять выделение\n"
          ]
        },
        {
          "name": "stdout",
          "output_type": "stream",
          "text": [
            "save_pic ТТ207\n"
          ]
        },
        {
          "name": "stderr",
          "output_type": "stream",
          "text": [
            "C:\\Users\\user\\AppData\\Local\\Temp\\ipykernel_12576\\1688310086.py:177: DeprecationWarning: ANTIALIAS is deprecated and will be removed in Pillow 10 (2023-07-01). Use Resampling.LANCZOS instead.\n",
            "  original_image.thumbnail(max_size, PIL_Image.ANTIALIAS)\n",
            "C:\\Users\\user\\AppData\\Local\\Temp\\ipykernel_12576\\1688310086.py:80: SettingWithCopyWarning: \n",
            "A value is trying to be set on a copy of a slice from a DataFrame.\n",
            "Try using .loc[row_indexer,col_indexer] = value instead\n",
            "\n",
            "See the caveats in the documentation: https://pandas.pydata.org/pandas-docs/stable/user_guide/indexing.html#returning-a-view-versus-a-copy\n",
            "  df_plotting['Дата'] = df_plotting['Дата'].dt.strftime(\"%d.%m.%Y\") # временно, снять выделение\n"
          ]
        },
        {
          "name": "stdout",
          "output_type": "stream",
          "text": [
            "save_pic ТТ208\n"
          ]
        },
        {
          "name": "stderr",
          "output_type": "stream",
          "text": [
            "C:\\Users\\user\\AppData\\Local\\Temp\\ipykernel_12576\\1688310086.py:177: DeprecationWarning: ANTIALIAS is deprecated and will be removed in Pillow 10 (2023-07-01). Use Resampling.LANCZOS instead.\n",
            "  original_image.thumbnail(max_size, PIL_Image.ANTIALIAS)\n",
            "C:\\Users\\user\\AppData\\Local\\Temp\\ipykernel_12576\\1688310086.py:80: SettingWithCopyWarning: \n",
            "A value is trying to be set on a copy of a slice from a DataFrame.\n",
            "Try using .loc[row_indexer,col_indexer] = value instead\n",
            "\n",
            "See the caveats in the documentation: https://pandas.pydata.org/pandas-docs/stable/user_guide/indexing.html#returning-a-view-versus-a-copy\n",
            "  df_plotting['Дата'] = df_plotting['Дата'].dt.strftime(\"%d.%m.%Y\") # временно, снять выделение\n"
          ]
        },
        {
          "name": "stdout",
          "output_type": "stream",
          "text": [
            "save_pic ТТ211\n"
          ]
        },
        {
          "name": "stderr",
          "output_type": "stream",
          "text": [
            "C:\\Users\\user\\AppData\\Local\\Temp\\ipykernel_12576\\1688310086.py:177: DeprecationWarning: ANTIALIAS is deprecated and will be removed in Pillow 10 (2023-07-01). Use Resampling.LANCZOS instead.\n",
            "  original_image.thumbnail(max_size, PIL_Image.ANTIALIAS)\n",
            "C:\\Users\\user\\AppData\\Local\\Temp\\ipykernel_12576\\1688310086.py:80: SettingWithCopyWarning: \n",
            "A value is trying to be set on a copy of a slice from a DataFrame.\n",
            "Try using .loc[row_indexer,col_indexer] = value instead\n",
            "\n",
            "See the caveats in the documentation: https://pandas.pydata.org/pandas-docs/stable/user_guide/indexing.html#returning-a-view-versus-a-copy\n",
            "  df_plotting['Дата'] = df_plotting['Дата'].dt.strftime(\"%d.%m.%Y\") # временно, снять выделение\n"
          ]
        },
        {
          "name": "stdout",
          "output_type": "stream",
          "text": [
            "save_pic ТТ212\n"
          ]
        },
        {
          "name": "stderr",
          "output_type": "stream",
          "text": [
            "C:\\Users\\user\\AppData\\Local\\Temp\\ipykernel_12576\\1688310086.py:177: DeprecationWarning: ANTIALIAS is deprecated and will be removed in Pillow 10 (2023-07-01). Use Resampling.LANCZOS instead.\n",
            "  original_image.thumbnail(max_size, PIL_Image.ANTIALIAS)\n",
            "C:\\Users\\user\\AppData\\Local\\Temp\\ipykernel_12576\\1688310086.py:80: SettingWithCopyWarning: \n",
            "A value is trying to be set on a copy of a slice from a DataFrame.\n",
            "Try using .loc[row_indexer,col_indexer] = value instead\n",
            "\n",
            "See the caveats in the documentation: https://pandas.pydata.org/pandas-docs/stable/user_guide/indexing.html#returning-a-view-versus-a-copy\n",
            "  df_plotting['Дата'] = df_plotting['Дата'].dt.strftime(\"%d.%m.%Y\") # временно, снять выделение\n"
          ]
        },
        {
          "name": "stdout",
          "output_type": "stream",
          "text": [
            "save_pic ТТ213\n"
          ]
        },
        {
          "name": "stderr",
          "output_type": "stream",
          "text": [
            "C:\\Users\\user\\AppData\\Local\\Temp\\ipykernel_12576\\1688310086.py:177: DeprecationWarning: ANTIALIAS is deprecated and will be removed in Pillow 10 (2023-07-01). Use Resampling.LANCZOS instead.\n",
            "  original_image.thumbnail(max_size, PIL_Image.ANTIALIAS)\n",
            "C:\\Users\\user\\AppData\\Local\\Temp\\ipykernel_12576\\1688310086.py:80: SettingWithCopyWarning: \n",
            "A value is trying to be set on a copy of a slice from a DataFrame.\n",
            "Try using .loc[row_indexer,col_indexer] = value instead\n",
            "\n",
            "See the caveats in the documentation: https://pandas.pydata.org/pandas-docs/stable/user_guide/indexing.html#returning-a-view-versus-a-copy\n",
            "  df_plotting['Дата'] = df_plotting['Дата'].dt.strftime(\"%d.%m.%Y\") # временно, снять выделение\n"
          ]
        },
        {
          "name": "stdout",
          "output_type": "stream",
          "text": [
            "save_pic ТТ214\n"
          ]
        },
        {
          "name": "stderr",
          "output_type": "stream",
          "text": [
            "C:\\Users\\user\\AppData\\Local\\Temp\\ipykernel_12576\\1688310086.py:177: DeprecationWarning: ANTIALIAS is deprecated and will be removed in Pillow 10 (2023-07-01). Use Resampling.LANCZOS instead.\n",
            "  original_image.thumbnail(max_size, PIL_Image.ANTIALIAS)\n",
            "C:\\Users\\user\\AppData\\Local\\Temp\\ipykernel_12576\\1688310086.py:80: SettingWithCopyWarning: \n",
            "A value is trying to be set on a copy of a slice from a DataFrame.\n",
            "Try using .loc[row_indexer,col_indexer] = value instead\n",
            "\n",
            "See the caveats in the documentation: https://pandas.pydata.org/pandas-docs/stable/user_guide/indexing.html#returning-a-view-versus-a-copy\n",
            "  df_plotting['Дата'] = df_plotting['Дата'].dt.strftime(\"%d.%m.%Y\") # временно, снять выделение\n"
          ]
        },
        {
          "name": "stdout",
          "output_type": "stream",
          "text": [
            "save_pic ТТ215\n"
          ]
        },
        {
          "name": "stderr",
          "output_type": "stream",
          "text": [
            "C:\\Users\\user\\AppData\\Local\\Temp\\ipykernel_12576\\1688310086.py:177: DeprecationWarning: ANTIALIAS is deprecated and will be removed in Pillow 10 (2023-07-01). Use Resampling.LANCZOS instead.\n",
            "  original_image.thumbnail(max_size, PIL_Image.ANTIALIAS)\n",
            "C:\\Users\\user\\AppData\\Local\\Temp\\ipykernel_12576\\1688310086.py:80: SettingWithCopyWarning: \n",
            "A value is trying to be set on a copy of a slice from a DataFrame.\n",
            "Try using .loc[row_indexer,col_indexer] = value instead\n",
            "\n",
            "See the caveats in the documentation: https://pandas.pydata.org/pandas-docs/stable/user_guide/indexing.html#returning-a-view-versus-a-copy\n",
            "  df_plotting['Дата'] = df_plotting['Дата'].dt.strftime(\"%d.%m.%Y\") # временно, снять выделение\n"
          ]
        },
        {
          "name": "stdout",
          "output_type": "stream",
          "text": [
            "save_pic ТТ217\n"
          ]
        },
        {
          "name": "stderr",
          "output_type": "stream",
          "text": [
            "C:\\Users\\user\\AppData\\Local\\Temp\\ipykernel_12576\\1688310086.py:177: DeprecationWarning: ANTIALIAS is deprecated and will be removed in Pillow 10 (2023-07-01). Use Resampling.LANCZOS instead.\n",
            "  original_image.thumbnail(max_size, PIL_Image.ANTIALIAS)\n",
            "C:\\Users\\user\\AppData\\Local\\Temp\\ipykernel_12576\\1688310086.py:80: SettingWithCopyWarning: \n",
            "A value is trying to be set on a copy of a slice from a DataFrame.\n",
            "Try using .loc[row_indexer,col_indexer] = value instead\n",
            "\n",
            "See the caveats in the documentation: https://pandas.pydata.org/pandas-docs/stable/user_guide/indexing.html#returning-a-view-versus-a-copy\n",
            "  df_plotting['Дата'] = df_plotting['Дата'].dt.strftime(\"%d.%m.%Y\") # временно, снять выделение\n"
          ]
        },
        {
          "name": "stdout",
          "output_type": "stream",
          "text": [
            "save_pic ТТ218\n"
          ]
        },
        {
          "name": "stderr",
          "output_type": "stream",
          "text": [
            "C:\\Users\\user\\AppData\\Local\\Temp\\ipykernel_12576\\1688310086.py:177: DeprecationWarning: ANTIALIAS is deprecated and will be removed in Pillow 10 (2023-07-01). Use Resampling.LANCZOS instead.\n",
            "  original_image.thumbnail(max_size, PIL_Image.ANTIALIAS)\n",
            "C:\\Users\\user\\AppData\\Local\\Temp\\ipykernel_12576\\1688310086.py:80: SettingWithCopyWarning: \n",
            "A value is trying to be set on a copy of a slice from a DataFrame.\n",
            "Try using .loc[row_indexer,col_indexer] = value instead\n",
            "\n",
            "See the caveats in the documentation: https://pandas.pydata.org/pandas-docs/stable/user_guide/indexing.html#returning-a-view-versus-a-copy\n",
            "  df_plotting['Дата'] = df_plotting['Дата'].dt.strftime(\"%d.%m.%Y\") # временно, снять выделение\n"
          ]
        },
        {
          "name": "stdout",
          "output_type": "stream",
          "text": [
            "save_pic ТТ219\n"
          ]
        },
        {
          "name": "stderr",
          "output_type": "stream",
          "text": [
            "C:\\Users\\user\\AppData\\Local\\Temp\\ipykernel_12576\\1688310086.py:177: DeprecationWarning: ANTIALIAS is deprecated and will be removed in Pillow 10 (2023-07-01). Use Resampling.LANCZOS instead.\n",
            "  original_image.thumbnail(max_size, PIL_Image.ANTIALIAS)\n",
            "C:\\Users\\user\\AppData\\Local\\Temp\\ipykernel_12576\\1688310086.py:80: SettingWithCopyWarning: \n",
            "A value is trying to be set on a copy of a slice from a DataFrame.\n",
            "Try using .loc[row_indexer,col_indexer] = value instead\n",
            "\n",
            "See the caveats in the documentation: https://pandas.pydata.org/pandas-docs/stable/user_guide/indexing.html#returning-a-view-versus-a-copy\n",
            "  df_plotting['Дата'] = df_plotting['Дата'].dt.strftime(\"%d.%m.%Y\") # временно, снять выделение\n"
          ]
        },
        {
          "name": "stdout",
          "output_type": "stream",
          "text": [
            "save_pic ТТ220\n"
          ]
        },
        {
          "name": "stderr",
          "output_type": "stream",
          "text": [
            "C:\\Users\\user\\AppData\\Local\\Temp\\ipykernel_12576\\1688310086.py:177: DeprecationWarning: ANTIALIAS is deprecated and will be removed in Pillow 10 (2023-07-01). Use Resampling.LANCZOS instead.\n",
            "  original_image.thumbnail(max_size, PIL_Image.ANTIALIAS)\n",
            "C:\\Users\\user\\AppData\\Local\\Temp\\ipykernel_12576\\1688310086.py:80: SettingWithCopyWarning: \n",
            "A value is trying to be set on a copy of a slice from a DataFrame.\n",
            "Try using .loc[row_indexer,col_indexer] = value instead\n",
            "\n",
            "See the caveats in the documentation: https://pandas.pydata.org/pandas-docs/stable/user_guide/indexing.html#returning-a-view-versus-a-copy\n",
            "  df_plotting['Дата'] = df_plotting['Дата'].dt.strftime(\"%d.%m.%Y\") # временно, снять выделение\n"
          ]
        },
        {
          "name": "stdout",
          "output_type": "stream",
          "text": [
            "save_pic ТТ221\n"
          ]
        },
        {
          "name": "stderr",
          "output_type": "stream",
          "text": [
            "C:\\Users\\user\\AppData\\Local\\Temp\\ipykernel_12576\\1688310086.py:177: DeprecationWarning: ANTIALIAS is deprecated and will be removed in Pillow 10 (2023-07-01). Use Resampling.LANCZOS instead.\n",
            "  original_image.thumbnail(max_size, PIL_Image.ANTIALIAS)\n",
            "C:\\Users\\user\\AppData\\Local\\Temp\\ipykernel_12576\\1688310086.py:80: SettingWithCopyWarning: \n",
            "A value is trying to be set on a copy of a slice from a DataFrame.\n",
            "Try using .loc[row_indexer,col_indexer] = value instead\n",
            "\n",
            "See the caveats in the documentation: https://pandas.pydata.org/pandas-docs/stable/user_guide/indexing.html#returning-a-view-versus-a-copy\n",
            "  df_plotting['Дата'] = df_plotting['Дата'].dt.strftime(\"%d.%m.%Y\") # временно, снять выделение\n"
          ]
        },
        {
          "name": "stdout",
          "output_type": "stream",
          "text": [
            "save_pic ТТ224\n"
          ]
        },
        {
          "name": "stderr",
          "output_type": "stream",
          "text": [
            "C:\\Users\\user\\AppData\\Local\\Temp\\ipykernel_12576\\1688310086.py:177: DeprecationWarning: ANTIALIAS is deprecated and will be removed in Pillow 10 (2023-07-01). Use Resampling.LANCZOS instead.\n",
            "  original_image.thumbnail(max_size, PIL_Image.ANTIALIAS)\n",
            "C:\\Users\\user\\AppData\\Local\\Temp\\ipykernel_12576\\1688310086.py:80: SettingWithCopyWarning: \n",
            "A value is trying to be set on a copy of a slice from a DataFrame.\n",
            "Try using .loc[row_indexer,col_indexer] = value instead\n",
            "\n",
            "See the caveats in the documentation: https://pandas.pydata.org/pandas-docs/stable/user_guide/indexing.html#returning-a-view-versus-a-copy\n",
            "  df_plotting['Дата'] = df_plotting['Дата'].dt.strftime(\"%d.%m.%Y\") # временно, снять выделение\n"
          ]
        },
        {
          "name": "stdout",
          "output_type": "stream",
          "text": [
            "save_pic ТТ226\n"
          ]
        },
        {
          "name": "stderr",
          "output_type": "stream",
          "text": [
            "C:\\Users\\user\\AppData\\Local\\Temp\\ipykernel_12576\\1688310086.py:177: DeprecationWarning: ANTIALIAS is deprecated and will be removed in Pillow 10 (2023-07-01). Use Resampling.LANCZOS instead.\n",
            "  original_image.thumbnail(max_size, PIL_Image.ANTIALIAS)\n",
            "C:\\Users\\user\\AppData\\Local\\Temp\\ipykernel_12576\\1688310086.py:80: SettingWithCopyWarning: \n",
            "A value is trying to be set on a copy of a slice from a DataFrame.\n",
            "Try using .loc[row_indexer,col_indexer] = value instead\n",
            "\n",
            "See the caveats in the documentation: https://pandas.pydata.org/pandas-docs/stable/user_guide/indexing.html#returning-a-view-versus-a-copy\n",
            "  df_plotting['Дата'] = df_plotting['Дата'].dt.strftime(\"%d.%m.%Y\") # временно, снять выделение\n"
          ]
        },
        {
          "name": "stdout",
          "output_type": "stream",
          "text": [
            "save_pic ТТ228\n"
          ]
        },
        {
          "name": "stderr",
          "output_type": "stream",
          "text": [
            "C:\\Users\\user\\AppData\\Local\\Temp\\ipykernel_12576\\1688310086.py:177: DeprecationWarning: ANTIALIAS is deprecated and will be removed in Pillow 10 (2023-07-01). Use Resampling.LANCZOS instead.\n",
            "  original_image.thumbnail(max_size, PIL_Image.ANTIALIAS)\n",
            "C:\\Users\\user\\AppData\\Local\\Temp\\ipykernel_12576\\1688310086.py:80: SettingWithCopyWarning: \n",
            "A value is trying to be set on a copy of a slice from a DataFrame.\n",
            "Try using .loc[row_indexer,col_indexer] = value instead\n",
            "\n",
            "See the caveats in the documentation: https://pandas.pydata.org/pandas-docs/stable/user_guide/indexing.html#returning-a-view-versus-a-copy\n",
            "  df_plotting['Дата'] = df_plotting['Дата'].dt.strftime(\"%d.%m.%Y\") # временно, снять выделение\n"
          ]
        },
        {
          "name": "stdout",
          "output_type": "stream",
          "text": [
            "save_pic ТТ229\n"
          ]
        },
        {
          "name": "stderr",
          "output_type": "stream",
          "text": [
            "C:\\Users\\user\\AppData\\Local\\Temp\\ipykernel_12576\\1688310086.py:177: DeprecationWarning: ANTIALIAS is deprecated and will be removed in Pillow 10 (2023-07-01). Use Resampling.LANCZOS instead.\n",
            "  original_image.thumbnail(max_size, PIL_Image.ANTIALIAS)\n",
            "C:\\Users\\user\\AppData\\Local\\Temp\\ipykernel_12576\\1688310086.py:80: SettingWithCopyWarning: \n",
            "A value is trying to be set on a copy of a slice from a DataFrame.\n",
            "Try using .loc[row_indexer,col_indexer] = value instead\n",
            "\n",
            "See the caveats in the documentation: https://pandas.pydata.org/pandas-docs/stable/user_guide/indexing.html#returning-a-view-versus-a-copy\n",
            "  df_plotting['Дата'] = df_plotting['Дата'].dt.strftime(\"%d.%m.%Y\") # временно, снять выделение\n"
          ]
        },
        {
          "name": "stdout",
          "output_type": "stream",
          "text": [
            "save_pic ТТ230\n"
          ]
        },
        {
          "name": "stderr",
          "output_type": "stream",
          "text": [
            "C:\\Users\\user\\AppData\\Local\\Temp\\ipykernel_12576\\1688310086.py:177: DeprecationWarning: ANTIALIAS is deprecated and will be removed in Pillow 10 (2023-07-01). Use Resampling.LANCZOS instead.\n",
            "  original_image.thumbnail(max_size, PIL_Image.ANTIALIAS)\n",
            "C:\\Users\\user\\AppData\\Local\\Temp\\ipykernel_12576\\1688310086.py:80: SettingWithCopyWarning: \n",
            "A value is trying to be set on a copy of a slice from a DataFrame.\n",
            "Try using .loc[row_indexer,col_indexer] = value instead\n",
            "\n",
            "See the caveats in the documentation: https://pandas.pydata.org/pandas-docs/stable/user_guide/indexing.html#returning-a-view-versus-a-copy\n",
            "  df_plotting['Дата'] = df_plotting['Дата'].dt.strftime(\"%d.%m.%Y\") # временно, снять выделение\n"
          ]
        },
        {
          "name": "stdout",
          "output_type": "stream",
          "text": [
            "save_pic ТТ231\n"
          ]
        },
        {
          "name": "stderr",
          "output_type": "stream",
          "text": [
            "C:\\Users\\user\\AppData\\Local\\Temp\\ipykernel_12576\\1688310086.py:182: DeprecationWarning: ANTIALIAS is deprecated and will be removed in Pillow 10 (2023-07-01). Use Resampling.LANCZOS instead.\n",
            "  original_image = original_image.resize((width, h2), PIL_Image.ANTIALIAS)\n",
            "C:\\Users\\user\\AppData\\Local\\Temp\\ipykernel_12576\\1688310086.py:80: SettingWithCopyWarning: \n",
            "A value is trying to be set on a copy of a slice from a DataFrame.\n",
            "Try using .loc[row_indexer,col_indexer] = value instead\n",
            "\n",
            "See the caveats in the documentation: https://pandas.pydata.org/pandas-docs/stable/user_guide/indexing.html#returning-a-view-versus-a-copy\n",
            "  df_plotting['Дата'] = df_plotting['Дата'].dt.strftime(\"%d.%m.%Y\") # временно, снять выделение\n"
          ]
        },
        {
          "name": "stdout",
          "output_type": "stream",
          "text": [
            "save_pic ТТ232\n"
          ]
        },
        {
          "name": "stderr",
          "output_type": "stream",
          "text": [
            "C:\\Users\\user\\AppData\\Local\\Temp\\ipykernel_12576\\1688310086.py:177: DeprecationWarning: ANTIALIAS is deprecated and will be removed in Pillow 10 (2023-07-01). Use Resampling.LANCZOS instead.\n",
            "  original_image.thumbnail(max_size, PIL_Image.ANTIALIAS)\n",
            "C:\\Users\\user\\AppData\\Local\\Temp\\ipykernel_12576\\1688310086.py:80: SettingWithCopyWarning: \n",
            "A value is trying to be set on a copy of a slice from a DataFrame.\n",
            "Try using .loc[row_indexer,col_indexer] = value instead\n",
            "\n",
            "See the caveats in the documentation: https://pandas.pydata.org/pandas-docs/stable/user_guide/indexing.html#returning-a-view-versus-a-copy\n",
            "  df_plotting['Дата'] = df_plotting['Дата'].dt.strftime(\"%d.%m.%Y\") # временно, снять выделение\n"
          ]
        },
        {
          "name": "stdout",
          "output_type": "stream",
          "text": [
            "save_pic ТТ233\n"
          ]
        },
        {
          "name": "stderr",
          "output_type": "stream",
          "text": [
            "C:\\Users\\user\\AppData\\Local\\Temp\\ipykernel_12576\\1688310086.py:177: DeprecationWarning: ANTIALIAS is deprecated and will be removed in Pillow 10 (2023-07-01). Use Resampling.LANCZOS instead.\n",
            "  original_image.thumbnail(max_size, PIL_Image.ANTIALIAS)\n",
            "C:\\Users\\user\\AppData\\Local\\Temp\\ipykernel_12576\\1688310086.py:80: SettingWithCopyWarning: \n",
            "A value is trying to be set on a copy of a slice from a DataFrame.\n",
            "Try using .loc[row_indexer,col_indexer] = value instead\n",
            "\n",
            "See the caveats in the documentation: https://pandas.pydata.org/pandas-docs/stable/user_guide/indexing.html#returning-a-view-versus-a-copy\n",
            "  df_plotting['Дата'] = df_plotting['Дата'].dt.strftime(\"%d.%m.%Y\") # временно, снять выделение\n"
          ]
        },
        {
          "name": "stdout",
          "output_type": "stream",
          "text": [
            "save_pic ТТ234\n"
          ]
        },
        {
          "name": "stderr",
          "output_type": "stream",
          "text": [
            "C:\\Users\\user\\AppData\\Local\\Temp\\ipykernel_12576\\1688310086.py:177: DeprecationWarning: ANTIALIAS is deprecated and will be removed in Pillow 10 (2023-07-01). Use Resampling.LANCZOS instead.\n",
            "  original_image.thumbnail(max_size, PIL_Image.ANTIALIAS)\n",
            "C:\\Users\\user\\AppData\\Local\\Temp\\ipykernel_12576\\1688310086.py:80: SettingWithCopyWarning: \n",
            "A value is trying to be set on a copy of a slice from a DataFrame.\n",
            "Try using .loc[row_indexer,col_indexer] = value instead\n",
            "\n",
            "See the caveats in the documentation: https://pandas.pydata.org/pandas-docs/stable/user_guide/indexing.html#returning-a-view-versus-a-copy\n",
            "  df_plotting['Дата'] = df_plotting['Дата'].dt.strftime(\"%d.%m.%Y\") # временно, снять выделение\n"
          ]
        },
        {
          "name": "stdout",
          "output_type": "stream",
          "text": [
            "save_pic ТТ242\n"
          ]
        },
        {
          "name": "stderr",
          "output_type": "stream",
          "text": [
            "C:\\Users\\user\\AppData\\Local\\Temp\\ipykernel_12576\\1688310086.py:177: DeprecationWarning: ANTIALIAS is deprecated and will be removed in Pillow 10 (2023-07-01). Use Resampling.LANCZOS instead.\n",
            "  original_image.thumbnail(max_size, PIL_Image.ANTIALIAS)\n",
            "C:\\Users\\user\\AppData\\Local\\Temp\\ipykernel_12576\\1688310086.py:80: SettingWithCopyWarning: \n",
            "A value is trying to be set on a copy of a slice from a DataFrame.\n",
            "Try using .loc[row_indexer,col_indexer] = value instead\n",
            "\n",
            "See the caveats in the documentation: https://pandas.pydata.org/pandas-docs/stable/user_guide/indexing.html#returning-a-view-versus-a-copy\n",
            "  df_plotting['Дата'] = df_plotting['Дата'].dt.strftime(\"%d.%m.%Y\") # временно, снять выделение\n"
          ]
        },
        {
          "name": "stdout",
          "output_type": "stream",
          "text": [
            "save_pic ТТ243\n"
          ]
        },
        {
          "name": "stderr",
          "output_type": "stream",
          "text": [
            "C:\\Users\\user\\AppData\\Local\\Temp\\ipykernel_12576\\1688310086.py:177: DeprecationWarning: ANTIALIAS is deprecated and will be removed in Pillow 10 (2023-07-01). Use Resampling.LANCZOS instead.\n",
            "  original_image.thumbnail(max_size, PIL_Image.ANTIALIAS)\n",
            "C:\\Users\\user\\AppData\\Local\\Temp\\ipykernel_12576\\1688310086.py:80: SettingWithCopyWarning: \n",
            "A value is trying to be set on a copy of a slice from a DataFrame.\n",
            "Try using .loc[row_indexer,col_indexer] = value instead\n",
            "\n",
            "See the caveats in the documentation: https://pandas.pydata.org/pandas-docs/stable/user_guide/indexing.html#returning-a-view-versus-a-copy\n",
            "  df_plotting['Дата'] = df_plotting['Дата'].dt.strftime(\"%d.%m.%Y\") # временно, снять выделение\n"
          ]
        },
        {
          "name": "stdout",
          "output_type": "stream",
          "text": [
            "save_pic ТТ244\n"
          ]
        },
        {
          "name": "stderr",
          "output_type": "stream",
          "text": [
            "C:\\Users\\user\\AppData\\Local\\Temp\\ipykernel_12576\\1688310086.py:177: DeprecationWarning: ANTIALIAS is deprecated and will be removed in Pillow 10 (2023-07-01). Use Resampling.LANCZOS instead.\n",
            "  original_image.thumbnail(max_size, PIL_Image.ANTIALIAS)\n",
            "C:\\Users\\user\\AppData\\Local\\Temp\\ipykernel_12576\\1688310086.py:80: SettingWithCopyWarning: \n",
            "A value is trying to be set on a copy of a slice from a DataFrame.\n",
            "Try using .loc[row_indexer,col_indexer] = value instead\n",
            "\n",
            "See the caveats in the documentation: https://pandas.pydata.org/pandas-docs/stable/user_guide/indexing.html#returning-a-view-versus-a-copy\n",
            "  df_plotting['Дата'] = df_plotting['Дата'].dt.strftime(\"%d.%m.%Y\") # временно, снять выделение\n"
          ]
        },
        {
          "name": "stdout",
          "output_type": "stream",
          "text": [
            "save_pic ТТ245\n"
          ]
        },
        {
          "name": "stderr",
          "output_type": "stream",
          "text": [
            "C:\\Users\\user\\AppData\\Local\\Temp\\ipykernel_12576\\1688310086.py:177: DeprecationWarning: ANTIALIAS is deprecated and will be removed in Pillow 10 (2023-07-01). Use Resampling.LANCZOS instead.\n",
            "  original_image.thumbnail(max_size, PIL_Image.ANTIALIAS)\n",
            "C:\\Users\\user\\AppData\\Local\\Temp\\ipykernel_12576\\1688310086.py:80: SettingWithCopyWarning: \n",
            "A value is trying to be set on a copy of a slice from a DataFrame.\n",
            "Try using .loc[row_indexer,col_indexer] = value instead\n",
            "\n",
            "See the caveats in the documentation: https://pandas.pydata.org/pandas-docs/stable/user_guide/indexing.html#returning-a-view-versus-a-copy\n",
            "  df_plotting['Дата'] = df_plotting['Дата'].dt.strftime(\"%d.%m.%Y\") # временно, снять выделение\n"
          ]
        },
        {
          "name": "stdout",
          "output_type": "stream",
          "text": [
            "save_pic ТТ246\n"
          ]
        },
        {
          "name": "stderr",
          "output_type": "stream",
          "text": [
            "C:\\Users\\user\\AppData\\Local\\Temp\\ipykernel_12576\\1688310086.py:177: DeprecationWarning: ANTIALIAS is deprecated and will be removed in Pillow 10 (2023-07-01). Use Resampling.LANCZOS instead.\n",
            "  original_image.thumbnail(max_size, PIL_Image.ANTIALIAS)\n",
            "C:\\Users\\user\\AppData\\Local\\Temp\\ipykernel_12576\\1688310086.py:80: SettingWithCopyWarning: \n",
            "A value is trying to be set on a copy of a slice from a DataFrame.\n",
            "Try using .loc[row_indexer,col_indexer] = value instead\n",
            "\n",
            "See the caveats in the documentation: https://pandas.pydata.org/pandas-docs/stable/user_guide/indexing.html#returning-a-view-versus-a-copy\n",
            "  df_plotting['Дата'] = df_plotting['Дата'].dt.strftime(\"%d.%m.%Y\") # временно, снять выделение\n"
          ]
        },
        {
          "name": "stdout",
          "output_type": "stream",
          "text": [
            "save_pic ТТ247\n"
          ]
        },
        {
          "name": "stderr",
          "output_type": "stream",
          "text": [
            "C:\\Users\\user\\AppData\\Local\\Temp\\ipykernel_12576\\1688310086.py:177: DeprecationWarning: ANTIALIAS is deprecated and will be removed in Pillow 10 (2023-07-01). Use Resampling.LANCZOS instead.\n",
            "  original_image.thumbnail(max_size, PIL_Image.ANTIALIAS)\n",
            "C:\\Users\\user\\AppData\\Local\\Temp\\ipykernel_12576\\1688310086.py:80: SettingWithCopyWarning: \n",
            "A value is trying to be set on a copy of a slice from a DataFrame.\n",
            "Try using .loc[row_indexer,col_indexer] = value instead\n",
            "\n",
            "See the caveats in the documentation: https://pandas.pydata.org/pandas-docs/stable/user_guide/indexing.html#returning-a-view-versus-a-copy\n",
            "  df_plotting['Дата'] = df_plotting['Дата'].dt.strftime(\"%d.%m.%Y\") # временно, снять выделение\n"
          ]
        },
        {
          "name": "stdout",
          "output_type": "stream",
          "text": [
            "save_pic ТТ248\n"
          ]
        },
        {
          "name": "stderr",
          "output_type": "stream",
          "text": [
            "C:\\Users\\user\\AppData\\Local\\Temp\\ipykernel_12576\\1688310086.py:177: DeprecationWarning: ANTIALIAS is deprecated and will be removed in Pillow 10 (2023-07-01). Use Resampling.LANCZOS instead.\n",
            "  original_image.thumbnail(max_size, PIL_Image.ANTIALIAS)\n",
            "C:\\Users\\user\\AppData\\Local\\Temp\\ipykernel_12576\\1688310086.py:80: SettingWithCopyWarning: \n",
            "A value is trying to be set on a copy of a slice from a DataFrame.\n",
            "Try using .loc[row_indexer,col_indexer] = value instead\n",
            "\n",
            "See the caveats in the documentation: https://pandas.pydata.org/pandas-docs/stable/user_guide/indexing.html#returning-a-view-versus-a-copy\n",
            "  df_plotting['Дата'] = df_plotting['Дата'].dt.strftime(\"%d.%m.%Y\") # временно, снять выделение\n"
          ]
        },
        {
          "name": "stdout",
          "output_type": "stream",
          "text": [
            "save_pic ТТ251\n"
          ]
        },
        {
          "name": "stderr",
          "output_type": "stream",
          "text": [
            "C:\\Users\\user\\AppData\\Local\\Temp\\ipykernel_12576\\1688310086.py:177: DeprecationWarning: ANTIALIAS is deprecated and will be removed in Pillow 10 (2023-07-01). Use Resampling.LANCZOS instead.\n",
            "  original_image.thumbnail(max_size, PIL_Image.ANTIALIAS)\n",
            "C:\\Users\\user\\AppData\\Local\\Temp\\ipykernel_12576\\1688310086.py:80: SettingWithCopyWarning: \n",
            "A value is trying to be set on a copy of a slice from a DataFrame.\n",
            "Try using .loc[row_indexer,col_indexer] = value instead\n",
            "\n",
            "See the caveats in the documentation: https://pandas.pydata.org/pandas-docs/stable/user_guide/indexing.html#returning-a-view-versus-a-copy\n",
            "  df_plotting['Дата'] = df_plotting['Дата'].dt.strftime(\"%d.%m.%Y\") # временно, снять выделение\n"
          ]
        },
        {
          "name": "stdout",
          "output_type": "stream",
          "text": [
            "save_pic ТТ254\n"
          ]
        },
        {
          "name": "stderr",
          "output_type": "stream",
          "text": [
            "C:\\Users\\user\\AppData\\Local\\Temp\\ipykernel_12576\\1688310086.py:177: DeprecationWarning: ANTIALIAS is deprecated and will be removed in Pillow 10 (2023-07-01). Use Resampling.LANCZOS instead.\n",
            "  original_image.thumbnail(max_size, PIL_Image.ANTIALIAS)\n",
            "C:\\Users\\user\\AppData\\Local\\Temp\\ipykernel_12576\\1688310086.py:80: SettingWithCopyWarning: \n",
            "A value is trying to be set on a copy of a slice from a DataFrame.\n",
            "Try using .loc[row_indexer,col_indexer] = value instead\n",
            "\n",
            "See the caveats in the documentation: https://pandas.pydata.org/pandas-docs/stable/user_guide/indexing.html#returning-a-view-versus-a-copy\n",
            "  df_plotting['Дата'] = df_plotting['Дата'].dt.strftime(\"%d.%m.%Y\") # временно, снять выделение\n"
          ]
        },
        {
          "name": "stdout",
          "output_type": "stream",
          "text": [
            "save_pic ТТ255\n"
          ]
        },
        {
          "name": "stderr",
          "output_type": "stream",
          "text": [
            "C:\\Users\\user\\AppData\\Local\\Temp\\ipykernel_12576\\1688310086.py:177: DeprecationWarning: ANTIALIAS is deprecated and will be removed in Pillow 10 (2023-07-01). Use Resampling.LANCZOS instead.\n",
            "  original_image.thumbnail(max_size, PIL_Image.ANTIALIAS)\n",
            "C:\\Users\\user\\AppData\\Local\\Temp\\ipykernel_12576\\1688310086.py:80: SettingWithCopyWarning: \n",
            "A value is trying to be set on a copy of a slice from a DataFrame.\n",
            "Try using .loc[row_indexer,col_indexer] = value instead\n",
            "\n",
            "See the caveats in the documentation: https://pandas.pydata.org/pandas-docs/stable/user_guide/indexing.html#returning-a-view-versus-a-copy\n",
            "  df_plotting['Дата'] = df_plotting['Дата'].dt.strftime(\"%d.%m.%Y\") # временно, снять выделение\n"
          ]
        },
        {
          "name": "stdout",
          "output_type": "stream",
          "text": [
            "save_pic ТТ256\n"
          ]
        },
        {
          "name": "stderr",
          "output_type": "stream",
          "text": [
            "C:\\Users\\user\\AppData\\Local\\Temp\\ipykernel_12576\\1688310086.py:177: DeprecationWarning: ANTIALIAS is deprecated and will be removed in Pillow 10 (2023-07-01). Use Resampling.LANCZOS instead.\n",
            "  original_image.thumbnail(max_size, PIL_Image.ANTIALIAS)\n",
            "C:\\Users\\user\\AppData\\Local\\Temp\\ipykernel_12576\\1688310086.py:80: SettingWithCopyWarning: \n",
            "A value is trying to be set on a copy of a slice from a DataFrame.\n",
            "Try using .loc[row_indexer,col_indexer] = value instead\n",
            "\n",
            "See the caveats in the documentation: https://pandas.pydata.org/pandas-docs/stable/user_guide/indexing.html#returning-a-view-versus-a-copy\n",
            "  df_plotting['Дата'] = df_plotting['Дата'].dt.strftime(\"%d.%m.%Y\") # временно, снять выделение\n"
          ]
        },
        {
          "name": "stdout",
          "output_type": "stream",
          "text": [
            "save_pic ТТ257\n"
          ]
        },
        {
          "name": "stderr",
          "output_type": "stream",
          "text": [
            "C:\\Users\\user\\AppData\\Local\\Temp\\ipykernel_12576\\1688310086.py:177: DeprecationWarning: ANTIALIAS is deprecated and will be removed in Pillow 10 (2023-07-01). Use Resampling.LANCZOS instead.\n",
            "  original_image.thumbnail(max_size, PIL_Image.ANTIALIAS)\n",
            "C:\\Users\\user\\AppData\\Local\\Temp\\ipykernel_12576\\1688310086.py:80: SettingWithCopyWarning: \n",
            "A value is trying to be set on a copy of a slice from a DataFrame.\n",
            "Try using .loc[row_indexer,col_indexer] = value instead\n",
            "\n",
            "See the caveats in the documentation: https://pandas.pydata.org/pandas-docs/stable/user_guide/indexing.html#returning-a-view-versus-a-copy\n",
            "  df_plotting['Дата'] = df_plotting['Дата'].dt.strftime(\"%d.%m.%Y\") # временно, снять выделение\n"
          ]
        },
        {
          "name": "stdout",
          "output_type": "stream",
          "text": [
            "save_pic ТТ259\n"
          ]
        },
        {
          "name": "stderr",
          "output_type": "stream",
          "text": [
            "C:\\Users\\user\\AppData\\Local\\Temp\\ipykernel_12576\\1688310086.py:177: DeprecationWarning: ANTIALIAS is deprecated and will be removed in Pillow 10 (2023-07-01). Use Resampling.LANCZOS instead.\n",
            "  original_image.thumbnail(max_size, PIL_Image.ANTIALIAS)\n",
            "C:\\Users\\user\\AppData\\Local\\Temp\\ipykernel_12576\\1688310086.py:80: SettingWithCopyWarning: \n",
            "A value is trying to be set on a copy of a slice from a DataFrame.\n",
            "Try using .loc[row_indexer,col_indexer] = value instead\n",
            "\n",
            "See the caveats in the documentation: https://pandas.pydata.org/pandas-docs/stable/user_guide/indexing.html#returning-a-view-versus-a-copy\n",
            "  df_plotting['Дата'] = df_plotting['Дата'].dt.strftime(\"%d.%m.%Y\") # временно, снять выделение\n"
          ]
        },
        {
          "name": "stdout",
          "output_type": "stream",
          "text": [
            "save_pic ТТ260\n"
          ]
        },
        {
          "name": "stderr",
          "output_type": "stream",
          "text": [
            "C:\\Users\\user\\AppData\\Local\\Temp\\ipykernel_12576\\1688310086.py:177: DeprecationWarning: ANTIALIAS is deprecated and will be removed in Pillow 10 (2023-07-01). Use Resampling.LANCZOS instead.\n",
            "  original_image.thumbnail(max_size, PIL_Image.ANTIALIAS)\n",
            "C:\\Users\\user\\AppData\\Local\\Temp\\ipykernel_12576\\1688310086.py:80: SettingWithCopyWarning: \n",
            "A value is trying to be set on a copy of a slice from a DataFrame.\n",
            "Try using .loc[row_indexer,col_indexer] = value instead\n",
            "\n",
            "See the caveats in the documentation: https://pandas.pydata.org/pandas-docs/stable/user_guide/indexing.html#returning-a-view-versus-a-copy\n",
            "  df_plotting['Дата'] = df_plotting['Дата'].dt.strftime(\"%d.%m.%Y\") # временно, снять выделение\n"
          ]
        },
        {
          "name": "stdout",
          "output_type": "stream",
          "text": [
            "save_pic ТТ53\n"
          ]
        },
        {
          "name": "stderr",
          "output_type": "stream",
          "text": [
            "C:\\Users\\user\\AppData\\Local\\Temp\\ipykernel_12576\\1688310086.py:177: DeprecationWarning: ANTIALIAS is deprecated and will be removed in Pillow 10 (2023-07-01). Use Resampling.LANCZOS instead.\n",
            "  original_image.thumbnail(max_size, PIL_Image.ANTIALIAS)\n",
            "C:\\Users\\user\\AppData\\Local\\Temp\\ipykernel_12576\\1688310086.py:80: SettingWithCopyWarning: \n",
            "A value is trying to be set on a copy of a slice from a DataFrame.\n",
            "Try using .loc[row_indexer,col_indexer] = value instead\n",
            "\n",
            "See the caveats in the documentation: https://pandas.pydata.org/pandas-docs/stable/user_guide/indexing.html#returning-a-view-versus-a-copy\n",
            "  df_plotting['Дата'] = df_plotting['Дата'].dt.strftime(\"%d.%m.%Y\") # временно, снять выделение\n"
          ]
        },
        {
          "name": "stdout",
          "output_type": "stream",
          "text": [
            "save_pic ТТ55\n"
          ]
        },
        {
          "name": "stderr",
          "output_type": "stream",
          "text": [
            "C:\\Users\\user\\AppData\\Local\\Temp\\ipykernel_12576\\1688310086.py:177: DeprecationWarning: ANTIALIAS is deprecated and will be removed in Pillow 10 (2023-07-01). Use Resampling.LANCZOS instead.\n",
            "  original_image.thumbnail(max_size, PIL_Image.ANTIALIAS)\n",
            "C:\\Users\\user\\AppData\\Local\\Temp\\ipykernel_12576\\1688310086.py:80: SettingWithCopyWarning: \n",
            "A value is trying to be set on a copy of a slice from a DataFrame.\n",
            "Try using .loc[row_indexer,col_indexer] = value instead\n",
            "\n",
            "See the caveats in the documentation: https://pandas.pydata.org/pandas-docs/stable/user_guide/indexing.html#returning-a-view-versus-a-copy\n",
            "  df_plotting['Дата'] = df_plotting['Дата'].dt.strftime(\"%d.%m.%Y\") # временно, снять выделение\n"
          ]
        },
        {
          "name": "stdout",
          "output_type": "stream",
          "text": [
            "save_pic ТТ93\n"
          ]
        },
        {
          "name": "stderr",
          "output_type": "stream",
          "text": [
            "C:\\Users\\user\\AppData\\Local\\Temp\\ipykernel_12576\\1688310086.py:177: DeprecationWarning: ANTIALIAS is deprecated and will be removed in Pillow 10 (2023-07-01). Use Resampling.LANCZOS instead.\n",
            "  original_image.thumbnail(max_size, PIL_Image.ANTIALIAS)\n",
            "C:\\Users\\user\\AppData\\Local\\Temp\\ipykernel_12576\\1688310086.py:80: SettingWithCopyWarning: \n",
            "A value is trying to be set on a copy of a slice from a DataFrame.\n",
            "Try using .loc[row_indexer,col_indexer] = value instead\n",
            "\n",
            "See the caveats in the documentation: https://pandas.pydata.org/pandas-docs/stable/user_guide/indexing.html#returning-a-view-versus-a-copy\n",
            "  df_plotting['Дата'] = df_plotting['Дата'].dt.strftime(\"%d.%m.%Y\") # временно, снять выделение\n"
          ]
        },
        {
          "name": "stdout",
          "output_type": "stream",
          "text": [
            "save_pic ТТ123\n"
          ]
        },
        {
          "name": "stderr",
          "output_type": "stream",
          "text": [
            "C:\\Users\\user\\AppData\\Local\\Temp\\ipykernel_12576\\1688310086.py:177: DeprecationWarning: ANTIALIAS is deprecated and will be removed in Pillow 10 (2023-07-01). Use Resampling.LANCZOS instead.\n",
            "  original_image.thumbnail(max_size, PIL_Image.ANTIALIAS)\n",
            "C:\\Users\\user\\AppData\\Local\\Temp\\ipykernel_12576\\1688310086.py:80: SettingWithCopyWarning: \n",
            "A value is trying to be set on a copy of a slice from a DataFrame.\n",
            "Try using .loc[row_indexer,col_indexer] = value instead\n",
            "\n",
            "See the caveats in the documentation: https://pandas.pydata.org/pandas-docs/stable/user_guide/indexing.html#returning-a-view-versus-a-copy\n",
            "  df_plotting['Дата'] = df_plotting['Дата'].dt.strftime(\"%d.%m.%Y\") # временно, снять выделение\n"
          ]
        },
        {
          "name": "stdout",
          "output_type": "stream",
          "text": [
            "save_pic ТТ136\n"
          ]
        },
        {
          "name": "stderr",
          "output_type": "stream",
          "text": [
            "C:\\Users\\user\\AppData\\Local\\Temp\\ipykernel_12576\\1688310086.py:177: DeprecationWarning: ANTIALIAS is deprecated and will be removed in Pillow 10 (2023-07-01). Use Resampling.LANCZOS instead.\n",
            "  original_image.thumbnail(max_size, PIL_Image.ANTIALIAS)\n",
            "C:\\Users\\user\\AppData\\Local\\Temp\\ipykernel_12576\\1688310086.py:80: SettingWithCopyWarning: \n",
            "A value is trying to be set on a copy of a slice from a DataFrame.\n",
            "Try using .loc[row_indexer,col_indexer] = value instead\n",
            "\n",
            "See the caveats in the documentation: https://pandas.pydata.org/pandas-docs/stable/user_guide/indexing.html#returning-a-view-versus-a-copy\n",
            "  df_plotting['Дата'] = df_plotting['Дата'].dt.strftime(\"%d.%m.%Y\") # временно, снять выделение\n"
          ]
        },
        {
          "name": "stdout",
          "output_type": "stream",
          "text": [
            "save_pic ТТ151\n"
          ]
        },
        {
          "name": "stderr",
          "output_type": "stream",
          "text": [
            "C:\\Users\\user\\AppData\\Local\\Temp\\ipykernel_12576\\1688310086.py:177: DeprecationWarning: ANTIALIAS is deprecated and will be removed in Pillow 10 (2023-07-01). Use Resampling.LANCZOS instead.\n",
            "  original_image.thumbnail(max_size, PIL_Image.ANTIALIAS)\n",
            "C:\\Users\\user\\AppData\\Local\\Temp\\ipykernel_12576\\1688310086.py:80: SettingWithCopyWarning: \n",
            "A value is trying to be set on a copy of a slice from a DataFrame.\n",
            "Try using .loc[row_indexer,col_indexer] = value instead\n",
            "\n",
            "See the caveats in the documentation: https://pandas.pydata.org/pandas-docs/stable/user_guide/indexing.html#returning-a-view-versus-a-copy\n",
            "  df_plotting['Дата'] = df_plotting['Дата'].dt.strftime(\"%d.%m.%Y\") # временно, снять выделение\n"
          ]
        },
        {
          "name": "stdout",
          "output_type": "stream",
          "text": [
            "save_pic ТТ162\n"
          ]
        },
        {
          "name": "stderr",
          "output_type": "stream",
          "text": [
            "C:\\Users\\user\\AppData\\Local\\Temp\\ipykernel_12576\\1688310086.py:177: DeprecationWarning: ANTIALIAS is deprecated and will be removed in Pillow 10 (2023-07-01). Use Resampling.LANCZOS instead.\n",
            "  original_image.thumbnail(max_size, PIL_Image.ANTIALIAS)\n",
            "C:\\Users\\user\\AppData\\Local\\Temp\\ipykernel_12576\\1688310086.py:80: SettingWithCopyWarning: \n",
            "A value is trying to be set on a copy of a slice from a DataFrame.\n",
            "Try using .loc[row_indexer,col_indexer] = value instead\n",
            "\n",
            "See the caveats in the documentation: https://pandas.pydata.org/pandas-docs/stable/user_guide/indexing.html#returning-a-view-versus-a-copy\n",
            "  df_plotting['Дата'] = df_plotting['Дата'].dt.strftime(\"%d.%m.%Y\") # временно, снять выделение\n"
          ]
        },
        {
          "name": "stdout",
          "output_type": "stream",
          "text": [
            "save_pic ТТ227\n"
          ]
        },
        {
          "name": "stderr",
          "output_type": "stream",
          "text": [
            "C:\\Users\\user\\AppData\\Local\\Temp\\ipykernel_12576\\1688310086.py:177: DeprecationWarning: ANTIALIAS is deprecated and will be removed in Pillow 10 (2023-07-01). Use Resampling.LANCZOS instead.\n",
            "  original_image.thumbnail(max_size, PIL_Image.ANTIALIAS)\n",
            "C:\\Users\\user\\AppData\\Local\\Temp\\ipykernel_12576\\1688310086.py:80: SettingWithCopyWarning: \n",
            "A value is trying to be set on a copy of a slice from a DataFrame.\n",
            "Try using .loc[row_indexer,col_indexer] = value instead\n",
            "\n",
            "See the caveats in the documentation: https://pandas.pydata.org/pandas-docs/stable/user_guide/indexing.html#returning-a-view-versus-a-copy\n",
            "  df_plotting['Дата'] = df_plotting['Дата'].dt.strftime(\"%d.%m.%Y\") # временно, снять выделение\n"
          ]
        },
        {
          "name": "stdout",
          "output_type": "stream",
          "text": [
            "save_pic ТТ258\n"
          ]
        },
        {
          "name": "stderr",
          "output_type": "stream",
          "text": [
            "C:\\Users\\user\\AppData\\Local\\Temp\\ipykernel_12576\\1688310086.py:177: DeprecationWarning: ANTIALIAS is deprecated and will be removed in Pillow 10 (2023-07-01). Use Resampling.LANCZOS instead.\n",
            "  original_image.thumbnail(max_size, PIL_Image.ANTIALIAS)\n",
            "C:\\Users\\user\\AppData\\Local\\Temp\\ipykernel_12576\\1688310086.py:80: SettingWithCopyWarning: \n",
            "A value is trying to be set on a copy of a slice from a DataFrame.\n",
            "Try using .loc[row_indexer,col_indexer] = value instead\n",
            "\n",
            "See the caveats in the documentation: https://pandas.pydata.org/pandas-docs/stable/user_guide/indexing.html#returning-a-view-versus-a-copy\n",
            "  df_plotting['Дата'] = df_plotting['Дата'].dt.strftime(\"%d.%m.%Y\") # временно, снять выделение\n"
          ]
        },
        {
          "name": "stdout",
          "output_type": "stream",
          "text": [
            "save_pic ТТ262\n"
          ]
        },
        {
          "name": "stderr",
          "output_type": "stream",
          "text": [
            "C:\\Users\\user\\AppData\\Local\\Temp\\ipykernel_12576\\1688310086.py:177: DeprecationWarning: ANTIALIAS is deprecated and will be removed in Pillow 10 (2023-07-01). Use Resampling.LANCZOS instead.\n",
            "  original_image.thumbnail(max_size, PIL_Image.ANTIALIAS)\n",
            "C:\\Users\\user\\AppData\\Local\\Temp\\ipykernel_12576\\1688310086.py:80: SettingWithCopyWarning: \n",
            "A value is trying to be set on a copy of a slice from a DataFrame.\n",
            "Try using .loc[row_indexer,col_indexer] = value instead\n",
            "\n",
            "See the caveats in the documentation: https://pandas.pydata.org/pandas-docs/stable/user_guide/indexing.html#returning-a-view-versus-a-copy\n",
            "  df_plotting['Дата'] = df_plotting['Дата'].dt.strftime(\"%d.%m.%Y\") # временно, снять выделение\n"
          ]
        },
        {
          "name": "stdout",
          "output_type": "stream",
          "text": [
            "save_pic ТТ6\n"
          ]
        },
        {
          "name": "stderr",
          "output_type": "stream",
          "text": [
            "C:\\Users\\user\\AppData\\Local\\Temp\\ipykernel_12576\\1688310086.py:177: DeprecationWarning: ANTIALIAS is deprecated and will be removed in Pillow 10 (2023-07-01). Use Resampling.LANCZOS instead.\n",
            "  original_image.thumbnail(max_size, PIL_Image.ANTIALIAS)\n",
            "C:\\Users\\user\\AppData\\Local\\Temp\\ipykernel_12576\\1688310086.py:80: SettingWithCopyWarning: \n",
            "A value is trying to be set on a copy of a slice from a DataFrame.\n",
            "Try using .loc[row_indexer,col_indexer] = value instead\n",
            "\n",
            "See the caveats in the documentation: https://pandas.pydata.org/pandas-docs/stable/user_guide/indexing.html#returning-a-view-versus-a-copy\n",
            "  df_plotting['Дата'] = df_plotting['Дата'].dt.strftime(\"%d.%m.%Y\") # временно, снять выделение\n"
          ]
        },
        {
          "name": "stdout",
          "output_type": "stream",
          "text": [
            "save_pic ТТ41\n"
          ]
        },
        {
          "name": "stderr",
          "output_type": "stream",
          "text": [
            "C:\\Users\\user\\AppData\\Local\\Temp\\ipykernel_12576\\1688310086.py:177: DeprecationWarning: ANTIALIAS is deprecated and will be removed in Pillow 10 (2023-07-01). Use Resampling.LANCZOS instead.\n",
            "  original_image.thumbnail(max_size, PIL_Image.ANTIALIAS)\n",
            "C:\\Users\\user\\AppData\\Local\\Temp\\ipykernel_12576\\1688310086.py:80: SettingWithCopyWarning: \n",
            "A value is trying to be set on a copy of a slice from a DataFrame.\n",
            "Try using .loc[row_indexer,col_indexer] = value instead\n",
            "\n",
            "See the caveats in the documentation: https://pandas.pydata.org/pandas-docs/stable/user_guide/indexing.html#returning-a-view-versus-a-copy\n",
            "  df_plotting['Дата'] = df_plotting['Дата'].dt.strftime(\"%d.%m.%Y\") # временно, снять выделение\n"
          ]
        },
        {
          "name": "stdout",
          "output_type": "stream",
          "text": [
            "save_pic ТТ112\n"
          ]
        },
        {
          "name": "stderr",
          "output_type": "stream",
          "text": [
            "C:\\Users\\user\\AppData\\Local\\Temp\\ipykernel_12576\\1688310086.py:177: DeprecationWarning: ANTIALIAS is deprecated and will be removed in Pillow 10 (2023-07-01). Use Resampling.LANCZOS instead.\n",
            "  original_image.thumbnail(max_size, PIL_Image.ANTIALIAS)\n",
            "C:\\Users\\user\\AppData\\Local\\Temp\\ipykernel_12576\\1688310086.py:80: SettingWithCopyWarning: \n",
            "A value is trying to be set on a copy of a slice from a DataFrame.\n",
            "Try using .loc[row_indexer,col_indexer] = value instead\n",
            "\n",
            "See the caveats in the documentation: https://pandas.pydata.org/pandas-docs/stable/user_guide/indexing.html#returning-a-view-versus-a-copy\n",
            "  df_plotting['Дата'] = df_plotting['Дата'].dt.strftime(\"%d.%m.%Y\") # временно, снять выделение\n"
          ]
        },
        {
          "name": "stdout",
          "output_type": "stream",
          "text": [
            "save_pic ТТ117\n"
          ]
        },
        {
          "name": "stderr",
          "output_type": "stream",
          "text": [
            "C:\\Users\\user\\AppData\\Local\\Temp\\ipykernel_12576\\1688310086.py:177: DeprecationWarning: ANTIALIAS is deprecated and will be removed in Pillow 10 (2023-07-01). Use Resampling.LANCZOS instead.\n",
            "  original_image.thumbnail(max_size, PIL_Image.ANTIALIAS)\n",
            "C:\\Users\\user\\AppData\\Local\\Temp\\ipykernel_12576\\1688310086.py:80: SettingWithCopyWarning: \n",
            "A value is trying to be set on a copy of a slice from a DataFrame.\n",
            "Try using .loc[row_indexer,col_indexer] = value instead\n",
            "\n",
            "See the caveats in the documentation: https://pandas.pydata.org/pandas-docs/stable/user_guide/indexing.html#returning-a-view-versus-a-copy\n",
            "  df_plotting['Дата'] = df_plotting['Дата'].dt.strftime(\"%d.%m.%Y\") # временно, снять выделение\n"
          ]
        },
        {
          "name": "stdout",
          "output_type": "stream",
          "text": [
            "save_pic ТТ124\n"
          ]
        },
        {
          "name": "stderr",
          "output_type": "stream",
          "text": [
            "C:\\Users\\user\\AppData\\Local\\Temp\\ipykernel_12576\\1688310086.py:177: DeprecationWarning: ANTIALIAS is deprecated and will be removed in Pillow 10 (2023-07-01). Use Resampling.LANCZOS instead.\n",
            "  original_image.thumbnail(max_size, PIL_Image.ANTIALIAS)\n",
            "C:\\Users\\user\\AppData\\Local\\Temp\\ipykernel_12576\\1688310086.py:80: SettingWithCopyWarning: \n",
            "A value is trying to be set on a copy of a slice from a DataFrame.\n",
            "Try using .loc[row_indexer,col_indexer] = value instead\n",
            "\n",
            "See the caveats in the documentation: https://pandas.pydata.org/pandas-docs/stable/user_guide/indexing.html#returning-a-view-versus-a-copy\n",
            "  df_plotting['Дата'] = df_plotting['Дата'].dt.strftime(\"%d.%m.%Y\") # временно, снять выделение\n"
          ]
        },
        {
          "name": "stdout",
          "output_type": "stream",
          "text": [
            "save_pic ТТ134\n"
          ]
        },
        {
          "name": "stderr",
          "output_type": "stream",
          "text": [
            "C:\\Users\\user\\AppData\\Local\\Temp\\ipykernel_12576\\1688310086.py:177: DeprecationWarning: ANTIALIAS is deprecated and will be removed in Pillow 10 (2023-07-01). Use Resampling.LANCZOS instead.\n",
            "  original_image.thumbnail(max_size, PIL_Image.ANTIALIAS)\n",
            "C:\\Users\\user\\AppData\\Local\\Temp\\ipykernel_12576\\1688310086.py:80: SettingWithCopyWarning: \n",
            "A value is trying to be set on a copy of a slice from a DataFrame.\n",
            "Try using .loc[row_indexer,col_indexer] = value instead\n",
            "\n",
            "See the caveats in the documentation: https://pandas.pydata.org/pandas-docs/stable/user_guide/indexing.html#returning-a-view-versus-a-copy\n",
            "  df_plotting['Дата'] = df_plotting['Дата'].dt.strftime(\"%d.%m.%Y\") # временно, снять выделение\n"
          ]
        },
        {
          "name": "stdout",
          "output_type": "stream",
          "text": [
            "save_pic ТТ144\n"
          ]
        },
        {
          "name": "stderr",
          "output_type": "stream",
          "text": [
            "C:\\Users\\user\\AppData\\Local\\Temp\\ipykernel_12576\\1688310086.py:177: DeprecationWarning: ANTIALIAS is deprecated and will be removed in Pillow 10 (2023-07-01). Use Resampling.LANCZOS instead.\n",
            "  original_image.thumbnail(max_size, PIL_Image.ANTIALIAS)\n",
            "C:\\Users\\user\\AppData\\Local\\Temp\\ipykernel_12576\\1688310086.py:80: SettingWithCopyWarning: \n",
            "A value is trying to be set on a copy of a slice from a DataFrame.\n",
            "Try using .loc[row_indexer,col_indexer] = value instead\n",
            "\n",
            "See the caveats in the documentation: https://pandas.pydata.org/pandas-docs/stable/user_guide/indexing.html#returning-a-view-versus-a-copy\n",
            "  df_plotting['Дата'] = df_plotting['Дата'].dt.strftime(\"%d.%m.%Y\") # временно, снять выделение\n"
          ]
        },
        {
          "name": "stdout",
          "output_type": "stream",
          "text": [
            "save_pic ТТ18\n"
          ]
        },
        {
          "name": "stderr",
          "output_type": "stream",
          "text": [
            "C:\\Users\\user\\AppData\\Local\\Temp\\ipykernel_12576\\1688310086.py:177: DeprecationWarning: ANTIALIAS is deprecated and will be removed in Pillow 10 (2023-07-01). Use Resampling.LANCZOS instead.\n",
            "  original_image.thumbnail(max_size, PIL_Image.ANTIALIAS)\n",
            "C:\\Users\\user\\AppData\\Local\\Temp\\ipykernel_12576\\1688310086.py:80: SettingWithCopyWarning: \n",
            "A value is trying to be set on a copy of a slice from a DataFrame.\n",
            "Try using .loc[row_indexer,col_indexer] = value instead\n",
            "\n",
            "See the caveats in the documentation: https://pandas.pydata.org/pandas-docs/stable/user_guide/indexing.html#returning-a-view-versus-a-copy\n",
            "  df_plotting['Дата'] = df_plotting['Дата'].dt.strftime(\"%d.%m.%Y\") # временно, снять выделение\n"
          ]
        },
        {
          "name": "stdout",
          "output_type": "stream",
          "text": [
            "save_pic ТТ64\n"
          ]
        },
        {
          "name": "stderr",
          "output_type": "stream",
          "text": [
            "C:\\Users\\user\\AppData\\Local\\Temp\\ipykernel_12576\\1688310086.py:177: DeprecationWarning: ANTIALIAS is deprecated and will be removed in Pillow 10 (2023-07-01). Use Resampling.LANCZOS instead.\n",
            "  original_image.thumbnail(max_size, PIL_Image.ANTIALIAS)\n",
            "C:\\Users\\user\\AppData\\Local\\Temp\\ipykernel_12576\\1688310086.py:80: SettingWithCopyWarning: \n",
            "A value is trying to be set on a copy of a slice from a DataFrame.\n",
            "Try using .loc[row_indexer,col_indexer] = value instead\n",
            "\n",
            "See the caveats in the documentation: https://pandas.pydata.org/pandas-docs/stable/user_guide/indexing.html#returning-a-view-versus-a-copy\n",
            "  df_plotting['Дата'] = df_plotting['Дата'].dt.strftime(\"%d.%m.%Y\") # временно, снять выделение\n"
          ]
        },
        {
          "name": "stdout",
          "output_type": "stream",
          "text": [
            "save_pic ТТ68\n"
          ]
        },
        {
          "name": "stderr",
          "output_type": "stream",
          "text": [
            "C:\\Users\\user\\AppData\\Local\\Temp\\ipykernel_12576\\1688310086.py:177: DeprecationWarning: ANTIALIAS is deprecated and will be removed in Pillow 10 (2023-07-01). Use Resampling.LANCZOS instead.\n",
            "  original_image.thumbnail(max_size, PIL_Image.ANTIALIAS)\n",
            "C:\\Users\\user\\AppData\\Local\\Temp\\ipykernel_12576\\1688310086.py:80: SettingWithCopyWarning: \n",
            "A value is trying to be set on a copy of a slice from a DataFrame.\n",
            "Try using .loc[row_indexer,col_indexer] = value instead\n",
            "\n",
            "See the caveats in the documentation: https://pandas.pydata.org/pandas-docs/stable/user_guide/indexing.html#returning-a-view-versus-a-copy\n",
            "  df_plotting['Дата'] = df_plotting['Дата'].dt.strftime(\"%d.%m.%Y\") # временно, снять выделение\n"
          ]
        },
        {
          "name": "stdout",
          "output_type": "stream",
          "text": [
            "save_pic ТТ69\n"
          ]
        },
        {
          "name": "stderr",
          "output_type": "stream",
          "text": [
            "C:\\Users\\user\\AppData\\Local\\Temp\\ipykernel_12576\\1688310086.py:177: DeprecationWarning: ANTIALIAS is deprecated and will be removed in Pillow 10 (2023-07-01). Use Resampling.LANCZOS instead.\n",
            "  original_image.thumbnail(max_size, PIL_Image.ANTIALIAS)\n",
            "C:\\Users\\user\\AppData\\Local\\Temp\\ipykernel_12576\\1688310086.py:80: SettingWithCopyWarning: \n",
            "A value is trying to be set on a copy of a slice from a DataFrame.\n",
            "Try using .loc[row_indexer,col_indexer] = value instead\n",
            "\n",
            "See the caveats in the documentation: https://pandas.pydata.org/pandas-docs/stable/user_guide/indexing.html#returning-a-view-versus-a-copy\n",
            "  df_plotting['Дата'] = df_plotting['Дата'].dt.strftime(\"%d.%m.%Y\") # временно, снять выделение\n"
          ]
        },
        {
          "name": "stdout",
          "output_type": "stream",
          "text": [
            "save_pic ТТ77\n"
          ]
        },
        {
          "name": "stderr",
          "output_type": "stream",
          "text": [
            "C:\\Users\\user\\AppData\\Local\\Temp\\ipykernel_12576\\1688310086.py:177: DeprecationWarning: ANTIALIAS is deprecated and will be removed in Pillow 10 (2023-07-01). Use Resampling.LANCZOS instead.\n",
            "  original_image.thumbnail(max_size, PIL_Image.ANTIALIAS)\n",
            "C:\\Users\\user\\AppData\\Local\\Temp\\ipykernel_12576\\1688310086.py:80: SettingWithCopyWarning: \n",
            "A value is trying to be set on a copy of a slice from a DataFrame.\n",
            "Try using .loc[row_indexer,col_indexer] = value instead\n",
            "\n",
            "See the caveats in the documentation: https://pandas.pydata.org/pandas-docs/stable/user_guide/indexing.html#returning-a-view-versus-a-copy\n",
            "  df_plotting['Дата'] = df_plotting['Дата'].dt.strftime(\"%d.%m.%Y\") # временно, снять выделение\n"
          ]
        },
        {
          "name": "stdout",
          "output_type": "stream",
          "text": [
            "save_pic ТТ87\n"
          ]
        },
        {
          "name": "stderr",
          "output_type": "stream",
          "text": [
            "C:\\Users\\user\\AppData\\Local\\Temp\\ipykernel_12576\\1688310086.py:177: DeprecationWarning: ANTIALIAS is deprecated and will be removed in Pillow 10 (2023-07-01). Use Resampling.LANCZOS instead.\n",
            "  original_image.thumbnail(max_size, PIL_Image.ANTIALIAS)\n",
            "C:\\Users\\user\\AppData\\Local\\Temp\\ipykernel_12576\\1688310086.py:80: SettingWithCopyWarning: \n",
            "A value is trying to be set on a copy of a slice from a DataFrame.\n",
            "Try using .loc[row_indexer,col_indexer] = value instead\n",
            "\n",
            "See the caveats in the documentation: https://pandas.pydata.org/pandas-docs/stable/user_guide/indexing.html#returning-a-view-versus-a-copy\n",
            "  df_plotting['Дата'] = df_plotting['Дата'].dt.strftime(\"%d.%m.%Y\") # временно, снять выделение\n"
          ]
        },
        {
          "name": "stdout",
          "output_type": "stream",
          "text": [
            "save_pic ТТ105\n"
          ]
        },
        {
          "name": "stderr",
          "output_type": "stream",
          "text": [
            "C:\\Users\\user\\AppData\\Local\\Temp\\ipykernel_12576\\1688310086.py:177: DeprecationWarning: ANTIALIAS is deprecated and will be removed in Pillow 10 (2023-07-01). Use Resampling.LANCZOS instead.\n",
            "  original_image.thumbnail(max_size, PIL_Image.ANTIALIAS)\n",
            "C:\\Users\\user\\AppData\\Local\\Temp\\ipykernel_12576\\1688310086.py:80: SettingWithCopyWarning: \n",
            "A value is trying to be set on a copy of a slice from a DataFrame.\n",
            "Try using .loc[row_indexer,col_indexer] = value instead\n",
            "\n",
            "See the caveats in the documentation: https://pandas.pydata.org/pandas-docs/stable/user_guide/indexing.html#returning-a-view-versus-a-copy\n",
            "  df_plotting['Дата'] = df_plotting['Дата'].dt.strftime(\"%d.%m.%Y\") # временно, снять выделение\n"
          ]
        },
        {
          "name": "stdout",
          "output_type": "stream",
          "text": [
            "save_pic ТТ107\n"
          ]
        },
        {
          "name": "stderr",
          "output_type": "stream",
          "text": [
            "C:\\Users\\user\\AppData\\Local\\Temp\\ipykernel_12576\\1688310086.py:182: DeprecationWarning: ANTIALIAS is deprecated and will be removed in Pillow 10 (2023-07-01). Use Resampling.LANCZOS instead.\n",
            "  original_image = original_image.resize((width, h2), PIL_Image.ANTIALIAS)\n",
            "C:\\Users\\user\\AppData\\Local\\Temp\\ipykernel_12576\\1688310086.py:80: SettingWithCopyWarning: \n",
            "A value is trying to be set on a copy of a slice from a DataFrame.\n",
            "Try using .loc[row_indexer,col_indexer] = value instead\n",
            "\n",
            "See the caveats in the documentation: https://pandas.pydata.org/pandas-docs/stable/user_guide/indexing.html#returning-a-view-versus-a-copy\n",
            "  df_plotting['Дата'] = df_plotting['Дата'].dt.strftime(\"%d.%m.%Y\") # временно, снять выделение\n"
          ]
        },
        {
          "name": "stdout",
          "output_type": "stream",
          "text": [
            "save_pic ТТ111\n"
          ]
        },
        {
          "name": "stderr",
          "output_type": "stream",
          "text": [
            "C:\\Users\\user\\AppData\\Local\\Temp\\ipykernel_12576\\1688310086.py:177: DeprecationWarning: ANTIALIAS is deprecated and will be removed in Pillow 10 (2023-07-01). Use Resampling.LANCZOS instead.\n",
            "  original_image.thumbnail(max_size, PIL_Image.ANTIALIAS)\n",
            "C:\\Users\\user\\AppData\\Local\\Temp\\ipykernel_12576\\1688310086.py:80: SettingWithCopyWarning: \n",
            "A value is trying to be set on a copy of a slice from a DataFrame.\n",
            "Try using .loc[row_indexer,col_indexer] = value instead\n",
            "\n",
            "See the caveats in the documentation: https://pandas.pydata.org/pandas-docs/stable/user_guide/indexing.html#returning-a-view-versus-a-copy\n",
            "  df_plotting['Дата'] = df_plotting['Дата'].dt.strftime(\"%d.%m.%Y\") # временно, снять выделение\n"
          ]
        },
        {
          "name": "stdout",
          "output_type": "stream",
          "text": [
            "save_pic ТТ139\n"
          ]
        },
        {
          "name": "stderr",
          "output_type": "stream",
          "text": [
            "C:\\Users\\user\\AppData\\Local\\Temp\\ipykernel_12576\\1688310086.py:177: DeprecationWarning: ANTIALIAS is deprecated and will be removed in Pillow 10 (2023-07-01). Use Resampling.LANCZOS instead.\n",
            "  original_image.thumbnail(max_size, PIL_Image.ANTIALIAS)\n",
            "C:\\Users\\user\\AppData\\Local\\Temp\\ipykernel_12576\\1688310086.py:80: SettingWithCopyWarning: \n",
            "A value is trying to be set on a copy of a slice from a DataFrame.\n",
            "Try using .loc[row_indexer,col_indexer] = value instead\n",
            "\n",
            "See the caveats in the documentation: https://pandas.pydata.org/pandas-docs/stable/user_guide/indexing.html#returning-a-view-versus-a-copy\n",
            "  df_plotting['Дата'] = df_plotting['Дата'].dt.strftime(\"%d.%m.%Y\") # временно, снять выделение\n"
          ]
        },
        {
          "name": "stdout",
          "output_type": "stream",
          "text": [
            "save_pic ТТ153\n"
          ]
        },
        {
          "name": "stderr",
          "output_type": "stream",
          "text": [
            "C:\\Users\\user\\AppData\\Local\\Temp\\ipykernel_12576\\1688310086.py:177: DeprecationWarning: ANTIALIAS is deprecated and will be removed in Pillow 10 (2023-07-01). Use Resampling.LANCZOS instead.\n",
            "  original_image.thumbnail(max_size, PIL_Image.ANTIALIAS)\n",
            "C:\\Users\\user\\AppData\\Local\\Temp\\ipykernel_12576\\1688310086.py:80: SettingWithCopyWarning: \n",
            "A value is trying to be set on a copy of a slice from a DataFrame.\n",
            "Try using .loc[row_indexer,col_indexer] = value instead\n",
            "\n",
            "See the caveats in the documentation: https://pandas.pydata.org/pandas-docs/stable/user_guide/indexing.html#returning-a-view-versus-a-copy\n",
            "  df_plotting['Дата'] = df_plotting['Дата'].dt.strftime(\"%d.%m.%Y\") # временно, снять выделение\n"
          ]
        },
        {
          "name": "stdout",
          "output_type": "stream",
          "text": [
            "save_pic ТТ167\n"
          ]
        },
        {
          "name": "stderr",
          "output_type": "stream",
          "text": [
            "C:\\Users\\user\\AppData\\Local\\Temp\\ipykernel_12576\\1688310086.py:177: DeprecationWarning: ANTIALIAS is deprecated and will be removed in Pillow 10 (2023-07-01). Use Resampling.LANCZOS instead.\n",
            "  original_image.thumbnail(max_size, PIL_Image.ANTIALIAS)\n",
            "C:\\Users\\user\\AppData\\Local\\Temp\\ipykernel_12576\\1688310086.py:80: SettingWithCopyWarning: \n",
            "A value is trying to be set on a copy of a slice from a DataFrame.\n",
            "Try using .loc[row_indexer,col_indexer] = value instead\n",
            "\n",
            "See the caveats in the documentation: https://pandas.pydata.org/pandas-docs/stable/user_guide/indexing.html#returning-a-view-versus-a-copy\n",
            "  df_plotting['Дата'] = df_plotting['Дата'].dt.strftime(\"%d.%m.%Y\") # временно, снять выделение\n"
          ]
        },
        {
          "name": "stdout",
          "output_type": "stream",
          "text": [
            "save_pic ТТ179\n"
          ]
        },
        {
          "name": "stderr",
          "output_type": "stream",
          "text": [
            "C:\\Users\\user\\AppData\\Local\\Temp\\ipykernel_12576\\1688310086.py:177: DeprecationWarning: ANTIALIAS is deprecated and will be removed in Pillow 10 (2023-07-01). Use Resampling.LANCZOS instead.\n",
            "  original_image.thumbnail(max_size, PIL_Image.ANTIALIAS)\n",
            "C:\\Users\\user\\AppData\\Local\\Temp\\ipykernel_12576\\1688310086.py:80: SettingWithCopyWarning: \n",
            "A value is trying to be set on a copy of a slice from a DataFrame.\n",
            "Try using .loc[row_indexer,col_indexer] = value instead\n",
            "\n",
            "See the caveats in the documentation: https://pandas.pydata.org/pandas-docs/stable/user_guide/indexing.html#returning-a-view-versus-a-copy\n",
            "  df_plotting['Дата'] = df_plotting['Дата'].dt.strftime(\"%d.%m.%Y\") # временно, снять выделение\n"
          ]
        },
        {
          "name": "stdout",
          "output_type": "stream",
          "text": [
            "save_pic ТТ183\n"
          ]
        },
        {
          "name": "stderr",
          "output_type": "stream",
          "text": [
            "C:\\Users\\user\\AppData\\Local\\Temp\\ipykernel_12576\\1688310086.py:177: DeprecationWarning: ANTIALIAS is deprecated and will be removed in Pillow 10 (2023-07-01). Use Resampling.LANCZOS instead.\n",
            "  original_image.thumbnail(max_size, PIL_Image.ANTIALIAS)\n",
            "C:\\Users\\user\\AppData\\Local\\Temp\\ipykernel_12576\\1688310086.py:80: SettingWithCopyWarning: \n",
            "A value is trying to be set on a copy of a slice from a DataFrame.\n",
            "Try using .loc[row_indexer,col_indexer] = value instead\n",
            "\n",
            "See the caveats in the documentation: https://pandas.pydata.org/pandas-docs/stable/user_guide/indexing.html#returning-a-view-versus-a-copy\n",
            "  df_plotting['Дата'] = df_plotting['Дата'].dt.strftime(\"%d.%m.%Y\") # временно, снять выделение\n"
          ]
        },
        {
          "name": "stdout",
          "output_type": "stream",
          "text": [
            "save_pic ТТ187\n"
          ]
        },
        {
          "name": "stderr",
          "output_type": "stream",
          "text": [
            "C:\\Users\\user\\AppData\\Local\\Temp\\ipykernel_12576\\1688310086.py:177: DeprecationWarning: ANTIALIAS is deprecated and will be removed in Pillow 10 (2023-07-01). Use Resampling.LANCZOS instead.\n",
            "  original_image.thumbnail(max_size, PIL_Image.ANTIALIAS)\n",
            "C:\\Users\\user\\AppData\\Local\\Temp\\ipykernel_12576\\1688310086.py:80: SettingWithCopyWarning: \n",
            "A value is trying to be set on a copy of a slice from a DataFrame.\n",
            "Try using .loc[row_indexer,col_indexer] = value instead\n",
            "\n",
            "See the caveats in the documentation: https://pandas.pydata.org/pandas-docs/stable/user_guide/indexing.html#returning-a-view-versus-a-copy\n",
            "  df_plotting['Дата'] = df_plotting['Дата'].dt.strftime(\"%d.%m.%Y\") # временно, снять выделение\n"
          ]
        },
        {
          "name": "stdout",
          "output_type": "stream",
          "text": [
            "save_pic ТТ265\n"
          ]
        },
        {
          "name": "stderr",
          "output_type": "stream",
          "text": [
            "C:\\Users\\user\\AppData\\Local\\Temp\\ipykernel_12576\\1688310086.py:177: DeprecationWarning: ANTIALIAS is deprecated and will be removed in Pillow 10 (2023-07-01). Use Resampling.LANCZOS instead.\n",
            "  original_image.thumbnail(max_size, PIL_Image.ANTIALIAS)\n",
            "C:\\Users\\user\\AppData\\Local\\Temp\\ipykernel_12576\\1688310086.py:80: SettingWithCopyWarning: \n",
            "A value is trying to be set on a copy of a slice from a DataFrame.\n",
            "Try using .loc[row_indexer,col_indexer] = value instead\n",
            "\n",
            "See the caveats in the documentation: https://pandas.pydata.org/pandas-docs/stable/user_guide/indexing.html#returning-a-view-versus-a-copy\n",
            "  df_plotting['Дата'] = df_plotting['Дата'].dt.strftime(\"%d.%m.%Y\") # временно, снять выделение\n"
          ]
        },
        {
          "name": "stdout",
          "output_type": "stream",
          "text": [
            "save_pic ТТ149\n"
          ]
        },
        {
          "name": "stderr",
          "output_type": "stream",
          "text": [
            "C:\\Users\\user\\AppData\\Local\\Temp\\ipykernel_12576\\1688310086.py:177: DeprecationWarning: ANTIALIAS is deprecated and will be removed in Pillow 10 (2023-07-01). Use Resampling.LANCZOS instead.\n",
            "  original_image.thumbnail(max_size, PIL_Image.ANTIALIAS)\n",
            "C:\\Users\\user\\AppData\\Local\\Temp\\ipykernel_12576\\1688310086.py:80: SettingWithCopyWarning: \n",
            "A value is trying to be set on a copy of a slice from a DataFrame.\n",
            "Try using .loc[row_indexer,col_indexer] = value instead\n",
            "\n",
            "See the caveats in the documentation: https://pandas.pydata.org/pandas-docs/stable/user_guide/indexing.html#returning-a-view-versus-a-copy\n",
            "  df_plotting['Дата'] = df_plotting['Дата'].dt.strftime(\"%d.%m.%Y\") # временно, снять выделение\n"
          ]
        },
        {
          "name": "stdout",
          "output_type": "stream",
          "text": [
            "save_pic ТТ16\n"
          ]
        },
        {
          "name": "stderr",
          "output_type": "stream",
          "text": [
            "C:\\Users\\user\\AppData\\Local\\Temp\\ipykernel_12576\\1688310086.py:177: DeprecationWarning: ANTIALIAS is deprecated and will be removed in Pillow 10 (2023-07-01). Use Resampling.LANCZOS instead.\n",
            "  original_image.thumbnail(max_size, PIL_Image.ANTIALIAS)\n",
            "C:\\Users\\user\\AppData\\Local\\Temp\\ipykernel_12576\\1688310086.py:80: SettingWithCopyWarning: \n",
            "A value is trying to be set on a copy of a slice from a DataFrame.\n",
            "Try using .loc[row_indexer,col_indexer] = value instead\n",
            "\n",
            "See the caveats in the documentation: https://pandas.pydata.org/pandas-docs/stable/user_guide/indexing.html#returning-a-view-versus-a-copy\n",
            "  df_plotting['Дата'] = df_plotting['Дата'].dt.strftime(\"%d.%m.%Y\") # временно, снять выделение\n"
          ]
        },
        {
          "name": "stdout",
          "output_type": "stream",
          "text": [
            "save_pic ТТ86\n"
          ]
        },
        {
          "name": "stderr",
          "output_type": "stream",
          "text": [
            "C:\\Users\\user\\AppData\\Local\\Temp\\ipykernel_12576\\1688310086.py:177: DeprecationWarning: ANTIALIAS is deprecated and will be removed in Pillow 10 (2023-07-01). Use Resampling.LANCZOS instead.\n",
            "  original_image.thumbnail(max_size, PIL_Image.ANTIALIAS)\n",
            "C:\\Users\\user\\AppData\\Local\\Temp\\ipykernel_12576\\1688310086.py:80: SettingWithCopyWarning: \n",
            "A value is trying to be set on a copy of a slice from a DataFrame.\n",
            "Try using .loc[row_indexer,col_indexer] = value instead\n",
            "\n",
            "See the caveats in the documentation: https://pandas.pydata.org/pandas-docs/stable/user_guide/indexing.html#returning-a-view-versus-a-copy\n",
            "  df_plotting['Дата'] = df_plotting['Дата'].dt.strftime(\"%d.%m.%Y\") # временно, снять выделение\n"
          ]
        },
        {
          "name": "stdout",
          "output_type": "stream",
          "text": [
            "save_pic ТТ88\n"
          ]
        },
        {
          "name": "stderr",
          "output_type": "stream",
          "text": [
            "C:\\Users\\user\\AppData\\Local\\Temp\\ipykernel_12576\\1688310086.py:177: DeprecationWarning: ANTIALIAS is deprecated and will be removed in Pillow 10 (2023-07-01). Use Resampling.LANCZOS instead.\n",
            "  original_image.thumbnail(max_size, PIL_Image.ANTIALIAS)\n",
            "C:\\Users\\user\\AppData\\Local\\Temp\\ipykernel_12576\\1688310086.py:80: SettingWithCopyWarning: \n",
            "A value is trying to be set on a copy of a slice from a DataFrame.\n",
            "Try using .loc[row_indexer,col_indexer] = value instead\n",
            "\n",
            "See the caveats in the documentation: https://pandas.pydata.org/pandas-docs/stable/user_guide/indexing.html#returning-a-view-versus-a-copy\n",
            "  df_plotting['Дата'] = df_plotting['Дата'].dt.strftime(\"%d.%m.%Y\") # временно, снять выделение\n"
          ]
        },
        {
          "name": "stdout",
          "output_type": "stream",
          "text": [
            "save_pic ТТ89\n"
          ]
        },
        {
          "name": "stderr",
          "output_type": "stream",
          "text": [
            "C:\\Users\\user\\AppData\\Local\\Temp\\ipykernel_12576\\1688310086.py:177: DeprecationWarning: ANTIALIAS is deprecated and will be removed in Pillow 10 (2023-07-01). Use Resampling.LANCZOS instead.\n",
            "  original_image.thumbnail(max_size, PIL_Image.ANTIALIAS)\n",
            "C:\\Users\\user\\AppData\\Local\\Temp\\ipykernel_12576\\1688310086.py:80: SettingWithCopyWarning: \n",
            "A value is trying to be set on a copy of a slice from a DataFrame.\n",
            "Try using .loc[row_indexer,col_indexer] = value instead\n",
            "\n",
            "See the caveats in the documentation: https://pandas.pydata.org/pandas-docs/stable/user_guide/indexing.html#returning-a-view-versus-a-copy\n",
            "  df_plotting['Дата'] = df_plotting['Дата'].dt.strftime(\"%d.%m.%Y\") # временно, снять выделение\n"
          ]
        },
        {
          "name": "stdout",
          "output_type": "stream",
          "text": [
            "save_pic ТТ99\n"
          ]
        },
        {
          "name": "stderr",
          "output_type": "stream",
          "text": [
            "C:\\Users\\user\\AppData\\Local\\Temp\\ipykernel_12576\\1688310086.py:177: DeprecationWarning: ANTIALIAS is deprecated and will be removed in Pillow 10 (2023-07-01). Use Resampling.LANCZOS instead.\n",
            "  original_image.thumbnail(max_size, PIL_Image.ANTIALIAS)\n",
            "C:\\Users\\user\\AppData\\Local\\Temp\\ipykernel_12576\\1688310086.py:80: SettingWithCopyWarning: \n",
            "A value is trying to be set on a copy of a slice from a DataFrame.\n",
            "Try using .loc[row_indexer,col_indexer] = value instead\n",
            "\n",
            "See the caveats in the documentation: https://pandas.pydata.org/pandas-docs/stable/user_guide/indexing.html#returning-a-view-versus-a-copy\n",
            "  df_plotting['Дата'] = df_plotting['Дата'].dt.strftime(\"%d.%m.%Y\") # временно, снять выделение\n"
          ]
        },
        {
          "name": "stdout",
          "output_type": "stream",
          "text": [
            "save_pic ТТ100\n"
          ]
        },
        {
          "name": "stderr",
          "output_type": "stream",
          "text": [
            "C:\\Users\\user\\AppData\\Local\\Temp\\ipykernel_12576\\1688310086.py:177: DeprecationWarning: ANTIALIAS is deprecated and will be removed in Pillow 10 (2023-07-01). Use Resampling.LANCZOS instead.\n",
            "  original_image.thumbnail(max_size, PIL_Image.ANTIALIAS)\n",
            "C:\\Users\\user\\AppData\\Local\\Temp\\ipykernel_12576\\1688310086.py:80: SettingWithCopyWarning: \n",
            "A value is trying to be set on a copy of a slice from a DataFrame.\n",
            "Try using .loc[row_indexer,col_indexer] = value instead\n",
            "\n",
            "See the caveats in the documentation: https://pandas.pydata.org/pandas-docs/stable/user_guide/indexing.html#returning-a-view-versus-a-copy\n",
            "  df_plotting['Дата'] = df_plotting['Дата'].dt.strftime(\"%d.%m.%Y\") # временно, снять выделение\n"
          ]
        },
        {
          "name": "stdout",
          "output_type": "stream",
          "text": [
            "save_pic ТТ252\n"
          ]
        },
        {
          "name": "stderr",
          "output_type": "stream",
          "text": [
            "C:\\Users\\user\\AppData\\Local\\Temp\\ipykernel_12576\\1688310086.py:177: DeprecationWarning: ANTIALIAS is deprecated and will be removed in Pillow 10 (2023-07-01). Use Resampling.LANCZOS instead.\n",
            "  original_image.thumbnail(max_size, PIL_Image.ANTIALIAS)\n",
            "C:\\Users\\user\\AppData\\Local\\Temp\\ipykernel_12576\\1688310086.py:80: SettingWithCopyWarning: \n",
            "A value is trying to be set on a copy of a slice from a DataFrame.\n",
            "Try using .loc[row_indexer,col_indexer] = value instead\n",
            "\n",
            "See the caveats in the documentation: https://pandas.pydata.org/pandas-docs/stable/user_guide/indexing.html#returning-a-view-versus-a-copy\n",
            "  df_plotting['Дата'] = df_plotting['Дата'].dt.strftime(\"%d.%m.%Y\") # временно, снять выделение\n"
          ]
        },
        {
          "name": "stdout",
          "output_type": "stream",
          "text": [
            "save_pic ТТ103\n"
          ]
        },
        {
          "name": "stderr",
          "output_type": "stream",
          "text": [
            "C:\\Users\\user\\AppData\\Local\\Temp\\ipykernel_12576\\1688310086.py:177: DeprecationWarning: ANTIALIAS is deprecated and will be removed in Pillow 10 (2023-07-01). Use Resampling.LANCZOS instead.\n",
            "  original_image.thumbnail(max_size, PIL_Image.ANTIALIAS)\n",
            "C:\\Users\\user\\AppData\\Local\\Temp\\ipykernel_12576\\1688310086.py:80: SettingWithCopyWarning: \n",
            "A value is trying to be set on a copy of a slice from a DataFrame.\n",
            "Try using .loc[row_indexer,col_indexer] = value instead\n",
            "\n",
            "See the caveats in the documentation: https://pandas.pydata.org/pandas-docs/stable/user_guide/indexing.html#returning-a-view-versus-a-copy\n",
            "  df_plotting['Дата'] = df_plotting['Дата'].dt.strftime(\"%d.%m.%Y\") # временно, снять выделение\n"
          ]
        },
        {
          "name": "stdout",
          "output_type": "stream",
          "text": [
            "save_pic ТТ108\n"
          ]
        },
        {
          "name": "stderr",
          "output_type": "stream",
          "text": [
            "C:\\Users\\user\\AppData\\Local\\Temp\\ipykernel_12576\\1688310086.py:177: DeprecationWarning: ANTIALIAS is deprecated and will be removed in Pillow 10 (2023-07-01). Use Resampling.LANCZOS instead.\n",
            "  original_image.thumbnail(max_size, PIL_Image.ANTIALIAS)\n",
            "C:\\Users\\user\\AppData\\Local\\Temp\\ipykernel_12576\\1688310086.py:80: SettingWithCopyWarning: \n",
            "A value is trying to be set on a copy of a slice from a DataFrame.\n",
            "Try using .loc[row_indexer,col_indexer] = value instead\n",
            "\n",
            "See the caveats in the documentation: https://pandas.pydata.org/pandas-docs/stable/user_guide/indexing.html#returning-a-view-versus-a-copy\n",
            "  df_plotting['Дата'] = df_plotting['Дата'].dt.strftime(\"%d.%m.%Y\") # временно, снять выделение\n"
          ]
        },
        {
          "name": "stdout",
          "output_type": "stream",
          "text": [
            "save_pic ТТ253\n"
          ]
        },
        {
          "name": "stderr",
          "output_type": "stream",
          "text": [
            "C:\\Users\\user\\AppData\\Local\\Temp\\ipykernel_12576\\1688310086.py:177: DeprecationWarning: ANTIALIAS is deprecated and will be removed in Pillow 10 (2023-07-01). Use Resampling.LANCZOS instead.\n",
            "  original_image.thumbnail(max_size, PIL_Image.ANTIALIAS)\n",
            "C:\\Users\\user\\AppData\\Local\\Temp\\ipykernel_12576\\1688310086.py:80: SettingWithCopyWarning: \n",
            "A value is trying to be set on a copy of a slice from a DataFrame.\n",
            "Try using .loc[row_indexer,col_indexer] = value instead\n",
            "\n",
            "See the caveats in the documentation: https://pandas.pydata.org/pandas-docs/stable/user_guide/indexing.html#returning-a-view-versus-a-copy\n",
            "  df_plotting['Дата'] = df_plotting['Дата'].dt.strftime(\"%d.%m.%Y\") # временно, снять выделение\n"
          ]
        },
        {
          "name": "stdout",
          "output_type": "stream",
          "text": [
            "save_pic ТТ109\n"
          ]
        },
        {
          "name": "stderr",
          "output_type": "stream",
          "text": [
            "C:\\Users\\user\\AppData\\Local\\Temp\\ipykernel_12576\\1688310086.py:177: DeprecationWarning: ANTIALIAS is deprecated and will be removed in Pillow 10 (2023-07-01). Use Resampling.LANCZOS instead.\n",
            "  original_image.thumbnail(max_size, PIL_Image.ANTIALIAS)\n",
            "C:\\Users\\user\\AppData\\Local\\Temp\\ipykernel_12576\\1688310086.py:80: SettingWithCopyWarning: \n",
            "A value is trying to be set on a copy of a slice from a DataFrame.\n",
            "Try using .loc[row_indexer,col_indexer] = value instead\n",
            "\n",
            "See the caveats in the documentation: https://pandas.pydata.org/pandas-docs/stable/user_guide/indexing.html#returning-a-view-versus-a-copy\n",
            "  df_plotting['Дата'] = df_plotting['Дата'].dt.strftime(\"%d.%m.%Y\") # временно, снять выделение\n"
          ]
        },
        {
          "name": "stdout",
          "output_type": "stream",
          "text": [
            "save_pic ТТ110\n"
          ]
        },
        {
          "name": "stderr",
          "output_type": "stream",
          "text": [
            "C:\\Users\\user\\AppData\\Local\\Temp\\ipykernel_12576\\1688310086.py:177: DeprecationWarning: ANTIALIAS is deprecated and will be removed in Pillow 10 (2023-07-01). Use Resampling.LANCZOS instead.\n",
            "  original_image.thumbnail(max_size, PIL_Image.ANTIALIAS)\n",
            "C:\\Users\\user\\AppData\\Local\\Temp\\ipykernel_12576\\1688310086.py:80: SettingWithCopyWarning: \n",
            "A value is trying to be set on a copy of a slice from a DataFrame.\n",
            "Try using .loc[row_indexer,col_indexer] = value instead\n",
            "\n",
            "See the caveats in the documentation: https://pandas.pydata.org/pandas-docs/stable/user_guide/indexing.html#returning-a-view-versus-a-copy\n",
            "  df_plotting['Дата'] = df_plotting['Дата'].dt.strftime(\"%d.%m.%Y\") # временно, снять выделение\n"
          ]
        },
        {
          "name": "stdout",
          "output_type": "stream",
          "text": [
            "save_pic ТТ157\n"
          ]
        },
        {
          "name": "stderr",
          "output_type": "stream",
          "text": [
            "C:\\Users\\user\\AppData\\Local\\Temp\\ipykernel_12576\\1688310086.py:177: DeprecationWarning: ANTIALIAS is deprecated and will be removed in Pillow 10 (2023-07-01). Use Resampling.LANCZOS instead.\n",
            "  original_image.thumbnail(max_size, PIL_Image.ANTIALIAS)\n",
            "C:\\Users\\user\\AppData\\Local\\Temp\\ipykernel_12576\\1688310086.py:80: SettingWithCopyWarning: \n",
            "A value is trying to be set on a copy of a slice from a DataFrame.\n",
            "Try using .loc[row_indexer,col_indexer] = value instead\n",
            "\n",
            "See the caveats in the documentation: https://pandas.pydata.org/pandas-docs/stable/user_guide/indexing.html#returning-a-view-versus-a-copy\n",
            "  df_plotting['Дата'] = df_plotting['Дата'].dt.strftime(\"%d.%m.%Y\") # временно, снять выделение\n"
          ]
        },
        {
          "name": "stdout",
          "output_type": "stream",
          "text": [
            "save_pic ТТ158\n"
          ]
        },
        {
          "name": "stderr",
          "output_type": "stream",
          "text": [
            "C:\\Users\\user\\AppData\\Local\\Temp\\ipykernel_12576\\1688310086.py:182: DeprecationWarning: ANTIALIAS is deprecated and will be removed in Pillow 10 (2023-07-01). Use Resampling.LANCZOS instead.\n",
            "  original_image = original_image.resize((width, h2), PIL_Image.ANTIALIAS)\n",
            "C:\\Users\\user\\AppData\\Local\\Temp\\ipykernel_12576\\1688310086.py:80: SettingWithCopyWarning: \n",
            "A value is trying to be set on a copy of a slice from a DataFrame.\n",
            "Try using .loc[row_indexer,col_indexer] = value instead\n",
            "\n",
            "See the caveats in the documentation: https://pandas.pydata.org/pandas-docs/stable/user_guide/indexing.html#returning-a-view-versus-a-copy\n",
            "  df_plotting['Дата'] = df_plotting['Дата'].dt.strftime(\"%d.%m.%Y\") # временно, снять выделение\n"
          ]
        },
        {
          "name": "stdout",
          "output_type": "stream",
          "text": [
            "save_pic ТТ160\n"
          ]
        },
        {
          "name": "stderr",
          "output_type": "stream",
          "text": [
            "C:\\Users\\user\\AppData\\Local\\Temp\\ipykernel_12576\\1688310086.py:177: DeprecationWarning: ANTIALIAS is deprecated and will be removed in Pillow 10 (2023-07-01). Use Resampling.LANCZOS instead.\n",
            "  original_image.thumbnail(max_size, PIL_Image.ANTIALIAS)\n",
            "C:\\Users\\user\\AppData\\Local\\Temp\\ipykernel_12576\\1688310086.py:80: SettingWithCopyWarning: \n",
            "A value is trying to be set on a copy of a slice from a DataFrame.\n",
            "Try using .loc[row_indexer,col_indexer] = value instead\n",
            "\n",
            "See the caveats in the documentation: https://pandas.pydata.org/pandas-docs/stable/user_guide/indexing.html#returning-a-view-versus-a-copy\n",
            "  df_plotting['Дата'] = df_plotting['Дата'].dt.strftime(\"%d.%m.%Y\") # временно, снять выделение\n"
          ]
        },
        {
          "name": "stdout",
          "output_type": "stream",
          "text": [
            "save_pic ТТ161\n"
          ]
        },
        {
          "name": "stderr",
          "output_type": "stream",
          "text": [
            "C:\\Users\\user\\AppData\\Local\\Temp\\ipykernel_12576\\1688310086.py:182: DeprecationWarning: ANTIALIAS is deprecated and will be removed in Pillow 10 (2023-07-01). Use Resampling.LANCZOS instead.\n",
            "  original_image = original_image.resize((width, h2), PIL_Image.ANTIALIAS)\n",
            "C:\\Users\\user\\AppData\\Local\\Temp\\ipykernel_12576\\1688310086.py:80: SettingWithCopyWarning: \n",
            "A value is trying to be set on a copy of a slice from a DataFrame.\n",
            "Try using .loc[row_indexer,col_indexer] = value instead\n",
            "\n",
            "See the caveats in the documentation: https://pandas.pydata.org/pandas-docs/stable/user_guide/indexing.html#returning-a-view-versus-a-copy\n",
            "  df_plotting['Дата'] = df_plotting['Дата'].dt.strftime(\"%d.%m.%Y\") # временно, снять выделение\n"
          ]
        },
        {
          "name": "stdout",
          "output_type": "stream",
          "text": [
            "save_pic ТТ152\n"
          ]
        },
        {
          "name": "stderr",
          "output_type": "stream",
          "text": [
            "C:\\Users\\user\\AppData\\Local\\Temp\\ipykernel_12576\\1688310086.py:177: DeprecationWarning: ANTIALIAS is deprecated and will be removed in Pillow 10 (2023-07-01). Use Resampling.LANCZOS instead.\n",
            "  original_image.thumbnail(max_size, PIL_Image.ANTIALIAS)\n",
            "C:\\Users\\user\\AppData\\Local\\Temp\\ipykernel_12576\\1688310086.py:80: SettingWithCopyWarning: \n",
            "A value is trying to be set on a copy of a slice from a DataFrame.\n",
            "Try using .loc[row_indexer,col_indexer] = value instead\n",
            "\n",
            "See the caveats in the documentation: https://pandas.pydata.org/pandas-docs/stable/user_guide/indexing.html#returning-a-view-versus-a-copy\n",
            "  df_plotting['Дата'] = df_plotting['Дата'].dt.strftime(\"%d.%m.%Y\") # временно, снять выделение\n"
          ]
        },
        {
          "name": "stdout",
          "output_type": "stream",
          "text": [
            "save_pic ТТ129\n"
          ]
        },
        {
          "name": "stderr",
          "output_type": "stream",
          "text": [
            "C:\\Users\\user\\AppData\\Local\\Temp\\ipykernel_12576\\1688310086.py:177: DeprecationWarning: ANTIALIAS is deprecated and will be removed in Pillow 10 (2023-07-01). Use Resampling.LANCZOS instead.\n",
            "  original_image.thumbnail(max_size, PIL_Image.ANTIALIAS)\n",
            "C:\\Users\\user\\AppData\\Local\\Temp\\ipykernel_12576\\1688310086.py:80: SettingWithCopyWarning: \n",
            "A value is trying to be set on a copy of a slice from a DataFrame.\n",
            "Try using .loc[row_indexer,col_indexer] = value instead\n",
            "\n",
            "See the caveats in the documentation: https://pandas.pydata.org/pandas-docs/stable/user_guide/indexing.html#returning-a-view-versus-a-copy\n",
            "  df_plotting['Дата'] = df_plotting['Дата'].dt.strftime(\"%d.%m.%Y\") # временно, снять выделение\n"
          ]
        },
        {
          "name": "stdout",
          "output_type": "stream",
          "text": [
            "save_pic ТТ261\n"
          ]
        },
        {
          "name": "stderr",
          "output_type": "stream",
          "text": [
            "C:\\Users\\user\\AppData\\Local\\Temp\\ipykernel_12576\\1688310086.py:177: DeprecationWarning: ANTIALIAS is deprecated and will be removed in Pillow 10 (2023-07-01). Use Resampling.LANCZOS instead.\n",
            "  original_image.thumbnail(max_size, PIL_Image.ANTIALIAS)\n",
            "C:\\Users\\user\\AppData\\Local\\Temp\\ipykernel_12576\\1688310086.py:80: SettingWithCopyWarning: \n",
            "A value is trying to be set on a copy of a slice from a DataFrame.\n",
            "Try using .loc[row_indexer,col_indexer] = value instead\n",
            "\n",
            "See the caveats in the documentation: https://pandas.pydata.org/pandas-docs/stable/user_guide/indexing.html#returning-a-view-versus-a-copy\n",
            "  df_plotting['Дата'] = df_plotting['Дата'].dt.strftime(\"%d.%m.%Y\") # временно, снять выделение\n"
          ]
        },
        {
          "name": "stdout",
          "output_type": "stream",
          "text": [
            "save_pic ТТ131\n"
          ]
        },
        {
          "name": "stderr",
          "output_type": "stream",
          "text": [
            "C:\\Users\\user\\AppData\\Local\\Temp\\ipykernel_12576\\1688310086.py:177: DeprecationWarning: ANTIALIAS is deprecated and will be removed in Pillow 10 (2023-07-01). Use Resampling.LANCZOS instead.\n",
            "  original_image.thumbnail(max_size, PIL_Image.ANTIALIAS)\n",
            "C:\\Users\\user\\AppData\\Local\\Temp\\ipykernel_12576\\1688310086.py:80: SettingWithCopyWarning: \n",
            "A value is trying to be set on a copy of a slice from a DataFrame.\n",
            "Try using .loc[row_indexer,col_indexer] = value instead\n",
            "\n",
            "See the caveats in the documentation: https://pandas.pydata.org/pandas-docs/stable/user_guide/indexing.html#returning-a-view-versus-a-copy\n",
            "  df_plotting['Дата'] = df_plotting['Дата'].dt.strftime(\"%d.%m.%Y\") # временно, снять выделение\n"
          ]
        },
        {
          "name": "stdout",
          "output_type": "stream",
          "text": [
            "save_pic ТТ83\n"
          ]
        },
        {
          "name": "stderr",
          "output_type": "stream",
          "text": [
            "C:\\Users\\user\\AppData\\Local\\Temp\\ipykernel_12576\\1688310086.py:182: DeprecationWarning: ANTIALIAS is deprecated and will be removed in Pillow 10 (2023-07-01). Use Resampling.LANCZOS instead.\n",
            "  original_image = original_image.resize((width, h2), PIL_Image.ANTIALIAS)\n",
            "C:\\Users\\user\\AppData\\Local\\Temp\\ipykernel_12576\\1688310086.py:80: SettingWithCopyWarning: \n",
            "A value is trying to be set on a copy of a slice from a DataFrame.\n",
            "Try using .loc[row_indexer,col_indexer] = value instead\n",
            "\n",
            "See the caveats in the documentation: https://pandas.pydata.org/pandas-docs/stable/user_guide/indexing.html#returning-a-view-versus-a-copy\n",
            "  df_plotting['Дата'] = df_plotting['Дата'].dt.strftime(\"%d.%m.%Y\") # временно, снять выделение\n"
          ]
        },
        {
          "name": "stdout",
          "output_type": "stream",
          "text": [
            "save_pic ТТ75\n"
          ]
        },
        {
          "name": "stderr",
          "output_type": "stream",
          "text": [
            "C:\\Users\\user\\AppData\\Local\\Temp\\ipykernel_12576\\1688310086.py:182: DeprecationWarning: ANTIALIAS is deprecated and will be removed in Pillow 10 (2023-07-01). Use Resampling.LANCZOS instead.\n",
            "  original_image = original_image.resize((width, h2), PIL_Image.ANTIALIAS)\n",
            "C:\\Users\\user\\AppData\\Local\\Temp\\ipykernel_12576\\1688310086.py:80: SettingWithCopyWarning: \n",
            "A value is trying to be set on a copy of a slice from a DataFrame.\n",
            "Try using .loc[row_indexer,col_indexer] = value instead\n",
            "\n",
            "See the caveats in the documentation: https://pandas.pydata.org/pandas-docs/stable/user_guide/indexing.html#returning-a-view-versus-a-copy\n",
            "  df_plotting['Дата'] = df_plotting['Дата'].dt.strftime(\"%d.%m.%Y\") # временно, снять выделение\n"
          ]
        },
        {
          "name": "stdout",
          "output_type": "stream",
          "text": [
            "save_pic ТТ34\n"
          ]
        },
        {
          "name": "stderr",
          "output_type": "stream",
          "text": [
            "C:\\Users\\user\\AppData\\Local\\Temp\\ipykernel_12576\\1688310086.py:182: DeprecationWarning: ANTIALIAS is deprecated and will be removed in Pillow 10 (2023-07-01). Use Resampling.LANCZOS instead.\n",
            "  original_image = original_image.resize((width, h2), PIL_Image.ANTIALIAS)\n",
            "C:\\Users\\user\\AppData\\Local\\Temp\\ipykernel_12576\\1688310086.py:80: SettingWithCopyWarning: \n",
            "A value is trying to be set on a copy of a slice from a DataFrame.\n",
            "Try using .loc[row_indexer,col_indexer] = value instead\n",
            "\n",
            "See the caveats in the documentation: https://pandas.pydata.org/pandas-docs/stable/user_guide/indexing.html#returning-a-view-versus-a-copy\n",
            "  df_plotting['Дата'] = df_plotting['Дата'].dt.strftime(\"%d.%m.%Y\") # временно, снять выделение\n"
          ]
        },
        {
          "name": "stdout",
          "output_type": "stream",
          "text": [
            "save_pic ТТ166\n"
          ]
        },
        {
          "name": "stderr",
          "output_type": "stream",
          "text": [
            "C:\\Users\\user\\AppData\\Local\\Temp\\ipykernel_12576\\1688310086.py:182: DeprecationWarning: ANTIALIAS is deprecated and will be removed in Pillow 10 (2023-07-01). Use Resampling.LANCZOS instead.\n",
            "  original_image = original_image.resize((width, h2), PIL_Image.ANTIALIAS)\n",
            "C:\\Users\\user\\AppData\\Local\\Temp\\ipykernel_12576\\1688310086.py:80: SettingWithCopyWarning: \n",
            "A value is trying to be set on a copy of a slice from a DataFrame.\n",
            "Try using .loc[row_indexer,col_indexer] = value instead\n",
            "\n",
            "See the caveats in the documentation: https://pandas.pydata.org/pandas-docs/stable/user_guide/indexing.html#returning-a-view-versus-a-copy\n",
            "  df_plotting['Дата'] = df_plotting['Дата'].dt.strftime(\"%d.%m.%Y\") # временно, снять выделение\n",
            "C:\\Users\\user\\AppData\\Local\\Temp\\ipykernel_12576\\1688310086.py:182: DeprecationWarning: ANTIALIAS is deprecated and will be removed in Pillow 10 (2023-07-01). Use Resampling.LANCZOS instead.\n",
            "  original_image = original_image.resize((width, h2), PIL_Image.ANTIALIAS)\n"
          ]
        },
        {
          "name": "stdout",
          "output_type": "stream",
          "text": [
            "save_pic ТТ169\n"
          ]
        },
        {
          "name": "stderr",
          "output_type": "stream",
          "text": [
            "C:\\Users\\user\\AppData\\Local\\Temp\\ipykernel_12576\\1688310086.py:80: SettingWithCopyWarning: \n",
            "A value is trying to be set on a copy of a slice from a DataFrame.\n",
            "Try using .loc[row_indexer,col_indexer] = value instead\n",
            "\n",
            "See the caveats in the documentation: https://pandas.pydata.org/pandas-docs/stable/user_guide/indexing.html#returning-a-view-versus-a-copy\n",
            "  df_plotting['Дата'] = df_plotting['Дата'].dt.strftime(\"%d.%m.%Y\") # временно, снять выделение\n"
          ]
        },
        {
          "name": "stdout",
          "output_type": "stream",
          "text": [
            "save_pic ТТ205\n"
          ]
        },
        {
          "name": "stderr",
          "output_type": "stream",
          "text": [
            "C:\\Users\\user\\AppData\\Local\\Temp\\ipykernel_12576\\1688310086.py:177: DeprecationWarning: ANTIALIAS is deprecated and will be removed in Pillow 10 (2023-07-01). Use Resampling.LANCZOS instead.\n",
            "  original_image.thumbnail(max_size, PIL_Image.ANTIALIAS)\n",
            "C:\\Users\\user\\AppData\\Local\\Temp\\ipykernel_12576\\1688310086.py:80: SettingWithCopyWarning: \n",
            "A value is trying to be set on a copy of a slice from a DataFrame.\n",
            "Try using .loc[row_indexer,col_indexer] = value instead\n",
            "\n",
            "See the caveats in the documentation: https://pandas.pydata.org/pandas-docs/stable/user_guide/indexing.html#returning-a-view-versus-a-copy\n",
            "  df_plotting['Дата'] = df_plotting['Дата'].dt.strftime(\"%d.%m.%Y\") # временно, снять выделение\n"
          ]
        },
        {
          "name": "stdout",
          "output_type": "stream",
          "text": [
            "save_pic ТТ9\n"
          ]
        },
        {
          "name": "stderr",
          "output_type": "stream",
          "text": [
            "C:\\Users\\user\\AppData\\Local\\Temp\\ipykernel_12576\\1688310086.py:182: DeprecationWarning: ANTIALIAS is deprecated and will be removed in Pillow 10 (2023-07-01). Use Resampling.LANCZOS instead.\n",
            "  original_image = original_image.resize((width, h2), PIL_Image.ANTIALIAS)\n",
            "C:\\Users\\user\\AppData\\Local\\Temp\\ipykernel_12576\\1688310086.py:80: SettingWithCopyWarning: \n",
            "A value is trying to be set on a copy of a slice from a DataFrame.\n",
            "Try using .loc[row_indexer,col_indexer] = value instead\n",
            "\n",
            "See the caveats in the documentation: https://pandas.pydata.org/pandas-docs/stable/user_guide/indexing.html#returning-a-view-versus-a-copy\n",
            "  df_plotting['Дата'] = df_plotting['Дата'].dt.strftime(\"%d.%m.%Y\") # временно, снять выделение\n"
          ]
        },
        {
          "name": "stdout",
          "output_type": "stream",
          "text": [
            "save_pic ТТ209\n"
          ]
        },
        {
          "name": "stderr",
          "output_type": "stream",
          "text": [
            "C:\\Users\\user\\AppData\\Local\\Temp\\ipykernel_12576\\1688310086.py:177: DeprecationWarning: ANTIALIAS is deprecated and will be removed in Pillow 10 (2023-07-01). Use Resampling.LANCZOS instead.\n",
            "  original_image.thumbnail(max_size, PIL_Image.ANTIALIAS)\n",
            "C:\\Users\\user\\AppData\\Local\\Temp\\ipykernel_12576\\1688310086.py:80: SettingWithCopyWarning: \n",
            "A value is trying to be set on a copy of a slice from a DataFrame.\n",
            "Try using .loc[row_indexer,col_indexer] = value instead\n",
            "\n",
            "See the caveats in the documentation: https://pandas.pydata.org/pandas-docs/stable/user_guide/indexing.html#returning-a-view-versus-a-copy\n",
            "  df_plotting['Дата'] = df_plotting['Дата'].dt.strftime(\"%d.%m.%Y\") # временно, снять выделение\n"
          ]
        },
        {
          "name": "stdout",
          "output_type": "stream",
          "text": [
            "save_pic ТТ210\n"
          ]
        },
        {
          "name": "stderr",
          "output_type": "stream",
          "text": [
            "C:\\Users\\user\\AppData\\Local\\Temp\\ipykernel_12576\\1688310086.py:177: DeprecationWarning: ANTIALIAS is deprecated and will be removed in Pillow 10 (2023-07-01). Use Resampling.LANCZOS instead.\n",
            "  original_image.thumbnail(max_size, PIL_Image.ANTIALIAS)\n",
            "C:\\Users\\user\\AppData\\Local\\Temp\\ipykernel_12576\\1688310086.py:80: SettingWithCopyWarning: \n",
            "A value is trying to be set on a copy of a slice from a DataFrame.\n",
            "Try using .loc[row_indexer,col_indexer] = value instead\n",
            "\n",
            "See the caveats in the documentation: https://pandas.pydata.org/pandas-docs/stable/user_guide/indexing.html#returning-a-view-versus-a-copy\n",
            "  df_plotting['Дата'] = df_plotting['Дата'].dt.strftime(\"%d.%m.%Y\") # временно, снять выделение\n"
          ]
        },
        {
          "name": "stdout",
          "output_type": "stream",
          "text": [
            "save_pic ТТ266\n"
          ]
        },
        {
          "name": "stderr",
          "output_type": "stream",
          "text": [
            "C:\\Users\\user\\AppData\\Local\\Temp\\ipykernel_12576\\1688310086.py:177: DeprecationWarning: ANTIALIAS is deprecated and will be removed in Pillow 10 (2023-07-01). Use Resampling.LANCZOS instead.\n",
            "  original_image.thumbnail(max_size, PIL_Image.ANTIALIAS)\n",
            "C:\\Users\\user\\AppData\\Local\\Temp\\ipykernel_12576\\1688310086.py:80: SettingWithCopyWarning: \n",
            "A value is trying to be set on a copy of a slice from a DataFrame.\n",
            "Try using .loc[row_indexer,col_indexer] = value instead\n",
            "\n",
            "See the caveats in the documentation: https://pandas.pydata.org/pandas-docs/stable/user_guide/indexing.html#returning-a-view-versus-a-copy\n",
            "  df_plotting['Дата'] = df_plotting['Дата'].dt.strftime(\"%d.%m.%Y\") # временно, снять выделение\n"
          ]
        },
        {
          "name": "stdout",
          "output_type": "stream",
          "text": [
            "save_pic ТТ7\n"
          ]
        },
        {
          "name": "stderr",
          "output_type": "stream",
          "text": [
            "C:\\Users\\user\\AppData\\Local\\Temp\\ipykernel_12576\\1688310086.py:177: DeprecationWarning: ANTIALIAS is deprecated and will be removed in Pillow 10 (2023-07-01). Use Resampling.LANCZOS instead.\n",
            "  original_image.thumbnail(max_size, PIL_Image.ANTIALIAS)\n",
            "C:\\Users\\user\\AppData\\Local\\Temp\\ipykernel_12576\\1688310086.py:80: SettingWithCopyWarning: \n",
            "A value is trying to be set on a copy of a slice from a DataFrame.\n",
            "Try using .loc[row_indexer,col_indexer] = value instead\n",
            "\n",
            "See the caveats in the documentation: https://pandas.pydata.org/pandas-docs/stable/user_guide/indexing.html#returning-a-view-versus-a-copy\n",
            "  df_plotting['Дата'] = df_plotting['Дата'].dt.strftime(\"%d.%m.%Y\") # временно, снять выделение\n"
          ]
        },
        {
          "name": "stdout",
          "output_type": "stream",
          "text": [
            "save_pic ТТ17\n"
          ]
        },
        {
          "name": "stderr",
          "output_type": "stream",
          "text": [
            "C:\\Users\\user\\AppData\\Local\\Temp\\ipykernel_12576\\1688310086.py:177: DeprecationWarning: ANTIALIAS is deprecated and will be removed in Pillow 10 (2023-07-01). Use Resampling.LANCZOS instead.\n",
            "  original_image.thumbnail(max_size, PIL_Image.ANTIALIAS)\n",
            "C:\\Users\\user\\AppData\\Local\\Temp\\ipykernel_12576\\1688310086.py:80: SettingWithCopyWarning: \n",
            "A value is trying to be set on a copy of a slice from a DataFrame.\n",
            "Try using .loc[row_indexer,col_indexer] = value instead\n",
            "\n",
            "See the caveats in the documentation: https://pandas.pydata.org/pandas-docs/stable/user_guide/indexing.html#returning-a-view-versus-a-copy\n",
            "  df_plotting['Дата'] = df_plotting['Дата'].dt.strftime(\"%d.%m.%Y\") # временно, снять выделение\n"
          ]
        },
        {
          "name": "stdout",
          "output_type": "stream",
          "text": [
            "save_pic ТТ21\n"
          ]
        },
        {
          "name": "stderr",
          "output_type": "stream",
          "text": [
            "C:\\Users\\user\\AppData\\Local\\Temp\\ipykernel_12576\\1688310086.py:177: DeprecationWarning: ANTIALIAS is deprecated and will be removed in Pillow 10 (2023-07-01). Use Resampling.LANCZOS instead.\n",
            "  original_image.thumbnail(max_size, PIL_Image.ANTIALIAS)\n",
            "C:\\Users\\user\\AppData\\Local\\Temp\\ipykernel_12576\\1688310086.py:80: SettingWithCopyWarning: \n",
            "A value is trying to be set on a copy of a slice from a DataFrame.\n",
            "Try using .loc[row_indexer,col_indexer] = value instead\n",
            "\n",
            "See the caveats in the documentation: https://pandas.pydata.org/pandas-docs/stable/user_guide/indexing.html#returning-a-view-versus-a-copy\n",
            "  df_plotting['Дата'] = df_plotting['Дата'].dt.strftime(\"%d.%m.%Y\") # временно, снять выделение\n"
          ]
        },
        {
          "name": "stdout",
          "output_type": "stream",
          "text": [
            "save_pic ТТ22\n"
          ]
        },
        {
          "name": "stderr",
          "output_type": "stream",
          "text": [
            "C:\\Users\\user\\AppData\\Local\\Temp\\ipykernel_12576\\1688310086.py:177: DeprecationWarning: ANTIALIAS is deprecated and will be removed in Pillow 10 (2023-07-01). Use Resampling.LANCZOS instead.\n",
            "  original_image.thumbnail(max_size, PIL_Image.ANTIALIAS)\n",
            "C:\\Users\\user\\AppData\\Local\\Temp\\ipykernel_12576\\1688310086.py:80: SettingWithCopyWarning: \n",
            "A value is trying to be set on a copy of a slice from a DataFrame.\n",
            "Try using .loc[row_indexer,col_indexer] = value instead\n",
            "\n",
            "See the caveats in the documentation: https://pandas.pydata.org/pandas-docs/stable/user_guide/indexing.html#returning-a-view-versus-a-copy\n",
            "  df_plotting['Дата'] = df_plotting['Дата'].dt.strftime(\"%d.%m.%Y\") # временно, снять выделение\n"
          ]
        },
        {
          "name": "stdout",
          "output_type": "stream",
          "text": [
            "save_pic ТТ23\n"
          ]
        },
        {
          "name": "stderr",
          "output_type": "stream",
          "text": [
            "C:\\Users\\user\\AppData\\Local\\Temp\\ipykernel_12576\\1688310086.py:177: DeprecationWarning: ANTIALIAS is deprecated and will be removed in Pillow 10 (2023-07-01). Use Resampling.LANCZOS instead.\n",
            "  original_image.thumbnail(max_size, PIL_Image.ANTIALIAS)\n",
            "C:\\Users\\user\\AppData\\Local\\Temp\\ipykernel_12576\\1688310086.py:80: SettingWithCopyWarning: \n",
            "A value is trying to be set on a copy of a slice from a DataFrame.\n",
            "Try using .loc[row_indexer,col_indexer] = value instead\n",
            "\n",
            "See the caveats in the documentation: https://pandas.pydata.org/pandas-docs/stable/user_guide/indexing.html#returning-a-view-versus-a-copy\n",
            "  df_plotting['Дата'] = df_plotting['Дата'].dt.strftime(\"%d.%m.%Y\") # временно, снять выделение\n"
          ]
        },
        {
          "name": "stdout",
          "output_type": "stream",
          "text": [
            "save_pic ТТ20\n"
          ]
        },
        {
          "name": "stderr",
          "output_type": "stream",
          "text": [
            "C:\\Users\\user\\AppData\\Local\\Temp\\ipykernel_12576\\1688310086.py:177: DeprecationWarning: ANTIALIAS is deprecated and will be removed in Pillow 10 (2023-07-01). Use Resampling.LANCZOS instead.\n",
            "  original_image.thumbnail(max_size, PIL_Image.ANTIALIAS)\n",
            "C:\\Users\\user\\AppData\\Local\\Temp\\ipykernel_12576\\1688310086.py:80: SettingWithCopyWarning: \n",
            "A value is trying to be set on a copy of a slice from a DataFrame.\n",
            "Try using .loc[row_indexer,col_indexer] = value instead\n",
            "\n",
            "See the caveats in the documentation: https://pandas.pydata.org/pandas-docs/stable/user_guide/indexing.html#returning-a-view-versus-a-copy\n",
            "  df_plotting['Дата'] = df_plotting['Дата'].dt.strftime(\"%d.%m.%Y\") # временно, снять выделение\n"
          ]
        },
        {
          "name": "stdout",
          "output_type": "stream",
          "text": [
            "save_pic ТТ49\n"
          ]
        },
        {
          "name": "stderr",
          "output_type": "stream",
          "text": [
            "C:\\Users\\user\\AppData\\Local\\Temp\\ipykernel_12576\\1688310086.py:177: DeprecationWarning: ANTIALIAS is deprecated and will be removed in Pillow 10 (2023-07-01). Use Resampling.LANCZOS instead.\n",
            "  original_image.thumbnail(max_size, PIL_Image.ANTIALIAS)\n",
            "C:\\Users\\user\\AppData\\Local\\Temp\\ipykernel_12576\\1688310086.py:80: SettingWithCopyWarning: \n",
            "A value is trying to be set on a copy of a slice from a DataFrame.\n",
            "Try using .loc[row_indexer,col_indexer] = value instead\n",
            "\n",
            "See the caveats in the documentation: https://pandas.pydata.org/pandas-docs/stable/user_guide/indexing.html#returning-a-view-versus-a-copy\n",
            "  df_plotting['Дата'] = df_plotting['Дата'].dt.strftime(\"%d.%m.%Y\") # временно, снять выделение\n"
          ]
        },
        {
          "name": "stdout",
          "output_type": "stream",
          "text": [
            "save_pic ТТ65\n"
          ]
        },
        {
          "name": "stderr",
          "output_type": "stream",
          "text": [
            "C:\\Users\\user\\AppData\\Local\\Temp\\ipykernel_12576\\1688310086.py:177: DeprecationWarning: ANTIALIAS is deprecated and will be removed in Pillow 10 (2023-07-01). Use Resampling.LANCZOS instead.\n",
            "  original_image.thumbnail(max_size, PIL_Image.ANTIALIAS)\n",
            "C:\\Users\\user\\AppData\\Local\\Temp\\ipykernel_12576\\1688310086.py:80: SettingWithCopyWarning: \n",
            "A value is trying to be set on a copy of a slice from a DataFrame.\n",
            "Try using .loc[row_indexer,col_indexer] = value instead\n",
            "\n",
            "See the caveats in the documentation: https://pandas.pydata.org/pandas-docs/stable/user_guide/indexing.html#returning-a-view-versus-a-copy\n",
            "  df_plotting['Дата'] = df_plotting['Дата'].dt.strftime(\"%d.%m.%Y\") # временно, снять выделение\n"
          ]
        },
        {
          "name": "stdout",
          "output_type": "stream",
          "text": [
            "save_pic ТТ74\n"
          ]
        },
        {
          "name": "stderr",
          "output_type": "stream",
          "text": [
            "C:\\Users\\user\\AppData\\Local\\Temp\\ipykernel_12576\\1688310086.py:177: DeprecationWarning: ANTIALIAS is deprecated and will be removed in Pillow 10 (2023-07-01). Use Resampling.LANCZOS instead.\n",
            "  original_image.thumbnail(max_size, PIL_Image.ANTIALIAS)\n",
            "C:\\Users\\user\\AppData\\Local\\Temp\\ipykernel_12576\\1688310086.py:80: SettingWithCopyWarning: \n",
            "A value is trying to be set on a copy of a slice from a DataFrame.\n",
            "Try using .loc[row_indexer,col_indexer] = value instead\n",
            "\n",
            "See the caveats in the documentation: https://pandas.pydata.org/pandas-docs/stable/user_guide/indexing.html#returning-a-view-versus-a-copy\n",
            "  df_plotting['Дата'] = df_plotting['Дата'].dt.strftime(\"%d.%m.%Y\") # временно, снять выделение\n"
          ]
        },
        {
          "name": "stdout",
          "output_type": "stream",
          "text": [
            "save_pic ТТ122\n"
          ]
        },
        {
          "name": "stderr",
          "output_type": "stream",
          "text": [
            "C:\\Users\\user\\AppData\\Local\\Temp\\ipykernel_12576\\1688310086.py:177: DeprecationWarning: ANTIALIAS is deprecated and will be removed in Pillow 10 (2023-07-01). Use Resampling.LANCZOS instead.\n",
            "  original_image.thumbnail(max_size, PIL_Image.ANTIALIAS)\n",
            "C:\\Users\\user\\AppData\\Local\\Temp\\ipykernel_12576\\1688310086.py:80: SettingWithCopyWarning: \n",
            "A value is trying to be set on a copy of a slice from a DataFrame.\n",
            "Try using .loc[row_indexer,col_indexer] = value instead\n",
            "\n",
            "See the caveats in the documentation: https://pandas.pydata.org/pandas-docs/stable/user_guide/indexing.html#returning-a-view-versus-a-copy\n",
            "  df_plotting['Дата'] = df_plotting['Дата'].dt.strftime(\"%d.%m.%Y\") # временно, снять выделение\n"
          ]
        },
        {
          "name": "stdout",
          "output_type": "stream",
          "text": [
            "save_pic ТТ143\n"
          ]
        },
        {
          "name": "stderr",
          "output_type": "stream",
          "text": [
            "C:\\Users\\user\\AppData\\Local\\Temp\\ipykernel_12576\\1688310086.py:177: DeprecationWarning: ANTIALIAS is deprecated and will be removed in Pillow 10 (2023-07-01). Use Resampling.LANCZOS instead.\n",
            "  original_image.thumbnail(max_size, PIL_Image.ANTIALIAS)\n",
            "C:\\Users\\user\\AppData\\Local\\Temp\\ipykernel_12576\\1688310086.py:80: SettingWithCopyWarning: \n",
            "A value is trying to be set on a copy of a slice from a DataFrame.\n",
            "Try using .loc[row_indexer,col_indexer] = value instead\n",
            "\n",
            "See the caveats in the documentation: https://pandas.pydata.org/pandas-docs/stable/user_guide/indexing.html#returning-a-view-versus-a-copy\n",
            "  df_plotting['Дата'] = df_plotting['Дата'].dt.strftime(\"%d.%m.%Y\") # временно, снять выделение\n"
          ]
        },
        {
          "name": "stdout",
          "output_type": "stream",
          "text": [
            "save_pic ТТ145\n"
          ]
        },
        {
          "name": "stderr",
          "output_type": "stream",
          "text": [
            "C:\\Users\\user\\AppData\\Local\\Temp\\ipykernel_12576\\1688310086.py:177: DeprecationWarning: ANTIALIAS is deprecated and will be removed in Pillow 10 (2023-07-01). Use Resampling.LANCZOS instead.\n",
            "  original_image.thumbnail(max_size, PIL_Image.ANTIALIAS)\n",
            "C:\\Users\\user\\AppData\\Local\\Temp\\ipykernel_12576\\1688310086.py:80: SettingWithCopyWarning: \n",
            "A value is trying to be set on a copy of a slice from a DataFrame.\n",
            "Try using .loc[row_indexer,col_indexer] = value instead\n",
            "\n",
            "See the caveats in the documentation: https://pandas.pydata.org/pandas-docs/stable/user_guide/indexing.html#returning-a-view-versus-a-copy\n",
            "  df_plotting['Дата'] = df_plotting['Дата'].dt.strftime(\"%d.%m.%Y\") # временно, снять выделение\n"
          ]
        },
        {
          "name": "stdout",
          "output_type": "stream",
          "text": [
            "save_pic ТТ216\n"
          ]
        },
        {
          "name": "stderr",
          "output_type": "stream",
          "text": [
            "C:\\Users\\user\\AppData\\Local\\Temp\\ipykernel_12576\\1688310086.py:177: DeprecationWarning: ANTIALIAS is deprecated and will be removed in Pillow 10 (2023-07-01). Use Resampling.LANCZOS instead.\n",
            "  original_image.thumbnail(max_size, PIL_Image.ANTIALIAS)\n",
            "C:\\Users\\user\\AppData\\Local\\Temp\\ipykernel_12576\\1688310086.py:80: SettingWithCopyWarning: \n",
            "A value is trying to be set on a copy of a slice from a DataFrame.\n",
            "Try using .loc[row_indexer,col_indexer] = value instead\n",
            "\n",
            "See the caveats in the documentation: https://pandas.pydata.org/pandas-docs/stable/user_guide/indexing.html#returning-a-view-versus-a-copy\n",
            "  df_plotting['Дата'] = df_plotting['Дата'].dt.strftime(\"%d.%m.%Y\") # временно, снять выделение\n"
          ]
        },
        {
          "name": "stdout",
          "output_type": "stream",
          "text": [
            "save_pic ТТ223\n"
          ]
        },
        {
          "name": "stderr",
          "output_type": "stream",
          "text": [
            "C:\\Users\\user\\AppData\\Local\\Temp\\ipykernel_12576\\1688310086.py:177: DeprecationWarning: ANTIALIAS is deprecated and will be removed in Pillow 10 (2023-07-01). Use Resampling.LANCZOS instead.\n",
            "  original_image.thumbnail(max_size, PIL_Image.ANTIALIAS)\n",
            "C:\\Users\\user\\AppData\\Local\\Temp\\ipykernel_12576\\1688310086.py:80: SettingWithCopyWarning: \n",
            "A value is trying to be set on a copy of a slice from a DataFrame.\n",
            "Try using .loc[row_indexer,col_indexer] = value instead\n",
            "\n",
            "See the caveats in the documentation: https://pandas.pydata.org/pandas-docs/stable/user_guide/indexing.html#returning-a-view-versus-a-copy\n",
            "  df_plotting['Дата'] = df_plotting['Дата'].dt.strftime(\"%d.%m.%Y\") # временно, снять выделение\n"
          ]
        },
        {
          "name": "stdout",
          "output_type": "stream",
          "text": [
            "save_pic ТТ225\n"
          ]
        },
        {
          "name": "stderr",
          "output_type": "stream",
          "text": [
            "C:\\Users\\user\\AppData\\Local\\Temp\\ipykernel_12576\\1688310086.py:177: DeprecationWarning: ANTIALIAS is deprecated and will be removed in Pillow 10 (2023-07-01). Use Resampling.LANCZOS instead.\n",
            "  original_image.thumbnail(max_size, PIL_Image.ANTIALIAS)\n",
            "C:\\Users\\user\\AppData\\Local\\Temp\\ipykernel_12576\\1688310086.py:80: SettingWithCopyWarning: \n",
            "A value is trying to be set on a copy of a slice from a DataFrame.\n",
            "Try using .loc[row_indexer,col_indexer] = value instead\n",
            "\n",
            "See the caveats in the documentation: https://pandas.pydata.org/pandas-docs/stable/user_guide/indexing.html#returning-a-view-versus-a-copy\n",
            "  df_plotting['Дата'] = df_plotting['Дата'].dt.strftime(\"%d.%m.%Y\") # временно, снять выделение\n"
          ]
        },
        {
          "name": "stdout",
          "output_type": "stream",
          "text": [
            "save_pic ТТ250\n"
          ]
        },
        {
          "name": "stderr",
          "output_type": "stream",
          "text": [
            "C:\\Users\\user\\AppData\\Local\\Temp\\ipykernel_12576\\1688310086.py:177: DeprecationWarning: ANTIALIAS is deprecated and will be removed in Pillow 10 (2023-07-01). Use Resampling.LANCZOS instead.\n",
            "  original_image.thumbnail(max_size, PIL_Image.ANTIALIAS)\n",
            "C:\\Users\\user\\AppData\\Local\\Temp\\ipykernel_12576\\1688310086.py:80: SettingWithCopyWarning: \n",
            "A value is trying to be set on a copy of a slice from a DataFrame.\n",
            "Try using .loc[row_indexer,col_indexer] = value instead\n",
            "\n",
            "See the caveats in the documentation: https://pandas.pydata.org/pandas-docs/stable/user_guide/indexing.html#returning-a-view-versus-a-copy\n",
            "  df_plotting['Дата'] = df_plotting['Дата'].dt.strftime(\"%d.%m.%Y\") # временно, снять выделение\n"
          ]
        },
        {
          "name": "stdout",
          "output_type": "stream",
          "text": [
            "save_pic ТТ3\n"
          ]
        },
        {
          "name": "stderr",
          "output_type": "stream",
          "text": [
            "C:\\Users\\user\\AppData\\Local\\Temp\\ipykernel_12576\\1688310086.py:177: DeprecationWarning: ANTIALIAS is deprecated and will be removed in Pillow 10 (2023-07-01). Use Resampling.LANCZOS instead.\n",
            "  original_image.thumbnail(max_size, PIL_Image.ANTIALIAS)\n",
            "C:\\Users\\user\\AppData\\Local\\Temp\\ipykernel_12576\\1688310086.py:80: SettingWithCopyWarning: \n",
            "A value is trying to be set on a copy of a slice from a DataFrame.\n",
            "Try using .loc[row_indexer,col_indexer] = value instead\n",
            "\n",
            "See the caveats in the documentation: https://pandas.pydata.org/pandas-docs/stable/user_guide/indexing.html#returning-a-view-versus-a-copy\n",
            "  df_plotting['Дата'] = df_plotting['Дата'].dt.strftime(\"%d.%m.%Y\") # временно, снять выделение\n"
          ]
        },
        {
          "name": "stdout",
          "output_type": "stream",
          "text": [
            "save_pic ТТ13\n"
          ]
        },
        {
          "name": "stderr",
          "output_type": "stream",
          "text": [
            "C:\\Users\\user\\AppData\\Local\\Temp\\ipykernel_12576\\1688310086.py:177: DeprecationWarning: ANTIALIAS is deprecated and will be removed in Pillow 10 (2023-07-01). Use Resampling.LANCZOS instead.\n",
            "  original_image.thumbnail(max_size, PIL_Image.ANTIALIAS)\n",
            "C:\\Users\\user\\AppData\\Local\\Temp\\ipykernel_12576\\1688310086.py:80: SettingWithCopyWarning: \n",
            "A value is trying to be set on a copy of a slice from a DataFrame.\n",
            "Try using .loc[row_indexer,col_indexer] = value instead\n",
            "\n",
            "See the caveats in the documentation: https://pandas.pydata.org/pandas-docs/stable/user_guide/indexing.html#returning-a-view-versus-a-copy\n",
            "  df_plotting['Дата'] = df_plotting['Дата'].dt.strftime(\"%d.%m.%Y\") # временно, снять выделение\n"
          ]
        },
        {
          "name": "stdout",
          "output_type": "stream",
          "text": [
            "save_pic ТТ14\n"
          ]
        },
        {
          "name": "stderr",
          "output_type": "stream",
          "text": [
            "C:\\Users\\user\\AppData\\Local\\Temp\\ipykernel_12576\\1688310086.py:177: DeprecationWarning: ANTIALIAS is deprecated and will be removed in Pillow 10 (2023-07-01). Use Resampling.LANCZOS instead.\n",
            "  original_image.thumbnail(max_size, PIL_Image.ANTIALIAS)\n",
            "C:\\Users\\user\\AppData\\Local\\Temp\\ipykernel_12576\\1688310086.py:80: SettingWithCopyWarning: \n",
            "A value is trying to be set on a copy of a slice from a DataFrame.\n",
            "Try using .loc[row_indexer,col_indexer] = value instead\n",
            "\n",
            "See the caveats in the documentation: https://pandas.pydata.org/pandas-docs/stable/user_guide/indexing.html#returning-a-view-versus-a-copy\n",
            "  df_plotting['Дата'] = df_plotting['Дата'].dt.strftime(\"%d.%m.%Y\") # временно, снять выделение\n"
          ]
        },
        {
          "name": "stdout",
          "output_type": "stream",
          "text": [
            "save_pic ТТ50\n"
          ]
        },
        {
          "name": "stderr",
          "output_type": "stream",
          "text": [
            "C:\\Users\\user\\AppData\\Local\\Temp\\ipykernel_12576\\1688310086.py:177: DeprecationWarning: ANTIALIAS is deprecated and will be removed in Pillow 10 (2023-07-01). Use Resampling.LANCZOS instead.\n",
            "  original_image.thumbnail(max_size, PIL_Image.ANTIALIAS)\n",
            "C:\\Users\\user\\AppData\\Local\\Temp\\ipykernel_12576\\1688310086.py:80: SettingWithCopyWarning: \n",
            "A value is trying to be set on a copy of a slice from a DataFrame.\n",
            "Try using .loc[row_indexer,col_indexer] = value instead\n",
            "\n",
            "See the caveats in the documentation: https://pandas.pydata.org/pandas-docs/stable/user_guide/indexing.html#returning-a-view-versus-a-copy\n",
            "  df_plotting['Дата'] = df_plotting['Дата'].dt.strftime(\"%d.%m.%Y\") # временно, снять выделение\n"
          ]
        },
        {
          "name": "stdout",
          "output_type": "stream",
          "text": [
            "save_pic ТТ125\n"
          ]
        },
        {
          "name": "stderr",
          "output_type": "stream",
          "text": [
            "C:\\Users\\user\\AppData\\Local\\Temp\\ipykernel_12576\\1688310086.py:177: DeprecationWarning: ANTIALIAS is deprecated and will be removed in Pillow 10 (2023-07-01). Use Resampling.LANCZOS instead.\n",
            "  original_image.thumbnail(max_size, PIL_Image.ANTIALIAS)\n",
            "C:\\Users\\user\\AppData\\Local\\Temp\\ipykernel_12576\\1688310086.py:80: SettingWithCopyWarning: \n",
            "A value is trying to be set on a copy of a slice from a DataFrame.\n",
            "Try using .loc[row_indexer,col_indexer] = value instead\n",
            "\n",
            "See the caveats in the documentation: https://pandas.pydata.org/pandas-docs/stable/user_guide/indexing.html#returning-a-view-versus-a-copy\n",
            "  df_plotting['Дата'] = df_plotting['Дата'].dt.strftime(\"%d.%m.%Y\") # временно, снять выделение\n"
          ]
        },
        {
          "name": "stdout",
          "output_type": "stream",
          "text": [
            "save_pic ТТ127\n"
          ]
        },
        {
          "name": "stderr",
          "output_type": "stream",
          "text": [
            "C:\\Users\\user\\AppData\\Local\\Temp\\ipykernel_12576\\1688310086.py:177: DeprecationWarning: ANTIALIAS is deprecated and will be removed in Pillow 10 (2023-07-01). Use Resampling.LANCZOS instead.\n",
            "  original_image.thumbnail(max_size, PIL_Image.ANTIALIAS)\n",
            "C:\\Users\\user\\AppData\\Local\\Temp\\ipykernel_12576\\1688310086.py:80: SettingWithCopyWarning: \n",
            "A value is trying to be set on a copy of a slice from a DataFrame.\n",
            "Try using .loc[row_indexer,col_indexer] = value instead\n",
            "\n",
            "See the caveats in the documentation: https://pandas.pydata.org/pandas-docs/stable/user_guide/indexing.html#returning-a-view-versus-a-copy\n",
            "  df_plotting['Дата'] = df_plotting['Дата'].dt.strftime(\"%d.%m.%Y\") # временно, снять выделение\n"
          ]
        },
        {
          "name": "stdout",
          "output_type": "stream",
          "text": [
            "save_pic ТТ5\n"
          ]
        },
        {
          "name": "stderr",
          "output_type": "stream",
          "text": [
            "C:\\Users\\user\\AppData\\Local\\Temp\\ipykernel_12576\\1688310086.py:177: DeprecationWarning: ANTIALIAS is deprecated and will be removed in Pillow 10 (2023-07-01). Use Resampling.LANCZOS instead.\n",
            "  original_image.thumbnail(max_size, PIL_Image.ANTIALIAS)\n",
            "C:\\Users\\user\\AppData\\Local\\Temp\\ipykernel_12576\\1688310086.py:80: SettingWithCopyWarning: \n",
            "A value is trying to be set on a copy of a slice from a DataFrame.\n",
            "Try using .loc[row_indexer,col_indexer] = value instead\n",
            "\n",
            "See the caveats in the documentation: https://pandas.pydata.org/pandas-docs/stable/user_guide/indexing.html#returning-a-view-versus-a-copy\n",
            "  df_plotting['Дата'] = df_plotting['Дата'].dt.strftime(\"%d.%m.%Y\") # временно, снять выделение\n"
          ]
        },
        {
          "name": "stdout",
          "output_type": "stream",
          "text": [
            "save_pic ТТ26\n"
          ]
        },
        {
          "name": "stderr",
          "output_type": "stream",
          "text": [
            "C:\\Users\\user\\AppData\\Local\\Temp\\ipykernel_12576\\1688310086.py:177: DeprecationWarning: ANTIALIAS is deprecated and will be removed in Pillow 10 (2023-07-01). Use Resampling.LANCZOS instead.\n",
            "  original_image.thumbnail(max_size, PIL_Image.ANTIALIAS)\n",
            "C:\\Users\\user\\AppData\\Local\\Temp\\ipykernel_12576\\1688310086.py:80: SettingWithCopyWarning: \n",
            "A value is trying to be set on a copy of a slice from a DataFrame.\n",
            "Try using .loc[row_indexer,col_indexer] = value instead\n",
            "\n",
            "See the caveats in the documentation: https://pandas.pydata.org/pandas-docs/stable/user_guide/indexing.html#returning-a-view-versus-a-copy\n",
            "  df_plotting['Дата'] = df_plotting['Дата'].dt.strftime(\"%d.%m.%Y\") # временно, снять выделение\n"
          ]
        },
        {
          "name": "stdout",
          "output_type": "stream",
          "text": [
            "save_pic ТТ52\n"
          ]
        },
        {
          "name": "stderr",
          "output_type": "stream",
          "text": [
            "C:\\Users\\user\\AppData\\Local\\Temp\\ipykernel_12576\\1688310086.py:177: DeprecationWarning: ANTIALIAS is deprecated and will be removed in Pillow 10 (2023-07-01). Use Resampling.LANCZOS instead.\n",
            "  original_image.thumbnail(max_size, PIL_Image.ANTIALIAS)\n",
            "C:\\Users\\user\\AppData\\Local\\Temp\\ipykernel_12576\\1688310086.py:80: SettingWithCopyWarning: \n",
            "A value is trying to be set on a copy of a slice from a DataFrame.\n",
            "Try using .loc[row_indexer,col_indexer] = value instead\n",
            "\n",
            "See the caveats in the documentation: https://pandas.pydata.org/pandas-docs/stable/user_guide/indexing.html#returning-a-view-versus-a-copy\n",
            "  df_plotting['Дата'] = df_plotting['Дата'].dt.strftime(\"%d.%m.%Y\") # временно, снять выделение\n"
          ]
        },
        {
          "name": "stdout",
          "output_type": "stream",
          "text": [
            "save_pic ТТ58\n"
          ]
        },
        {
          "name": "stderr",
          "output_type": "stream",
          "text": [
            "C:\\Users\\user\\AppData\\Local\\Temp\\ipykernel_12576\\1688310086.py:177: DeprecationWarning: ANTIALIAS is deprecated and will be removed in Pillow 10 (2023-07-01). Use Resampling.LANCZOS instead.\n",
            "  original_image.thumbnail(max_size, PIL_Image.ANTIALIAS)\n",
            "C:\\Users\\user\\AppData\\Local\\Temp\\ipykernel_12576\\1688310086.py:80: SettingWithCopyWarning: \n",
            "A value is trying to be set on a copy of a slice from a DataFrame.\n",
            "Try using .loc[row_indexer,col_indexer] = value instead\n",
            "\n",
            "See the caveats in the documentation: https://pandas.pydata.org/pandas-docs/stable/user_guide/indexing.html#returning-a-view-versus-a-copy\n",
            "  df_plotting['Дата'] = df_plotting['Дата'].dt.strftime(\"%d.%m.%Y\") # временно, снять выделение\n"
          ]
        },
        {
          "name": "stdout",
          "output_type": "stream",
          "text": [
            "save_pic ТТ60\n"
          ]
        },
        {
          "name": "stderr",
          "output_type": "stream",
          "text": [
            "C:\\Users\\user\\AppData\\Local\\Temp\\ipykernel_12576\\1688310086.py:177: DeprecationWarning: ANTIALIAS is deprecated and will be removed in Pillow 10 (2023-07-01). Use Resampling.LANCZOS instead.\n",
            "  original_image.thumbnail(max_size, PIL_Image.ANTIALIAS)\n",
            "C:\\Users\\user\\AppData\\Local\\Temp\\ipykernel_12576\\1688310086.py:80: SettingWithCopyWarning: \n",
            "A value is trying to be set on a copy of a slice from a DataFrame.\n",
            "Try using .loc[row_indexer,col_indexer] = value instead\n",
            "\n",
            "See the caveats in the documentation: https://pandas.pydata.org/pandas-docs/stable/user_guide/indexing.html#returning-a-view-versus-a-copy\n",
            "  df_plotting['Дата'] = df_plotting['Дата'].dt.strftime(\"%d.%m.%Y\") # временно, снять выделение\n"
          ]
        },
        {
          "name": "stdout",
          "output_type": "stream",
          "text": [
            "save_pic ТТ62\n"
          ]
        },
        {
          "name": "stderr",
          "output_type": "stream",
          "text": [
            "C:\\Users\\user\\AppData\\Local\\Temp\\ipykernel_12576\\1688310086.py:177: DeprecationWarning: ANTIALIAS is deprecated and will be removed in Pillow 10 (2023-07-01). Use Resampling.LANCZOS instead.\n",
            "  original_image.thumbnail(max_size, PIL_Image.ANTIALIAS)\n",
            "C:\\Users\\user\\AppData\\Local\\Temp\\ipykernel_12576\\1688310086.py:80: SettingWithCopyWarning: \n",
            "A value is trying to be set on a copy of a slice from a DataFrame.\n",
            "Try using .loc[row_indexer,col_indexer] = value instead\n",
            "\n",
            "See the caveats in the documentation: https://pandas.pydata.org/pandas-docs/stable/user_guide/indexing.html#returning-a-view-versus-a-copy\n",
            "  df_plotting['Дата'] = df_plotting['Дата'].dt.strftime(\"%d.%m.%Y\") # временно, снять выделение\n"
          ]
        },
        {
          "name": "stdout",
          "output_type": "stream",
          "text": [
            "save_pic ТТ63\n"
          ]
        },
        {
          "name": "stderr",
          "output_type": "stream",
          "text": [
            "C:\\Users\\user\\AppData\\Local\\Temp\\ipykernel_12576\\1688310086.py:177: DeprecationWarning: ANTIALIAS is deprecated and will be removed in Pillow 10 (2023-07-01). Use Resampling.LANCZOS instead.\n",
            "  original_image.thumbnail(max_size, PIL_Image.ANTIALIAS)\n",
            "C:\\Users\\user\\AppData\\Local\\Temp\\ipykernel_12576\\1688310086.py:80: SettingWithCopyWarning: \n",
            "A value is trying to be set on a copy of a slice from a DataFrame.\n",
            "Try using .loc[row_indexer,col_indexer] = value instead\n",
            "\n",
            "See the caveats in the documentation: https://pandas.pydata.org/pandas-docs/stable/user_guide/indexing.html#returning-a-view-versus-a-copy\n",
            "  df_plotting['Дата'] = df_plotting['Дата'].dt.strftime(\"%d.%m.%Y\") # временно, снять выделение\n"
          ]
        },
        {
          "name": "stdout",
          "output_type": "stream",
          "text": [
            "save_pic ТТ128\n"
          ]
        },
        {
          "name": "stderr",
          "output_type": "stream",
          "text": [
            "C:\\Users\\user\\AppData\\Local\\Temp\\ipykernel_12576\\1688310086.py:177: DeprecationWarning: ANTIALIAS is deprecated and will be removed in Pillow 10 (2023-07-01). Use Resampling.LANCZOS instead.\n",
            "  original_image.thumbnail(max_size, PIL_Image.ANTIALIAS)\n",
            "C:\\Users\\user\\AppData\\Local\\Temp\\ipykernel_12576\\1688310086.py:80: SettingWithCopyWarning: \n",
            "A value is trying to be set on a copy of a slice from a DataFrame.\n",
            "Try using .loc[row_indexer,col_indexer] = value instead\n",
            "\n",
            "See the caveats in the documentation: https://pandas.pydata.org/pandas-docs/stable/user_guide/indexing.html#returning-a-view-versus-a-copy\n",
            "  df_plotting['Дата'] = df_plotting['Дата'].dt.strftime(\"%d.%m.%Y\") # временно, снять выделение\n"
          ]
        },
        {
          "name": "stdout",
          "output_type": "stream",
          "text": [
            "save_pic ТТ249\n"
          ]
        },
        {
          "name": "stderr",
          "output_type": "stream",
          "text": [
            "C:\\Users\\user\\AppData\\Local\\Temp\\ipykernel_12576\\1688310086.py:177: DeprecationWarning: ANTIALIAS is deprecated and will be removed in Pillow 10 (2023-07-01). Use Resampling.LANCZOS instead.\n",
            "  original_image.thumbnail(max_size, PIL_Image.ANTIALIAS)\n",
            "C:\\Users\\user\\AppData\\Local\\Temp\\ipykernel_12576\\1688310086.py:80: SettingWithCopyWarning: \n",
            "A value is trying to be set on a copy of a slice from a DataFrame.\n",
            "Try using .loc[row_indexer,col_indexer] = value instead\n",
            "\n",
            "See the caveats in the documentation: https://pandas.pydata.org/pandas-docs/stable/user_guide/indexing.html#returning-a-view-versus-a-copy\n",
            "  df_plotting['Дата'] = df_plotting['Дата'].dt.strftime(\"%d.%m.%Y\") # временно, снять выделение\n"
          ]
        },
        {
          "name": "stdout",
          "output_type": "stream",
          "text": [
            "save_pic ТТ263\n"
          ]
        },
        {
          "name": "stderr",
          "output_type": "stream",
          "text": [
            "C:\\Users\\user\\AppData\\Local\\Temp\\ipykernel_12576\\1688310086.py:177: DeprecationWarning: ANTIALIAS is deprecated and will be removed in Pillow 10 (2023-07-01). Use Resampling.LANCZOS instead.\n",
            "  original_image.thumbnail(max_size, PIL_Image.ANTIALIAS)\n",
            "C:\\Users\\user\\AppData\\Local\\Temp\\ipykernel_12576\\1688310086.py:80: SettingWithCopyWarning: \n",
            "A value is trying to be set on a copy of a slice from a DataFrame.\n",
            "Try using .loc[row_indexer,col_indexer] = value instead\n",
            "\n",
            "See the caveats in the documentation: https://pandas.pydata.org/pandas-docs/stable/user_guide/indexing.html#returning-a-view-versus-a-copy\n",
            "  df_plotting['Дата'] = df_plotting['Дата'].dt.strftime(\"%d.%m.%Y\") # временно, снять выделение\n"
          ]
        },
        {
          "name": "stdout",
          "output_type": "stream",
          "text": [
            "save_pic ТТ203\n"
          ]
        },
        {
          "name": "stderr",
          "output_type": "stream",
          "text": [
            "C:\\Users\\user\\AppData\\Local\\Temp\\ipykernel_12576\\1688310086.py:182: DeprecationWarning: ANTIALIAS is deprecated and will be removed in Pillow 10 (2023-07-01). Use Resampling.LANCZOS instead.\n",
            "  original_image = original_image.resize((width, h2), PIL_Image.ANTIALIAS)\n",
            "C:\\Users\\user\\AppData\\Local\\Temp\\ipykernel_12576\\1688310086.py:80: SettingWithCopyWarning: \n",
            "A value is trying to be set on a copy of a slice from a DataFrame.\n",
            "Try using .loc[row_indexer,col_indexer] = value instead\n",
            "\n",
            "See the caveats in the documentation: https://pandas.pydata.org/pandas-docs/stable/user_guide/indexing.html#returning-a-view-versus-a-copy\n",
            "  df_plotting['Дата'] = df_plotting['Дата'].dt.strftime(\"%d.%m.%Y\") # временно, снять выделение\n"
          ]
        },
        {
          "name": "stdout",
          "output_type": "stream",
          "text": [
            "save_pic ТТ12\n"
          ]
        },
        {
          "name": "stderr",
          "output_type": "stream",
          "text": [
            "C:\\Users\\user\\AppData\\Local\\Temp\\ipykernel_12576\\1688310086.py:182: DeprecationWarning: ANTIALIAS is deprecated and will be removed in Pillow 10 (2023-07-01). Use Resampling.LANCZOS instead.\n",
            "  original_image = original_image.resize((width, h2), PIL_Image.ANTIALIAS)\n",
            "C:\\Users\\user\\AppData\\Local\\Temp\\ipykernel_12576\\1688310086.py:80: SettingWithCopyWarning: \n",
            "A value is trying to be set on a copy of a slice from a DataFrame.\n",
            "Try using .loc[row_indexer,col_indexer] = value instead\n",
            "\n",
            "See the caveats in the documentation: https://pandas.pydata.org/pandas-docs/stable/user_guide/indexing.html#returning-a-view-versus-a-copy\n",
            "  df_plotting['Дата'] = df_plotting['Дата'].dt.strftime(\"%d.%m.%Y\") # временно, снять выделение\n"
          ]
        },
        {
          "name": "stdout",
          "output_type": "stream",
          "text": [
            "save_pic ТТ27\n"
          ]
        },
        {
          "name": "stderr",
          "output_type": "stream",
          "text": [
            "C:\\Users\\user\\AppData\\Local\\Temp\\ipykernel_12576\\1688310086.py:182: DeprecationWarning: ANTIALIAS is deprecated and will be removed in Pillow 10 (2023-07-01). Use Resampling.LANCZOS instead.\n",
            "  original_image = original_image.resize((width, h2), PIL_Image.ANTIALIAS)\n",
            "C:\\Users\\user\\AppData\\Local\\Temp\\ipykernel_12576\\1688310086.py:80: SettingWithCopyWarning: \n",
            "A value is trying to be set on a copy of a slice from a DataFrame.\n",
            "Try using .loc[row_indexer,col_indexer] = value instead\n",
            "\n",
            "See the caveats in the documentation: https://pandas.pydata.org/pandas-docs/stable/user_guide/indexing.html#returning-a-view-versus-a-copy\n",
            "  df_plotting['Дата'] = df_plotting['Дата'].dt.strftime(\"%d.%m.%Y\") # временно, снять выделение\n"
          ]
        },
        {
          "name": "stdout",
          "output_type": "stream",
          "text": [
            "save_pic ТТ29\n"
          ]
        },
        {
          "name": "stderr",
          "output_type": "stream",
          "text": [
            "C:\\Users\\user\\AppData\\Local\\Temp\\ipykernel_12576\\1688310086.py:182: DeprecationWarning: ANTIALIAS is deprecated and will be removed in Pillow 10 (2023-07-01). Use Resampling.LANCZOS instead.\n",
            "  original_image = original_image.resize((width, h2), PIL_Image.ANTIALIAS)\n",
            "C:\\Users\\user\\AppData\\Local\\Temp\\ipykernel_12576\\1688310086.py:80: SettingWithCopyWarning: \n",
            "A value is trying to be set on a copy of a slice from a DataFrame.\n",
            "Try using .loc[row_indexer,col_indexer] = value instead\n",
            "\n",
            "See the caveats in the documentation: https://pandas.pydata.org/pandas-docs/stable/user_guide/indexing.html#returning-a-view-versus-a-copy\n",
            "  df_plotting['Дата'] = df_plotting['Дата'].dt.strftime(\"%d.%m.%Y\") # временно, снять выделение\n"
          ]
        },
        {
          "name": "stdout",
          "output_type": "stream",
          "text": [
            "save_pic ТТ61\n"
          ]
        },
        {
          "name": "stderr",
          "output_type": "stream",
          "text": [
            "C:\\Users\\user\\AppData\\Local\\Temp\\ipykernel_12576\\1688310086.py:182: DeprecationWarning: ANTIALIAS is deprecated and will be removed in Pillow 10 (2023-07-01). Use Resampling.LANCZOS instead.\n",
            "  original_image = original_image.resize((width, h2), PIL_Image.ANTIALIAS)\n",
            "C:\\Users\\user\\AppData\\Local\\Temp\\ipykernel_12576\\1688310086.py:80: SettingWithCopyWarning: \n",
            "A value is trying to be set on a copy of a slice from a DataFrame.\n",
            "Try using .loc[row_indexer,col_indexer] = value instead\n",
            "\n",
            "See the caveats in the documentation: https://pandas.pydata.org/pandas-docs/stable/user_guide/indexing.html#returning-a-view-versus-a-copy\n",
            "  df_plotting['Дата'] = df_plotting['Дата'].dt.strftime(\"%d.%m.%Y\") # временно, снять выделение\n"
          ]
        },
        {
          "name": "stdout",
          "output_type": "stream",
          "text": [
            "save_pic ТТ59\n"
          ]
        },
        {
          "name": "stderr",
          "output_type": "stream",
          "text": [
            "C:\\Users\\user\\AppData\\Local\\Temp\\ipykernel_12576\\1688310086.py:182: DeprecationWarning: ANTIALIAS is deprecated and will be removed in Pillow 10 (2023-07-01). Use Resampling.LANCZOS instead.\n",
            "  original_image = original_image.resize((width, h2), PIL_Image.ANTIALIAS)\n",
            "C:\\Users\\user\\AppData\\Local\\Temp\\ipykernel_12576\\1688310086.py:80: SettingWithCopyWarning: \n",
            "A value is trying to be set on a copy of a slice from a DataFrame.\n",
            "Try using .loc[row_indexer,col_indexer] = value instead\n",
            "\n",
            "See the caveats in the documentation: https://pandas.pydata.org/pandas-docs/stable/user_guide/indexing.html#returning-a-view-versus-a-copy\n",
            "  df_plotting['Дата'] = df_plotting['Дата'].dt.strftime(\"%d.%m.%Y\") # временно, снять выделение\n"
          ]
        },
        {
          "name": "stdout",
          "output_type": "stream",
          "text": [
            "save_pic ТТ70\n"
          ]
        },
        {
          "name": "stderr",
          "output_type": "stream",
          "text": [
            "C:\\Users\\user\\AppData\\Local\\Temp\\ipykernel_12576\\1688310086.py:182: DeprecationWarning: ANTIALIAS is deprecated and will be removed in Pillow 10 (2023-07-01). Use Resampling.LANCZOS instead.\n",
            "  original_image = original_image.resize((width, h2), PIL_Image.ANTIALIAS)\n",
            "C:\\Users\\user\\AppData\\Local\\Temp\\ipykernel_12576\\1688310086.py:80: SettingWithCopyWarning: \n",
            "A value is trying to be set on a copy of a slice from a DataFrame.\n",
            "Try using .loc[row_indexer,col_indexer] = value instead\n",
            "\n",
            "See the caveats in the documentation: https://pandas.pydata.org/pandas-docs/stable/user_guide/indexing.html#returning-a-view-versus-a-copy\n",
            "  df_plotting['Дата'] = df_plotting['Дата'].dt.strftime(\"%d.%m.%Y\") # временно, снять выделение\n"
          ]
        },
        {
          "name": "stdout",
          "output_type": "stream",
          "text": [
            "save_pic ТТ80\n"
          ]
        },
        {
          "name": "stderr",
          "output_type": "stream",
          "text": [
            "C:\\Users\\user\\AppData\\Local\\Temp\\ipykernel_12576\\1688310086.py:177: DeprecationWarning: ANTIALIAS is deprecated and will be removed in Pillow 10 (2023-07-01). Use Resampling.LANCZOS instead.\n",
            "  original_image.thumbnail(max_size, PIL_Image.ANTIALIAS)\n",
            "C:\\Users\\user\\AppData\\Local\\Temp\\ipykernel_12576\\1688310086.py:80: SettingWithCopyWarning: \n",
            "A value is trying to be set on a copy of a slice from a DataFrame.\n",
            "Try using .loc[row_indexer,col_indexer] = value instead\n",
            "\n",
            "See the caveats in the documentation: https://pandas.pydata.org/pandas-docs/stable/user_guide/indexing.html#returning-a-view-versus-a-copy\n",
            "  df_plotting['Дата'] = df_plotting['Дата'].dt.strftime(\"%d.%m.%Y\") # временно, снять выделение\n"
          ]
        },
        {
          "name": "stdout",
          "output_type": "stream",
          "text": [
            "save_pic ТТ43\n"
          ]
        },
        {
          "name": "stderr",
          "output_type": "stream",
          "text": [
            "C:\\Users\\user\\AppData\\Local\\Temp\\ipykernel_12576\\1688310086.py:182: DeprecationWarning: ANTIALIAS is deprecated and will be removed in Pillow 10 (2023-07-01). Use Resampling.LANCZOS instead.\n",
            "  original_image = original_image.resize((width, h2), PIL_Image.ANTIALIAS)\n",
            "C:\\Users\\user\\AppData\\Local\\Temp\\ipykernel_12576\\1688310086.py:80: SettingWithCopyWarning: \n",
            "A value is trying to be set on a copy of a slice from a DataFrame.\n",
            "Try using .loc[row_indexer,col_indexer] = value instead\n",
            "\n",
            "See the caveats in the documentation: https://pandas.pydata.org/pandas-docs/stable/user_guide/indexing.html#returning-a-view-versus-a-copy\n",
            "  df_plotting['Дата'] = df_plotting['Дата'].dt.strftime(\"%d.%m.%Y\") # временно, снять выделение\n"
          ]
        },
        {
          "name": "stdout",
          "output_type": "stream",
          "text": [
            "save_pic ТТ45\n"
          ]
        },
        {
          "name": "stderr",
          "output_type": "stream",
          "text": [
            "C:\\Users\\user\\AppData\\Local\\Temp\\ipykernel_12576\\1688310086.py:177: DeprecationWarning: ANTIALIAS is deprecated and will be removed in Pillow 10 (2023-07-01). Use Resampling.LANCZOS instead.\n",
            "  original_image.thumbnail(max_size, PIL_Image.ANTIALIAS)\n",
            "C:\\Users\\user\\AppData\\Local\\Temp\\ipykernel_12576\\1688310086.py:80: SettingWithCopyWarning: \n",
            "A value is trying to be set on a copy of a slice from a DataFrame.\n",
            "Try using .loc[row_indexer,col_indexer] = value instead\n",
            "\n",
            "See the caveats in the documentation: https://pandas.pydata.org/pandas-docs/stable/user_guide/indexing.html#returning-a-view-versus-a-copy\n",
            "  df_plotting['Дата'] = df_plotting['Дата'].dt.strftime(\"%d.%m.%Y\") # временно, снять выделение\n"
          ]
        },
        {
          "name": "stdout",
          "output_type": "stream",
          "text": [
            "save_pic ТТ264\n"
          ]
        },
        {
          "name": "stderr",
          "output_type": "stream",
          "text": [
            "C:\\Users\\user\\AppData\\Local\\Temp\\ipykernel_12576\\1688310086.py:177: DeprecationWarning: ANTIALIAS is deprecated and will be removed in Pillow 10 (2023-07-01). Use Resampling.LANCZOS instead.\n",
            "  original_image.thumbnail(max_size, PIL_Image.ANTIALIAS)\n",
            "C:\\Users\\user\\AppData\\Local\\Temp\\ipykernel_12576\\1688310086.py:80: SettingWithCopyWarning: \n",
            "A value is trying to be set on a copy of a slice from a DataFrame.\n",
            "Try using .loc[row_indexer,col_indexer] = value instead\n",
            "\n",
            "See the caveats in the documentation: https://pandas.pydata.org/pandas-docs/stable/user_guide/indexing.html#returning-a-view-versus-a-copy\n",
            "  df_plotting['Дата'] = df_plotting['Дата'].dt.strftime(\"%d.%m.%Y\") # временно, снять выделение\n"
          ]
        },
        {
          "name": "stdout",
          "output_type": "stream",
          "text": [
            "save_pic ТТ150\n"
          ]
        },
        {
          "name": "stderr",
          "output_type": "stream",
          "text": [
            "C:\\Users\\user\\AppData\\Local\\Temp\\ipykernel_12576\\1688310086.py:182: DeprecationWarning: ANTIALIAS is deprecated and will be removed in Pillow 10 (2023-07-01). Use Resampling.LANCZOS instead.\n",
            "  original_image = original_image.resize((width, h2), PIL_Image.ANTIALIAS)\n",
            "C:\\Users\\user\\AppData\\Local\\Temp\\ipykernel_12576\\1688310086.py:80: SettingWithCopyWarning: \n",
            "A value is trying to be set on a copy of a slice from a DataFrame.\n",
            "Try using .loc[row_indexer,col_indexer] = value instead\n",
            "\n",
            "See the caveats in the documentation: https://pandas.pydata.org/pandas-docs/stable/user_guide/indexing.html#returning-a-view-versus-a-copy\n",
            "  df_plotting['Дата'] = df_plotting['Дата'].dt.strftime(\"%d.%m.%Y\") # временно, снять выделение\n"
          ]
        },
        {
          "name": "stdout",
          "output_type": "stream",
          "text": [
            "save_pic ТТ56\n"
          ]
        },
        {
          "name": "stderr",
          "output_type": "stream",
          "text": [
            "C:\\Users\\user\\AppData\\Local\\Temp\\ipykernel_12576\\1688310086.py:177: DeprecationWarning: ANTIALIAS is deprecated and will be removed in Pillow 10 (2023-07-01). Use Resampling.LANCZOS instead.\n",
            "  original_image.thumbnail(max_size, PIL_Image.ANTIALIAS)\n",
            "C:\\Users\\user\\AppData\\Local\\Temp\\ipykernel_12576\\1688310086.py:80: SettingWithCopyWarning: \n",
            "A value is trying to be set on a copy of a slice from a DataFrame.\n",
            "Try using .loc[row_indexer,col_indexer] = value instead\n",
            "\n",
            "See the caveats in the documentation: https://pandas.pydata.org/pandas-docs/stable/user_guide/indexing.html#returning-a-view-versus-a-copy\n",
            "  df_plotting['Дата'] = df_plotting['Дата'].dt.strftime(\"%d.%m.%Y\") # временно, снять выделение\n"
          ]
        },
        {
          "name": "stdout",
          "output_type": "stream",
          "text": [
            "save_pic ТТ84\n"
          ]
        },
        {
          "name": "stderr",
          "output_type": "stream",
          "text": [
            "C:\\Users\\user\\AppData\\Local\\Temp\\ipykernel_12576\\1688310086.py:182: DeprecationWarning: ANTIALIAS is deprecated and will be removed in Pillow 10 (2023-07-01). Use Resampling.LANCZOS instead.\n",
            "  original_image = original_image.resize((width, h2), PIL_Image.ANTIALIAS)\n",
            "C:\\Users\\user\\AppData\\Local\\Temp\\ipykernel_12576\\1688310086.py:80: SettingWithCopyWarning: \n",
            "A value is trying to be set on a copy of a slice from a DataFrame.\n",
            "Try using .loc[row_indexer,col_indexer] = value instead\n",
            "\n",
            "See the caveats in the documentation: https://pandas.pydata.org/pandas-docs/stable/user_guide/indexing.html#returning-a-view-versus-a-copy\n",
            "  df_plotting['Дата'] = df_plotting['Дата'].dt.strftime(\"%d.%m.%Y\") # временно, снять выделение\n"
          ]
        },
        {
          "name": "stdout",
          "output_type": "stream",
          "text": [
            "save_pic ТТ97\n"
          ]
        },
        {
          "name": "stderr",
          "output_type": "stream",
          "text": [
            "C:\\Users\\user\\AppData\\Local\\Temp\\ipykernel_12576\\1688310086.py:177: DeprecationWarning: ANTIALIAS is deprecated and will be removed in Pillow 10 (2023-07-01). Use Resampling.LANCZOS instead.\n",
            "  original_image.thumbnail(max_size, PIL_Image.ANTIALIAS)\n",
            "C:\\Users\\user\\AppData\\Local\\Temp\\ipykernel_12576\\1688310086.py:80: SettingWithCopyWarning: \n",
            "A value is trying to be set on a copy of a slice from a DataFrame.\n",
            "Try using .loc[row_indexer,col_indexer] = value instead\n",
            "\n",
            "See the caveats in the documentation: https://pandas.pydata.org/pandas-docs/stable/user_guide/indexing.html#returning-a-view-versus-a-copy\n",
            "  df_plotting['Дата'] = df_plotting['Дата'].dt.strftime(\"%d.%m.%Y\") # временно, снять выделение\n"
          ]
        },
        {
          "name": "stdout",
          "output_type": "stream",
          "text": [
            "save_pic ТТ98\n"
          ]
        },
        {
          "name": "stderr",
          "output_type": "stream",
          "text": [
            "C:\\Users\\user\\AppData\\Local\\Temp\\ipykernel_12576\\1688310086.py:182: DeprecationWarning: ANTIALIAS is deprecated and will be removed in Pillow 10 (2023-07-01). Use Resampling.LANCZOS instead.\n",
            "  original_image = original_image.resize((width, h2), PIL_Image.ANTIALIAS)\n",
            "C:\\Users\\user\\AppData\\Local\\Temp\\ipykernel_12576\\1688310086.py:80: SettingWithCopyWarning: \n",
            "A value is trying to be set on a copy of a slice from a DataFrame.\n",
            "Try using .loc[row_indexer,col_indexer] = value instead\n",
            "\n",
            "See the caveats in the documentation: https://pandas.pydata.org/pandas-docs/stable/user_guide/indexing.html#returning-a-view-versus-a-copy\n",
            "  df_plotting['Дата'] = df_plotting['Дата'].dt.strftime(\"%d.%m.%Y\") # временно, снять выделение\n"
          ]
        },
        {
          "name": "stdout",
          "output_type": "stream",
          "text": [
            "save_pic ТТ118\n"
          ]
        },
        {
          "name": "stderr",
          "output_type": "stream",
          "text": [
            "C:\\Users\\user\\AppData\\Local\\Temp\\ipykernel_12576\\1688310086.py:182: DeprecationWarning: ANTIALIAS is deprecated and will be removed in Pillow 10 (2023-07-01). Use Resampling.LANCZOS instead.\n",
            "  original_image = original_image.resize((width, h2), PIL_Image.ANTIALIAS)\n",
            "C:\\Users\\user\\AppData\\Local\\Temp\\ipykernel_12576\\1688310086.py:80: SettingWithCopyWarning: \n",
            "A value is trying to be set on a copy of a slice from a DataFrame.\n",
            "Try using .loc[row_indexer,col_indexer] = value instead\n",
            "\n",
            "See the caveats in the documentation: https://pandas.pydata.org/pandas-docs/stable/user_guide/indexing.html#returning-a-view-versus-a-copy\n",
            "  df_plotting['Дата'] = df_plotting['Дата'].dt.strftime(\"%d.%m.%Y\") # временно, снять выделение\n"
          ]
        },
        {
          "name": "stdout",
          "output_type": "stream",
          "text": [
            "save_pic ТТ172\n"
          ]
        },
        {
          "name": "stderr",
          "output_type": "stream",
          "text": [
            "C:\\Users\\user\\AppData\\Local\\Temp\\ipykernel_12576\\1688310086.py:182: DeprecationWarning: ANTIALIAS is deprecated and will be removed in Pillow 10 (2023-07-01). Use Resampling.LANCZOS instead.\n",
            "  original_image = original_image.resize((width, h2), PIL_Image.ANTIALIAS)\n",
            "C:\\Users\\user\\AppData\\Local\\Temp\\ipykernel_12576\\1688310086.py:80: SettingWithCopyWarning: \n",
            "A value is trying to be set on a copy of a slice from a DataFrame.\n",
            "Try using .loc[row_indexer,col_indexer] = value instead\n",
            "\n",
            "See the caveats in the documentation: https://pandas.pydata.org/pandas-docs/stable/user_guide/indexing.html#returning-a-view-versus-a-copy\n",
            "  df_plotting['Дата'] = df_plotting['Дата'].dt.strftime(\"%d.%m.%Y\") # временно, снять выделение\n"
          ]
        },
        {
          "name": "stdout",
          "output_type": "stream",
          "text": [
            "save_pic ТТ96\n"
          ]
        },
        {
          "name": "stderr",
          "output_type": "stream",
          "text": [
            "C:\\Users\\user\\AppData\\Local\\Temp\\ipykernel_12576\\1688310086.py:182: DeprecationWarning: ANTIALIAS is deprecated and will be removed in Pillow 10 (2023-07-01). Use Resampling.LANCZOS instead.\n",
            "  original_image = original_image.resize((width, h2), PIL_Image.ANTIALIAS)\n",
            "C:\\Users\\user\\AppData\\Local\\Temp\\ipykernel_12576\\1688310086.py:80: SettingWithCopyWarning: \n",
            "A value is trying to be set on a copy of a slice from a DataFrame.\n",
            "Try using .loc[row_indexer,col_indexer] = value instead\n",
            "\n",
            "See the caveats in the documentation: https://pandas.pydata.org/pandas-docs/stable/user_guide/indexing.html#returning-a-view-versus-a-copy\n",
            "  df_plotting['Дата'] = df_plotting['Дата'].dt.strftime(\"%d.%m.%Y\") # временно, снять выделение\n"
          ]
        },
        {
          "name": "stdout",
          "output_type": "stream",
          "text": [
            "save_pic ТТ79\n"
          ]
        },
        {
          "name": "stderr",
          "output_type": "stream",
          "text": [
            "C:\\Users\\user\\AppData\\Local\\Temp\\ipykernel_12576\\1688310086.py:182: DeprecationWarning: ANTIALIAS is deprecated and will be removed in Pillow 10 (2023-07-01). Use Resampling.LANCZOS instead.\n",
            "  original_image = original_image.resize((width, h2), PIL_Image.ANTIALIAS)\n",
            "C:\\Users\\user\\AppData\\Local\\Temp\\ipykernel_12576\\1688310086.py:80: SettingWithCopyWarning: \n",
            "A value is trying to be set on a copy of a slice from a DataFrame.\n",
            "Try using .loc[row_indexer,col_indexer] = value instead\n",
            "\n",
            "See the caveats in the documentation: https://pandas.pydata.org/pandas-docs/stable/user_guide/indexing.html#returning-a-view-versus-a-copy\n",
            "  df_plotting['Дата'] = df_plotting['Дата'].dt.strftime(\"%d.%m.%Y\") # временно, снять выделение\n"
          ]
        },
        {
          "name": "stdout",
          "output_type": "stream",
          "text": [
            "save_pic ТТ159\n"
          ]
        },
        {
          "name": "stderr",
          "output_type": "stream",
          "text": [
            "C:\\Users\\user\\AppData\\Local\\Temp\\ipykernel_12576\\1688310086.py:182: DeprecationWarning: ANTIALIAS is deprecated and will be removed in Pillow 10 (2023-07-01). Use Resampling.LANCZOS instead.\n",
            "  original_image = original_image.resize((width, h2), PIL_Image.ANTIALIAS)\n",
            "C:\\Users\\user\\AppData\\Local\\Temp\\ipykernel_12576\\1688310086.py:80: SettingWithCopyWarning: \n",
            "A value is trying to be set on a copy of a slice from a DataFrame.\n",
            "Try using .loc[row_indexer,col_indexer] = value instead\n",
            "\n",
            "See the caveats in the documentation: https://pandas.pydata.org/pandas-docs/stable/user_guide/indexing.html#returning-a-view-versus-a-copy\n",
            "  df_plotting['Дата'] = df_plotting['Дата'].dt.strftime(\"%d.%m.%Y\") # временно, снять выделение\n"
          ]
        },
        {
          "name": "stdout",
          "output_type": "stream",
          "text": [
            "save_pic ТТ37\n"
          ]
        },
        {
          "name": "stderr",
          "output_type": "stream",
          "text": [
            "C:\\Users\\user\\AppData\\Local\\Temp\\ipykernel_12576\\1688310086.py:182: DeprecationWarning: ANTIALIAS is deprecated and will be removed in Pillow 10 (2023-07-01). Use Resampling.LANCZOS instead.\n",
            "  original_image = original_image.resize((width, h2), PIL_Image.ANTIALIAS)\n",
            "C:\\Users\\user\\AppData\\Local\\Temp\\ipykernel_12576\\1688310086.py:80: SettingWithCopyWarning: \n",
            "A value is trying to be set on a copy of a slice from a DataFrame.\n",
            "Try using .loc[row_indexer,col_indexer] = value instead\n",
            "\n",
            "See the caveats in the documentation: https://pandas.pydata.org/pandas-docs/stable/user_guide/indexing.html#returning-a-view-versus-a-copy\n",
            "  df_plotting['Дата'] = df_plotting['Дата'].dt.strftime(\"%d.%m.%Y\") # временно, снять выделение\n"
          ]
        },
        {
          "name": "stdout",
          "output_type": "stream",
          "text": [
            "save_pic ТТ132\n"
          ]
        },
        {
          "name": "stderr",
          "output_type": "stream",
          "text": [
            "C:\\Users\\user\\AppData\\Local\\Temp\\ipykernel_12576\\1688310086.py:177: DeprecationWarning: ANTIALIAS is deprecated and will be removed in Pillow 10 (2023-07-01). Use Resampling.LANCZOS instead.\n",
            "  original_image.thumbnail(max_size, PIL_Image.ANTIALIAS)\n",
            "C:\\Users\\user\\AppData\\Local\\Temp\\ipykernel_12576\\1688310086.py:80: SettingWithCopyWarning: \n",
            "A value is trying to be set on a copy of a slice from a DataFrame.\n",
            "Try using .loc[row_indexer,col_indexer] = value instead\n",
            "\n",
            "See the caveats in the documentation: https://pandas.pydata.org/pandas-docs/stable/user_guide/indexing.html#returning-a-view-versus-a-copy\n",
            "  df_plotting['Дата'] = df_plotting['Дата'].dt.strftime(\"%d.%m.%Y\") # временно, снять выделение\n"
          ]
        },
        {
          "name": "stdout",
          "output_type": "stream",
          "text": [
            "save_pic ТТ25\n"
          ]
        },
        {
          "name": "stderr",
          "output_type": "stream",
          "text": [
            "C:\\Users\\user\\AppData\\Local\\Temp\\ipykernel_12576\\1688310086.py:177: DeprecationWarning: ANTIALIAS is deprecated and will be removed in Pillow 10 (2023-07-01). Use Resampling.LANCZOS instead.\n",
            "  original_image.thumbnail(max_size, PIL_Image.ANTIALIAS)\n",
            "C:\\Users\\user\\AppData\\Local\\Temp\\ipykernel_12576\\1688310086.py:80: SettingWithCopyWarning: \n",
            "A value is trying to be set on a copy of a slice from a DataFrame.\n",
            "Try using .loc[row_indexer,col_indexer] = value instead\n",
            "\n",
            "See the caveats in the documentation: https://pandas.pydata.org/pandas-docs/stable/user_guide/indexing.html#returning-a-view-versus-a-copy\n",
            "  df_plotting['Дата'] = df_plotting['Дата'].dt.strftime(\"%d.%m.%Y\") # временно, снять выделение\n"
          ]
        },
        {
          "name": "stdout",
          "output_type": "stream",
          "text": [
            "save_pic ТТ85\n"
          ]
        },
        {
          "name": "stderr",
          "output_type": "stream",
          "text": [
            "C:\\Users\\user\\AppData\\Local\\Temp\\ipykernel_12576\\1688310086.py:177: DeprecationWarning: ANTIALIAS is deprecated and will be removed in Pillow 10 (2023-07-01). Use Resampling.LANCZOS instead.\n",
            "  original_image.thumbnail(max_size, PIL_Image.ANTIALIAS)\n",
            "C:\\Users\\user\\AppData\\Local\\Temp\\ipykernel_12576\\1688310086.py:80: SettingWithCopyWarning: \n",
            "A value is trying to be set on a copy of a slice from a DataFrame.\n",
            "Try using .loc[row_indexer,col_indexer] = value instead\n",
            "\n",
            "See the caveats in the documentation: https://pandas.pydata.org/pandas-docs/stable/user_guide/indexing.html#returning-a-view-versus-a-copy\n",
            "  df_plotting['Дата'] = df_plotting['Дата'].dt.strftime(\"%d.%m.%Y\") # временно, снять выделение\n"
          ]
        },
        {
          "name": "stdout",
          "output_type": "stream",
          "text": [
            "save_pic ТТ102\n"
          ]
        },
        {
          "name": "stderr",
          "output_type": "stream",
          "text": [
            "C:\\Users\\user\\AppData\\Local\\Temp\\ipykernel_12576\\1688310086.py:177: DeprecationWarning: ANTIALIAS is deprecated and will be removed in Pillow 10 (2023-07-01). Use Resampling.LANCZOS instead.\n",
            "  original_image.thumbnail(max_size, PIL_Image.ANTIALIAS)\n",
            "C:\\Users\\user\\AppData\\Local\\Temp\\ipykernel_12576\\1688310086.py:80: SettingWithCopyWarning: \n",
            "A value is trying to be set on a copy of a slice from a DataFrame.\n",
            "Try using .loc[row_indexer,col_indexer] = value instead\n",
            "\n",
            "See the caveats in the documentation: https://pandas.pydata.org/pandas-docs/stable/user_guide/indexing.html#returning-a-view-versus-a-copy\n",
            "  df_plotting['Дата'] = df_plotting['Дата'].dt.strftime(\"%d.%m.%Y\") # временно, снять выделение\n"
          ]
        },
        {
          "name": "stdout",
          "output_type": "stream",
          "text": [
            "save_pic ТТ174\n"
          ]
        },
        {
          "name": "stderr",
          "output_type": "stream",
          "text": [
            "C:\\Users\\user\\AppData\\Local\\Temp\\ipykernel_12576\\1688310086.py:177: DeprecationWarning: ANTIALIAS is deprecated and will be removed in Pillow 10 (2023-07-01). Use Resampling.LANCZOS instead.\n",
            "  original_image.thumbnail(max_size, PIL_Image.ANTIALIAS)\n",
            "C:\\Users\\user\\AppData\\Local\\Temp\\ipykernel_12576\\1688310086.py:80: SettingWithCopyWarning: \n",
            "A value is trying to be set on a copy of a slice from a DataFrame.\n",
            "Try using .loc[row_indexer,col_indexer] = value instead\n",
            "\n",
            "See the caveats in the documentation: https://pandas.pydata.org/pandas-docs/stable/user_guide/indexing.html#returning-a-view-versus-a-copy\n",
            "  df_plotting['Дата'] = df_plotting['Дата'].dt.strftime(\"%d.%m.%Y\") # временно, снять выделение\n"
          ]
        },
        {
          "name": "stdout",
          "output_type": "stream",
          "text": [
            "save_pic ТТ36\n"
          ]
        },
        {
          "name": "stderr",
          "output_type": "stream",
          "text": [
            "C:\\Users\\user\\AppData\\Local\\Temp\\ipykernel_12576\\1688310086.py:177: DeprecationWarning: ANTIALIAS is deprecated and will be removed in Pillow 10 (2023-07-01). Use Resampling.LANCZOS instead.\n",
            "  original_image.thumbnail(max_size, PIL_Image.ANTIALIAS)\n",
            "C:\\Users\\user\\AppData\\Local\\Temp\\ipykernel_12576\\1688310086.py:80: SettingWithCopyWarning: \n",
            "A value is trying to be set on a copy of a slice from a DataFrame.\n",
            "Try using .loc[row_indexer,col_indexer] = value instead\n",
            "\n",
            "See the caveats in the documentation: https://pandas.pydata.org/pandas-docs/stable/user_guide/indexing.html#returning-a-view-versus-a-copy\n",
            "  df_plotting['Дата'] = df_plotting['Дата'].dt.strftime(\"%d.%m.%Y\") # временно, снять выделение\n"
          ]
        },
        {
          "name": "stdout",
          "output_type": "stream",
          "text": [
            "save_pic ТТ10\n"
          ]
        },
        {
          "name": "stderr",
          "output_type": "stream",
          "text": [
            "C:\\Users\\user\\AppData\\Local\\Temp\\ipykernel_12576\\1688310086.py:182: DeprecationWarning: ANTIALIAS is deprecated and will be removed in Pillow 10 (2023-07-01). Use Resampling.LANCZOS instead.\n",
            "  original_image = original_image.resize((width, h2), PIL_Image.ANTIALIAS)\n",
            "C:\\Users\\user\\AppData\\Local\\Temp\\ipykernel_12576\\1688310086.py:80: SettingWithCopyWarning: \n",
            "A value is trying to be set on a copy of a slice from a DataFrame.\n",
            "Try using .loc[row_indexer,col_indexer] = value instead\n",
            "\n",
            "See the caveats in the documentation: https://pandas.pydata.org/pandas-docs/stable/user_guide/indexing.html#returning-a-view-versus-a-copy\n",
            "  df_plotting['Дата'] = df_plotting['Дата'].dt.strftime(\"%d.%m.%Y\") # временно, снять выделение\n"
          ]
        },
        {
          "name": "stdout",
          "output_type": "stream",
          "text": [
            "save_pic ТТ138\n"
          ]
        },
        {
          "name": "stderr",
          "output_type": "stream",
          "text": [
            "C:\\Users\\user\\AppData\\Local\\Temp\\ipykernel_12576\\1688310086.py:177: DeprecationWarning: ANTIALIAS is deprecated and will be removed in Pillow 10 (2023-07-01). Use Resampling.LANCZOS instead.\n",
            "  original_image.thumbnail(max_size, PIL_Image.ANTIALIAS)\n",
            "C:\\Users\\user\\AppData\\Local\\Temp\\ipykernel_12576\\1688310086.py:80: SettingWithCopyWarning: \n",
            "A value is trying to be set on a copy of a slice from a DataFrame.\n",
            "Try using .loc[row_indexer,col_indexer] = value instead\n",
            "\n",
            "See the caveats in the documentation: https://pandas.pydata.org/pandas-docs/stable/user_guide/indexing.html#returning-a-view-versus-a-copy\n",
            "  df_plotting['Дата'] = df_plotting['Дата'].dt.strftime(\"%d.%m.%Y\") # временно, снять выделение\n"
          ]
        },
        {
          "name": "stdout",
          "output_type": "stream",
          "text": [
            "save_pic ТТ146\n"
          ]
        },
        {
          "name": "stderr",
          "output_type": "stream",
          "text": [
            "C:\\Users\\user\\AppData\\Local\\Temp\\ipykernel_12576\\1688310086.py:182: DeprecationWarning: ANTIALIAS is deprecated and will be removed in Pillow 10 (2023-07-01). Use Resampling.LANCZOS instead.\n",
            "  original_image = original_image.resize((width, h2), PIL_Image.ANTIALIAS)\n",
            "C:\\Users\\user\\AppData\\Local\\Temp\\ipykernel_12576\\1688310086.py:80: SettingWithCopyWarning: \n",
            "A value is trying to be set on a copy of a slice from a DataFrame.\n",
            "Try using .loc[row_indexer,col_indexer] = value instead\n",
            "\n",
            "See the caveats in the documentation: https://pandas.pydata.org/pandas-docs/stable/user_guide/indexing.html#returning-a-view-versus-a-copy\n",
            "  df_plotting['Дата'] = df_plotting['Дата'].dt.strftime(\"%d.%m.%Y\") # временно, снять выделение\n"
          ]
        },
        {
          "name": "stdout",
          "output_type": "stream",
          "text": [
            "save_pic ТТ44\n"
          ]
        },
        {
          "name": "stderr",
          "output_type": "stream",
          "text": [
            "C:\\Users\\user\\AppData\\Local\\Temp\\ipykernel_12576\\1688310086.py:182: DeprecationWarning: ANTIALIAS is deprecated and will be removed in Pillow 10 (2023-07-01). Use Resampling.LANCZOS instead.\n",
            "  original_image = original_image.resize((width, h2), PIL_Image.ANTIALIAS)\n",
            "C:\\Users\\user\\AppData\\Local\\Temp\\ipykernel_12576\\1688310086.py:80: SettingWithCopyWarning: \n",
            "A value is trying to be set on a copy of a slice from a DataFrame.\n",
            "Try using .loc[row_indexer,col_indexer] = value instead\n",
            "\n",
            "See the caveats in the documentation: https://pandas.pydata.org/pandas-docs/stable/user_guide/indexing.html#returning-a-view-versus-a-copy\n",
            "  df_plotting['Дата'] = df_plotting['Дата'].dt.strftime(\"%d.%m.%Y\") # временно, снять выделение\n",
            "C:\\Users\\user\\AppData\\Local\\Temp\\ipykernel_12576\\1688310086.py:182: DeprecationWarning: ANTIALIAS is deprecated and will be removed in Pillow 10 (2023-07-01). Use Resampling.LANCZOS instead.\n",
            "  original_image = original_image.resize((width, h2), PIL_Image.ANTIALIAS)\n"
          ]
        },
        {
          "name": "stdout",
          "output_type": "stream",
          "text": [
            "save_pic ТТ42\n"
          ]
        },
        {
          "name": "stderr",
          "output_type": "stream",
          "text": [
            "C:\\Users\\user\\AppData\\Local\\Temp\\ipykernel_12576\\1688310086.py:80: SettingWithCopyWarning: \n",
            "A value is trying to be set on a copy of a slice from a DataFrame.\n",
            "Try using .loc[row_indexer,col_indexer] = value instead\n",
            "\n",
            "See the caveats in the documentation: https://pandas.pydata.org/pandas-docs/stable/user_guide/indexing.html#returning-a-view-versus-a-copy\n",
            "  df_plotting['Дата'] = df_plotting['Дата'].dt.strftime(\"%d.%m.%Y\") # временно, снять выделение\n"
          ]
        },
        {
          "name": "stdout",
          "output_type": "stream",
          "text": [
            "save_pic ТТ165\n"
          ]
        },
        {
          "name": "stderr",
          "output_type": "stream",
          "text": [
            "C:\\Users\\user\\AppData\\Local\\Temp\\ipykernel_12576\\1688310086.py:182: DeprecationWarning: ANTIALIAS is deprecated and will be removed in Pillow 10 (2023-07-01). Use Resampling.LANCZOS instead.\n",
            "  original_image = original_image.resize((width, h2), PIL_Image.ANTIALIAS)\n",
            "C:\\Users\\user\\AppData\\Local\\Temp\\ipykernel_12576\\1688310086.py:80: SettingWithCopyWarning: \n",
            "A value is trying to be set on a copy of a slice from a DataFrame.\n",
            "Try using .loc[row_indexer,col_indexer] = value instead\n",
            "\n",
            "See the caveats in the documentation: https://pandas.pydata.org/pandas-docs/stable/user_guide/indexing.html#returning-a-view-versus-a-copy\n",
            "  df_plotting['Дата'] = df_plotting['Дата'].dt.strftime(\"%d.%m.%Y\") # временно, снять выделение\n"
          ]
        },
        {
          "name": "stdout",
          "output_type": "stream",
          "text": [
            "save_pic ТТ26.4.1\n"
          ]
        },
        {
          "name": "stderr",
          "output_type": "stream",
          "text": [
            "C:\\Users\\user\\AppData\\Local\\Temp\\ipykernel_12576\\1688310086.py:182: DeprecationWarning: ANTIALIAS is deprecated and will be removed in Pillow 10 (2023-07-01). Use Resampling.LANCZOS instead.\n",
            "  original_image = original_image.resize((width, h2), PIL_Image.ANTIALIAS)\n",
            "C:\\Users\\user\\AppData\\Local\\Temp\\ipykernel_12576\\1688310086.py:80: SettingWithCopyWarning: \n",
            "A value is trying to be set on a copy of a slice from a DataFrame.\n",
            "Try using .loc[row_indexer,col_indexer] = value instead\n",
            "\n",
            "See the caveats in the documentation: https://pandas.pydata.org/pandas-docs/stable/user_guide/indexing.html#returning-a-view-versus-a-copy\n",
            "  df_plotting['Дата'] = df_plotting['Дата'].dt.strftime(\"%d.%m.%Y\") # временно, снять выделение\n"
          ]
        },
        {
          "name": "stdout",
          "output_type": "stream",
          "text": [
            "save_pic ТТ76\n"
          ]
        },
        {
          "name": "stderr",
          "output_type": "stream",
          "text": [
            "C:\\Users\\user\\AppData\\Local\\Temp\\ipykernel_12576\\1688310086.py:182: DeprecationWarning: ANTIALIAS is deprecated and will be removed in Pillow 10 (2023-07-01). Use Resampling.LANCZOS instead.\n",
            "  original_image = original_image.resize((width, h2), PIL_Image.ANTIALIAS)\n",
            "C:\\Users\\user\\AppData\\Local\\Temp\\ipykernel_12576\\1688310086.py:80: SettingWithCopyWarning: \n",
            "A value is trying to be set on a copy of a slice from a DataFrame.\n",
            "Try using .loc[row_indexer,col_indexer] = value instead\n",
            "\n",
            "See the caveats in the documentation: https://pandas.pydata.org/pandas-docs/stable/user_guide/indexing.html#returning-a-view-versus-a-copy\n",
            "  df_plotting['Дата'] = df_plotting['Дата'].dt.strftime(\"%d.%m.%Y\") # временно, снять выделение\n"
          ]
        },
        {
          "name": "stdout",
          "output_type": "stream",
          "text": [
            "save_pic ТТ155\n"
          ]
        },
        {
          "name": "stderr",
          "output_type": "stream",
          "text": [
            "C:\\Users\\user\\AppData\\Local\\Temp\\ipykernel_12576\\1688310086.py:182: DeprecationWarning: ANTIALIAS is deprecated and will be removed in Pillow 10 (2023-07-01). Use Resampling.LANCZOS instead.\n",
            "  original_image = original_image.resize((width, h2), PIL_Image.ANTIALIAS)\n"
          ]
        },
        {
          "name": "stdout",
          "output_type": "stream",
          "text": [
            "Vse\n"
          ]
        }
      ],
      "source": [
        "tech_name_of_area = '___'\n",
        "name_of_svodnaya_table = '___.xlsx'\n",
        "path_to_file = tech_name_of_area + '/' + name_of_svodnaya_table # относительный путь до приложения\n",
        "list_of_table_names = ['___'] #обрабатываемые листы в порядке заполнения пасспорта\n",
        "column_with_well_names = 'Unnamed: 3'\n",
        "name_of_area = 'Площадка ___' #название площадки\n",
        "\n",
        "do_you_want_refrest_graph = True # Хотите ли обновить графики (True - если хотим, False - если нет)\n",
        "df = read_df(path_to_file, list_of_table_names=list_of_table_names, name_of_area = name_of_area) # инициируем данные сводной ведомости в систему\n",
        "\n",
        "# задаём файл паспортов и сохранаяем его рядом с обрабатываемым файлом (сводной) (здесь _passports означает приписку к первоначальному файлу)\n",
        "name_of_passport_file = path_to_file[:-5]+'_passports'+ path_to_file[-5:] # имя пасспорта\n",
        "\n",
        "# def create_and_fill_xlsx_file(df, ): # попозже\n",
        "# создаем и заполняем экселевский файл\n",
        "wb = openpyxl.Workbook() # создаем файл\n",
        "list_of_unique_wells = list(df['Скважина'].dropna().unique()) # записываем имена пасспортов\n",
        "for well in list_of_unique_wells: # проходим циклом по именам пасспортов\n",
        "    df_of_well = df[df['Скважина'] == well] # пока обойдемся без сортировки\n",
        "    ws = wb.create_sheet(title = well)\n",
        "    fifteen_meter_well = False # по умолчанию\n",
        "\n",
        "    ### Заголовок паспорта термометрической скважины:\n",
        "    add_heading (well,)\n",
        "\n",
        "    ### Местоположение термоскважины\n",
        "    genplan_position = df_of_well['Позиция по ГП'].iloc[-1]\n",
        "    add_location(name_of_area, genplan_position)\n",
        "\n",
        "    ### Проверяем на 15-метровость скважины\n",
        "    if list(df_of_well['12.0'].dropna()) or list(df_of_well['14.0'].dropna()) or (list(df_of_well['15.0'].dropna())):\n",
        "      fifteen_meter_well = True\n",
        "    add_temperature_table(df_of_well, name_of_area, variant = 1)\n",
        "        \n",
        "wb.save(name_of_passport_file)\n",
        "\n",
        "print('Vse')"
      ]
    },
    {
      "cell_type": "markdown",
      "metadata": {
        "id": "Pmjmx4oqtRFx",
        "jp-MarkdownHeadingCollapsed": true,
        "tags": []
      },
      "source": [
        "## 2.ГПЭС"
      ]
    },
    {
      "cell_type": "code",
      "execution_count": null,
      "metadata": {
        "id": "k7v6UMHBtRFz",
        "jupyter": {
          "outputs_hidden": true
        },
        "scrolled": true,
        "tags": []
      },
      "outputs": [],
      "source": [
        "tech_name_of_area = '___'\n",
        "name_of_svodnaya_table = '___.xlsx'\n",
        "list_of_table_names = ['___',]\n",
        "\n",
        "path_to_file = tech_name_of_area + '/' + name_of_svodnaya_table\n",
        "column_with_well_names = 'Unnamed: 3'\n",
        "name_of_area = '___' #название площадки\n",
        "do_you_want_refrest_graph = True # Хотите ли обновить графики (True - если хотим, False - если нет)\n",
        "df = read_df(path_to_file, name_of_area, list_of_table_names) # инициируем данные сводной ведомости в систему\n",
        "\n",
        "# задаём файл паспортов и сохранаяем его рядом с обрабатываемым файлом (сводной) (здесь _passports означает приписку к первоначальному файлу)\n",
        "name_of_passport_file = path_to_file[:-5]+'_passports'+ path_to_file[-5:] # имя пасспорта\n",
        "\n",
        "# def create_and_fill_xlsx_file(df, ): # попозже\n",
        "# создаем и заполняем экселевский файл\n",
        "wb = openpyxl.Workbook() # создаем файл\n",
        "list_of_unique_wells = list(df['Скважина'].dropna().unique()) # записываем имена пасспортов\n",
        "for well in list_of_unique_wells: # проходим циклом по именам пасспортов\n",
        "    df_of_well = df[df['Скважина'] == well] # пока обойдемся без сортировки\n",
        "    ws = wb.create_sheet(title = well)\n",
        "    fifteen_meter_well = False # по умолчанию\n",
        "\n",
        "    ### Заголовок паспорта термометрической скважины:\n",
        "    add_heading (well,)\n",
        "\n",
        "    ### Местоположение термоскважины\n",
        "    genplan_position = df_of_well['Позиция по ГП'].iloc[-1]\n",
        "    add_location(name_of_area, genplan_position)\n",
        "\n",
        "    ### Проверяем на 15-метровость скважины\n",
        "    # if list(df_of_well['12.0'].dropna()) or list(df_of_well['14.0'].dropna()) or (list(df_of_well['15.0'].dropna())):\n",
        "    #   fifteen_meter_well = True\n",
        "    add_temperature_table(df_of_well, name_of_area, variant = 1)\n",
        "        \n",
        "wb.save(name_of_passport_file)\n",
        "\n",
        "print('Vse')"
      ]
    },
    {
      "cell_type": "markdown",
      "metadata": {
        "id": "LQKWE1obtRF0",
        "jp-MarkdownHeadingCollapsed": true,
        "tags": []
      },
      "source": [
        "## 3.___"
      ]
    },
    {
      "cell_type": "code",
      "execution_count": null,
      "metadata": {
        "colab": {
          "base_uri": "https://localhost:8080/"
        },
        "id": "CAQM-sNdtRF1",
        "jupyter": {
          "outputs_hidden": true
        },
        "outputId": "137af387-2cbe-4ab5-cb7c-ca03205a33f0",
        "tags": []
      },
      "outputs": [
        {
          "name": "stdout",
          "output_type": "stream",
          "text": [
            "Для скважины 118 отсутствует картинка местоположения\n",
            "Для скважины 167 отсутствует картинка местоположения\n",
            "Vse\n"
          ]
        }
      ],
      "source": [
        "tech_name_of_area = '___'\n",
        "name_of_svodnaya_table = 'Том VIII Приложение В (___).xlsx'\n",
        "list_of_table_names = ['___']\n",
        "\n",
        "path_to_file = tech_name_of_area + '/' + name_of_svodnaya_table\n",
        "\n",
        "column_with_well_names = 'Unnamed: 2'\n",
        "\n",
        "name_of_area = '___' #название площадки\n",
        "do_you_want_refrest_graph = False # Хотите ли обновить графики (True - если хотим, False - если нет)\n",
        "df = read_df(path_to_file, name_of_area, list_of_table_names, column_with_well_names = column_with_well_names) # инициируем данные сводной ведомости в систему\n",
        "\n",
        "# задаём файл паспортов и сохранаяем его рядом с обрабатываемым файлом (сводной) (здесь _passports означает приписку к первоначальному файлу)\n",
        "name_of_passport_file = path_to_file[:-5]+'_passports'+ path_to_file[-5:] # имя пасспорта\n",
        "\n",
        "# def create_and_fill_xlsx_file(df, ): # попозже\n",
        "# создаем и заполняем экселевский файл\n",
        "wb = openpyxl.Workbook() # создаем файл\n",
        "list_of_unique_wells = list(df['Скважина'].dropna().unique()) # записываем имена пасспортов\n",
        "for well in list_of_unique_wells: # проходим циклом по именам пасспортов\n",
        "    df_of_well = df[df['Скважина'] == well] # пока обойдемся без сортировки\n",
        "    ws = wb.create_sheet(title = well)\n",
        "    fifteen_meter_well = False # по умолчанию\n",
        "\n",
        "    ### Заголовок паспорта термометрической скважины:\n",
        "    add_heading (well,)\n",
        "\n",
        "    ### Местоположение термоскважины\n",
        "    genplan_position = df_of_well['Позиция по ГП'].iloc[-1]\n",
        "    add_location(name_of_area, genplan_position)\n",
        "\n",
        "    ## Проверяем на 15-метровость скважины\n",
        "    if list(df_of_well['12.0'].dropna()) or list(df_of_well['14.0'].dropna()) or (list(df_of_well['15.0'].dropna())):\n",
        "      fifteen_meter_well = True\n",
        "    add_temperature_table(df_of_well, name_of_area, variant = 1)\n",
        "        \n",
        "wb.save(name_of_passport_file)\n",
        "\n",
        "print('Vse')"
      ]
    },
    {
      "cell_type": "markdown",
      "metadata": {
        "id": "dgLIC_PZtRF2",
        "jp-MarkdownHeadingCollapsed": true,
        "tags": []
      },
      "source": [
        "## 4. ППиТБО"
      ]
    },
    {
      "cell_type": "code",
      "execution_count": null,
      "metadata": {
        "id": "af7xyugNxKOH",
        "jupyter": {
          "outputs_hidden": true
        },
        "tags": []
      },
      "outputs": [],
      "source": [
        "tech_name_of_area = 'ППиТБО'\n",
        "name_of_svodnaya_table = 'Том VIII Приложение Д (ПП и ТБО).xlsx'\n",
        "list_of_table_names = ['ППиТБО Осень 2019', 'ППиТБО Осень 2020', 'ППиТБО Весна 2021', \n",
        "                       'ППиТБО Осень 2021', 'ППиТБО Весна 2022', 'ППиТБО Осень 2022']\n",
        "\n",
        "path_to_file = tech_name_of_area + '/' + name_of_svodnaya_table\n",
        "\n",
        "column_with_well_names = 'Unnamed: 2'\n",
        "name_of_area = 'ППиТБО' #название площадки\n",
        "do_you_want_refrest_graph = True# Хотите ли обновить графики (True - если хотим, False - если нет)\n",
        "df = read_df(path_to_file, name_of_area, list_of_table_names, column_with_well_names = column_with_well_names) # инициируем данные сводной ведомости в систему\n",
        "\n",
        "df['Скважина']= df['Скважина'].str.split(\".\").str[0] # доабавляем костыли, по какой-то причине не удается переименовать дробную часть\n",
        "\n",
        "# задаём файл паспортов и сохранаяем его рядом с обрабатываемым файлом (сводной) (здесь _passports означает приписку к первоначальному файлу)\n",
        "name_of_passport_file = path_to_file[:-5]+'_passports'+ path_to_file[-5:] # имя пасспорта\n",
        "\n",
        "# def create_and_fill_xlsx_file(df, ): # попозже\n",
        "# создаем и заполняем экселевский файл\n",
        "wb = openpyxl.Workbook() # создаем файл\n",
        "list_of_unique_wells = list(df['Скважина'].dropna().unique()) # записываем имена пасспортов\n",
        "for well in list_of_unique_wells: # проходим циклом по именам пасспортов\n",
        "    df_of_well = df[df['Скважина'] == well] # пока обойдемся без сортировки\n",
        "    ws = wb.create_sheet(title = well)\n",
        "    fifteen_meter_well = False # по умолчанию\n",
        "\n",
        "    ### Заголовок паспорта термометрической скважины:\n",
        "    add_heading (well,)\n",
        "\n",
        "    ### Местоположение термоскважины\n",
        "    genplan_position = df_of_well['Позиция по ГП'].iloc[-1]\n",
        "    add_location(name_of_area, genplan_position)\n",
        "\n",
        "    ## Проверяем на 15-метровость скважины\n",
        "    if list(df_of_well['12.0'].dropna()) or list(df_of_well['14.0'].dropna()) or (list(df_of_well['15.0'].dropna())):\n",
        "      fifteen_meter_well = True\n",
        "    add_temperature_table(df_of_well, name_of_area, variant = 1)\n",
        "        \n",
        "wb.save(name_of_passport_file)\n",
        "\n",
        "print('Vse')"
      ]
    },
    {
      "cell_type": "markdown",
      "metadata": {
        "jp-MarkdownHeadingCollapsed": true,
        "tags": [],
        "id": "EAiNJ8CYNb07"
      },
      "source": [
        "## 5. Водозабор"
      ]
    },
    {
      "cell_type": "code",
      "execution_count": null,
      "metadata": {
        "id": "XxidUhR1Nb07"
      },
      "outputs": [],
      "source": [
        "tech_name_of_area = 'Водозабор'\n",
        "name_of_svodnaya_table = 'Том VIII Приложение Ъ_Водозабор.xlsx'\n",
        "list_of_table_names = ['Водозабор осень 2021', 'Водозабор весна 2022', 'Водозабор осень 2022', ] #обрабатываемые листы в порядке заполнения пасспорта\n",
        "path_to_file = tech_name_of_area + '/' + name_of_svodnaya_table\n",
        "\n",
        "column_with_well_names = 'Unnamed: 2'\n",
        "name_of_area = 'Водозабор' #название площадки\n",
        "do_you_want_refrest_graph = True # Хотите ли обновить графики (True - если хотим, False - если нет)\n",
        "df = read_df(path_to_file, name_of_area, list_of_table_names, column_with_well_names = column_with_well_names) # инициируем данные сводной ведомости в систему\n",
        "\n",
        "# задаём файл паспортов и сохранаяем его рядом с обрабатываемым файлом (сводной) (здесь _passports означает приписку к первоначальному файлу)\n",
        "name_of_passport_file = path_to_file[:-5]+'_passports'+ path_to_file[-5:] # имя пасспорта\n",
        "\n",
        "# def create_and_fill_xlsx_file(df, ): # попозже\n",
        "# создаем и заполняем экселевский файл\n",
        "wb = openpyxl.Workbook() # создаем файл\n",
        "list_of_unique_wells = list(df['Скважина'].dropna().unique()) # записываем имена пасспортов\n",
        "for well in list_of_unique_wells: # проходим циклом по именам пасспортов\n",
        "    df_of_well = df[df['Скважина'] == well] # пока обойдемся без сортировки\n",
        "    ws = wb.create_sheet(title = well)\n",
        "    fifteen_meter_well = False # по умолчанию\n",
        "\n",
        "    ### Заголовок паспорта термометрической скважины:\n",
        "    add_heading (well,)\n",
        "\n",
        "    ### Местоположение термоскважины\n",
        "    genplan_position = df_of_well['Позиция по ГП'].iloc[-1]\n",
        "    add_location(name_of_area, genplan_position)\n",
        "\n",
        "    ## Проверяем на 15-метровость скважины\n",
        "    if list(df_of_well['12.0'].dropna()) or list(df_of_well['14.0'].dropna()) or (list(df_of_well['15.0'].dropna())):\n",
        "      fifteen_meter_well = True\n",
        "    add_temperature_table(df_of_well, name_of_area, variant = 1)\n",
        "        \n",
        "wb.save(name_of_passport_file)\n",
        "\n",
        "print('Vse')"
      ]
    },
    {
      "cell_type": "markdown",
      "metadata": {
        "id": "syTTaX02cWx8",
        "jp-MarkdownHeadingCollapsed": true,
        "tags": []
      },
      "source": [
        "## 6. Обрабатываем ___"
      ]
    },
    {
      "cell_type": "code",
      "execution_count": null,
      "metadata": {
        "colab": {
          "base_uri": "https://localhost:8080/"
        },
        "id": "C2i7IgSD04Lo",
        "jupyter": {
          "outputs_hidden": true
        },
        "outputId": "17aff80e-fd30-48a2-c8c9-3928c8c6be42",
        "tags": []
      },
      "outputs": [
        {
          "name": "stderr",
          "output_type": "stream",
          "text": [
            "C:\\Users\\user\\anaconda3\\lib\\site-packages\\pandas\\core\\tools\\datetimes.py:1047: UserWarning: Parsing '13.10.2021' in DD/MM/YYYY format. Provide format or specify infer_datetime_format=True for consistent parsing.\n",
            "  cache_array = _maybe_cache(arg, format, cache, convert_listlike)\n",
            "C:\\Users\\user\\anaconda3\\lib\\site-packages\\pandas\\core\\tools\\datetimes.py:1047: UserWarning: Parsing '14.10.2021' in DD/MM/YYYY format. Provide format or specify infer_datetime_format=True for consistent parsing.\n",
            "  cache_array = _maybe_cache(arg, format, cache, convert_listlike)\n",
            "C:\\Users\\user\\AppData\\Local\\Temp\\ipykernel_12576\\1688310086.py:177: DeprecationWarning: ANTIALIAS is deprecated and will be removed in Pillow 10 (2023-07-01). Use Resampling.LANCZOS instead.\n",
            "  original_image.thumbnail(max_size, PIL_Image.ANTIALIAS)\n",
            "C:\\Users\\user\\AppData\\Local\\Temp\\ipykernel_12576\\1688310086.py:182: DeprecationWarning: ANTIALIAS is deprecated and will be removed in Pillow 10 (2023-07-01). Use Resampling.LANCZOS instead.\n",
            "  original_image = original_image.resize((width, h2), PIL_Image.ANTIALIAS)\n"
          ]
        },
        {
          "name": "stdout",
          "output_type": "stream",
          "text": [
            "Для скважины ТС19_1 отсутствует картинка местоположения\n",
            "Для скважины ТС123.7_1 отсутствует картинка местоположения\n",
            "Для скважины ТС148_1 отсутствует картинка местоположения\n",
            "Для скважины ТС148_2 отсутствует картинка местоположения\n",
            "Для скважины 7.ТСНн2 отсутствует картинка местоположения\n",
            "Для скважины ТС146доп_1 отсутствует картинка местоположения\n",
            "Для скважины ТС208_1 отсутствует картинка местоположения\n",
            "Для скважины ТС221.8_1 отсутствует картинка местоположения\n",
            "Для скважины ТС26_1 отсутствует картинка местоположения\n",
            "Для скважины ТС28.3_1 отсутствует картинка местоположения\n",
            "Для скважины ТС47_1 отсутствует картинка местоположения\n",
            "Для скважины ТС83.1_1 отсутствует картинка местоположения\n",
            "Для скважины ТС85_1 отсутствует картинка местоположения\n",
            "Для скважины ТС161.3_1 отсутствует картинка местоположения\n",
            "Для скважины ТС103.1_1 отсутствует картинка местоположения\n",
            "Для скважины ТС157.8_1 отсутствует картинка местоположения\n",
            "Для скважины ТС162.3_1 отсутствует картинка местоположения\n",
            "Для скважины ТС39_1 отсутствует картинка местоположения\n",
            "Для скважины ТС 7Н1 отсутствует картинка местоположения\n",
            "Для скважины ТС 7Нн1 отсутствует картинка местоположения\n",
            "Для скважины ТС 8Нн2 отсутствует картинка местоположения\n",
            "Для скважины ТС 8Н1 отсутствует картинка местоположения\n",
            "Для скважины ТС 9Нн2 отсутствует картинка местоположения\n",
            "Для скважины ТС 9Н1 отсутствует картинка местоположения\n",
            "Для скважины ТС 9Нн1 отсутствует картинка местоположения\n",
            "Для скважины ТС10.1_1 отсутствует картинка местоположения\n",
            "Для скважины ТС28.1_1 отсутствует картинка местоположения\n",
            "Для скважины ТС28.1_2 отсутствует картинка местоположения\n",
            "Для скважины ТС28.2.3_1 отсутствует картинка местоположения\n",
            "Для скважины ТС28.2.3_2 отсутствует картинка местоположения\n",
            "Для скважины ТС28.2.3_3 отсутствует картинка местоположения\n",
            "Для скважины ТС28.2.3_4 отсутствует картинка местоположения\n",
            "Для скважины ТС28.2.3_5 отсутствует картинка местоположения\n",
            "Для скважины ТС28.2.4_1 отсутствует картинка местоположения\n",
            "Для скважины ТС28.2.4_2 отсутствует картинка местоположения\n",
            "Для скважины ТС28.2.4_3 отсутствует картинка местоположения\n",
            "Для скважины ТС95_1 отсутствует картинка местоположения\n",
            "Для скважины ТС123.19_1 отсутствует картинка местоположения\n",
            "Для скважины ТС123.28_1 отсутствует картинка местоположения\n",
            "Для скважины ТС135_1 отсутствует картинка местоположения\n",
            "Для скважины ТС135_2 отсутствует картинка местоположения\n",
            "Для скважины ТС135_3 отсутствует картинка местоположения\n",
            "Для скважины ТС135_4 отсутствует картинка местоположения\n",
            "Для скважины ТС157_2 отсутствует картинка местоположения\n",
            "Для скважины ТС157_4 отсутствует картинка местоположения\n",
            "Для скважины ТС157_6 отсутствует картинка местоположения\n",
            "Для скважины ТС160_1 отсутствует картинка местоположения\n",
            "Для скважины ТС161_1 отсутствует картинка местоположения\n",
            "Для скважины ТС161_2 отсутствует картинка местоположения\n",
            "Для скважины ТС162_2 отсутствует картинка местоположения\n",
            "Для скважины ТС163_2(131_2) отсутствует картинка местоположения\n",
            "Для скважины ТС163_4(131_4) отсутствует картинка местоположения\n",
            "Для скважины ТС221.5_1 отсутствует картинка местоположения\n",
            "Vse\n"
          ]
        }
      ],
      "source": [
        "tech_name_of_area = '___'\n",
        "name_of_svodnaya_table = '___.xlsx'\n",
        "list_of_table_names = ['___',]\n",
        "path_to_file = tech_name_of_area + '/' + name_of_svodnaya_table\n",
        "\n",
        "\n",
        "column_with_well_names = 'Unnamed: 2'\n",
        "name_of_area = 'Площадка ___' #название площадки\n",
        "do_you_want_refrest_graph = False # Хотите ли обновить графики (True - если хотим, False - если нет)\n",
        "df = read_df(path_to_file, list_of_table_names=list_of_table_names, name_of_area = name_of_area, column_with_well_names = column_with_well_names) # инициируем данные сводной ведомости в систему\n",
        "df.loc[df['№ Термокосы'].isnull(), '№ Термокосы'] = '' # для наглядности пасспортов\n",
        "df['Дата'] = pd.to_datetime(df['Дата'], errors='coerce') # правка, хз почему необходимо вручную пробивать\n",
        "# задаём файл паспортов и сохранаяем его рядом с обрабатываемым файлом (сводной) (здесь _passports означает приписку к первоначальному файлу)\n",
        "name_of_passport_file = path_to_file[:-5]+'_passports'+ path_to_file[-5:] # имя пасспорта\n",
        "\n",
        "# def create_and_fill_xlsx_file(df, ): # попозже\n",
        "# создаем и заполняем экселевский файл\n",
        "wb = openpyxl.Workbook() # создаем файл\n",
        "list_of_unique_wells = list(df['Скважина'].dropna().unique()) # записываем имена пасспортов\n",
        "for well in list_of_unique_wells: # проходим циклом по именам пасспортов\n",
        "    \n",
        "    df_of_well = df[df['Скважина'] == well] # пока обойдемся без сортировки\n",
        "    \n",
        "    well = well.replace('/', '_')\n",
        "    # df_of_well['Скважина'] = \n",
        "    ws = wb.create_sheet(title = well)\n",
        "    fifteen_meter_well = False # исправленно на FALSE 19.05.2022\n",
        "\n",
        "    ### Заголовок паспорта термометрической скважины:\n",
        "    add_heading (well,)\n",
        "\n",
        "    ### Местоположение термоскважины\n",
        "    genplan_position = df_of_well['Позиция по ГП'].iloc[-1]\n",
        "    add_location(name_of_area, genplan_position)\n",
        "\n",
        "    ### Проверяем на 15-метровость скважины\n",
        "    if list(df_of_well['12.0'].dropna()) or list(df_of_well['14.0'].dropna()) or (list(df_of_well['15.0'].dropna())):\n",
        "      fifteen_meter_well = True\n",
        "    add_temperature_table(df_of_well, name_of_area, variant = 1)\n",
        "    ###########################\n",
        "\n",
        "        \n",
        "wb.save(name_of_passport_file)\n",
        "\n",
        "print('Vse')"
      ]
    },
    {
      "cell_type": "markdown",
      "metadata": {
        "id": "3r4NGrH2YOK5",
        "jp-MarkdownHeadingCollapsed": true,
        "tags": []
      },
      "source": [
        "## 7. ВЖК"
      ]
    },
    {
      "cell_type": "code",
      "execution_count": null,
      "metadata": {
        "colab": {
          "base_uri": "https://localhost:8080/"
        },
        "id": "20XWr1rTYRra",
        "outputId": "821b71d7-2f9b-4dc3-dd57-1e91170dd9ad",
        "tags": []
      },
      "outputs": [
        {
          "name": "stdout",
          "output_type": "stream",
          "text": [
            "Для скважины ТС 88 отсутствует картинка местоположения\n",
            "Vse\n"
          ]
        }
      ],
      "source": [
        "tech_name_of_area = '___'\n",
        "name_of_svodnaya_table = '___.xlsx'\n",
        "list_of_table_names = ['___']\n",
        "path_to_file = tech_name_of_area + '/' + name_of_svodnaya_table\n",
        "\n",
        "column_with_well_names = 'Unnamed: 2'\n",
        "name_of_area = '___' #название площадки\n",
        "do_you_want_refrest_graph = False # Хотите ли обновить графики (True - если хотим, False - если нет)\n",
        "df = read_df(path_to_file, list_of_table_names=list_of_table_names, name_of_area = name_of_area, column_with_well_names = column_with_well_names) # инициируем данные сводной ведомости в систему\n",
        "\n",
        "# задаём файл паспортов и сохранаяем его рядом с обрабатываемым файлом (сводной) (здесь _passports означает приписку к первоначальному файлу)\n",
        "name_of_passport_file = path_to_file[:-5]+'_passports'+ path_to_file[-5:] # имя пасспорта\n",
        "\n",
        "# def create_and_fill_xlsx_file(df, ): # попозже\n",
        "# создаем и заполняем экселевский файл\n",
        "wb = openpyxl.Workbook() # создаем файл\n",
        "list_of_unique_wells = list(df['Скважина'].dropna().unique()) # записываем имена пасспортов\n",
        "for well in list_of_unique_wells: # проходим циклом по именам пасспортов\n",
        "    \n",
        "    df_of_well = df[df['Скважина'] == well] # пока обойдемся без сортировки\n",
        "    well = well.replace('/', '_')\n",
        "    # df_of_well['Скважина'] = \n",
        "    ws = wb.create_sheet(title = well)\n",
        "    fifteen_meter_well = False # по умолчанию\n",
        "\n",
        "    ### Заголовок паспорта термометрической скважины:\n",
        "    add_heading (well,)\n",
        "\n",
        "    ### Местоположение термоскважины\n",
        "    genplan_position = df_of_well['Позиция по ГП'].iloc[-1]\n",
        "    add_location(name_of_area, genplan_position)\n",
        "\n",
        "    ### Проверяем на 15-метровость скважины\n",
        "    if list(df_of_well['12.0'].dropna()) or list(df_of_well['14.0'].dropna()) or (list(df_of_well['15.0'].dropna())):\n",
        "      fifteen_meter_well = True\n",
        "    add_temperature_table(df_of_well, name_of_area, variant = 1)\n",
        "        \n",
        "wb.save(name_of_passport_file)\n",
        "\n",
        "print('Vse')"
      ]
    },
    {
      "cell_type": "markdown",
      "metadata": {
        "id": "Kng5j2u2VFe-",
        "tags": []
      },
      "source": [
        "## 8. Обрабатываем ___"
      ]
    },
    {
      "cell_type": "code",
      "execution_count": null,
      "metadata": {
        "colab": {
          "base_uri": "https://localhost:8080/"
        },
        "id": "bzfulxsuVLDs",
        "jupyter": {
          "outputs_hidden": true
        },
        "outputId": "d4524504-3238-4b12-c6cf-aeed3526b575",
        "tags": []
      },
      "outputs": [
        {
          "name": "stderr",
          "output_type": "stream",
          "text": [
            "C:\\Users\\user\\AppData\\Local\\Temp\\ipykernel_16956\\1688310086.py:80: SettingWithCopyWarning: \n",
            "A value is trying to be set on a copy of a slice from a DataFrame.\n",
            "Try using .loc[row_indexer,col_indexer] = value instead\n",
            "\n",
            "See the caveats in the documentation: https://pandas.pydata.org/pandas-docs/stable/user_guide/indexing.html#returning-a-view-versus-a-copy\n",
            "  df_plotting['Дата'] = df_plotting['Дата'].dt.strftime(\"%d.%m.%Y\") # временно, снять выделение\n"
          ]
        },
        {
          "name": "stdout",
          "output_type": "stream",
          "text": [
            "save_pic 1\n"
          ]
        },
        {
          "name": "stderr",
          "output_type": "stream",
          "text": [
            "C:\\Users\\user\\AppData\\Local\\Temp\\ipykernel_16956\\1688310086.py:182: DeprecationWarning: ANTIALIAS is deprecated and will be removed in Pillow 10 (2023-07-01). Use Resampling.LANCZOS instead.\n",
            "  original_image = original_image.resize((width, h2), PIL_Image.ANTIALIAS)\n",
            "C:\\Users\\user\\AppData\\Local\\Temp\\ipykernel_16956\\1688310086.py:80: SettingWithCopyWarning: \n",
            "A value is trying to be set on a copy of a slice from a DataFrame.\n",
            "Try using .loc[row_indexer,col_indexer] = value instead\n",
            "\n",
            "See the caveats in the documentation: https://pandas.pydata.org/pandas-docs/stable/user_guide/indexing.html#returning-a-view-versus-a-copy\n",
            "  df_plotting['Дата'] = df_plotting['Дата'].dt.strftime(\"%d.%m.%Y\") # временно, снять выделение\n"
          ]
        },
        {
          "name": "stdout",
          "output_type": "stream",
          "text": [
            "save_pic 2\n"
          ]
        },
        {
          "name": "stderr",
          "output_type": "stream",
          "text": [
            "C:\\Users\\user\\AppData\\Local\\Temp\\ipykernel_16956\\1688310086.py:182: DeprecationWarning: ANTIALIAS is deprecated and will be removed in Pillow 10 (2023-07-01). Use Resampling.LANCZOS instead.\n",
            "  original_image = original_image.resize((width, h2), PIL_Image.ANTIALIAS)\n",
            "C:\\Users\\user\\AppData\\Local\\Temp\\ipykernel_16956\\1688310086.py:80: SettingWithCopyWarning: \n",
            "A value is trying to be set on a copy of a slice from a DataFrame.\n",
            "Try using .loc[row_indexer,col_indexer] = value instead\n",
            "\n",
            "See the caveats in the documentation: https://pandas.pydata.org/pandas-docs/stable/user_guide/indexing.html#returning-a-view-versus-a-copy\n",
            "  df_plotting['Дата'] = df_plotting['Дата'].dt.strftime(\"%d.%m.%Y\") # временно, снять выделение\n"
          ]
        },
        {
          "name": "stdout",
          "output_type": "stream",
          "text": [
            "save_pic 3\n"
          ]
        },
        {
          "name": "stderr",
          "output_type": "stream",
          "text": [
            "C:\\Users\\user\\AppData\\Local\\Temp\\ipykernel_16956\\1688310086.py:182: DeprecationWarning: ANTIALIAS is deprecated and will be removed in Pillow 10 (2023-07-01). Use Resampling.LANCZOS instead.\n",
            "  original_image = original_image.resize((width, h2), PIL_Image.ANTIALIAS)\n",
            "C:\\Users\\user\\AppData\\Local\\Temp\\ipykernel_16956\\1688310086.py:80: SettingWithCopyWarning: \n",
            "A value is trying to be set on a copy of a slice from a DataFrame.\n",
            "Try using .loc[row_indexer,col_indexer] = value instead\n",
            "\n",
            "See the caveats in the documentation: https://pandas.pydata.org/pandas-docs/stable/user_guide/indexing.html#returning-a-view-versus-a-copy\n",
            "  df_plotting['Дата'] = df_plotting['Дата'].dt.strftime(\"%d.%m.%Y\") # временно, снять выделение\n"
          ]
        },
        {
          "name": "stdout",
          "output_type": "stream",
          "text": [
            "save_pic 4\n"
          ]
        },
        {
          "name": "stderr",
          "output_type": "stream",
          "text": [
            "C:\\Users\\user\\AppData\\Local\\Temp\\ipykernel_16956\\1688310086.py:182: DeprecationWarning: ANTIALIAS is deprecated and will be removed in Pillow 10 (2023-07-01). Use Resampling.LANCZOS instead.\n",
            "  original_image = original_image.resize((width, h2), PIL_Image.ANTIALIAS)\n",
            "C:\\Users\\user\\AppData\\Local\\Temp\\ipykernel_16956\\1688310086.py:80: SettingWithCopyWarning: \n",
            "A value is trying to be set on a copy of a slice from a DataFrame.\n",
            "Try using .loc[row_indexer,col_indexer] = value instead\n",
            "\n",
            "See the caveats in the documentation: https://pandas.pydata.org/pandas-docs/stable/user_guide/indexing.html#returning-a-view-versus-a-copy\n",
            "  df_plotting['Дата'] = df_plotting['Дата'].dt.strftime(\"%d.%m.%Y\") # временно, снять выделение\n"
          ]
        },
        {
          "name": "stdout",
          "output_type": "stream",
          "text": [
            "save_pic 5\n"
          ]
        },
        {
          "name": "stderr",
          "output_type": "stream",
          "text": [
            "C:\\Users\\user\\AppData\\Local\\Temp\\ipykernel_16956\\1688310086.py:182: DeprecationWarning: ANTIALIAS is deprecated and will be removed in Pillow 10 (2023-07-01). Use Resampling.LANCZOS instead.\n",
            "  original_image = original_image.resize((width, h2), PIL_Image.ANTIALIAS)\n",
            "C:\\Users\\user\\AppData\\Local\\Temp\\ipykernel_16956\\1688310086.py:80: SettingWithCopyWarning: \n",
            "A value is trying to be set on a copy of a slice from a DataFrame.\n",
            "Try using .loc[row_indexer,col_indexer] = value instead\n",
            "\n",
            "See the caveats in the documentation: https://pandas.pydata.org/pandas-docs/stable/user_guide/indexing.html#returning-a-view-versus-a-copy\n",
            "  df_plotting['Дата'] = df_plotting['Дата'].dt.strftime(\"%d.%m.%Y\") # временно, снять выделение\n"
          ]
        },
        {
          "name": "stdout",
          "output_type": "stream",
          "text": [
            "save_pic 6\n"
          ]
        },
        {
          "name": "stderr",
          "output_type": "stream",
          "text": [
            "C:\\Users\\user\\AppData\\Local\\Temp\\ipykernel_16956\\1688310086.py:182: DeprecationWarning: ANTIALIAS is deprecated and will be removed in Pillow 10 (2023-07-01). Use Resampling.LANCZOS instead.\n",
            "  original_image = original_image.resize((width, h2), PIL_Image.ANTIALIAS)\n",
            "C:\\Users\\user\\AppData\\Local\\Temp\\ipykernel_16956\\1688310086.py:80: SettingWithCopyWarning: \n",
            "A value is trying to be set on a copy of a slice from a DataFrame.\n",
            "Try using .loc[row_indexer,col_indexer] = value instead\n",
            "\n",
            "See the caveats in the documentation: https://pandas.pydata.org/pandas-docs/stable/user_guide/indexing.html#returning-a-view-versus-a-copy\n",
            "  df_plotting['Дата'] = df_plotting['Дата'].dt.strftime(\"%d.%m.%Y\") # временно, снять выделение\n"
          ]
        },
        {
          "name": "stdout",
          "output_type": "stream",
          "text": [
            "save_pic 7\n"
          ]
        },
        {
          "name": "stderr",
          "output_type": "stream",
          "text": [
            "C:\\Users\\user\\AppData\\Local\\Temp\\ipykernel_16956\\1688310086.py:182: DeprecationWarning: ANTIALIAS is deprecated and will be removed in Pillow 10 (2023-07-01). Use Resampling.LANCZOS instead.\n",
            "  original_image = original_image.resize((width, h2), PIL_Image.ANTIALIAS)\n",
            "C:\\Users\\user\\AppData\\Local\\Temp\\ipykernel_16956\\1688310086.py:80: SettingWithCopyWarning: \n",
            "A value is trying to be set on a copy of a slice from a DataFrame.\n",
            "Try using .loc[row_indexer,col_indexer] = value instead\n",
            "\n",
            "See the caveats in the documentation: https://pandas.pydata.org/pandas-docs/stable/user_guide/indexing.html#returning-a-view-versus-a-copy\n",
            "  df_plotting['Дата'] = df_plotting['Дата'].dt.strftime(\"%d.%m.%Y\") # временно, снять выделение\n"
          ]
        },
        {
          "name": "stdout",
          "output_type": "stream",
          "text": [
            "save_pic 8\n"
          ]
        },
        {
          "name": "stderr",
          "output_type": "stream",
          "text": [
            "C:\\Users\\user\\AppData\\Local\\Temp\\ipykernel_16956\\1688310086.py:182: DeprecationWarning: ANTIALIAS is deprecated and will be removed in Pillow 10 (2023-07-01). Use Resampling.LANCZOS instead.\n",
            "  original_image = original_image.resize((width, h2), PIL_Image.ANTIALIAS)\n",
            "C:\\Users\\user\\AppData\\Local\\Temp\\ipykernel_16956\\1688310086.py:80: SettingWithCopyWarning: \n",
            "A value is trying to be set on a copy of a slice from a DataFrame.\n",
            "Try using .loc[row_indexer,col_indexer] = value instead\n",
            "\n",
            "See the caveats in the documentation: https://pandas.pydata.org/pandas-docs/stable/user_guide/indexing.html#returning-a-view-versus-a-copy\n",
            "  df_plotting['Дата'] = df_plotting['Дата'].dt.strftime(\"%d.%m.%Y\") # временно, снять выделение\n"
          ]
        },
        {
          "name": "stdout",
          "output_type": "stream",
          "text": [
            "save_pic 9\n"
          ]
        },
        {
          "name": "stderr",
          "output_type": "stream",
          "text": [
            "C:\\Users\\user\\AppData\\Local\\Temp\\ipykernel_16956\\1688310086.py:182: DeprecationWarning: ANTIALIAS is deprecated and will be removed in Pillow 10 (2023-07-01). Use Resampling.LANCZOS instead.\n",
            "  original_image = original_image.resize((width, h2), PIL_Image.ANTIALIAS)\n",
            "C:\\Users\\user\\AppData\\Local\\Temp\\ipykernel_16956\\1688310086.py:80: SettingWithCopyWarning: \n",
            "A value is trying to be set on a copy of a slice from a DataFrame.\n",
            "Try using .loc[row_indexer,col_indexer] = value instead\n",
            "\n",
            "See the caveats in the documentation: https://pandas.pydata.org/pandas-docs/stable/user_guide/indexing.html#returning-a-view-versus-a-copy\n",
            "  df_plotting['Дата'] = df_plotting['Дата'].dt.strftime(\"%d.%m.%Y\") # временно, снять выделение\n"
          ]
        },
        {
          "name": "stdout",
          "output_type": "stream",
          "text": [
            "save_pic 10\n"
          ]
        },
        {
          "name": "stderr",
          "output_type": "stream",
          "text": [
            "C:\\Users\\user\\AppData\\Local\\Temp\\ipykernel_16956\\1688310086.py:182: DeprecationWarning: ANTIALIAS is deprecated and will be removed in Pillow 10 (2023-07-01). Use Resampling.LANCZOS instead.\n",
            "  original_image = original_image.resize((width, h2), PIL_Image.ANTIALIAS)\n",
            "C:\\Users\\user\\AppData\\Local\\Temp\\ipykernel_16956\\1688310086.py:80: SettingWithCopyWarning: \n",
            "A value is trying to be set on a copy of a slice from a DataFrame.\n",
            "Try using .loc[row_indexer,col_indexer] = value instead\n",
            "\n",
            "See the caveats in the documentation: https://pandas.pydata.org/pandas-docs/stable/user_guide/indexing.html#returning-a-view-versus-a-copy\n",
            "  df_plotting['Дата'] = df_plotting['Дата'].dt.strftime(\"%d.%m.%Y\") # временно, снять выделение\n"
          ]
        },
        {
          "name": "stdout",
          "output_type": "stream",
          "text": [
            "save_pic 11\n"
          ]
        },
        {
          "name": "stderr",
          "output_type": "stream",
          "text": [
            "C:\\Users\\user\\AppData\\Local\\Temp\\ipykernel_16956\\1688310086.py:182: DeprecationWarning: ANTIALIAS is deprecated and will be removed in Pillow 10 (2023-07-01). Use Resampling.LANCZOS instead.\n",
            "  original_image = original_image.resize((width, h2), PIL_Image.ANTIALIAS)\n",
            "C:\\Users\\user\\AppData\\Local\\Temp\\ipykernel_16956\\1688310086.py:80: SettingWithCopyWarning: \n",
            "A value is trying to be set on a copy of a slice from a DataFrame.\n",
            "Try using .loc[row_indexer,col_indexer] = value instead\n",
            "\n",
            "See the caveats in the documentation: https://pandas.pydata.org/pandas-docs/stable/user_guide/indexing.html#returning-a-view-versus-a-copy\n",
            "  df_plotting['Дата'] = df_plotting['Дата'].dt.strftime(\"%d.%m.%Y\") # временно, снять выделение\n"
          ]
        },
        {
          "name": "stdout",
          "output_type": "stream",
          "text": [
            "save_pic 12\n"
          ]
        },
        {
          "name": "stderr",
          "output_type": "stream",
          "text": [
            "C:\\Users\\user\\AppData\\Local\\Temp\\ipykernel_16956\\1688310086.py:182: DeprecationWarning: ANTIALIAS is deprecated and will be removed in Pillow 10 (2023-07-01). Use Resampling.LANCZOS instead.\n",
            "  original_image = original_image.resize((width, h2), PIL_Image.ANTIALIAS)\n",
            "C:\\Users\\user\\AppData\\Local\\Temp\\ipykernel_16956\\1688310086.py:80: SettingWithCopyWarning: \n",
            "A value is trying to be set on a copy of a slice from a DataFrame.\n",
            "Try using .loc[row_indexer,col_indexer] = value instead\n",
            "\n",
            "See the caveats in the documentation: https://pandas.pydata.org/pandas-docs/stable/user_guide/indexing.html#returning-a-view-versus-a-copy\n",
            "  df_plotting['Дата'] = df_plotting['Дата'].dt.strftime(\"%d.%m.%Y\") # временно, снять выделение\n"
          ]
        },
        {
          "name": "stdout",
          "output_type": "stream",
          "text": [
            "save_pic 13\n"
          ]
        },
        {
          "name": "stderr",
          "output_type": "stream",
          "text": [
            "C:\\Users\\user\\AppData\\Local\\Temp\\ipykernel_16956\\1688310086.py:182: DeprecationWarning: ANTIALIAS is deprecated and will be removed in Pillow 10 (2023-07-01). Use Resampling.LANCZOS instead.\n",
            "  original_image = original_image.resize((width, h2), PIL_Image.ANTIALIAS)\n",
            "C:\\Users\\user\\AppData\\Local\\Temp\\ipykernel_16956\\1688310086.py:80: SettingWithCopyWarning: \n",
            "A value is trying to be set on a copy of a slice from a DataFrame.\n",
            "Try using .loc[row_indexer,col_indexer] = value instead\n",
            "\n",
            "See the caveats in the documentation: https://pandas.pydata.org/pandas-docs/stable/user_guide/indexing.html#returning-a-view-versus-a-copy\n",
            "  df_plotting['Дата'] = df_plotting['Дата'].dt.strftime(\"%d.%m.%Y\") # временно, снять выделение\n"
          ]
        },
        {
          "name": "stdout",
          "output_type": "stream",
          "text": [
            "save_pic 14\n"
          ]
        },
        {
          "name": "stderr",
          "output_type": "stream",
          "text": [
            "C:\\Users\\user\\AppData\\Local\\Temp\\ipykernel_16956\\1688310086.py:182: DeprecationWarning: ANTIALIAS is deprecated and will be removed in Pillow 10 (2023-07-01). Use Resampling.LANCZOS instead.\n",
            "  original_image = original_image.resize((width, h2), PIL_Image.ANTIALIAS)\n",
            "C:\\Users\\user\\AppData\\Local\\Temp\\ipykernel_16956\\1688310086.py:80: SettingWithCopyWarning: \n",
            "A value is trying to be set on a copy of a slice from a DataFrame.\n",
            "Try using .loc[row_indexer,col_indexer] = value instead\n",
            "\n",
            "See the caveats in the documentation: https://pandas.pydata.org/pandas-docs/stable/user_guide/indexing.html#returning-a-view-versus-a-copy\n",
            "  df_plotting['Дата'] = df_plotting['Дата'].dt.strftime(\"%d.%m.%Y\") # временно, снять выделение\n"
          ]
        },
        {
          "name": "stdout",
          "output_type": "stream",
          "text": [
            "save_pic 15\n"
          ]
        },
        {
          "name": "stderr",
          "output_type": "stream",
          "text": [
            "C:\\Users\\user\\AppData\\Local\\Temp\\ipykernel_16956\\1688310086.py:182: DeprecationWarning: ANTIALIAS is deprecated and will be removed in Pillow 10 (2023-07-01). Use Resampling.LANCZOS instead.\n",
            "  original_image = original_image.resize((width, h2), PIL_Image.ANTIALIAS)\n",
            "C:\\Users\\user\\AppData\\Local\\Temp\\ipykernel_16956\\1688310086.py:80: SettingWithCopyWarning: \n",
            "A value is trying to be set on a copy of a slice from a DataFrame.\n",
            "Try using .loc[row_indexer,col_indexer] = value instead\n",
            "\n",
            "See the caveats in the documentation: https://pandas.pydata.org/pandas-docs/stable/user_guide/indexing.html#returning-a-view-versus-a-copy\n",
            "  df_plotting['Дата'] = df_plotting['Дата'].dt.strftime(\"%d.%m.%Y\") # временно, снять выделение\n"
          ]
        },
        {
          "name": "stdout",
          "output_type": "stream",
          "text": [
            "save_pic 16\n"
          ]
        },
        {
          "name": "stderr",
          "output_type": "stream",
          "text": [
            "C:\\Users\\user\\AppData\\Local\\Temp\\ipykernel_16956\\1688310086.py:182: DeprecationWarning: ANTIALIAS is deprecated and will be removed in Pillow 10 (2023-07-01). Use Resampling.LANCZOS instead.\n",
            "  original_image = original_image.resize((width, h2), PIL_Image.ANTIALIAS)\n",
            "C:\\Users\\user\\AppData\\Local\\Temp\\ipykernel_16956\\1688310086.py:80: SettingWithCopyWarning: \n",
            "A value is trying to be set on a copy of a slice from a DataFrame.\n",
            "Try using .loc[row_indexer,col_indexer] = value instead\n",
            "\n",
            "See the caveats in the documentation: https://pandas.pydata.org/pandas-docs/stable/user_guide/indexing.html#returning-a-view-versus-a-copy\n",
            "  df_plotting['Дата'] = df_plotting['Дата'].dt.strftime(\"%d.%m.%Y\") # временно, снять выделение\n"
          ]
        },
        {
          "name": "stdout",
          "output_type": "stream",
          "text": [
            "save_pic 17\n"
          ]
        },
        {
          "name": "stderr",
          "output_type": "stream",
          "text": [
            "C:\\Users\\user\\AppData\\Local\\Temp\\ipykernel_16956\\1688310086.py:182: DeprecationWarning: ANTIALIAS is deprecated and will be removed in Pillow 10 (2023-07-01). Use Resampling.LANCZOS instead.\n",
            "  original_image = original_image.resize((width, h2), PIL_Image.ANTIALIAS)\n",
            "C:\\Users\\user\\AppData\\Local\\Temp\\ipykernel_16956\\1688310086.py:80: SettingWithCopyWarning: \n",
            "A value is trying to be set on a copy of a slice from a DataFrame.\n",
            "Try using .loc[row_indexer,col_indexer] = value instead\n",
            "\n",
            "See the caveats in the documentation: https://pandas.pydata.org/pandas-docs/stable/user_guide/indexing.html#returning-a-view-versus-a-copy\n",
            "  df_plotting['Дата'] = df_plotting['Дата'].dt.strftime(\"%d.%m.%Y\") # временно, снять выделение\n"
          ]
        },
        {
          "name": "stdout",
          "output_type": "stream",
          "text": [
            "save_pic 18\n"
          ]
        },
        {
          "name": "stderr",
          "output_type": "stream",
          "text": [
            "C:\\Users\\user\\AppData\\Local\\Temp\\ipykernel_16956\\1688310086.py:182: DeprecationWarning: ANTIALIAS is deprecated and will be removed in Pillow 10 (2023-07-01). Use Resampling.LANCZOS instead.\n",
            "  original_image = original_image.resize((width, h2), PIL_Image.ANTIALIAS)\n",
            "C:\\Users\\user\\AppData\\Local\\Temp\\ipykernel_16956\\1688310086.py:80: SettingWithCopyWarning: \n",
            "A value is trying to be set on a copy of a slice from a DataFrame.\n",
            "Try using .loc[row_indexer,col_indexer] = value instead\n",
            "\n",
            "See the caveats in the documentation: https://pandas.pydata.org/pandas-docs/stable/user_guide/indexing.html#returning-a-view-versus-a-copy\n",
            "  df_plotting['Дата'] = df_plotting['Дата'].dt.strftime(\"%d.%m.%Y\") # временно, снять выделение\n"
          ]
        },
        {
          "name": "stdout",
          "output_type": "stream",
          "text": [
            "save_pic 19\n"
          ]
        },
        {
          "name": "stderr",
          "output_type": "stream",
          "text": [
            "C:\\Users\\user\\AppData\\Local\\Temp\\ipykernel_16956\\1688310086.py:182: DeprecationWarning: ANTIALIAS is deprecated and will be removed in Pillow 10 (2023-07-01). Use Resampling.LANCZOS instead.\n",
            "  original_image = original_image.resize((width, h2), PIL_Image.ANTIALIAS)\n",
            "C:\\Users\\user\\AppData\\Local\\Temp\\ipykernel_16956\\1688310086.py:80: SettingWithCopyWarning: \n",
            "A value is trying to be set on a copy of a slice from a DataFrame.\n",
            "Try using .loc[row_indexer,col_indexer] = value instead\n",
            "\n",
            "See the caveats in the documentation: https://pandas.pydata.org/pandas-docs/stable/user_guide/indexing.html#returning-a-view-versus-a-copy\n",
            "  df_plotting['Дата'] = df_plotting['Дата'].dt.strftime(\"%d.%m.%Y\") # временно, снять выделение\n"
          ]
        },
        {
          "name": "stdout",
          "output_type": "stream",
          "text": [
            "save_pic 20\n"
          ]
        },
        {
          "name": "stderr",
          "output_type": "stream",
          "text": [
            "C:\\Users\\user\\AppData\\Local\\Temp\\ipykernel_16956\\1688310086.py:182: DeprecationWarning: ANTIALIAS is deprecated and will be removed in Pillow 10 (2023-07-01). Use Resampling.LANCZOS instead.\n",
            "  original_image = original_image.resize((width, h2), PIL_Image.ANTIALIAS)\n",
            "C:\\Users\\user\\AppData\\Local\\Temp\\ipykernel_16956\\1688310086.py:80: SettingWithCopyWarning: \n",
            "A value is trying to be set on a copy of a slice from a DataFrame.\n",
            "Try using .loc[row_indexer,col_indexer] = value instead\n",
            "\n",
            "See the caveats in the documentation: https://pandas.pydata.org/pandas-docs/stable/user_guide/indexing.html#returning-a-view-versus-a-copy\n",
            "  df_plotting['Дата'] = df_plotting['Дата'].dt.strftime(\"%d.%m.%Y\") # временно, снять выделение\n"
          ]
        },
        {
          "name": "stdout",
          "output_type": "stream",
          "text": [
            "save_pic 21\n"
          ]
        },
        {
          "name": "stderr",
          "output_type": "stream",
          "text": [
            "C:\\Users\\user\\AppData\\Local\\Temp\\ipykernel_16956\\1688310086.py:182: DeprecationWarning: ANTIALIAS is deprecated and will be removed in Pillow 10 (2023-07-01). Use Resampling.LANCZOS instead.\n",
            "  original_image = original_image.resize((width, h2), PIL_Image.ANTIALIAS)\n",
            "C:\\Users\\user\\AppData\\Local\\Temp\\ipykernel_16956\\1688310086.py:80: SettingWithCopyWarning: \n",
            "A value is trying to be set on a copy of a slice from a DataFrame.\n",
            "Try using .loc[row_indexer,col_indexer] = value instead\n",
            "\n",
            "See the caveats in the documentation: https://pandas.pydata.org/pandas-docs/stable/user_guide/indexing.html#returning-a-view-versus-a-copy\n",
            "  df_plotting['Дата'] = df_plotting['Дата'].dt.strftime(\"%d.%m.%Y\") # временно, снять выделение\n"
          ]
        },
        {
          "name": "stdout",
          "output_type": "stream",
          "text": [
            "save_pic 22\n"
          ]
        },
        {
          "name": "stderr",
          "output_type": "stream",
          "text": [
            "C:\\Users\\user\\AppData\\Local\\Temp\\ipykernel_16956\\1688310086.py:182: DeprecationWarning: ANTIALIAS is deprecated and will be removed in Pillow 10 (2023-07-01). Use Resampling.LANCZOS instead.\n",
            "  original_image = original_image.resize((width, h2), PIL_Image.ANTIALIAS)\n",
            "C:\\Users\\user\\AppData\\Local\\Temp\\ipykernel_16956\\1688310086.py:80: SettingWithCopyWarning: \n",
            "A value is trying to be set on a copy of a slice from a DataFrame.\n",
            "Try using .loc[row_indexer,col_indexer] = value instead\n",
            "\n",
            "See the caveats in the documentation: https://pandas.pydata.org/pandas-docs/stable/user_guide/indexing.html#returning-a-view-versus-a-copy\n",
            "  df_plotting['Дата'] = df_plotting['Дата'].dt.strftime(\"%d.%m.%Y\") # временно, снять выделение\n"
          ]
        },
        {
          "name": "stdout",
          "output_type": "stream",
          "text": [
            "save_pic 23\n"
          ]
        },
        {
          "name": "stderr",
          "output_type": "stream",
          "text": [
            "C:\\Users\\user\\AppData\\Local\\Temp\\ipykernel_16956\\1688310086.py:182: DeprecationWarning: ANTIALIAS is deprecated and will be removed in Pillow 10 (2023-07-01). Use Resampling.LANCZOS instead.\n",
            "  original_image = original_image.resize((width, h2), PIL_Image.ANTIALIAS)\n",
            "C:\\Users\\user\\AppData\\Local\\Temp\\ipykernel_16956\\1688310086.py:80: SettingWithCopyWarning: \n",
            "A value is trying to be set on a copy of a slice from a DataFrame.\n",
            "Try using .loc[row_indexer,col_indexer] = value instead\n",
            "\n",
            "See the caveats in the documentation: https://pandas.pydata.org/pandas-docs/stable/user_guide/indexing.html#returning-a-view-versus-a-copy\n",
            "  df_plotting['Дата'] = df_plotting['Дата'].dt.strftime(\"%d.%m.%Y\") # временно, снять выделение\n"
          ]
        },
        {
          "name": "stdout",
          "output_type": "stream",
          "text": [
            "save_pic 24\n"
          ]
        },
        {
          "name": "stderr",
          "output_type": "stream",
          "text": [
            "C:\\Users\\user\\AppData\\Local\\Temp\\ipykernel_16956\\1688310086.py:182: DeprecationWarning: ANTIALIAS is deprecated and will be removed in Pillow 10 (2023-07-01). Use Resampling.LANCZOS instead.\n",
            "  original_image = original_image.resize((width, h2), PIL_Image.ANTIALIAS)\n",
            "C:\\Users\\user\\AppData\\Local\\Temp\\ipykernel_16956\\1688310086.py:80: SettingWithCopyWarning: \n",
            "A value is trying to be set on a copy of a slice from a DataFrame.\n",
            "Try using .loc[row_indexer,col_indexer] = value instead\n",
            "\n",
            "See the caveats in the documentation: https://pandas.pydata.org/pandas-docs/stable/user_guide/indexing.html#returning-a-view-versus-a-copy\n",
            "  df_plotting['Дата'] = df_plotting['Дата'].dt.strftime(\"%d.%m.%Y\") # временно, снять выделение\n"
          ]
        },
        {
          "name": "stdout",
          "output_type": "stream",
          "text": [
            "save_pic 25\n"
          ]
        },
        {
          "name": "stderr",
          "output_type": "stream",
          "text": [
            "C:\\Users\\user\\AppData\\Local\\Temp\\ipykernel_16956\\1688310086.py:182: DeprecationWarning: ANTIALIAS is deprecated and will be removed in Pillow 10 (2023-07-01). Use Resampling.LANCZOS instead.\n",
            "  original_image = original_image.resize((width, h2), PIL_Image.ANTIALIAS)\n",
            "C:\\Users\\user\\AppData\\Local\\Temp\\ipykernel_16956\\1688310086.py:80: SettingWithCopyWarning: \n",
            "A value is trying to be set on a copy of a slice from a DataFrame.\n",
            "Try using .loc[row_indexer,col_indexer] = value instead\n",
            "\n",
            "See the caveats in the documentation: https://pandas.pydata.org/pandas-docs/stable/user_guide/indexing.html#returning-a-view-versus-a-copy\n",
            "  df_plotting['Дата'] = df_plotting['Дата'].dt.strftime(\"%d.%m.%Y\") # временно, снять выделение\n"
          ]
        },
        {
          "name": "stdout",
          "output_type": "stream",
          "text": [
            "save_pic 26\n"
          ]
        },
        {
          "name": "stderr",
          "output_type": "stream",
          "text": [
            "C:\\Users\\user\\AppData\\Local\\Temp\\ipykernel_16956\\1688310086.py:182: DeprecationWarning: ANTIALIAS is deprecated and will be removed in Pillow 10 (2023-07-01). Use Resampling.LANCZOS instead.\n",
            "  original_image = original_image.resize((width, h2), PIL_Image.ANTIALIAS)\n",
            "C:\\Users\\user\\AppData\\Local\\Temp\\ipykernel_16956\\1688310086.py:80: SettingWithCopyWarning: \n",
            "A value is trying to be set on a copy of a slice from a DataFrame.\n",
            "Try using .loc[row_indexer,col_indexer] = value instead\n",
            "\n",
            "See the caveats in the documentation: https://pandas.pydata.org/pandas-docs/stable/user_guide/indexing.html#returning-a-view-versus-a-copy\n",
            "  df_plotting['Дата'] = df_plotting['Дата'].dt.strftime(\"%d.%m.%Y\") # временно, снять выделение\n"
          ]
        },
        {
          "name": "stdout",
          "output_type": "stream",
          "text": [
            "save_pic 27\n"
          ]
        },
        {
          "name": "stderr",
          "output_type": "stream",
          "text": [
            "C:\\Users\\user\\AppData\\Local\\Temp\\ipykernel_16956\\1688310086.py:182: DeprecationWarning: ANTIALIAS is deprecated and will be removed in Pillow 10 (2023-07-01). Use Resampling.LANCZOS instead.\n",
            "  original_image = original_image.resize((width, h2), PIL_Image.ANTIALIAS)\n",
            "C:\\Users\\user\\AppData\\Local\\Temp\\ipykernel_16956\\1688310086.py:80: SettingWithCopyWarning: \n",
            "A value is trying to be set on a copy of a slice from a DataFrame.\n",
            "Try using .loc[row_indexer,col_indexer] = value instead\n",
            "\n",
            "See the caveats in the documentation: https://pandas.pydata.org/pandas-docs/stable/user_guide/indexing.html#returning-a-view-versus-a-copy\n",
            "  df_plotting['Дата'] = df_plotting['Дата'].dt.strftime(\"%d.%m.%Y\") # временно, снять выделение\n"
          ]
        },
        {
          "name": "stdout",
          "output_type": "stream",
          "text": [
            "save_pic 28\n"
          ]
        },
        {
          "name": "stderr",
          "output_type": "stream",
          "text": [
            "C:\\Users\\user\\AppData\\Local\\Temp\\ipykernel_16956\\1688310086.py:182: DeprecationWarning: ANTIALIAS is deprecated and will be removed in Pillow 10 (2023-07-01). Use Resampling.LANCZOS instead.\n",
            "  original_image = original_image.resize((width, h2), PIL_Image.ANTIALIAS)\n",
            "C:\\Users\\user\\AppData\\Local\\Temp\\ipykernel_16956\\1688310086.py:80: SettingWithCopyWarning: \n",
            "A value is trying to be set on a copy of a slice from a DataFrame.\n",
            "Try using .loc[row_indexer,col_indexer] = value instead\n",
            "\n",
            "See the caveats in the documentation: https://pandas.pydata.org/pandas-docs/stable/user_guide/indexing.html#returning-a-view-versus-a-copy\n",
            "  df_plotting['Дата'] = df_plotting['Дата'].dt.strftime(\"%d.%m.%Y\") # временно, снять выделение\n"
          ]
        },
        {
          "name": "stdout",
          "output_type": "stream",
          "text": [
            "save_pic 29\n"
          ]
        },
        {
          "name": "stderr",
          "output_type": "stream",
          "text": [
            "C:\\Users\\user\\AppData\\Local\\Temp\\ipykernel_16956\\1688310086.py:182: DeprecationWarning: ANTIALIAS is deprecated and will be removed in Pillow 10 (2023-07-01). Use Resampling.LANCZOS instead.\n",
            "  original_image = original_image.resize((width, h2), PIL_Image.ANTIALIAS)\n",
            "C:\\Users\\user\\AppData\\Local\\Temp\\ipykernel_16956\\1688310086.py:80: SettingWithCopyWarning: \n",
            "A value is trying to be set on a copy of a slice from a DataFrame.\n",
            "Try using .loc[row_indexer,col_indexer] = value instead\n",
            "\n",
            "See the caveats in the documentation: https://pandas.pydata.org/pandas-docs/stable/user_guide/indexing.html#returning-a-view-versus-a-copy\n",
            "  df_plotting['Дата'] = df_plotting['Дата'].dt.strftime(\"%d.%m.%Y\") # временно, снять выделение\n"
          ]
        },
        {
          "name": "stdout",
          "output_type": "stream",
          "text": [
            "save_pic 30\n"
          ]
        },
        {
          "name": "stderr",
          "output_type": "stream",
          "text": [
            "C:\\Users\\user\\AppData\\Local\\Temp\\ipykernel_16956\\1688310086.py:182: DeprecationWarning: ANTIALIAS is deprecated and will be removed in Pillow 10 (2023-07-01). Use Resampling.LANCZOS instead.\n",
            "  original_image = original_image.resize((width, h2), PIL_Image.ANTIALIAS)\n",
            "C:\\Users\\user\\AppData\\Local\\Temp\\ipykernel_16956\\1688310086.py:80: SettingWithCopyWarning: \n",
            "A value is trying to be set on a copy of a slice from a DataFrame.\n",
            "Try using .loc[row_indexer,col_indexer] = value instead\n",
            "\n",
            "See the caveats in the documentation: https://pandas.pydata.org/pandas-docs/stable/user_guide/indexing.html#returning-a-view-versus-a-copy\n",
            "  df_plotting['Дата'] = df_plotting['Дата'].dt.strftime(\"%d.%m.%Y\") # временно, снять выделение\n"
          ]
        },
        {
          "name": "stdout",
          "output_type": "stream",
          "text": [
            "save_pic 31\n"
          ]
        },
        {
          "name": "stderr",
          "output_type": "stream",
          "text": [
            "C:\\Users\\user\\AppData\\Local\\Temp\\ipykernel_16956\\1688310086.py:182: DeprecationWarning: ANTIALIAS is deprecated and will be removed in Pillow 10 (2023-07-01). Use Resampling.LANCZOS instead.\n",
            "  original_image = original_image.resize((width, h2), PIL_Image.ANTIALIAS)\n",
            "C:\\Users\\user\\AppData\\Local\\Temp\\ipykernel_16956\\1688310086.py:80: SettingWithCopyWarning: \n",
            "A value is trying to be set on a copy of a slice from a DataFrame.\n",
            "Try using .loc[row_indexer,col_indexer] = value instead\n",
            "\n",
            "See the caveats in the documentation: https://pandas.pydata.org/pandas-docs/stable/user_guide/indexing.html#returning-a-view-versus-a-copy\n",
            "  df_plotting['Дата'] = df_plotting['Дата'].dt.strftime(\"%d.%m.%Y\") # временно, снять выделение\n"
          ]
        },
        {
          "name": "stdout",
          "output_type": "stream",
          "text": [
            "save_pic 32\n"
          ]
        },
        {
          "name": "stderr",
          "output_type": "stream",
          "text": [
            "C:\\Users\\user\\AppData\\Local\\Temp\\ipykernel_16956\\1688310086.py:182: DeprecationWarning: ANTIALIAS is deprecated and will be removed in Pillow 10 (2023-07-01). Use Resampling.LANCZOS instead.\n",
            "  original_image = original_image.resize((width, h2), PIL_Image.ANTIALIAS)\n",
            "C:\\Users\\user\\AppData\\Local\\Temp\\ipykernel_16956\\1688310086.py:80: SettingWithCopyWarning: \n",
            "A value is trying to be set on a copy of a slice from a DataFrame.\n",
            "Try using .loc[row_indexer,col_indexer] = value instead\n",
            "\n",
            "See the caveats in the documentation: https://pandas.pydata.org/pandas-docs/stable/user_guide/indexing.html#returning-a-view-versus-a-copy\n",
            "  df_plotting['Дата'] = df_plotting['Дата'].dt.strftime(\"%d.%m.%Y\") # временно, снять выделение\n"
          ]
        },
        {
          "name": "stdout",
          "output_type": "stream",
          "text": [
            "save_pic 33\n"
          ]
        },
        {
          "name": "stderr",
          "output_type": "stream",
          "text": [
            "C:\\Users\\user\\AppData\\Local\\Temp\\ipykernel_16956\\1688310086.py:182: DeprecationWarning: ANTIALIAS is deprecated and will be removed in Pillow 10 (2023-07-01). Use Resampling.LANCZOS instead.\n",
            "  original_image = original_image.resize((width, h2), PIL_Image.ANTIALIAS)\n",
            "C:\\Users\\user\\AppData\\Local\\Temp\\ipykernel_16956\\1688310086.py:80: SettingWithCopyWarning: \n",
            "A value is trying to be set on a copy of a slice from a DataFrame.\n",
            "Try using .loc[row_indexer,col_indexer] = value instead\n",
            "\n",
            "See the caveats in the documentation: https://pandas.pydata.org/pandas-docs/stable/user_guide/indexing.html#returning-a-view-versus-a-copy\n",
            "  df_plotting['Дата'] = df_plotting['Дата'].dt.strftime(\"%d.%m.%Y\") # временно, снять выделение\n"
          ]
        },
        {
          "name": "stdout",
          "output_type": "stream",
          "text": [
            "save_pic 34\n"
          ]
        },
        {
          "name": "stderr",
          "output_type": "stream",
          "text": [
            "C:\\Users\\user\\AppData\\Local\\Temp\\ipykernel_16956\\1688310086.py:182: DeprecationWarning: ANTIALIAS is deprecated and will be removed in Pillow 10 (2023-07-01). Use Resampling.LANCZOS instead.\n",
            "  original_image = original_image.resize((width, h2), PIL_Image.ANTIALIAS)\n",
            "C:\\Users\\user\\AppData\\Local\\Temp\\ipykernel_16956\\1688310086.py:80: SettingWithCopyWarning: \n",
            "A value is trying to be set on a copy of a slice from a DataFrame.\n",
            "Try using .loc[row_indexer,col_indexer] = value instead\n",
            "\n",
            "See the caveats in the documentation: https://pandas.pydata.org/pandas-docs/stable/user_guide/indexing.html#returning-a-view-versus-a-copy\n",
            "  df_plotting['Дата'] = df_plotting['Дата'].dt.strftime(\"%d.%m.%Y\") # временно, снять выделение\n"
          ]
        },
        {
          "name": "stdout",
          "output_type": "stream",
          "text": [
            "save_pic 35\n"
          ]
        },
        {
          "name": "stderr",
          "output_type": "stream",
          "text": [
            "C:\\Users\\user\\AppData\\Local\\Temp\\ipykernel_16956\\1688310086.py:182: DeprecationWarning: ANTIALIAS is deprecated and will be removed in Pillow 10 (2023-07-01). Use Resampling.LANCZOS instead.\n",
            "  original_image = original_image.resize((width, h2), PIL_Image.ANTIALIAS)\n",
            "C:\\Users\\user\\AppData\\Local\\Temp\\ipykernel_16956\\1688310086.py:80: SettingWithCopyWarning: \n",
            "A value is trying to be set on a copy of a slice from a DataFrame.\n",
            "Try using .loc[row_indexer,col_indexer] = value instead\n",
            "\n",
            "See the caveats in the documentation: https://pandas.pydata.org/pandas-docs/stable/user_guide/indexing.html#returning-a-view-versus-a-copy\n",
            "  df_plotting['Дата'] = df_plotting['Дата'].dt.strftime(\"%d.%m.%Y\") # временно, снять выделение\n"
          ]
        },
        {
          "name": "stdout",
          "output_type": "stream",
          "text": [
            "save_pic 36\n"
          ]
        },
        {
          "name": "stderr",
          "output_type": "stream",
          "text": [
            "C:\\Users\\user\\AppData\\Local\\Temp\\ipykernel_16956\\1688310086.py:182: DeprecationWarning: ANTIALIAS is deprecated and will be removed in Pillow 10 (2023-07-01). Use Resampling.LANCZOS instead.\n",
            "  original_image = original_image.resize((width, h2), PIL_Image.ANTIALIAS)\n",
            "C:\\Users\\user\\AppData\\Local\\Temp\\ipykernel_16956\\1688310086.py:80: SettingWithCopyWarning: \n",
            "A value is trying to be set on a copy of a slice from a DataFrame.\n",
            "Try using .loc[row_indexer,col_indexer] = value instead\n",
            "\n",
            "See the caveats in the documentation: https://pandas.pydata.org/pandas-docs/stable/user_guide/indexing.html#returning-a-view-versus-a-copy\n",
            "  df_plotting['Дата'] = df_plotting['Дата'].dt.strftime(\"%d.%m.%Y\") # временно, снять выделение\n"
          ]
        },
        {
          "name": "stdout",
          "output_type": "stream",
          "text": [
            "save_pic 37\n"
          ]
        },
        {
          "name": "stderr",
          "output_type": "stream",
          "text": [
            "C:\\Users\\user\\AppData\\Local\\Temp\\ipykernel_16956\\1688310086.py:182: DeprecationWarning: ANTIALIAS is deprecated and will be removed in Pillow 10 (2023-07-01). Use Resampling.LANCZOS instead.\n",
            "  original_image = original_image.resize((width, h2), PIL_Image.ANTIALIAS)\n",
            "C:\\Users\\user\\AppData\\Local\\Temp\\ipykernel_16956\\1688310086.py:80: SettingWithCopyWarning: \n",
            "A value is trying to be set on a copy of a slice from a DataFrame.\n",
            "Try using .loc[row_indexer,col_indexer] = value instead\n",
            "\n",
            "See the caveats in the documentation: https://pandas.pydata.org/pandas-docs/stable/user_guide/indexing.html#returning-a-view-versus-a-copy\n",
            "  df_plotting['Дата'] = df_plotting['Дата'].dt.strftime(\"%d.%m.%Y\") # временно, снять выделение\n"
          ]
        },
        {
          "name": "stdout",
          "output_type": "stream",
          "text": [
            "save_pic 38\n"
          ]
        },
        {
          "name": "stderr",
          "output_type": "stream",
          "text": [
            "C:\\Users\\user\\AppData\\Local\\Temp\\ipykernel_16956\\1688310086.py:182: DeprecationWarning: ANTIALIAS is deprecated and will be removed in Pillow 10 (2023-07-01). Use Resampling.LANCZOS instead.\n",
            "  original_image = original_image.resize((width, h2), PIL_Image.ANTIALIAS)\n",
            "C:\\Users\\user\\AppData\\Local\\Temp\\ipykernel_16956\\1688310086.py:80: SettingWithCopyWarning: \n",
            "A value is trying to be set on a copy of a slice from a DataFrame.\n",
            "Try using .loc[row_indexer,col_indexer] = value instead\n",
            "\n",
            "See the caveats in the documentation: https://pandas.pydata.org/pandas-docs/stable/user_guide/indexing.html#returning-a-view-versus-a-copy\n",
            "  df_plotting['Дата'] = df_plotting['Дата'].dt.strftime(\"%d.%m.%Y\") # временно, снять выделение\n"
          ]
        },
        {
          "name": "stdout",
          "output_type": "stream",
          "text": [
            "save_pic 39\n"
          ]
        },
        {
          "name": "stderr",
          "output_type": "stream",
          "text": [
            "C:\\Users\\user\\AppData\\Local\\Temp\\ipykernel_16956\\1688310086.py:182: DeprecationWarning: ANTIALIAS is deprecated and will be removed in Pillow 10 (2023-07-01). Use Resampling.LANCZOS instead.\n",
            "  original_image = original_image.resize((width, h2), PIL_Image.ANTIALIAS)\n",
            "C:\\Users\\user\\AppData\\Local\\Temp\\ipykernel_16956\\1688310086.py:80: SettingWithCopyWarning: \n",
            "A value is trying to be set on a copy of a slice from a DataFrame.\n",
            "Try using .loc[row_indexer,col_indexer] = value instead\n",
            "\n",
            "See the caveats in the documentation: https://pandas.pydata.org/pandas-docs/stable/user_guide/indexing.html#returning-a-view-versus-a-copy\n",
            "  df_plotting['Дата'] = df_plotting['Дата'].dt.strftime(\"%d.%m.%Y\") # временно, снять выделение\n"
          ]
        },
        {
          "name": "stdout",
          "output_type": "stream",
          "text": [
            "save_pic 40\n"
          ]
        },
        {
          "name": "stderr",
          "output_type": "stream",
          "text": [
            "C:\\Users\\user\\AppData\\Local\\Temp\\ipykernel_16956\\1688310086.py:182: DeprecationWarning: ANTIALIAS is deprecated and will be removed in Pillow 10 (2023-07-01). Use Resampling.LANCZOS instead.\n",
            "  original_image = original_image.resize((width, h2), PIL_Image.ANTIALIAS)\n",
            "C:\\Users\\user\\AppData\\Local\\Temp\\ipykernel_16956\\1688310086.py:80: SettingWithCopyWarning: \n",
            "A value is trying to be set on a copy of a slice from a DataFrame.\n",
            "Try using .loc[row_indexer,col_indexer] = value instead\n",
            "\n",
            "See the caveats in the documentation: https://pandas.pydata.org/pandas-docs/stable/user_guide/indexing.html#returning-a-view-versus-a-copy\n",
            "  df_plotting['Дата'] = df_plotting['Дата'].dt.strftime(\"%d.%m.%Y\") # временно, снять выделение\n"
          ]
        },
        {
          "name": "stdout",
          "output_type": "stream",
          "text": [
            "save_pic 41\n"
          ]
        },
        {
          "name": "stderr",
          "output_type": "stream",
          "text": [
            "C:\\Users\\user\\AppData\\Local\\Temp\\ipykernel_16956\\1688310086.py:182: DeprecationWarning: ANTIALIAS is deprecated and will be removed in Pillow 10 (2023-07-01). Use Resampling.LANCZOS instead.\n",
            "  original_image = original_image.resize((width, h2), PIL_Image.ANTIALIAS)\n",
            "C:\\Users\\user\\AppData\\Local\\Temp\\ipykernel_16956\\1688310086.py:80: SettingWithCopyWarning: \n",
            "A value is trying to be set on a copy of a slice from a DataFrame.\n",
            "Try using .loc[row_indexer,col_indexer] = value instead\n",
            "\n",
            "See the caveats in the documentation: https://pandas.pydata.org/pandas-docs/stable/user_guide/indexing.html#returning-a-view-versus-a-copy\n",
            "  df_plotting['Дата'] = df_plotting['Дата'].dt.strftime(\"%d.%m.%Y\") # временно, снять выделение\n"
          ]
        },
        {
          "name": "stdout",
          "output_type": "stream",
          "text": [
            "save_pic 42\n"
          ]
        },
        {
          "name": "stderr",
          "output_type": "stream",
          "text": [
            "C:\\Users\\user\\AppData\\Local\\Temp\\ipykernel_16956\\1688310086.py:182: DeprecationWarning: ANTIALIAS is deprecated and will be removed in Pillow 10 (2023-07-01). Use Resampling.LANCZOS instead.\n",
            "  original_image = original_image.resize((width, h2), PIL_Image.ANTIALIAS)\n",
            "C:\\Users\\user\\AppData\\Local\\Temp\\ipykernel_16956\\1688310086.py:80: SettingWithCopyWarning: \n",
            "A value is trying to be set on a copy of a slice from a DataFrame.\n",
            "Try using .loc[row_indexer,col_indexer] = value instead\n",
            "\n",
            "See the caveats in the documentation: https://pandas.pydata.org/pandas-docs/stable/user_guide/indexing.html#returning-a-view-versus-a-copy\n",
            "  df_plotting['Дата'] = df_plotting['Дата'].dt.strftime(\"%d.%m.%Y\") # временно, снять выделение\n",
            "C:\\Users\\user\\AppData\\Local\\Temp\\ipykernel_16956\\1688310086.py:182: DeprecationWarning: ANTIALIAS is deprecated and will be removed in Pillow 10 (2023-07-01). Use Resampling.LANCZOS instead.\n",
            "  original_image = original_image.resize((width, h2), PIL_Image.ANTIALIAS)\n"
          ]
        },
        {
          "name": "stdout",
          "output_type": "stream",
          "text": [
            "save_pic 43\n"
          ]
        },
        {
          "name": "stderr",
          "output_type": "stream",
          "text": [
            "C:\\Users\\user\\AppData\\Local\\Temp\\ipykernel_16956\\1688310086.py:80: SettingWithCopyWarning: \n",
            "A value is trying to be set on a copy of a slice from a DataFrame.\n",
            "Try using .loc[row_indexer,col_indexer] = value instead\n",
            "\n",
            "See the caveats in the documentation: https://pandas.pydata.org/pandas-docs/stable/user_guide/indexing.html#returning-a-view-versus-a-copy\n",
            "  df_plotting['Дата'] = df_plotting['Дата'].dt.strftime(\"%d.%m.%Y\") # временно, снять выделение\n"
          ]
        },
        {
          "name": "stdout",
          "output_type": "stream",
          "text": [
            "save_pic 44\n"
          ]
        },
        {
          "name": "stderr",
          "output_type": "stream",
          "text": [
            "C:\\Users\\user\\AppData\\Local\\Temp\\ipykernel_16956\\1688310086.py:182: DeprecationWarning: ANTIALIAS is deprecated and will be removed in Pillow 10 (2023-07-01). Use Resampling.LANCZOS instead.\n",
            "  original_image = original_image.resize((width, h2), PIL_Image.ANTIALIAS)\n",
            "C:\\Users\\user\\AppData\\Local\\Temp\\ipykernel_16956\\1688310086.py:80: SettingWithCopyWarning: \n",
            "A value is trying to be set on a copy of a slice from a DataFrame.\n",
            "Try using .loc[row_indexer,col_indexer] = value instead\n",
            "\n",
            "See the caveats in the documentation: https://pandas.pydata.org/pandas-docs/stable/user_guide/indexing.html#returning-a-view-versus-a-copy\n",
            "  df_plotting['Дата'] = df_plotting['Дата'].dt.strftime(\"%d.%m.%Y\") # временно, снять выделение\n"
          ]
        },
        {
          "name": "stdout",
          "output_type": "stream",
          "text": [
            "save_pic 45\n"
          ]
        },
        {
          "name": "stderr",
          "output_type": "stream",
          "text": [
            "C:\\Users\\user\\AppData\\Local\\Temp\\ipykernel_16956\\1688310086.py:182: DeprecationWarning: ANTIALIAS is deprecated and will be removed in Pillow 10 (2023-07-01). Use Resampling.LANCZOS instead.\n",
            "  original_image = original_image.resize((width, h2), PIL_Image.ANTIALIAS)\n",
            "C:\\Users\\user\\AppData\\Local\\Temp\\ipykernel_16956\\1688310086.py:80: SettingWithCopyWarning: \n",
            "A value is trying to be set on a copy of a slice from a DataFrame.\n",
            "Try using .loc[row_indexer,col_indexer] = value instead\n",
            "\n",
            "See the caveats in the documentation: https://pandas.pydata.org/pandas-docs/stable/user_guide/indexing.html#returning-a-view-versus-a-copy\n",
            "  df_plotting['Дата'] = df_plotting['Дата'].dt.strftime(\"%d.%m.%Y\") # временно, снять выделение\n"
          ]
        },
        {
          "name": "stdout",
          "output_type": "stream",
          "text": [
            "save_pic 46\n"
          ]
        },
        {
          "name": "stderr",
          "output_type": "stream",
          "text": [
            "C:\\Users\\user\\AppData\\Local\\Temp\\ipykernel_16956\\1688310086.py:182: DeprecationWarning: ANTIALIAS is deprecated and will be removed in Pillow 10 (2023-07-01). Use Resampling.LANCZOS instead.\n",
            "  original_image = original_image.resize((width, h2), PIL_Image.ANTIALIAS)\n",
            "C:\\Users\\user\\AppData\\Local\\Temp\\ipykernel_16956\\1688310086.py:80: SettingWithCopyWarning: \n",
            "A value is trying to be set on a copy of a slice from a DataFrame.\n",
            "Try using .loc[row_indexer,col_indexer] = value instead\n",
            "\n",
            "See the caveats in the documentation: https://pandas.pydata.org/pandas-docs/stable/user_guide/indexing.html#returning-a-view-versus-a-copy\n",
            "  df_plotting['Дата'] = df_plotting['Дата'].dt.strftime(\"%d.%m.%Y\") # временно, снять выделение\n"
          ]
        },
        {
          "name": "stdout",
          "output_type": "stream",
          "text": [
            "save_pic 47\n"
          ]
        },
        {
          "name": "stderr",
          "output_type": "stream",
          "text": [
            "C:\\Users\\user\\AppData\\Local\\Temp\\ipykernel_16956\\1688310086.py:182: DeprecationWarning: ANTIALIAS is deprecated and will be removed in Pillow 10 (2023-07-01). Use Resampling.LANCZOS instead.\n",
            "  original_image = original_image.resize((width, h2), PIL_Image.ANTIALIAS)\n",
            "C:\\Users\\user\\AppData\\Local\\Temp\\ipykernel_16956\\1688310086.py:80: SettingWithCopyWarning: \n",
            "A value is trying to be set on a copy of a slice from a DataFrame.\n",
            "Try using .loc[row_indexer,col_indexer] = value instead\n",
            "\n",
            "See the caveats in the documentation: https://pandas.pydata.org/pandas-docs/stable/user_guide/indexing.html#returning-a-view-versus-a-copy\n",
            "  df_plotting['Дата'] = df_plotting['Дата'].dt.strftime(\"%d.%m.%Y\") # временно, снять выделение\n",
            "C:\\Users\\user\\AppData\\Local\\Temp\\ipykernel_16956\\1688310086.py:182: DeprecationWarning: ANTIALIAS is deprecated and will be removed in Pillow 10 (2023-07-01). Use Resampling.LANCZOS instead.\n",
            "  original_image = original_image.resize((width, h2), PIL_Image.ANTIALIAS)\n"
          ]
        },
        {
          "name": "stdout",
          "output_type": "stream",
          "text": [
            "save_pic 48\n"
          ]
        },
        {
          "name": "stderr",
          "output_type": "stream",
          "text": [
            "C:\\Users\\user\\AppData\\Local\\Temp\\ipykernel_16956\\1688310086.py:80: SettingWithCopyWarning: \n",
            "A value is trying to be set on a copy of a slice from a DataFrame.\n",
            "Try using .loc[row_indexer,col_indexer] = value instead\n",
            "\n",
            "See the caveats in the documentation: https://pandas.pydata.org/pandas-docs/stable/user_guide/indexing.html#returning-a-view-versus-a-copy\n",
            "  df_plotting['Дата'] = df_plotting['Дата'].dt.strftime(\"%d.%m.%Y\") # временно, снять выделение\n"
          ]
        },
        {
          "name": "stdout",
          "output_type": "stream",
          "text": [
            "save_pic 49\n"
          ]
        },
        {
          "name": "stderr",
          "output_type": "stream",
          "text": [
            "C:\\Users\\user\\AppData\\Local\\Temp\\ipykernel_16956\\1688310086.py:182: DeprecationWarning: ANTIALIAS is deprecated and will be removed in Pillow 10 (2023-07-01). Use Resampling.LANCZOS instead.\n",
            "  original_image = original_image.resize((width, h2), PIL_Image.ANTIALIAS)\n",
            "C:\\Users\\user\\AppData\\Local\\Temp\\ipykernel_16956\\1688310086.py:80: SettingWithCopyWarning: \n",
            "A value is trying to be set on a copy of a slice from a DataFrame.\n",
            "Try using .loc[row_indexer,col_indexer] = value instead\n",
            "\n",
            "See the caveats in the documentation: https://pandas.pydata.org/pandas-docs/stable/user_guide/indexing.html#returning-a-view-versus-a-copy\n",
            "  df_plotting['Дата'] = df_plotting['Дата'].dt.strftime(\"%d.%m.%Y\") # временно, снять выделение\n"
          ]
        },
        {
          "name": "stdout",
          "output_type": "stream",
          "text": [
            "save_pic 50\n"
          ]
        },
        {
          "name": "stderr",
          "output_type": "stream",
          "text": [
            "C:\\Users\\user\\AppData\\Local\\Temp\\ipykernel_16956\\1688310086.py:182: DeprecationWarning: ANTIALIAS is deprecated and will be removed in Pillow 10 (2023-07-01). Use Resampling.LANCZOS instead.\n",
            "  original_image = original_image.resize((width, h2), PIL_Image.ANTIALIAS)\n",
            "C:\\Users\\user\\AppData\\Local\\Temp\\ipykernel_16956\\1688310086.py:80: SettingWithCopyWarning: \n",
            "A value is trying to be set on a copy of a slice from a DataFrame.\n",
            "Try using .loc[row_indexer,col_indexer] = value instead\n",
            "\n",
            "See the caveats in the documentation: https://pandas.pydata.org/pandas-docs/stable/user_guide/indexing.html#returning-a-view-versus-a-copy\n",
            "  df_plotting['Дата'] = df_plotting['Дата'].dt.strftime(\"%d.%m.%Y\") # временно, снять выделение\n"
          ]
        },
        {
          "name": "stdout",
          "output_type": "stream",
          "text": [
            "save_pic 51\n"
          ]
        },
        {
          "name": "stderr",
          "output_type": "stream",
          "text": [
            "C:\\Users\\user\\AppData\\Local\\Temp\\ipykernel_16956\\1688310086.py:182: DeprecationWarning: ANTIALIAS is deprecated and will be removed in Pillow 10 (2023-07-01). Use Resampling.LANCZOS instead.\n",
            "  original_image = original_image.resize((width, h2), PIL_Image.ANTIALIAS)\n",
            "C:\\Users\\user\\AppData\\Local\\Temp\\ipykernel_16956\\1688310086.py:80: SettingWithCopyWarning: \n",
            "A value is trying to be set on a copy of a slice from a DataFrame.\n",
            "Try using .loc[row_indexer,col_indexer] = value instead\n",
            "\n",
            "See the caveats in the documentation: https://pandas.pydata.org/pandas-docs/stable/user_guide/indexing.html#returning-a-view-versus-a-copy\n",
            "  df_plotting['Дата'] = df_plotting['Дата'].dt.strftime(\"%d.%m.%Y\") # временно, снять выделение\n"
          ]
        },
        {
          "name": "stdout",
          "output_type": "stream",
          "text": [
            "save_pic 52\n"
          ]
        },
        {
          "name": "stderr",
          "output_type": "stream",
          "text": [
            "C:\\Users\\user\\AppData\\Local\\Temp\\ipykernel_16956\\1688310086.py:182: DeprecationWarning: ANTIALIAS is deprecated and will be removed in Pillow 10 (2023-07-01). Use Resampling.LANCZOS instead.\n",
            "  original_image = original_image.resize((width, h2), PIL_Image.ANTIALIAS)\n",
            "C:\\Users\\user\\AppData\\Local\\Temp\\ipykernel_16956\\1688310086.py:80: SettingWithCopyWarning: \n",
            "A value is trying to be set on a copy of a slice from a DataFrame.\n",
            "Try using .loc[row_indexer,col_indexer] = value instead\n",
            "\n",
            "See the caveats in the documentation: https://pandas.pydata.org/pandas-docs/stable/user_guide/indexing.html#returning-a-view-versus-a-copy\n",
            "  df_plotting['Дата'] = df_plotting['Дата'].dt.strftime(\"%d.%m.%Y\") # временно, снять выделение\n"
          ]
        },
        {
          "name": "stdout",
          "output_type": "stream",
          "text": [
            "save_pic 53\n"
          ]
        },
        {
          "name": "stderr",
          "output_type": "stream",
          "text": [
            "C:\\Users\\user\\AppData\\Local\\Temp\\ipykernel_16956\\1688310086.py:182: DeprecationWarning: ANTIALIAS is deprecated and will be removed in Pillow 10 (2023-07-01). Use Resampling.LANCZOS instead.\n",
            "  original_image = original_image.resize((width, h2), PIL_Image.ANTIALIAS)\n",
            "C:\\Users\\user\\AppData\\Local\\Temp\\ipykernel_16956\\1688310086.py:80: SettingWithCopyWarning: \n",
            "A value is trying to be set on a copy of a slice from a DataFrame.\n",
            "Try using .loc[row_indexer,col_indexer] = value instead\n",
            "\n",
            "See the caveats in the documentation: https://pandas.pydata.org/pandas-docs/stable/user_guide/indexing.html#returning-a-view-versus-a-copy\n",
            "  df_plotting['Дата'] = df_plotting['Дата'].dt.strftime(\"%d.%m.%Y\") # временно, снять выделение\n"
          ]
        },
        {
          "name": "stdout",
          "output_type": "stream",
          "text": [
            "save_pic 54\n"
          ]
        },
        {
          "name": "stderr",
          "output_type": "stream",
          "text": [
            "C:\\Users\\user\\AppData\\Local\\Temp\\ipykernel_16956\\1688310086.py:182: DeprecationWarning: ANTIALIAS is deprecated and will be removed in Pillow 10 (2023-07-01). Use Resampling.LANCZOS instead.\n",
            "  original_image = original_image.resize((width, h2), PIL_Image.ANTIALIAS)\n",
            "C:\\Users\\user\\AppData\\Local\\Temp\\ipykernel_16956\\1688310086.py:80: SettingWithCopyWarning: \n",
            "A value is trying to be set on a copy of a slice from a DataFrame.\n",
            "Try using .loc[row_indexer,col_indexer] = value instead\n",
            "\n",
            "See the caveats in the documentation: https://pandas.pydata.org/pandas-docs/stable/user_guide/indexing.html#returning-a-view-versus-a-copy\n",
            "  df_plotting['Дата'] = df_plotting['Дата'].dt.strftime(\"%d.%m.%Y\") # временно, снять выделение\n"
          ]
        },
        {
          "name": "stdout",
          "output_type": "stream",
          "text": [
            "save_pic 55\n"
          ]
        },
        {
          "name": "stderr",
          "output_type": "stream",
          "text": [
            "C:\\Users\\user\\AppData\\Local\\Temp\\ipykernel_16956\\1688310086.py:182: DeprecationWarning: ANTIALIAS is deprecated and will be removed in Pillow 10 (2023-07-01). Use Resampling.LANCZOS instead.\n",
            "  original_image = original_image.resize((width, h2), PIL_Image.ANTIALIAS)\n",
            "C:\\Users\\user\\AppData\\Local\\Temp\\ipykernel_16956\\1688310086.py:80: SettingWithCopyWarning: \n",
            "A value is trying to be set on a copy of a slice from a DataFrame.\n",
            "Try using .loc[row_indexer,col_indexer] = value instead\n",
            "\n",
            "See the caveats in the documentation: https://pandas.pydata.org/pandas-docs/stable/user_guide/indexing.html#returning-a-view-versus-a-copy\n",
            "  df_plotting['Дата'] = df_plotting['Дата'].dt.strftime(\"%d.%m.%Y\") # временно, снять выделение\n"
          ]
        },
        {
          "name": "stdout",
          "output_type": "stream",
          "text": [
            "save_pic 56\n",
            "Для скважины 56 отсутствует картинка местоположения\n"
          ]
        },
        {
          "name": "stderr",
          "output_type": "stream",
          "text": [
            "C:\\Users\\user\\AppData\\Local\\Temp\\ipykernel_16956\\1688310086.py:182: DeprecationWarning: ANTIALIAS is deprecated and will be removed in Pillow 10 (2023-07-01). Use Resampling.LANCZOS instead.\n",
            "  original_image = original_image.resize((width, h2), PIL_Image.ANTIALIAS)\n",
            "C:\\Users\\user\\AppData\\Local\\Temp\\ipykernel_16956\\1688310086.py:80: SettingWithCopyWarning: \n",
            "A value is trying to be set on a copy of a slice from a DataFrame.\n",
            "Try using .loc[row_indexer,col_indexer] = value instead\n",
            "\n",
            "See the caveats in the documentation: https://pandas.pydata.org/pandas-docs/stable/user_guide/indexing.html#returning-a-view-versus-a-copy\n",
            "  df_plotting['Дата'] = df_plotting['Дата'].dt.strftime(\"%d.%m.%Y\") # временно, снять выделение\n"
          ]
        },
        {
          "name": "stdout",
          "output_type": "stream",
          "text": [
            "save_pic 57\n"
          ]
        },
        {
          "name": "stderr",
          "output_type": "stream",
          "text": [
            "C:\\Users\\user\\AppData\\Local\\Temp\\ipykernel_16956\\1688310086.py:182: DeprecationWarning: ANTIALIAS is deprecated and will be removed in Pillow 10 (2023-07-01). Use Resampling.LANCZOS instead.\n",
            "  original_image = original_image.resize((width, h2), PIL_Image.ANTIALIAS)\n",
            "C:\\Users\\user\\AppData\\Local\\Temp\\ipykernel_16956\\1688310086.py:80: SettingWithCopyWarning: \n",
            "A value is trying to be set on a copy of a slice from a DataFrame.\n",
            "Try using .loc[row_indexer,col_indexer] = value instead\n",
            "\n",
            "See the caveats in the documentation: https://pandas.pydata.org/pandas-docs/stable/user_guide/indexing.html#returning-a-view-versus-a-copy\n",
            "  df_plotting['Дата'] = df_plotting['Дата'].dt.strftime(\"%d.%m.%Y\") # временно, снять выделение\n",
            "C:\\Users\\user\\AppData\\Local\\Temp\\ipykernel_16956\\1688310086.py:182: DeprecationWarning: ANTIALIAS is deprecated and will be removed in Pillow 10 (2023-07-01). Use Resampling.LANCZOS instead.\n",
            "  original_image = original_image.resize((width, h2), PIL_Image.ANTIALIAS)\n"
          ]
        },
        {
          "name": "stdout",
          "output_type": "stream",
          "text": [
            "save_pic 58\n"
          ]
        },
        {
          "name": "stderr",
          "output_type": "stream",
          "text": [
            "C:\\Users\\user\\AppData\\Local\\Temp\\ipykernel_16956\\1688310086.py:80: SettingWithCopyWarning: \n",
            "A value is trying to be set on a copy of a slice from a DataFrame.\n",
            "Try using .loc[row_indexer,col_indexer] = value instead\n",
            "\n",
            "See the caveats in the documentation: https://pandas.pydata.org/pandas-docs/stable/user_guide/indexing.html#returning-a-view-versus-a-copy\n",
            "  df_plotting['Дата'] = df_plotting['Дата'].dt.strftime(\"%d.%m.%Y\") # временно, снять выделение\n"
          ]
        },
        {
          "name": "stdout",
          "output_type": "stream",
          "text": [
            "save_pic 59\n"
          ]
        },
        {
          "name": "stderr",
          "output_type": "stream",
          "text": [
            "C:\\Users\\user\\AppData\\Local\\Temp\\ipykernel_16956\\1688310086.py:182: DeprecationWarning: ANTIALIAS is deprecated and will be removed in Pillow 10 (2023-07-01). Use Resampling.LANCZOS instead.\n",
            "  original_image = original_image.resize((width, h2), PIL_Image.ANTIALIAS)\n",
            "C:\\Users\\user\\AppData\\Local\\Temp\\ipykernel_16956\\1688310086.py:80: SettingWithCopyWarning: \n",
            "A value is trying to be set on a copy of a slice from a DataFrame.\n",
            "Try using .loc[row_indexer,col_indexer] = value instead\n",
            "\n",
            "See the caveats in the documentation: https://pandas.pydata.org/pandas-docs/stable/user_guide/indexing.html#returning-a-view-versus-a-copy\n",
            "  df_plotting['Дата'] = df_plotting['Дата'].dt.strftime(\"%d.%m.%Y\") # временно, снять выделение\n"
          ]
        },
        {
          "name": "stdout",
          "output_type": "stream",
          "text": [
            "save_pic 62\n"
          ]
        },
        {
          "name": "stderr",
          "output_type": "stream",
          "text": [
            "C:\\Users\\user\\AppData\\Local\\Temp\\ipykernel_16956\\1688310086.py:182: DeprecationWarning: ANTIALIAS is deprecated and will be removed in Pillow 10 (2023-07-01). Use Resampling.LANCZOS instead.\n",
            "  original_image = original_image.resize((width, h2), PIL_Image.ANTIALIAS)\n",
            "C:\\Users\\user\\AppData\\Local\\Temp\\ipykernel_16956\\1688310086.py:80: SettingWithCopyWarning: \n",
            "A value is trying to be set on a copy of a slice from a DataFrame.\n",
            "Try using .loc[row_indexer,col_indexer] = value instead\n",
            "\n",
            "See the caveats in the documentation: https://pandas.pydata.org/pandas-docs/stable/user_guide/indexing.html#returning-a-view-versus-a-copy\n",
            "  df_plotting['Дата'] = df_plotting['Дата'].dt.strftime(\"%d.%m.%Y\") # временно, снять выделение\n"
          ]
        },
        {
          "name": "stdout",
          "output_type": "stream",
          "text": [
            "save_pic 64\n"
          ]
        },
        {
          "name": "stderr",
          "output_type": "stream",
          "text": [
            "C:\\Users\\user\\AppData\\Local\\Temp\\ipykernel_16956\\1688310086.py:182: DeprecationWarning: ANTIALIAS is deprecated and will be removed in Pillow 10 (2023-07-01). Use Resampling.LANCZOS instead.\n",
            "  original_image = original_image.resize((width, h2), PIL_Image.ANTIALIAS)\n",
            "C:\\Users\\user\\AppData\\Local\\Temp\\ipykernel_16956\\1688310086.py:80: SettingWithCopyWarning: \n",
            "A value is trying to be set on a copy of a slice from a DataFrame.\n",
            "Try using .loc[row_indexer,col_indexer] = value instead\n",
            "\n",
            "See the caveats in the documentation: https://pandas.pydata.org/pandas-docs/stable/user_guide/indexing.html#returning-a-view-versus-a-copy\n",
            "  df_plotting['Дата'] = df_plotting['Дата'].dt.strftime(\"%d.%m.%Y\") # временно, снять выделение\n"
          ]
        },
        {
          "name": "stdout",
          "output_type": "stream",
          "text": [
            "save_pic 65\n"
          ]
        },
        {
          "name": "stderr",
          "output_type": "stream",
          "text": [
            "C:\\Users\\user\\AppData\\Local\\Temp\\ipykernel_16956\\1688310086.py:182: DeprecationWarning: ANTIALIAS is deprecated and will be removed in Pillow 10 (2023-07-01). Use Resampling.LANCZOS instead.\n",
            "  original_image = original_image.resize((width, h2), PIL_Image.ANTIALIAS)\n",
            "C:\\Users\\user\\AppData\\Local\\Temp\\ipykernel_16956\\1688310086.py:80: SettingWithCopyWarning: \n",
            "A value is trying to be set on a copy of a slice from a DataFrame.\n",
            "Try using .loc[row_indexer,col_indexer] = value instead\n",
            "\n",
            "See the caveats in the documentation: https://pandas.pydata.org/pandas-docs/stable/user_guide/indexing.html#returning-a-view-versus-a-copy\n",
            "  df_plotting['Дата'] = df_plotting['Дата'].dt.strftime(\"%d.%m.%Y\") # временно, снять выделение\n"
          ]
        },
        {
          "name": "stdout",
          "output_type": "stream",
          "text": [
            "save_pic 66\n"
          ]
        },
        {
          "name": "stderr",
          "output_type": "stream",
          "text": [
            "C:\\Users\\user\\AppData\\Local\\Temp\\ipykernel_16956\\1688310086.py:182: DeprecationWarning: ANTIALIAS is deprecated and will be removed in Pillow 10 (2023-07-01). Use Resampling.LANCZOS instead.\n",
            "  original_image = original_image.resize((width, h2), PIL_Image.ANTIALIAS)\n",
            "C:\\Users\\user\\AppData\\Local\\Temp\\ipykernel_16956\\1688310086.py:80: SettingWithCopyWarning: \n",
            "A value is trying to be set on a copy of a slice from a DataFrame.\n",
            "Try using .loc[row_indexer,col_indexer] = value instead\n",
            "\n",
            "See the caveats in the documentation: https://pandas.pydata.org/pandas-docs/stable/user_guide/indexing.html#returning-a-view-versus-a-copy\n",
            "  df_plotting['Дата'] = df_plotting['Дата'].dt.strftime(\"%d.%m.%Y\") # временно, снять выделение\n"
          ]
        },
        {
          "name": "stdout",
          "output_type": "stream",
          "text": [
            "save_pic 67\n"
          ]
        },
        {
          "name": "stderr",
          "output_type": "stream",
          "text": [
            "C:\\Users\\user\\AppData\\Local\\Temp\\ipykernel_16956\\1688310086.py:182: DeprecationWarning: ANTIALIAS is deprecated and will be removed in Pillow 10 (2023-07-01). Use Resampling.LANCZOS instead.\n",
            "  original_image = original_image.resize((width, h2), PIL_Image.ANTIALIAS)\n",
            "C:\\Users\\user\\AppData\\Local\\Temp\\ipykernel_16956\\1688310086.py:80: SettingWithCopyWarning: \n",
            "A value is trying to be set on a copy of a slice from a DataFrame.\n",
            "Try using .loc[row_indexer,col_indexer] = value instead\n",
            "\n",
            "See the caveats in the documentation: https://pandas.pydata.org/pandas-docs/stable/user_guide/indexing.html#returning-a-view-versus-a-copy\n",
            "  df_plotting['Дата'] = df_plotting['Дата'].dt.strftime(\"%d.%m.%Y\") # временно, снять выделение\n",
            "C:\\Users\\user\\AppData\\Local\\Temp\\ipykernel_16956\\1688310086.py:182: DeprecationWarning: ANTIALIAS is deprecated and will be removed in Pillow 10 (2023-07-01). Use Resampling.LANCZOS instead.\n",
            "  original_image = original_image.resize((width, h2), PIL_Image.ANTIALIAS)\n"
          ]
        },
        {
          "name": "stdout",
          "output_type": "stream",
          "text": [
            "save_pic 68\n"
          ]
        },
        {
          "name": "stderr",
          "output_type": "stream",
          "text": [
            "C:\\Users\\user\\AppData\\Local\\Temp\\ipykernel_16956\\1688310086.py:80: SettingWithCopyWarning: \n",
            "A value is trying to be set on a copy of a slice from a DataFrame.\n",
            "Try using .loc[row_indexer,col_indexer] = value instead\n",
            "\n",
            "See the caveats in the documentation: https://pandas.pydata.org/pandas-docs/stable/user_guide/indexing.html#returning-a-view-versus-a-copy\n",
            "  df_plotting['Дата'] = df_plotting['Дата'].dt.strftime(\"%d.%m.%Y\") # временно, снять выделение\n"
          ]
        },
        {
          "name": "stdout",
          "output_type": "stream",
          "text": [
            "save_pic 69\n"
          ]
        },
        {
          "name": "stderr",
          "output_type": "stream",
          "text": [
            "C:\\Users\\user\\AppData\\Local\\Temp\\ipykernel_16956\\1688310086.py:182: DeprecationWarning: ANTIALIAS is deprecated and will be removed in Pillow 10 (2023-07-01). Use Resampling.LANCZOS instead.\n",
            "  original_image = original_image.resize((width, h2), PIL_Image.ANTIALIAS)\n",
            "C:\\Users\\user\\AppData\\Local\\Temp\\ipykernel_16956\\1688310086.py:80: SettingWithCopyWarning: \n",
            "A value is trying to be set on a copy of a slice from a DataFrame.\n",
            "Try using .loc[row_indexer,col_indexer] = value instead\n",
            "\n",
            "See the caveats in the documentation: https://pandas.pydata.org/pandas-docs/stable/user_guide/indexing.html#returning-a-view-versus-a-copy\n",
            "  df_plotting['Дата'] = df_plotting['Дата'].dt.strftime(\"%d.%m.%Y\") # временно, снять выделение\n",
            "C:\\Users\\user\\AppData\\Local\\Temp\\ipykernel_16956\\1688310086.py:182: DeprecationWarning: ANTIALIAS is deprecated and will be removed in Pillow 10 (2023-07-01). Use Resampling.LANCZOS instead.\n",
            "  original_image = original_image.resize((width, h2), PIL_Image.ANTIALIAS)\n"
          ]
        },
        {
          "name": "stdout",
          "output_type": "stream",
          "text": [
            "save_pic 72\n"
          ]
        },
        {
          "name": "stderr",
          "output_type": "stream",
          "text": [
            "C:\\Users\\user\\AppData\\Local\\Temp\\ipykernel_16956\\1688310086.py:80: SettingWithCopyWarning: \n",
            "A value is trying to be set on a copy of a slice from a DataFrame.\n",
            "Try using .loc[row_indexer,col_indexer] = value instead\n",
            "\n",
            "See the caveats in the documentation: https://pandas.pydata.org/pandas-docs/stable/user_guide/indexing.html#returning-a-view-versus-a-copy\n",
            "  df_plotting['Дата'] = df_plotting['Дата'].dt.strftime(\"%d.%m.%Y\") # временно, снять выделение\n",
            "C:\\Users\\user\\AppData\\Local\\Temp\\ipykernel_16956\\1688310086.py:182: DeprecationWarning: ANTIALIAS is deprecated and will be removed in Pillow 10 (2023-07-01). Use Resampling.LANCZOS instead.\n",
            "  original_image = original_image.resize((width, h2), PIL_Image.ANTIALIAS)\n"
          ]
        },
        {
          "name": "stdout",
          "output_type": "stream",
          "text": [
            "save_pic 75\n"
          ]
        },
        {
          "name": "stderr",
          "output_type": "stream",
          "text": [
            "C:\\Users\\user\\AppData\\Local\\Temp\\ipykernel_16956\\1688310086.py:80: SettingWithCopyWarning: \n",
            "A value is trying to be set on a copy of a slice from a DataFrame.\n",
            "Try using .loc[row_indexer,col_indexer] = value instead\n",
            "\n",
            "See the caveats in the documentation: https://pandas.pydata.org/pandas-docs/stable/user_guide/indexing.html#returning-a-view-versus-a-copy\n",
            "  df_plotting['Дата'] = df_plotting['Дата'].dt.strftime(\"%d.%m.%Y\") # временно, снять выделение\n"
          ]
        },
        {
          "name": "stdout",
          "output_type": "stream",
          "text": [
            "save_pic 77\n"
          ]
        },
        {
          "name": "stderr",
          "output_type": "stream",
          "text": [
            "C:\\Users\\user\\AppData\\Local\\Temp\\ipykernel_16956\\1688310086.py:182: DeprecationWarning: ANTIALIAS is deprecated and will be removed in Pillow 10 (2023-07-01). Use Resampling.LANCZOS instead.\n",
            "  original_image = original_image.resize((width, h2), PIL_Image.ANTIALIAS)\n",
            "C:\\Users\\user\\AppData\\Local\\Temp\\ipykernel_16956\\1688310086.py:80: SettingWithCopyWarning: \n",
            "A value is trying to be set on a copy of a slice from a DataFrame.\n",
            "Try using .loc[row_indexer,col_indexer] = value instead\n",
            "\n",
            "See the caveats in the documentation: https://pandas.pydata.org/pandas-docs/stable/user_guide/indexing.html#returning-a-view-versus-a-copy\n",
            "  df_plotting['Дата'] = df_plotting['Дата'].dt.strftime(\"%d.%m.%Y\") # временно, снять выделение\n",
            "C:\\Users\\user\\AppData\\Local\\Temp\\ipykernel_16956\\1688310086.py:182: DeprecationWarning: ANTIALIAS is deprecated and will be removed in Pillow 10 (2023-07-01). Use Resampling.LANCZOS instead.\n",
            "  original_image = original_image.resize((width, h2), PIL_Image.ANTIALIAS)\n"
          ]
        },
        {
          "name": "stdout",
          "output_type": "stream",
          "text": [
            "save_pic 78\n"
          ]
        },
        {
          "name": "stderr",
          "output_type": "stream",
          "text": [
            "C:\\Users\\user\\AppData\\Local\\Temp\\ipykernel_16956\\1688310086.py:80: SettingWithCopyWarning: \n",
            "A value is trying to be set on a copy of a slice from a DataFrame.\n",
            "Try using .loc[row_indexer,col_indexer] = value instead\n",
            "\n",
            "See the caveats in the documentation: https://pandas.pydata.org/pandas-docs/stable/user_guide/indexing.html#returning-a-view-versus-a-copy\n",
            "  df_plotting['Дата'] = df_plotting['Дата'].dt.strftime(\"%d.%m.%Y\") # временно, снять выделение\n"
          ]
        },
        {
          "name": "stdout",
          "output_type": "stream",
          "text": [
            "save_pic 80\n"
          ]
        },
        {
          "name": "stderr",
          "output_type": "stream",
          "text": [
            "C:\\Users\\user\\AppData\\Local\\Temp\\ipykernel_16956\\1688310086.py:182: DeprecationWarning: ANTIALIAS is deprecated and will be removed in Pillow 10 (2023-07-01). Use Resampling.LANCZOS instead.\n",
            "  original_image = original_image.resize((width, h2), PIL_Image.ANTIALIAS)\n",
            "C:\\Users\\user\\AppData\\Local\\Temp\\ipykernel_16956\\1688310086.py:80: SettingWithCopyWarning: \n",
            "A value is trying to be set on a copy of a slice from a DataFrame.\n",
            "Try using .loc[row_indexer,col_indexer] = value instead\n",
            "\n",
            "See the caveats in the documentation: https://pandas.pydata.org/pandas-docs/stable/user_guide/indexing.html#returning-a-view-versus-a-copy\n",
            "  df_plotting['Дата'] = df_plotting['Дата'].dt.strftime(\"%d.%m.%Y\") # временно, снять выделение\n"
          ]
        },
        {
          "name": "stdout",
          "output_type": "stream",
          "text": [
            "save_pic 82\n"
          ]
        },
        {
          "name": "stderr",
          "output_type": "stream",
          "text": [
            "C:\\Users\\user\\AppData\\Local\\Temp\\ipykernel_16956\\1688310086.py:182: DeprecationWarning: ANTIALIAS is deprecated and will be removed in Pillow 10 (2023-07-01). Use Resampling.LANCZOS instead.\n",
            "  original_image = original_image.resize((width, h2), PIL_Image.ANTIALIAS)\n",
            "C:\\Users\\user\\AppData\\Local\\Temp\\ipykernel_16956\\1688310086.py:80: SettingWithCopyWarning: \n",
            "A value is trying to be set on a copy of a slice from a DataFrame.\n",
            "Try using .loc[row_indexer,col_indexer] = value instead\n",
            "\n",
            "See the caveats in the documentation: https://pandas.pydata.org/pandas-docs/stable/user_guide/indexing.html#returning-a-view-versus-a-copy\n",
            "  df_plotting['Дата'] = df_plotting['Дата'].dt.strftime(\"%d.%m.%Y\") # временно, снять выделение\n"
          ]
        },
        {
          "name": "stdout",
          "output_type": "stream",
          "text": [
            "save_pic 83\n"
          ]
        },
        {
          "name": "stderr",
          "output_type": "stream",
          "text": [
            "C:\\Users\\user\\AppData\\Local\\Temp\\ipykernel_16956\\1688310086.py:182: DeprecationWarning: ANTIALIAS is deprecated and will be removed in Pillow 10 (2023-07-01). Use Resampling.LANCZOS instead.\n",
            "  original_image = original_image.resize((width, h2), PIL_Image.ANTIALIAS)\n"
          ]
        },
        {
          "name": "stdout",
          "output_type": "stream",
          "text": [
            "Vse\n"
          ]
        }
      ],
      "source": [
        "tech_name_of_area = '___'\n",
        "name_of_svodnaya_table = '___.xlsx'\n",
        "list_of_table_names = ['КС весна 2021', 'КС осень 2021', \n",
        "                       'КС весна 2022', 'КС осень 2022',] #обрабатываемые листы в порядке заполнения пасспорта\n",
        "path_to_file = tech_name_of_area + '/' + name_of_svodnaya_table\n",
        "\n",
        "column_with_well_names = 'Unnamed: 3'\n",
        "name_of_area = 'Площадка ___' #название площадки\n",
        "do_you_want_refrest_graph = True # Хотите ли обновить графики (True - если хотим, False - если нет)\n",
        "df = read_df(path_to_file, name_of_area, list_of_table_names, column_with_well_names = column_with_well_names) # инициируем данные сводной ведомости в систему\n",
        "df['Скважина'] = df.apply(lambda x: str(x['Скважина'].replace('.0', '')),axis=1) # по какой-то причине одни ячейки он берет за int, float и конвертирует в str \n",
        "# задаём файл паспортов и сохранаяем его рядом с обрабатываемым файлом (сводной) (здесь _passports означает приписку к первоначальному файлу)\n",
        "name_of_passport_file = path_to_file[:-5]+'_passports'+ path_to_file[-5:] # имя пасспорта\n",
        "\n",
        "# def create_and_fill_xlsx_file(df, ): # попозже\n",
        "# создаем и заполняем экселевский файл\n",
        "wb = openpyxl.Workbook() # создаем файл\n",
        "list_of_unique_wells = list(df['Скважина'].dropna().unique()) # записываем имена пасспортов\n",
        "for well in list_of_unique_wells: # проходим циклом по именам пасспортов\n",
        "    df_of_well = df[df['Скважина'] == well] # пока обойдемся без сортировки\n",
        "    ws = wb.create_sheet(title = well)\n",
        "    fifteen_meter_well = False # по умолчанию\n",
        "\n",
        "    ### Заголовок паспорта термометрической скважины:\n",
        "    add_heading (well,)\n",
        "\n",
        "    ### Местоположение термоскважины\n",
        "    genplan_position = df_of_well['Позиция по ГП'].iloc[-1]\n",
        "    add_location(name_of_area, genplan_position)\n",
        "\n",
        "    ## Проверяем на 15-метровость скважины\n",
        "    if list(df_of_well['12.0'].dropna()) or list(df_of_well['14.0'].dropna()) or (list(df_of_well['15.0'].dropna())):\n",
        "      fifteen_meter_well = True\n",
        "    add_temperature_table(df_of_well, name_of_area, variant = 1)\n",
        "        \n",
        "wb.save(name_of_passport_file)\n",
        "\n",
        "print('Vse')"
      ]
    },
    {
      "cell_type": "markdown",
      "metadata": {
        "id": "ZKQ_BPR_XTfl",
        "jp-MarkdownHeadingCollapsed": true,
        "tags": []
      },
      "source": [
        "## 9. Обрабатываем Пождепо"
      ]
    },
    {
      "cell_type": "code",
      "execution_count": null,
      "metadata": {
        "colab": {
          "base_uri": "https://localhost:8080/"
        },
        "id": "wEPjQqZgXPN_",
        "jupyter": {
          "outputs_hidden": true
        },
        "outputId": "3c3bffe7-9dc2-48c5-b78f-ebee0999aabb",
        "tags": []
      },
      "outputs": [
        {
          "name": "stderr",
          "output_type": "stream",
          "text": [
            "C:\\Users\\user\\AppData\\Local\\Temp\\ipykernel_16956\\1688310086.py:80: SettingWithCopyWarning: \n",
            "A value is trying to be set on a copy of a slice from a DataFrame.\n",
            "Try using .loc[row_indexer,col_indexer] = value instead\n",
            "\n",
            "See the caveats in the documentation: https://pandas.pydata.org/pandas-docs/stable/user_guide/indexing.html#returning-a-view-versus-a-copy\n",
            "  df_plotting['Дата'] = df_plotting['Дата'].dt.strftime(\"%d.%m.%Y\") # временно, снять выделение\n"
          ]
        },
        {
          "name": "stdout",
          "output_type": "stream",
          "text": [
            "save_pic 1\n"
          ]
        },
        {
          "name": "stderr",
          "output_type": "stream",
          "text": [
            "C:\\Users\\user\\AppData\\Local\\Temp\\ipykernel_16956\\1688310086.py:182: DeprecationWarning: ANTIALIAS is deprecated and will be removed in Pillow 10 (2023-07-01). Use Resampling.LANCZOS instead.\n",
            "  original_image = original_image.resize((width, h2), PIL_Image.ANTIALIAS)\n",
            "C:\\Users\\user\\AppData\\Local\\Temp\\ipykernel_16956\\1688310086.py:80: SettingWithCopyWarning: \n",
            "A value is trying to be set on a copy of a slice from a DataFrame.\n",
            "Try using .loc[row_indexer,col_indexer] = value instead\n",
            "\n",
            "See the caveats in the documentation: https://pandas.pydata.org/pandas-docs/stable/user_guide/indexing.html#returning-a-view-versus-a-copy\n",
            "  df_plotting['Дата'] = df_plotting['Дата'].dt.strftime(\"%d.%m.%Y\") # временно, снять выделение\n"
          ]
        },
        {
          "name": "stdout",
          "output_type": "stream",
          "text": [
            "save_pic 2\n"
          ]
        },
        {
          "name": "stderr",
          "output_type": "stream",
          "text": [
            "C:\\Users\\user\\AppData\\Local\\Temp\\ipykernel_16956\\1688310086.py:182: DeprecationWarning: ANTIALIAS is deprecated and will be removed in Pillow 10 (2023-07-01). Use Resampling.LANCZOS instead.\n",
            "  original_image = original_image.resize((width, h2), PIL_Image.ANTIALIAS)\n",
            "C:\\Users\\user\\AppData\\Local\\Temp\\ipykernel_16956\\1688310086.py:80: SettingWithCopyWarning: \n",
            "A value is trying to be set on a copy of a slice from a DataFrame.\n",
            "Try using .loc[row_indexer,col_indexer] = value instead\n",
            "\n",
            "See the caveats in the documentation: https://pandas.pydata.org/pandas-docs/stable/user_guide/indexing.html#returning-a-view-versus-a-copy\n",
            "  df_plotting['Дата'] = df_plotting['Дата'].dt.strftime(\"%d.%m.%Y\") # временно, снять выделение\n"
          ]
        },
        {
          "name": "stdout",
          "output_type": "stream",
          "text": [
            "save_pic 3\n"
          ]
        },
        {
          "name": "stderr",
          "output_type": "stream",
          "text": [
            "C:\\Users\\user\\AppData\\Local\\Temp\\ipykernel_16956\\1688310086.py:182: DeprecationWarning: ANTIALIAS is deprecated and will be removed in Pillow 10 (2023-07-01). Use Resampling.LANCZOS instead.\n",
            "  original_image = original_image.resize((width, h2), PIL_Image.ANTIALIAS)\n",
            "C:\\Users\\user\\AppData\\Local\\Temp\\ipykernel_16956\\1688310086.py:80: SettingWithCopyWarning: \n",
            "A value is trying to be set on a copy of a slice from a DataFrame.\n",
            "Try using .loc[row_indexer,col_indexer] = value instead\n",
            "\n",
            "See the caveats in the documentation: https://pandas.pydata.org/pandas-docs/stable/user_guide/indexing.html#returning-a-view-versus-a-copy\n",
            "  df_plotting['Дата'] = df_plotting['Дата'].dt.strftime(\"%d.%m.%Y\") # временно, снять выделение\n"
          ]
        },
        {
          "name": "stdout",
          "output_type": "stream",
          "text": [
            "save_pic 4\n"
          ]
        },
        {
          "name": "stderr",
          "output_type": "stream",
          "text": [
            "C:\\Users\\user\\AppData\\Local\\Temp\\ipykernel_16956\\1688310086.py:182: DeprecationWarning: ANTIALIAS is deprecated and will be removed in Pillow 10 (2023-07-01). Use Resampling.LANCZOS instead.\n",
            "  original_image = original_image.resize((width, h2), PIL_Image.ANTIALIAS)\n",
            "C:\\Users\\user\\AppData\\Local\\Temp\\ipykernel_16956\\1688310086.py:80: SettingWithCopyWarning: \n",
            "A value is trying to be set on a copy of a slice from a DataFrame.\n",
            "Try using .loc[row_indexer,col_indexer] = value instead\n",
            "\n",
            "See the caveats in the documentation: https://pandas.pydata.org/pandas-docs/stable/user_guide/indexing.html#returning-a-view-versus-a-copy\n",
            "  df_plotting['Дата'] = df_plotting['Дата'].dt.strftime(\"%d.%m.%Y\") # временно, снять выделение\n"
          ]
        },
        {
          "name": "stdout",
          "output_type": "stream",
          "text": [
            "save_pic 5\n"
          ]
        },
        {
          "name": "stderr",
          "output_type": "stream",
          "text": [
            "C:\\Users\\user\\AppData\\Local\\Temp\\ipykernel_16956\\1688310086.py:182: DeprecationWarning: ANTIALIAS is deprecated and will be removed in Pillow 10 (2023-07-01). Use Resampling.LANCZOS instead.\n",
            "  original_image = original_image.resize((width, h2), PIL_Image.ANTIALIAS)\n",
            "C:\\Users\\user\\AppData\\Local\\Temp\\ipykernel_16956\\1688310086.py:80: SettingWithCopyWarning: \n",
            "A value is trying to be set on a copy of a slice from a DataFrame.\n",
            "Try using .loc[row_indexer,col_indexer] = value instead\n",
            "\n",
            "See the caveats in the documentation: https://pandas.pydata.org/pandas-docs/stable/user_guide/indexing.html#returning-a-view-versus-a-copy\n",
            "  df_plotting['Дата'] = df_plotting['Дата'].dt.strftime(\"%d.%m.%Y\") # временно, снять выделение\n"
          ]
        },
        {
          "name": "stdout",
          "output_type": "stream",
          "text": [
            "save_pic 6\n"
          ]
        },
        {
          "name": "stderr",
          "output_type": "stream",
          "text": [
            "C:\\Users\\user\\AppData\\Local\\Temp\\ipykernel_16956\\1688310086.py:182: DeprecationWarning: ANTIALIAS is deprecated and will be removed in Pillow 10 (2023-07-01). Use Resampling.LANCZOS instead.\n",
            "  original_image = original_image.resize((width, h2), PIL_Image.ANTIALIAS)\n"
          ]
        },
        {
          "name": "stdout",
          "output_type": "stream",
          "text": [
            "Vse\n"
          ]
        }
      ],
      "source": [
        "tech_name_of_area = '___'\n",
        "name_of_svodnaya_table = '___.xlsx'\n",
        "list_of_table_names = ['___',] #обрабатываемые листы в порядке заполнения пасспорта\n",
        "path_to_file = tech_name_of_area + '/' + name_of_svodnaya_table\n",
        "\n",
        "column_with_well_names = 'Unnamed: 2'\n",
        "name_of_area = '___' #название площадки\n",
        "do_you_want_refrest_graph = True # Хотите ли обновить графики (True - если хотим, False - если нет)\n",
        "df = read_df(path_to_file, name_of_area, list_of_table_names, column_with_well_names = column_with_well_names) # инициируем данные сводной ведомости в систему\n",
        "\n",
        "# задаём файл паспортов и сохранаяем его рядом с обрабатываемым файлом (сводной) (здесь _passports означает приписку к первоначальному файлу)\n",
        "name_of_passport_file = path_to_file[:-5]+'_passports'+ path_to_file[-5:] # имя пасспорта\n",
        "\n",
        "# def create_and_fill_xlsx_file(df, ): # попозже\n",
        "# создаем и заполняем экселевский файл\n",
        "wb = openpyxl.Workbook() # создаем файл\n",
        "list_of_unique_wells = list(df['Скважина'].dropna().unique()) # записываем имена пасспортов\n",
        "for well in list_of_unique_wells: # проходим циклом по именам пасспортов\n",
        "    df_of_well = df[df['Скважина'] == well] # пока обойдемся без сортировки\n",
        "    ws = wb.create_sheet(title = well)\n",
        "    fifteen_meter_well = False # по умолчанию\n",
        "\n",
        "    ### Заголовок паспорта термометрической скважины:\n",
        "    add_heading (well,)\n",
        "\n",
        "    ### Местоположение термоскважины\n",
        "    genplan_position = df_of_well['Позиция по ГП'].iloc[-1]\n",
        "    add_location(name_of_area, genplan_position)\n",
        "\n",
        "    ## Проверяем на 15-метровость скважины\n",
        "    if list(df_of_well['12.0'].dropna()) or list(df_of_well['14.0'].dropna()) or (list(df_of_well['15.0'].dropna())):\n",
        "      fifteen_meter_well = True\n",
        "    add_temperature_table(df_of_well, name_of_area, variant = 1)\n",
        "        \n",
        "wb.save(name_of_passport_file)\n",
        "\n",
        "print('Vse')"
      ]
    },
    {
      "cell_type": "markdown",
      "metadata": {
        "id": "EF-oLh8GtRF4",
        "jp-MarkdownHeadingCollapsed": true,
        "tags": []
      },
      "source": [
        "## 11. Обрабатываем напорник"
      ]
    },
    {
      "cell_type": "markdown",
      "metadata": {
        "id": "4VWhOR4xtRF5",
        "jp-MarkdownHeadingCollapsed": true,
        "tags": []
      },
      "source": [
        "### Сводная ___"
      ]
    },
    {
      "cell_type": "code",
      "execution_count": null,
      "metadata": {
        "id": "yEmAtr3JtRF5"
      },
      "outputs": [],
      "source": [
        "tech_name_of_area = '___'\n",
        "name_of_svodnaya_table = '___.xlsx'\n",
        "list_of_table_names = ['___', ] #обрабатываемые листы в порядке заполнения пасспорта\n",
        "path_to_file = tech_name_of_area + '/' + name_of_svodnaya_table\n",
        "\n",
        "\n",
        "column_with_well_names = 'Unnamed: 2'\n",
        "name_of_area = '___' #название площадки\n",
        "do_you_want_refrest_graph = True # Хотите ли обновить графики (True - если хотим, False - если нет)\n",
        "df = read_df(path_to_file, name_of_area = name_of_area, list_of_table_names = list_of_table_names, column_with_well_names = column_with_well_names) # инициируем данные сводной ведомости в систему\n",
        "########### костыли\n",
        "df['Дата'] = pd.to_datetime(df['Дата'],)\n",
        "df['Скважина'] = df['Скважина'].astype(float)\n",
        "df = df.sort_values(by = ['Скважина', 'Дата'])\n",
        "df['Скважина'] = df['Скважина'].astype(str)\n",
        "\n",
        "############\n",
        "# задаём файл паспортов и сохранаяем его рядом с обрабатываемым файлом (сводной) (здесь _passports означает приписку к первоначальному файлу)\n",
        "name_of_passport_file = path_to_file[:-5]+'_passports'+ path_to_file[-5:] # имя пасспорта\n",
        "\n",
        "# def create_and_fill_xlsx_file(df, ): # попозже\n",
        "# создаем и заполняем экселевский файл\n",
        "wb = openpyxl.Workbook() # создаем файл\n",
        "list_of_unique_wells = list(df['Скважина'].dropna().unique()) # записываем имена пасспортов\n",
        "for well in list_of_unique_wells: # проходим циклом по именам пасспортов\n",
        "    df_of_well = df[df['Скважина'] == well] # пока обойдемся без сортировки\n",
        "    ws = wb.create_sheet(title = well)\n",
        "    fifteen_meter_well = False # по умолчанию\n",
        "\n",
        "    ### Заголовок паспорта термометрической скважины:\n",
        "    add_heading (well,)\n",
        "\n",
        "    ### Местоположение термоскважины\n",
        "    genplan_position = df_of_well['Позиция по ГП'].iloc[-1]\n",
        "    add_location(name_of_area, genplan_position)\n",
        "\n",
        "    ## Проверяем на 15-метровость скважины\n",
        "    if list(df_of_well['12.0'].dropna()) or list(df_of_well['14.0'].dropna()) or (list(df_of_well['15.0'].dropna())):\n",
        "      fifteen_meter_well = True\n",
        "#     print(well[['Скважина', 'Дата']])\n",
        "    add_temperature_table(df_of_well, name_of_area, variant = 1)\n",
        "        \n",
        "wb.save(name_of_passport_file)\n",
        "\n",
        "print('Vse')"
      ]
    },
    {
      "cell_type": "code",
      "execution_count": null,
      "metadata": {
        "id": "FVdIRjNKy-M_"
      },
      "outputs": [],
      "source": [
        "tech_name_of_area = '___'\n",
        "name_of_svodnaya_table = 'Сводная ___.xlsx'\n",
        "list_of_table_names = ['___',] #обрабатываемые листы в порядке заполнения пасспорта\n",
        "path_to_file = tech_name_of_area + '/' + name_of_svodnaya_table\n",
        "\n",
        "column_with_well_names = 'Unnamed: 2'\n",
        "\n",
        "name_of_area = '___' #название площадки\n",
        "do_you_want_refrest_graph = True # Хотите ли обновить графики (True - если хотим, False - если нет)\n",
        "df = read_df(path_to_file, name_of_area = name_of_area, list_of_table_names = list_of_table_names, column_with_well_names = column_with_well_names) # инициируем данные сводной ведомости в систему\n",
        "########### костыли\n",
        "df['Дата'] = pd.to_datetime(df['Дата'],)\n",
        "############\n",
        "# задаём файл паспортов и сохранаяем его рядом с обрабатываемым файлом (сводной) (здесь _passports означает приписку к первоначальному файлу)\n",
        "name_of_passport_file = path_to_file[:-5]+'_passports'+ path_to_file[-5:] # имя пасспорта\n",
        "\n",
        "# def create_and_fill_xlsx_file(df, ): # попозже\n",
        "# создаем и заполняем экселевский файл\n",
        "wb = openpyxl.Workbook() # создаем файл\n",
        "list_of_unique_wells = list(df['Скважина'].dropna().unique()) # записываем имена пасспортов\n",
        "for well in list_of_unique_wells: # проходим циклом по именам пасспортов\n",
        "    df_of_well = df[df['Скважина'] == well] # пока обойдемся без сортировки\n",
        "    ws = wb.create_sheet(title = well)\n",
        "    fifteen_meter_well = False # по умолчанию\n",
        "\n",
        "    ### Заголовок паспорта термометрической скважины:\n",
        "    add_heading (well,)\n",
        "\n",
        "    ### Местоположение термоскважины\n",
        "    genplan_position = df_of_well['Позиция по ГП'].iloc[-1]\n",
        "    add_location(name_of_area, genplan_position)\n",
        "\n",
        "    ## Проверяем на 15-метровость скважины\n",
        "    if list(df_of_well['12.0'].dropna()) or list(df_of_well['14.0'].dropna()) or (list(df_of_well['15.0'].dropna())):\n",
        "      fifteen_meter_well = True\n",
        "    add_temperature_table(df_of_well, name_of_area, variant = 1)\n",
        "        \n",
        "wb.save(name_of_passport_file)\n",
        "\n",
        "print('Vse')"
      ]
    },
    {
      "cell_type": "markdown",
      "metadata": {
        "id": "XgUuUJtq0CPH",
        "jp-MarkdownHeadingCollapsed": true,
        "tags": []
      },
      "source": [
        "## 12. ___"
      ]
    },
    {
      "cell_type": "code",
      "execution_count": null,
      "metadata": {
        "id": "R8mqiJXbUPT1",
        "jupyter": {
          "outputs_hidden": true,
          "source_hidden": true
        },
        "tags": []
      },
      "outputs": [],
      "source": [
        "tech_name_of_area = '___'\n",
        "name_of_svodnaya_table = '___.xlsx'\n",
        "list_of_table_names = ['___'] #обрабатываемые листы в порядке заполнения пасспорта\n",
        "path_to_file = tech_name_of_area + '/' + name_of_svodnaya_table\n",
        "\n",
        "column_with_well_names = 'Unnamed: 3'\n",
        "name_of_area = '___ площадка' #название площадки\n",
        "do_you_want_refrest_graph = True # Хотите ли обновить графики (True - если хотим, False - если нет)\n",
        "df = read_df(path_to_file, name_of_area, list_of_table_names, column_with_well_names = column_with_well_names) # инициируем данные сводной ведомости в систему\n",
        "\n",
        "# задаём файл паспортов и сохранаяем его рядом с обрабатываемым файлом (сводной) (здесь _passports означает приписку к первоначальному файлу)\n",
        "name_of_passport_file = path_to_file[:-5]+'_passports'+ path_to_file[-5:] # имя пасспорта\n",
        "\n",
        "# def create_and_fill_xlsx_file(df, ): # попозже\n",
        "# создаем и заполняем экселевский файл\n",
        "wb = openpyxl.Workbook() # создаем файл\n",
        "list_of_unique_wells = list(df['Скважина'].dropna().unique()) # записываем имена пасспортов\n",
        "for well in list_of_unique_wells: # проходим циклом по именам пасспортов\n",
        "    df_of_well = df[df['Скважина'] == well] # пока обойдемся без сортировки\n",
        "    ws = wb.create_sheet(title = well)\n",
        "    fifteen_meter_well = False # по умолчанию\n",
        "\n",
        "    ### Заголовок паспорта термометрической скважины:\n",
        "    add_heading (well.split('_')[1],) # только для КП\n",
        "\n",
        "    ### Местоположение термоскважины\n",
        "    genplan_position = df_of_well['Позиция по ГП'].iloc[-1]\n",
        "    add_location(name_of_area, genplan_position)\n",
        "\n",
        "    ## Проверяем на 15-метровость скважины\n",
        "    if list(df_of_well['12.0'].dropna()) or list(df_of_well['14.0'].dropna()) or (list(df_of_well['15.0'].dropna())):\n",
        "      fifteen_meter_well = True\n",
        "    add_temperature_table(df_of_well, name_of_area, variant = 1)\n",
        "        \n",
        "wb.save(name_of_passport_file)\n",
        "\n",
        "print('Vse')"
      ]
    },
    {
      "cell_type": "markdown",
      "metadata": {
        "jp-MarkdownHeadingCollapsed": true,
        "tags": [],
        "id": "Q369keG1Nb0_"
      },
      "source": [
        "## Разное"
      ]
    }
  ],
  "metadata": {
    "colab": {
      "collapsed_sections": [
        "LQKWE1obtRF0",
        "dgLIC_PZtRF2",
        "4VWhOR4xtRF5",
        "PFkRFz2atRF7",
        "NMYx_psItRF8"
      ],
      "name": "Mesoyaha_passports.ipynb",
      "provenance": []
    },
    "kernelspec": {
      "display_name": "Python 3 (ipykernel)",
      "language": "python",
      "name": "python3"
    },
    "language_info": {
      "codemirror_mode": {
        "name": "ipython",
        "version": 3
      },
      "file_extension": ".py",
      "mimetype": "text/x-python",
      "name": "python",
      "nbconvert_exporter": "python",
      "pygments_lexer": "ipython3",
      "version": "3.9.7"
    },
    "varInspector": {
      "cols": {
        "lenName": 16,
        "lenType": 16,
        "lenVar": 40
      },
      "kernels_config": {
        "python": {
          "delete_cmd_postfix": "",
          "delete_cmd_prefix": "del ",
          "library": "var_list.py",
          "varRefreshCmd": "print(var_dic_list())"
        },
        "r": {
          "delete_cmd_postfix": ") ",
          "delete_cmd_prefix": "rm(",
          "library": "var_list.r",
          "varRefreshCmd": "cat(var_dic_list()) "
        }
      },
      "types_to_exclude": [
        "module",
        "function",
        "builtin_function_or_method",
        "instance",
        "_Feature"
      ],
      "window_display": false
    }
  },
  "nbformat": 4,
  "nbformat_minor": 0
}