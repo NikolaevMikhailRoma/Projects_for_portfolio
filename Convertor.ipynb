{
 "cells": [
  {
   "cell_type": "code",
   "execution_count": 3,
   "metadata": {},
   "outputs": [],
   "source": [
    "import io\n",
    "import pickle\n",
    "import pandas as pd\n",
    "\n",
    "path = 'D:\\measure.gtm'\n",
    "path ='C:/Users/user/kriolab2.gtm'\n",
    "path2 = 'C:/Users/user/measure.gtm'"
   ]
  },
  {
   "cell_type": "code",
   "execution_count": 6,
   "metadata": {},
   "outputs": [
    {
     "ename": "SyntaxError",
     "evalue": "EOL while scanning string literal (Temp/ipykernel_8768/369196860.py, line 12)",
     "output_type": "error",
     "traceback": [
      "\u001b[1;36m  File \u001b[1;32m\"C:\\Users\\user\\AppData\\Local\\Temp/ipykernel_8768/369196860.py\"\u001b[1;36m, line \u001b[1;32m12\u001b[0m\n\u001b[1;33m    zero_level_csv_path = 'C:\\Users\\user\\Documents\\m_project\\2022 Осень\\Приборы\\1151\\'\u001b[0m\n\u001b[1;37m                                                                                      ^\u001b[0m\n\u001b[1;31mSyntaxError\u001b[0m\u001b[1;31m:\u001b[0m EOL while scanning string literal\n"
     ]
    }
   ],
   "source": [
    "### FINAL NOTEBOOK\n",
    "# %%time\n",
    "import sys\n",
    "import os\n",
    "import pandas as pd\n",
    "from importlib import reload\n",
    "import struct\n",
    "# import lib_conv_csv_gtm as lib\n",
    "import numpy as np\n",
    "\n",
    "zero_level_csv_path = \"D:/WORK/For_Convertor/\"\n",
    "zero_level_csv_path = 'C:\\Users\\user\\Documents\\m_project\\2022 Осень\\Приборы\\1151\\'\n",
    "list_of_zero_level_csv_path = os.listdir(zero_level_csv_path) # \n",
    "\n",
    "###\n",
    "list_of_first_level_csv_path = []\n",
    "for i1 in list_of_zero_level_csv_path:\n",
    "    list_of_first_level_csv_path.append(zero_level_csv_path + i1 + '/')\n",
    "###\n",
    "# print(list_of_first_level_csv_path)\n",
    "###\n",
    "for i1 in list_of_first_level_csv_path:\n",
    "    \n",
    "    list_of_end_level_csv_files = []\n",
    "    list_of_end_level_csv_files = os.listdir(i1)\n",
    "    \n",
    "    ### получаем обрабатываемые пути файлов csv\n",
    "    list_of_csv_path = []\n",
    "    for i2 in list_of_end_level_csv_files:\n",
    "        if '.csv' in i2:\n",
    "            list_of_csv_path.append(i1+i2)\n",
    "    \n",
    "    ### начинаем обработку файлов csv и gtm   \n",
    "    for csv_file in list_of_csv_path:        \n",
    "        # открываем и читаем датафрейм от csv файла\n",
    "        df_of_csv_file = pd.read_csv(csv_file, encoding='cp1251', sep = ';', decimal=',')\n",
    "        df_of_csv_file.rename(columns ={'объект' : 'скважина'}, inplace = True) # переименовываем\n",
    "        actual_columns = ['0,0', '0,5', '1,0', '1,5', '2,0', '2,5', '3,0', '3,5', '4,0', \n",
    "                      '4,5', '5,0', '6,0', '7,0', '8,0', '9,0', '10,0', '12,0', '14,0', '15,0', 'дата время', 'коса', 'скважина']\n",
    "        #добавляем новые индексы, чтобы использовать 15м косы\n",
    "        df_of_csv_file = df_of_csv_file.reindex(columns = actual_columns)\n",
    "        df_of_csv_file = df_of_csv_file[actual_columns] # на всякий\n",
    "        df_of_csv_file['дата время'] = pd.to_datetime(df_of_csv_file['дата время'], dayfirst=True)\n",
    "\n",
    "        #GTM FILE\n",
    "        path = csv_file[:-4] + '.gtm' # обозначаем файл gtm на основе файла csv\n",
    "        ### open and create gpm file\n",
    "        file = open(path, 'wb')\n",
    "        file.write(b'GTM0')\n",
    "        \n",
    "#         continue #\n",
    "        for i in range (0, len(df_of_csv_file)): # !подставить len(df_of_raw_data_files) вместо 5\n",
    "        #     wtite_to_gtm_file(path = path_of_gtm_file)\n",
    "            count_censors = 16\n",
    "#             file = open(path, 'ab') #\n",
    "\n",
    "            # первый байт скорее зависит от кол-ва символов в строке, \\x63 для 3 в строке\n",
    "            # блок размера записи\n",
    "            name_object = str(df_of_csv_file.iloc[i]['скважина'])\n",
    "            len_of_well_name = len(name_object)\n",
    "\n",
    "            #\n",
    "            more_sensors = 3\n",
    "            if np.isnan(df_of_csv_file.iloc[i]['12,0']): #какой пиздец и костыли\n",
    "                more_sensors = 0\n",
    "            count_censors = count_censors+more_sensors\n",
    "            file.write(struct.pack('>h', 96+len_of_well_name+more_sensors*5)) #длинна записи, хз как считается \n",
    "            ###\n",
    "\n",
    "\n",
    "            file.write(b'\\x54\\x30\\x32') # добавляет T02 не знаю что это\n",
    "\n",
    "            file.write(struct.pack('b', count_censors)) # кол-во датчиков в косе\n",
    "            ###\n",
    "# #########################\n",
    "#             file.write(b'\\x00') # cекунды, по умолчанию 0, если больше или равно \\x1e то обнуляет\n",
    "#             ###\n",
    "#             ###\n",
    "#             file.write(b'\\x00') # минуты*8  хзхзхзхзхз\n",
    "#             ###\n",
    "#             ###\n",
    "#             month = df_of_csv_file.iloc[i]['дата время'].month\n",
    "            \n",
    "#             day = df_of_csv_file.iloc[i]['дата время'].day  \n",
    "#             file.write(struct.pack('B', day+32*month)) # дата от 01.01.1980\n",
    "#             ###\n",
    "            \n",
    "#             ##### Блок написания года\n",
    "            \n",
    "#             year = df_of_csv_file.iloc[i]['дата время'].year-1980\n",
    "#             file.write(struct.pack('B', year*2))\n",
    "#         #     file.write(b'\\x00') # год + 1980, значения по пол года (ну не совсем так)\n",
    "#             ####\n",
    "#         #     struct.pack('>h',  df_of_raw_data_files.iloc[i]['скважина'])\n",
    "#         ###########################\n",
    "        \n",
    "            ####################### блок времени и даты\n",
    "            ##### блок написания времени\n",
    "            minute = df_of_csv_file.iloc[i]['дата время'].minute\n",
    "            second = df_of_csv_file.iloc[i]['дата время'].second\n",
    "            file.write(struct.pack('B', second + (minute%8)*32)) # cекунды и остаток минут деленные на 8\n",
    "            hour = df_of_csv_file.iloc[i]['дата время'].hour\n",
    "            file.write(struct.pack('B', hour*8 + (minute//8))) # час и минута деленная на 8\n",
    "\n",
    "            ##### блок написания даты\n",
    "            month = df_of_csv_file.iloc[i]['дата время'].month\n",
    "            day = df_of_csv_file.iloc[i]['дата время'].day  \n",
    "            file.write(struct.pack('B', day+32*(month%8))) # дата от 01.01.1980\n",
    "            ## Блок написания года \n",
    "            year = df_of_csv_file.iloc[i]['дата время'].year-1980\n",
    "            polovina_goda=0\n",
    "            if month >=8:\n",
    "                polovina_goda=1\n",
    "            file.write(struct.pack('B', year*2+polovina_goda))\n",
    "            ###########################\n",
    "            ###########################\n",
    "\n",
    "            ### блок запосления номера косы  не могу правильность проверить\n",
    "        #     file.write(b'\\x64\\x00') # , номер косы\n",
    "            file.write(struct.pack('>h', df_of_csv_file.iloc[i]['коса']))\n",
    "            ###\n",
    "            file.write(b'\\x00\\x00') # , превышение уровня, у нас его нет\n",
    "\n",
    "            ### блок названия объекта\n",
    "        #     file.write(b'\\x04HUU\\x00') # название объекта - \\x длинна названия+1, название, пустой байт\n",
    "        #     name_object = str(df_of_raw_data_files.iloc[i]['скважина'])\n",
    "        #     if len(name_object) <3:\n",
    "        #         name_object = ' '*(3-len(name_object)) + name_object\n",
    "\n",
    "        #     file.write(b'\\x04') # длина имени +1\n",
    "            file.write(struct.pack('B', len_of_well_name+1))\n",
    "            file.write(bytes(name_object, 'utf-8'))\n",
    "            file.write(b'\\x00')\n",
    "            ###\n",
    "\n",
    "            ###блок написания температур\n",
    "            actual_columns = ['0,0', '0,5', '1,0', '1,5', '2,0', '2,5', '3,0', '3,5', '4,0', \n",
    "                              '4,5', '5,0', '6,0', '7,0', '8,0', '9,0', '10,0', '12,0', '14,0', '15,0']\n",
    "            offset_sensor = [0, 5, 5, 5, 5, 5, 5, 5, 5, 5, 5, 10, 10, 10, 10, 10, 20, 20, 10]\n",
    "        #     actual_columns = ['0,0'] # временно\n",
    "            for index, j in enumerate(actual_columns):\n",
    "                if str(df_of_csv_file.iloc[i][j]) != 'nan': # проверка на nan\n",
    "                    current_temperature_number = float(df_of_csv_file.iloc[i][j])\n",
    "                    integer_part = int(abs(current_temperature_number)//1)*100\n",
    "                    decimal_part = int(round(abs(current_temperature_number)*100, 0)%100)\n",
    "                    number = integer_part+decimal_part\n",
    "                    if current_temperature_number<0:\n",
    "                        number = number*(-1)\n",
    "                    file.write(struct.pack('>h', number))\n",
    "                    file.write(b'\\xfe\\n') #пишем степень и знак цельсия\n",
    "                    file.write(struct.pack('>B', offset_sensor[index]))\n",
    "\n",
    "            ### последний байт, длинна строки\n",
    "            file.write(struct.pack('>h', 96+len_of_well_name+more_sensors*5))\n",
    "        file.close()\n",
    "#     print (list_of_csv_path)\n",
    "print('end')"
   ]
  },
  {
   "cell_type": "code",
   "execution_count": 17,
   "metadata": {},
   "outputs": [
    {
     "data": {
      "text/plain": [
       "0"
      ]
     },
     "execution_count": 17,
     "metadata": {},
     "output_type": "execute_result"
    }
   ],
   "source": [
    "int(round(abs(float(df_of_csv_file.iloc[i][j]))*100, 0)%100)"
   ]
  },
  {
   "cell_type": "code",
   "execution_count": 9,
   "metadata": {},
   "outputs": [
    {
     "data": {
      "text/plain": [
       "'0,0'"
      ]
     },
     "execution_count": 9,
     "metadata": {},
     "output_type": "execute_result"
    }
   ],
   "source": [
    "j"
   ]
  },
  {
   "cell_type": "code",
   "execution_count": 7,
   "metadata": {},
   "outputs": [
    {
     "data": {
      "text/html": [
       "<div>\n",
       "<style scoped>\n",
       "    .dataframe tbody tr th:only-of-type {\n",
       "        vertical-align: middle;\n",
       "    }\n",
       "\n",
       "    .dataframe tbody tr th {\n",
       "        vertical-align: top;\n",
       "    }\n",
       "\n",
       "    .dataframe thead th {\n",
       "        text-align: right;\n",
       "    }\n",
       "</style>\n",
       "<table border=\"1\" class=\"dataframe\">\n",
       "  <thead>\n",
       "    <tr style=\"text-align: right;\">\n",
       "      <th></th>\n",
       "      <th>0,0</th>\n",
       "      <th>0,5</th>\n",
       "      <th>1,0</th>\n",
       "      <th>1,5</th>\n",
       "      <th>2,0</th>\n",
       "      <th>2,5</th>\n",
       "      <th>3,0</th>\n",
       "      <th>3,5</th>\n",
       "      <th>4,0</th>\n",
       "      <th>4,5</th>\n",
       "      <th>...</th>\n",
       "      <th>7,0</th>\n",
       "      <th>8,0</th>\n",
       "      <th>9,0</th>\n",
       "      <th>10,0</th>\n",
       "      <th>12,0</th>\n",
       "      <th>14,0</th>\n",
       "      <th>15,0</th>\n",
       "      <th>дата время</th>\n",
       "      <th>коса</th>\n",
       "      <th>скважина</th>\n",
       "    </tr>\n",
       "  </thead>\n",
       "  <tbody>\n",
       "    <tr>\n",
       "      <td>0</td>\n",
       "      <td>-12</td>\n",
       "      <td>-14.5</td>\n",
       "      <td>-9.6</td>\n",
       "      <td>-14.3</td>\n",
       "      <td>-14.6</td>\n",
       "      <td>-14</td>\n",
       "      <td>-14</td>\n",
       "      <td>-13.6</td>\n",
       "      <td>-13.5</td>\n",
       "      <td>-13</td>\n",
       "      <td>...</td>\n",
       "      <td>-12.2</td>\n",
       "      <td>-10.1</td>\n",
       "      <td>-10.8</td>\n",
       "      <td>-11.9</td>\n",
       "      <td>NaN</td>\n",
       "      <td>NaN</td>\n",
       "      <td>NaN</td>\n",
       "      <td>2021-04-03 15:15:00</td>\n",
       "      <td>20434</td>\n",
       "      <td>3</td>\n",
       "    </tr>\n",
       "    <tr>\n",
       "      <td>1</td>\n",
       "      <td>-16.7</td>\n",
       "      <td>-17.8</td>\n",
       "      <td>-16.3</td>\n",
       "      <td>-14.8</td>\n",
       "      <td>-13.4</td>\n",
       "      <td>-12.3</td>\n",
       "      <td>-11</td>\n",
       "      <td>-10</td>\n",
       "      <td>-9.1</td>\n",
       "      <td>-8.5</td>\n",
       "      <td>...</td>\n",
       "      <td>-5.7</td>\n",
       "      <td>-5.1</td>\n",
       "      <td>-4.7</td>\n",
       "      <td>-4.5</td>\n",
       "      <td>NaN</td>\n",
       "      <td>NaN</td>\n",
       "      <td>NaN</td>\n",
       "      <td>2021-04-03 17:26:00</td>\n",
       "      <td>20434</td>\n",
       "      <td>3</td>\n",
       "    </tr>\n",
       "  </tbody>\n",
       "</table>\n",
       "<p>2 rows × 22 columns</p>\n",
       "</div>"
      ],
      "text/plain": [
       "     0,0    0,5    1,0    1,5    2,0    2,5  3,0    3,5    4,0   4,5  ...  \\\n",
       "0    -12  -14.5   -9.6  -14.3  -14.6    -14  -14  -13.6  -13.5   -13  ...   \n",
       "1  -16.7  -17.8  -16.3  -14.8  -13.4  -12.3  -11    -10   -9.1  -8.5  ...   \n",
       "\n",
       "     7,0    8,0    9,0   10,0 12,0 14,0  15,0          дата время   коса  \\\n",
       "0  -12.2  -10.1  -10.8  -11.9  NaN  NaN   NaN 2021-04-03 15:15:00  20434   \n",
       "1   -5.7   -5.1   -4.7   -4.5  NaN  NaN   NaN 2021-04-03 17:26:00  20434   \n",
       "\n",
       "  скважина  \n",
       "0        3  \n",
       "1        3  \n",
       "\n",
       "[2 rows x 22 columns]"
      ]
     },
     "execution_count": 7,
     "metadata": {},
     "output_type": "execute_result"
    }
   ],
   "source": [
    "df_of_csv_file"
   ]
  },
  {
   "cell_type": "code",
   "execution_count": 200,
   "metadata": {},
   "outputs": [
    {
     "name": "stdout",
     "output_type": "stream",
     "text": [
      "ВСЁ\n"
     ]
    }
   ],
   "source": [
    "import sys\n",
    "import os\n",
    "import pandas as pd\n",
    "from importlib import reload\n",
    "import struct\n",
    "import lib_conv_csv_gtm as lib\n",
    "import numpy as np\n",
    "reload(lib)\n",
    "\n",
    "folder_csv_path = \"D:/WORK/For_Convertor/PSP\" # папка с csvшками\n",
    "path_of_gtm_file = folder_csv_path + '/PS.gtm'\n",
    "path_of_gtm_file = 'C:/Users/user/1.gtm' #временно\n",
    "\n",
    "# df_of_raw_data_files = lib.get_list_of_csv_file_data(folder_csv_path)\n",
    "# lists_of_csv_file_data = lib.get_list_of_csv_file_data(folder_csv_path)\n",
    "csv_file = folder_csv_path + '/06-05-2021.csv'\n",
    "df_of_csv_file = pd.read_csv(csv_file, encoding='cp1251', sep = ';', decimal=',')\n",
    "df_of_csv_file.rename(columns ={'объект' : 'скважина'}, inplace = True) # переименовываем\n",
    "actual_columns = ['0,0', '0,5', '1,0', '1,5', '2,0', '2,5', '3,0', '3,5', '4,0', \n",
    "                      '4,5', '5,0', '6,0', '7,0', '8,0', '9,0', '10,0', '12,0', '14,0', '15,0', 'дата время', 'коса', 'скважина']\n",
    "        #добавляем новые индексы, чтобы использовать 15м косы\n",
    "df_of_csv_file = df_of_csv_file.reindex(columns = actual_columns)\n",
    "df_of_csv_file = df_of_csv_file[actual_columns] # на всякий\n",
    "df_of_csv_file['дата время'] = pd.to_datetime(df_of_csv_file['дата время'], dayfirst=True)\n",
    "df_of_raw_data_files = df_of_csv_file\n",
    "#временно\n",
    "lib.open_and_close_gtm_file(path = path_of_gtm_file)\n",
    "\n",
    "\n",
    "for i in range (0, len(df_of_raw_data_files)): # !подставить len(df_of_raw_data_files) вместо 5\n",
    "#     wtite_to_gtm_file(path = path_of_gtm_file)\n",
    "    count_censors = 16\n",
    "#     if\n",
    "    file = open(path_of_gtm_file, 'ab')\n",
    "\n",
    "    # первый байт скорее зависит от кол-ва символов в строке, \\x63 для 3 в строке\n",
    "    # блок размера записи\n",
    "    name_object = str(df_of_raw_data_files.iloc[i]['скважина'])\n",
    "    len_of_well_name = len(name_object)\n",
    "    \n",
    "    #\n",
    "    more_sensors = 3\n",
    "    if np.isnan(df_of_raw_data_files.iloc[i]['12,0']): #какой пиздец и костыли\n",
    "        more_sensors = 0\n",
    "    count_censors = count_censors+more_sensors\n",
    "    file.write(struct.pack('>h', 96+len_of_well_name+more_sensors*5)) #длинна записи, хз как считается \n",
    "    ###\n",
    "    \n",
    "    \n",
    "    file.write(b'\\x54\\x30\\x32') # добавляет T02 не знаю что это\n",
    "    \n",
    "    file.write(struct.pack('b', count_censors)) # кол-во датчиков в косе\n",
    "    ####################### блок времени и даты\n",
    "    ##### блок написания времени\n",
    "    minute = df_of_raw_data_files.iloc[i]['дата время'].minute\n",
    "    second = df_of_raw_data_files.iloc[i]['дата время'].second\n",
    "    file.write(struct.pack('B', second + (minute%8)*32)) # cекунды и остаток минут деленные на 8\n",
    "    hour = df_of_raw_data_files.iloc[i]['дата время'].hour\n",
    "    file.write(struct.pack('B', hour*8 + (minute//8))) # час и минута деленная на 8\n",
    "\n",
    "    ##### блок написания даты\n",
    "    month = df_of_raw_data_files.iloc[i]['дата время'].month\n",
    "    day = df_of_raw_data_files.iloc[i]['дата время'].day  \n",
    "    file.write(struct.pack('B', day+32*(month%8))) # дата от 01.01.1980\n",
    "    ## Блок написания года \n",
    "    year = df_of_raw_data_files.iloc[i]['дата время'].year-1980\n",
    "    polovina_goda=0\n",
    "    if month >=8:\n",
    "        polovina_goda=1\n",
    "    file.write(struct.pack('B', year*2+polovina_goda))\n",
    "    ###########################\n",
    "    \n",
    "    # напр: если хотим прибавить 20 лет, то прибавляем 40 в десятичной -> ппереводим в двоичную\n",
    "#     struct.pack('>h',  df_of_raw_data_files.iloc[i]['скважина'])\n",
    "\n",
    "    ### блок запосления номера косы  не могу правильность проверить\n",
    "#     file.write(b'\\x64\\x00') # , номер косы\n",
    "    file.write(struct.pack('>h', df_of_raw_data_files.iloc[i]['коса']))\n",
    "    ###\n",
    "    file.write(b'\\x00\\x00') # , превышение уровня, у нас его нет\n",
    "    \n",
    "    ### блок названия объекта\n",
    "#     file.write(b'\\x04HUU\\x00') # название объекта - \\x длинна названия+1, название, пустой байт\n",
    "#     name_object = str(df_of_raw_data_files.iloc[i]['скважина'])\n",
    "#     if len(name_object) <3:\n",
    "#         name_object = ' '*(3-len(name_object)) + name_object\n",
    "    \n",
    "#     file.write(b'\\x04') # длина имени +1\n",
    "    file.write(struct.pack('B', len_of_well_name+1))\n",
    "    file.write(bytes(name_object, 'utf-8'))\n",
    "    file.write(b'\\x00')\n",
    "    ###\n",
    "    \n",
    "    ###блок написания температур\n",
    "    actual_columns = ['0,0', '0,5', '1,0', '1,5', '2,0', '2,5', '3,0', '3,5', '4,0', \n",
    "                      '4,5', '5,0', '6,0', '7,0', '8,0', '9,0', '10,0', '12,0', '14,0', '15,0']\n",
    "    offset_sensor = [0, 5, 5, 5, 5, 5, 5, 5, 5, 5, 5, 10, 10, 10, 10, 10, 20, 20, 1]\n",
    "#     actual_columns = ['0,0'] # временно\n",
    "    for index, j in enumerate(actual_columns):\n",
    "        if str(df_of_raw_data_files.iloc[i][j]) != 'nan': # проверка на nan\n",
    "            integer_part = int(abs(df_of_raw_data_files.iloc[i][j])//1)*100\n",
    "            decimal_part = int(round(abs(df_of_raw_data_files.iloc[i][j])*100, 0)%100)\n",
    "            number = integer_part+decimal_part\n",
    "            if df_of_raw_data_files.iloc[i][j]<0:\n",
    "                number = number*(-1)\n",
    "            file.write(struct.pack('>h', number))\n",
    "            file.write(b'\\xfe\\n') #пишем степень и знак цельсия\n",
    "            file.write(struct.pack('>B', offset_sensor[index]))\n",
    "\n",
    "    ### последний байт, длинна строки\n",
    "    file.write(struct.pack('>h', 96+len_of_well_name+more_sensors*5))\n",
    "    file.close()\n",
    "print('ВСЁ')"
   ]
  },
  {
   "cell_type": "code",
   "execution_count": 138,
   "metadata": {},
   "outputs": [
    {
     "data": {
      "text/plain": [
       "0"
      ]
     },
     "execution_count": 138,
     "metadata": {},
     "output_type": "execute_result"
    }
   ],
   "source": [
    "polovina_goda"
   ]
  },
  {
   "cell_type": "code",
   "execution_count": 72,
   "metadata": {},
   "outputs": [
    {
     "data": {
      "text/plain": [
       "'D:/WORK/For_Convertor/Nap_CPS_PSP/19-04-2021.csv'"
      ]
     },
     "execution_count": 72,
     "metadata": {},
     "output_type": "execute_result"
    }
   ],
   "source": [
    "\n",
    "# df_of_csv_file\n",
    "csv_file"
   ]
  },
  {
   "cell_type": "code",
   "execution_count": 596,
   "metadata": {},
   "outputs": [
    {
     "data": {
      "text/html": [
       "<div>\n",
       "<style scoped>\n",
       "    .dataframe tbody tr th:only-of-type {\n",
       "        vertical-align: middle;\n",
       "    }\n",
       "\n",
       "    .dataframe tbody tr th {\n",
       "        vertical-align: top;\n",
       "    }\n",
       "\n",
       "    .dataframe thead th {\n",
       "        text-align: right;\n",
       "    }\n",
       "</style>\n",
       "<table border=\"1\" class=\"dataframe\">\n",
       "  <thead>\n",
       "    <tr style=\"text-align: right;\">\n",
       "      <th></th>\n",
       "      <th>0,0</th>\n",
       "      <th>0,5</th>\n",
       "      <th>1,0</th>\n",
       "      <th>1,5</th>\n",
       "      <th>2,0</th>\n",
       "      <th>2,5</th>\n",
       "      <th>3,0</th>\n",
       "      <th>3,5</th>\n",
       "      <th>4,0</th>\n",
       "      <th>4,5</th>\n",
       "      <th>...</th>\n",
       "      <th>7,0</th>\n",
       "      <th>8,0</th>\n",
       "      <th>9,0</th>\n",
       "      <th>10,0</th>\n",
       "      <th>12,0</th>\n",
       "      <th>14,0</th>\n",
       "      <th>15,0</th>\n",
       "      <th>дата время</th>\n",
       "      <th>коса</th>\n",
       "      <th>скважина</th>\n",
       "    </tr>\n",
       "  </thead>\n",
       "  <tbody>\n",
       "    <tr>\n",
       "      <td>0</td>\n",
       "      <td>0.33</td>\n",
       "      <td>-0.01</td>\n",
       "      <td>0.89</td>\n",
       "      <td>0.22</td>\n",
       "      <td>1.23</td>\n",
       "      <td>1.31</td>\n",
       "      <td>0.97</td>\n",
       "      <td>1.63</td>\n",
       "      <td>0.98</td>\n",
       "      <td>1.17</td>\n",
       "      <td>...</td>\n",
       "      <td>1.40</td>\n",
       "      <td>0.53</td>\n",
       "      <td>0.74</td>\n",
       "      <td>0.95</td>\n",
       "      <td>NaN</td>\n",
       "      <td>NaN</td>\n",
       "      <td>NaN</td>\n",
       "      <td>2021-04-23 11:28:00</td>\n",
       "      <td>20417</td>\n",
       "      <td>5411</td>\n",
       "    </tr>\n",
       "    <tr>\n",
       "      <td>20</td>\n",
       "      <td>-2.59</td>\n",
       "      <td>-4.52</td>\n",
       "      <td>-2.67</td>\n",
       "      <td>-2.01</td>\n",
       "      <td>-1.38</td>\n",
       "      <td>-0.90</td>\n",
       "      <td>-0.61</td>\n",
       "      <td>-0.53</td>\n",
       "      <td>-0.48</td>\n",
       "      <td>-0.48</td>\n",
       "      <td>...</td>\n",
       "      <td>-0.89</td>\n",
       "      <td>-1.05</td>\n",
       "      <td>-1.29</td>\n",
       "      <td>-1.46</td>\n",
       "      <td>NaN</td>\n",
       "      <td>NaN</td>\n",
       "      <td>NaN</td>\n",
       "      <td>2021-04-23 13:55:00</td>\n",
       "      <td>20417</td>\n",
       "      <td>5411</td>\n",
       "    </tr>\n",
       "  </tbody>\n",
       "</table>\n",
       "<p>2 rows × 22 columns</p>\n",
       "</div>"
      ],
      "text/plain": [
       "     0,0   0,5   1,0   1,5   2,0   2,5   3,0   3,5   4,0   4,5  ...   7,0  \\\n",
       "0   0.33 -0.01  0.89  0.22  1.23  1.31  0.97  1.63  0.98  1.17  ...  1.40   \n",
       "20 -2.59 -4.52 -2.67 -2.01 -1.38 -0.90 -0.61 -0.53 -0.48 -0.48  ... -0.89   \n",
       "\n",
       "     8,0   9,0  10,0  12,0  14,0  15,0          дата время   коса скважина  \n",
       "0   0.53  0.74  0.95   NaN   NaN   NaN 2021-04-23 11:28:00  20417     5411  \n",
       "20 -1.05 -1.29 -1.46   NaN   NaN   NaN 2021-04-23 13:55:00  20417     5411  \n",
       "\n",
       "[2 rows x 22 columns]"
      ]
     },
     "execution_count": 596,
     "metadata": {},
     "output_type": "execute_result"
    }
   ],
   "source": [
    "df_of_raw_data_files[df_of_raw_data_files['скважина'] == 5411]"
   ]
  },
  {
   "cell_type": "code",
   "execution_count": 450,
   "metadata": {},
   "outputs": [
    {
     "data": {
      "text/plain": [
       "(20,)"
      ]
     },
     "execution_count": 450,
     "metadata": {},
     "output_type": "execute_result"
    }
   ],
   "source": [
    "struct.unpack('B', b'\\x14')"
   ]
  },
  {
   "cell_type": "code",
   "execution_count": 2,
   "metadata": {
    "scrolled": true
   },
   "outputs": [
    {
     "name": "stdout",
     "output_type": "stream",
     "text": [
      "(0, 3)\n"
     ]
    }
   ],
   "source": [
    "file = open (path, 'rb', buffering = 0)\n",
    "file2 = open(path2, 'wb')\n",
    "\n",
    "df = pd.DataFrame(columns=['bite', 'bin_ord', 'ord'])\n",
    "\n",
    "# text2 = b'GTM0\\x00\\x16T02\\x01H\\xafxP\\x03\\t\\x00\\x00\\x02A\\x00\\n\\x7f\\xfe\\n\\n\\x00\\x17'\n",
    "# text = file.read(105)\n",
    "# file2.write(text2)\n",
    "\n",
    "# size_of_file = len(text)\n",
    "# text = file.read(1)\n",
    "\n",
    "# while text != b'':\n",
    "# #     print(text)\n",
    "# #     print (text, '\\t', ord(text), '\\t', bin(ord(text)), '\\t')\n",
    "#     df = df.append({'bite' : text,\n",
    "#                    'bin_ord' :  ord(text),\n",
    "#                    'ord' : bin(ord(text)),\n",
    "#                    'chr_ord' : chr(ord(text))\n",
    "#                    }, ignore_index=True)\n",
    "#     text = file.read(1)\n",
    "\n",
    "# #     print(text)\n",
    "\n",
    "# file2.write(hex(np.float16(2.3).tostring()[0]))           \n",
    "# file2.write(hex(np.float16(2.3).tostring()[1]))\n",
    "file2.write(b'GTM0\\x00\\x63\\x54\\x30\\x32\\x10\\x00\\x00\\x21\\x00\\x02\\x9a\\x00\\x00\\x04HUU\\x00') # записали дату, косу и название объекта\n",
    "#cT02  \\x63\\x54\\x30\\x32\n",
    "\n",
    "#RT00 \\x52\\x54\\x30\\x30\n",
    "file2.write(b'\\x01\\x3a\\xfe\\n\\x00')\n",
    "file2.write(b'\\x01\\x3b\\xfe\\n\\x05')\n",
    "file2.write(b'\\x01\\x3c\\xfe\\n\\x05')\n",
    "file2.write(b'\\x01\\x3d\\xfe\\n\\x05')\n",
    "file2.write(b'\\x01\\x3e\\xfe\\n\\x05')\n",
    "file2.write(b'\\x01\\x3f\\xfe\\n\\x05')\n",
    "file2.write(b'\\x01\\x40\\xfe\\n\\x05')\n",
    "file2.write(b'\\x01\\x41\\xfe\\n\\x05')\n",
    "file2.write(b'\\x01\\x42\\xfe\\n\\x05')\n",
    "file2.write(b'\\x01\\x43\\xfe\\n\\x05')\n",
    "file2.write(b'\\x01\\x44\\xfe\\n\\x05')\n",
    "file2.write(b'\\x01\\x45\\xfe\\n\\n')\n",
    "file2.write(b'\\x01\\x46\\xfe\\n\\n')\n",
    "file2.write(b'\\x01\\x47\\xfe\\n\\n')\n",
    "file2.write(b'\\x01\\x48\\xfe\\n\\n')\n",
    "file2.write(b'\\x01\\x49\\xfe\\n\\n')\n",
    "file2.write(b'\\x00c')\n",
    "\n",
    "file2.write(b'\\x00cT02\\x10\\x00\\x00\\x21\\x00\\x02\\x9b\\x00\\x00\\x04HUU\\x00') # записали дату, косу и название объекта\n",
    "file2.write(b'\\x01\\x3a\\xfe\\n\\x00')\n",
    "file2.write(b'\\x01\\x3b\\xfe\\n\\x05')\n",
    "file2.write(b'\\x01\\x3c\\xfe\\n\\x05')\n",
    "file2.write(b'\\x01\\x3d\\xfe\\n\\x05')\n",
    "file2.write(b'\\x01\\x3e\\xfe\\n\\x05')\n",
    "file2.write(b'\\x01\\x3f\\xfe\\n\\x05')\n",
    "file2.write(b'\\x01\\x40\\xfe\\n\\x05')\n",
    "file2.write(b'\\x01\\x41\\xfe\\n\\x05')\n",
    "file2.write(b'\\x01\\x42\\xfe\\n\\x05')\n",
    "file2.write(b'\\x01\\x43\\xfe\\n\\x05')\n",
    "file2.write(b'\\x01\\x44\\xfe\\n\\x05')\n",
    "file2.write(b'\\x01\\x45\\xfe\\n\\n')\n",
    "file2.write(b'\\x01\\x46\\xfe\\n\\n')\n",
    "file2.write(b'\\x01\\x47\\xfe\\n\\n')\n",
    "file2.write(b'\\x01\\x48\\xfe\\n\\n')\n",
    "file2.write(b'\\x01\\x49\\xfe\\n\\n')\n",
    "file2.write(b'\\x00c')\n",
    "# file2.write(b'\\x00cT02\\x10\\xc1YqRO\\xc8\\x00\\x00\\x04Hui\\x00\\n\"\\xfe\\n\\x00\\t\\xdc\\xfe\\n\\x05\\t\\xd4\\xfe\\n\\x05\\t\\xe5\\xfe\\n\\x05\\t`\\xfe\\n\\x05\\t\\xcc\\xfe\\n\\x05\\t\\x8d\\xfe\\n\\x05\\t\\xc5\\xfe\\n\\x05\\t\\xaf\\xfe\\n\\x05\\t\\xbb\\xfe\\n\\x05\\n*\\xfe\\n\\x05\\nQ\\xfe\\n\\n\\n\\x97\\xfe\\n\\n\\to\\xfe\\n\\n\\n\\xa1\\xfe\\n\\n\\t\\xae\\xfe\\n\\n\\x00c\\x00cT02\\x10\\xdbYqRO\\xc8\\x00\\x00\\x04Hiy\\x00\\n<\\xfe\\n\\x00\\t\\xf5\\xfe\\n\\x05\\t\\xf4\\xfe\\n\\x05\\t\\xfe\\xfe\\n\\x05\\t\\x7f\\xfe\\n\\x05\\t\\xe5\\xfe\\n\\x05\\t\\xa7\\xfe\\n\\x05\\t\\xde\\xfe\\n\\x05\\x00\\x00\\xfe\\x00\\x05\\x00\\x00\\xfe\\x00\\x05\\x00\\x00\\xfe\\x00\\x05\\x00\\x00\\xfe\\x00\\n\\x00\\x00\\xfe\\x00\\n\\x00\\x00\\xfe\\x00\\n\\x00\\x00\\xfe\\x00\\n\\x00\\x00\\xfe\\x00\\n\\x00c\\x00cT02\\x10#[qRO\\xc8\\x00\\x00\\x04hhh\\x00\\t\\xe2\\xfe\\n\\x00\\t\\xc2\\xfe\\n\\x05\\t\\xba\\xfe\\n\\x05\\t\\x93\\xfe\\n\\x05\\t\\xb8\\xfe\\n\\x05\\t\\xba\\xfe\\n\\x05\\t\\x86\\xfe\\n\\x05\\t\\xb3\\xfe\\n\\x05\\t\\xc2\\xfe\\n\\x05\\t\\xb5\\xfe\\n\\x05\\t\\xde\\xfe\\n\\x05\\t\\xeb\\xfe\\n\\n\\t\\xec\\xfe\\n\\n\\t\\x9c\\xfe\\n\\n\\t\\xdc\\xfe\\n\\n\\t\\x88\\xfe\\n\\n\\x00c\\x00cT02\\x107[qRO\\xc8\\x00\\x00\\x04HHH\\x00\\t\\xdc\\xfe\\n\\x00\\t\\xbc\\xfe\\n\\x05\\t\\xae\\xfe\\n\\x05\\t\\x8c\\xfe\\n\\x05\\t\\xb2\\xfe\\n\\x05\\t\\xad\\xfe\\n\\x05\\t\\x80\\xfe\\n\\x05\\t\\xac\\xfe\\n\\x05\\t\\xbc\\xfe\\n\\x05\\t\\xaf\\xfe\\n\\x05\\t\\xd1\\xfe\\n\\x05\\t\\xde\\xfe\\n\\n\\t\\xd9\\xfe\\n\\n\\t\\x96\\xfe\\n\\n\\t\\xd0\\xfe\\n\\n\\t\\x82\\xfe\\n\\n\\x00c\\x00cT02\\x10\\x04\\\\qRO\\xc8\\x00\\x00\\x04HhH\\x00\\t\\x9d\\xfe\\n\\x00\\tq\\xfe\\n\\x05\\t\\x82\\xfe\\n\\x05\\tS\\xfe\\n\\x05\\t\\x85\\xfe\\n\\x05\\tg\\xfe\\n\\x05\\t[\\xfe\\n\\x05\\tg\\xfe\\n\\x05\\t\\x8a\\xfe\\n\\x05\\to\\xfe\\n\\x05\\t\\x92\\xfe\\n\\x05\\t\\xa0\\xfe\\n\\n\\t\\x8d\\xfe\\n\\n\\tu\\xfe\\n\\n\\t\\x83\\xfe\\n\\n\\tV\\xfe\\n\\n\\x00c\\x00cT02\\x10\\x04dqRO\\xc8\\x00\\x00\\x04hHh\\x00\\x08\\xf8\\xfe\\n\\x00\\t\\x00\\xfe\\n\\x05\\x08\\xf7\\xfe\\n\\x05\\t\\r\\xfe\\n\\x05\\x08\\xfb\\xfe\\n\\x05\\t\\t\\xfe\\n\\x05\\x08\\xfc\\xfe\\n\\x05\\t\\t\\xfe\\n\\x05\\t\\x05\\xfe\\n\\x05\\t\\n\\xfe\\n\\x05\\x08\\xfa\\xfe\\n\\x05\\x08\\xfa\\xfe\\n\\n\\t\\x03\\xfe\\n\\n\\x08\\xfe\\xfe\\n\\n\\x08\\xf7\\xfe\\n\\n\\x08\\xd7\\xfe\\n\\n\\x00c\\x00cT02\\x10\\x04lqRO\\xc8\\x00\\x00\\x04HAA\\x00\\x08\\xec\\xfe\\n\\x00\\x08\\xf9\\xfe\\n\\x05\\x08\\xea\\xfe\\n\\x05\\x08\\xfb\\xfe\\n\\x05\\x08\\xee\\xfe\\n\\x05\\t\\x02\\xfe\\n\\x05\\x08\\xf6\\xfe\\n\\x05\\x08\\xf5\\xfe\\n\\x05\\x08\\xf8\\xfe\\n\\x05\\t\\x04\\xfe\\n\\x05\\x08\\xed\\xfe\\n\\x05\\x08\\xee\\xfe\\n\\n\\x08\\xf6\\xfe\\n\\n\\x08\\xf1\\xfe\\n\\n\\x08\\xeb\\xfe\\n\\n\\x08\\xc5\\xfe\\n\\n\\x00c\\x00cT02\\x10\\x04tqRO\\xc8\\x00\\x00\\x04HAH\\x00\\x08\\'\\xfe\\n\\x00\\x08/\\xfe\\n\\x05\\x08%\\xfe\\n\\x05\\x086\\xfe\\n\\x05\\x08*\\xfe\\n\\x05\\x08E\\xfe\\n\\x05\\x082\\xfe\\n\\x05\\x08,\\xfe\\n\\x05\\x08.\\xfe\\n\\x05\\x08@\\xfe\\n\\x05\\x08(\\xfe\\n\\x05\\x08#\\xfe\\n\\n\\x08+\\xfe\\n\\n\\x08.\\xfe\\n\\n\\x08&\\xfe\\n\\n\\x08!\\xfe\\n\\n\\x00c\\x00cT02\\x10\\x04|qRO\\xc8\\x00\\x00\\x04AHA\\x00\\x08`\\xfe\\n\\x00\\x08\\xad\\xfe\\n\\x05\\x08e\\xfe\\n\\x05\\x08\\xb5\\xfe\\n\\x05\\x08o\\xfe\\n\\x05\\x08\\xbd\\xfe\\n\\x05\\x08x\\xfe\\n\\x05\\x08\\xaa\\xfe\\n\\x05\\x08z\\xfe\\n\\x05\\x08\\xbe\\xfe\\n\\x05\\x08t\\xfe\\n\\x05\\x08b\\xfe\\n\\n\\x08w\\xfe\\n\\n\\x08m\\xfe\\n\\n\\x08r\\xfe\\n\\n\\x08S\\xfe\\n\\n\\x00c')\n",
    "#\\x48\\x55\\x55  HUU\n",
    "####\n",
    "# (b'GTM0 (вступление) \n",
    "# \\x00cT02  (константа) \n",
    "# \\x10 (кол-во датчиков)  \n",
    "# \\x13Y #секунды минуты qRO\n",
    "# \\xc8 (меняет номер прибора) \n",
    "# \\x00 (влияет на смещение косы) \\x00  (добавляет метры(смещение косы)) \n",
    "# \\x04HUI (длинна ячейки(не трогать, потом подобрать для четырехточеского) и название объекта\\\n",
    "# \\x00\n",
    "# \\t+\\xfe (меняет температуру) !!!!!!можно заменить на \\t\\x2b\\xfe\n",
    "## \\x00\\x00\\x00\\xfe\\ 0 по цельсию\n",
    "\n",
    "# \\n\\x00\\x08\\xe7\\xfe\\n\n",
    "# \\x05 (смещение косы (плюс 0.5))   \\x08\\xf0\\xfe\\n\\x05\\t\\x07\\xfe\\n\\x05\\x08\\x82\\xfe\\n\\x05\\x08\\xf0\\xfe\\n\\x05\\x08\\xd0\\xfe\\n\\x05\\x08\\xe2\\xfe\\n\\x05\\x08\\xd2\\xfe\\n\\x05\\x08\\xe5\\xfe\\n\\x05\\t?\\xfe\\n\\x05\\tf\\xfe\\n\\n\\t\\x8d\\xfe\\n\\n\\x08\\xb3\\xfe\\n\\n\\t\\xb6\\xfe\\n\\n\\x08\\xe5\\xfe\\n\\n\\x00c\\\n",
    "####\n",
    "\n",
    "file.close()\n",
    "file2.close()\n",
    "# df.to_excel(path+'.xlsx')\n",
    "print(df.shape)"
   ]
  },
  {
   "cell_type": "code",
   "execution_count": 359,
   "metadata": {},
   "outputs": [
    {
     "ename": "AttributeError",
     "evalue": "'str' object has no attribute 'to_bytes'",
     "output_type": "error",
     "traceback": [
      "\u001b[1;31m---------------------------------------------------------------------------\u001b[0m",
      "\u001b[1;31mAttributeError\u001b[0m                            Traceback (most recent call last)",
      "\u001b[1;32m<ipython-input-359-4ba5510bc0a5>\u001b[0m in \u001b[0;36m<module>\u001b[1;34m\u001b[0m\n\u001b[1;32m----> 1\u001b[1;33m \u001b[1;33m(\u001b[0m\u001b[1;34m'a'\u001b[0m\u001b[1;33m)\u001b[0m\u001b[1;33m.\u001b[0m\u001b[0mto_bytes\u001b[0m\u001b[1;33m(\u001b[0m\u001b[1;36m3\u001b[0m\u001b[1;33m,\u001b[0m \u001b[0mbyteorder\u001b[0m\u001b[1;33m=\u001b[0m\u001b[1;34m'big'\u001b[0m\u001b[1;33m)\u001b[0m\u001b[1;33m\u001b[0m\u001b[1;33m\u001b[0m\u001b[0m\n\u001b[0m",
      "\u001b[1;31mAttributeError\u001b[0m: 'str' object has no attribute 'to_bytes'"
     ]
    }
   ],
   "source": [
    "('a').to_bytes(3, byteorder='big')"
   ]
  },
  {
   "cell_type": "code",
   "execution_count": 52,
   "metadata": {},
   "outputs": [
    {
     "data": {
      "text/plain": [
       "int"
      ]
     },
     "execution_count": 52,
     "metadata": {},
     "output_type": "execute_result"
    }
   ],
   "source": [
    "len_of_well_name = 3\n",
    "type(len_of_well_name)"
   ]
  },
  {
   "cell_type": "code",
   "execution_count": 4,
   "metadata": {},
   "outputs": [
    {
     "name": "stdout",
     "output_type": "stream",
     "text": [
      "<class 'bytes'>\n",
      "Uryyb\n"
     ]
    }
   ],
   "source": [
    "# Text to Binary\n",
    "message = \"Hello\"  # str\n",
    "binary_message = message.encode('utf-8')\n",
    "print(type(binary_message))  # bytes\n",
    "\n",
    "import codecs\n",
    "cipher_text = codecs.encode(message, 'rot_13')\n",
    "print(cipher_text)"
   ]
  },
  {
   "cell_type": "code",
   "execution_count": 25,
   "metadata": {},
   "outputs": [
    {
     "name": "stdout",
     "output_type": "stream",
     "text": [
      "ХУИ\n"
     ]
    }
   ],
   "source": [
    "import sys\n",
    "sys.path.insert(0, \"C:/Users/user/Documents/WORK/Library_and_other\")\n",
    "import lib_conv_csv_gtm as lib\n",
    "\n",
    "lib.napisat_hui()\n"
   ]
  },
  {
   "cell_type": "code",
   "execution_count": 46,
   "metadata": {},
   "outputs": [
    {
     "data": {
      "text/plain": [
       "b'GTM0\\x00dT02\\x10\\x85xVRE\\xb3\\x00\\x00\\x051234\\x00\\tD\\xfe\\n\\x00\\t$\\xfe\\n\\x05\\t;\\xfe\\n\\x05\\tF\\xfe\\n\\x05\\t:\\xfe\\n\\x05\\t6\\xfe\\n\\x05\\t.\\xfe\\n\\x05\\t9\\xfe\\n\\x05\\t\\x13\\xfe\\n\\x05\\t3\\xfe\\n\\x05\\t$\\xfe\\n\\x05\\t\\x10\\xfe\\n\\n\\t:\\xfe\\n\\n\\t$\\xfe\\n\\n\\t2\\xfe\\n\\n\\t;\\xfe\\n\\n\\x00d\\x00dT02\\x10:\\xb2jRE\\xb3\\x00\\x00\\x05\\xd1\\xca\\xc21\\x00\\x08{\\xfe\\n\\x00\\x08\\x8c\\xfe\\n\\x05\\x08\\x1d\\xfe\\n\\x05\\x08O\\xfe\\n\\x05\\x08\\x05\\xfe\\n\\x05\\x08s\\xfe\\n\\x05\\x07\\xfe\\xfe\\n\\x05\\x08\\x8e\\xfe\\n\\x05\\x07\\xfe\\xfe\\n\\x05\\x08\\x89\\xfe\\n\\x05\\x07\\xcd\\xfe\\n\\x05\\x07\\xd9\\xfe\\n\\n\\x08\\x17\\xfe\\n\\n\\x07\\xdd\\xfe\\n\\n\\x08#\\xfe\\n\\n\\x07\\xfa\\xfe\\n\\n\\x00d\\x00hT02\\x10\\xa8\\x85zRO\\xd2\\x00\\x00\\t21\\xc0\\xc1\\xc3\\xc2\\xc1\\xc1\\x00\\x07t\\xfe\\n\\x00\\x07O\\xfe\\n\\x05\\x07{\\xfe\\n\\x05\\x07\\x10\\xfe\\n\\x05\\x07\\x18\\xfe\\n\\x05\\x06\\xb3\\xfe\\n\\x05\\x06\\xcd\\xfe\\n\\x05\\x06\\xb2\\xfe\\n\\x05\\x06i\\xfe\\n\\x05\\x06\\xa0\\xfe\\n\\x05\\x07\\x01\\xfe\\n\\x05\\x00\\xe5\\xfe\\n\\n\\xfd\\xe7\\xfe\\n\\n\\xfd\\xe2\\xfe\\n\\n\\xfe/\\xfe\\n\\n\\xfe6\\xfe\\n\\n\\x00h\\x00hT02\\x10\\xd0p|RO\\xd2\\x00\\x00\\t21\\xc0\\xc1\\xc3\\xc2\\xc1\\xc1\\x00\\xff\\xdb\\xfe\\n\\x00\\xffW\\xfe\\n\\x05\\x00\\x12\\xfe\\n\\x05\\xfe\\xf1\\xfe\\n\\x05\\x00|\\xfe\\n\\x05\\xff^\\xfe\\n\\x05\\xff\\xe4\\xfe\\n\\x05\\xfe\\xc6\\xfe\\n\\x05\\xff\\xe3\\xfe\\n\\x05\\x00[\\xfe\\n\\x05\\xff\\x1b\\xfe\\n\\x05\\xfe\\x81\\xfe\\n\\n\\xfe\\xac\\xfe\\n\\n\\xff\\r\\xfe\\n\\n\\xff\\x00\\xfe\\n\\n\\x00\\x07\\xfe\\n\\n\\x00h\\x00hT02\\x10Nq|RO\\xd2\\x00\\x00\\t21\\xc0\\xc1\\xc3\\xc2\\xc1\\xc1\\x00\\xfa(\\xfe\\n\\x00\\xf9\\xdd\\xfe\\n\\x05\\xf9\\xeb\\xfe\\n\\x05\\xf9\\xa8\\xfe\\n\\x05\\xfaJ\\xfe\\n\\x05\\xf9\\xde\\xfe\\n\\x05\\xf9\\xd8\\xfe\\n\\x05\\xf9t\\xfe\\n\\x05\\xf9\\x9c\\xfe\\n\\x05\\xf9\\xfd\\xfe\\n\\x05\\xf9\\xac\\xfe\\n\\x05\\xf9\\x84\\xfe\\n\\n\\xf9\\xb0\\xfe\\n\\n\\xf9\\xa0\\xfe\\n\\n\\xf9\\x9d\\xfe\\n\\n\\xfa\\xb4\\xfe\\n\\n\\x00h\\x00hT02\\x10nq|RO\\xd2\\x00\\x00\\t21\\xc0\\xc1\\xc3\\xc2\\xc1\\xc1\\x00\\xf9\\xa9\\xfe\\n\\x00\\xf9j\\xfe\\n\\x05\\xf9l\\xfe\\n\\x05\\xf9A\\xfe\\n\\x05\\xf9\\xbe\\xfe\\n\\x05\\xf9k\\xfe\\n\\x05\\xf9^\\xfe\\n\\x05\\xf9\\x1a\\xfe\\n\\x05\\xf9$\\xfe\\n\\x05\\xf9~\\xfe\\n\\x05\\xf9F\\xfe\\n\\x05\\xf91\\xfe\\n\\n\\xf9V\\xfe\\n\\n\\xf9:\\xfe\\n\\n\\xf97\\xfe\\n\\n\\xfa(\\xfe\\n\\n\\x00h\\x00hT02\\x10\\x8eq|RO\\xd2\\x00\\x00\\t21\\xc0\\xc1\\xc3\\xc2\\xc1\\xc1\\x00\\xf9O\\xfe\\n\\x00\\xf9%\\xfe\\n\\x05\\xf9 \\xfe\\n\\x05\\xf9\\x02\\xfe\\n\\x05\\xf9Y\\xfe\\n\\x05\\xf9+\\xfe\\n\\x05\\xf9\\x12\\xfe\\n\\x05\\xf8\\xee\\xfe\\n\\x05\\xf8\\xeb\\xfe\\n\\x05\\xf92\\xfe\\n\\x05\\xf9\\x05\\xfe\\n\\x05\\xf8\\xf8\\xfe\\n\\n\\xf9\\x17\\xfe\\n\\n\\xf9\\x07\\xfe\\n\\n\\xf9\\n\\xfe\\n\\n\\xf9\\xc8\\xfe\\n\\n\\x00h\\x00hT02\\x10\\xaeq|RO\\xd2\\x00\\x00\\t21\\xc0\\xc1\\xc3\\xc2\\xc1\\xc1\\x00\\xf9\\x16\\xfe\\n\\x00\\xf8\\xf8\\xfe\\n\\x05\\xf8\\xe7\\xfe\\n\\x05\\xf8\\xd5\\xfe\\n\\x05\\xf9\\x18\\xfe\\n\\x05\\xf8\\xf8\\xfe\\n\\x05\\xf8\\xe6\\xfe\\n\\x05\\xf8\\xc7\\xfe\\n\\x05\\xf8\\xc4\\xfe\\n\\x05\\xf8\\xff\\xfe\\n\\x05\\xf8\\xe5\\xfe\\n\\x05\\xf8\\xd1\\xfe\\n\\n\\xf8\\xf0\\xfe\\n\\n\\xf8\\xda\\xfe\\n\\n\\xf8\\xd7\\xfe\\n\\n\\xf9\\x87\\xfe\\n\\n\\x00h\\x00hT02\\x10\\xceq|RO\\xd2\\x00\\x00\\t21\\xc0\\xc1\\xc3\\xc2\\xc1\\xc1\\x00\\xf8\\xf0\\xfe\\n\\x00\\xf8\\xd1\\xfe\\n\\x05\\xf8\\xc0\\xfe\\n\\x05\\xf8\\xb5\\xfe\\n\\x05\\xf8\\xe6\\xfe\\n\\x05\\xf8\\xd2\\xfe\\n\\x05\\xf8\\xb9\\xfe\\n\\x05\\xf8\\xa8\\xfe\\n\\x05\\xf8\\x9f\\xfe\\n\\x05\\xf8\\xd2\\xfe\\n\\x05\\xf8\\xc0\\xfe\\n\\x05\\xf8\\xb7\\xfe\\n\\n\\xf8\\xd0\\xfe\\n\\n\\xf8\\xb5\\xfe\\n\\n\\xf8\\xb0\\xfe\\n\\n\\xf9N\\xfe\\n\\n\\x00h\\x00hT02\\x10\\xeeq|RO\\xd2\\x00\\x00\\t21\\xc0\\xc1\\xc3\\xc2\\xc1\\xc1\\x00\\xf8\\xd0\\xfe\\n\\x00\\xf8\\xbf\\xfe\\n\\x05\\xf8\\xa6\\xfe\\n\\x05\\xf8\\xa2\\xfe\\n\\x05\\xf8\\xc6\\xfe\\n\\x05\\xf8\\xb9\\xfe\\n\\x05\\xf8\\x9f\\xfe\\n\\x05\\xf8\\x94\\xfe\\n\\x05\\xf8\\x8b\\xfe\\n\\x05\\xf8\\xac\\xfe\\n\\x05\\xf8\\xac\\xfe\\n\\x05\\xf8\\xa4\\xfe\\n\\n\\xf8\\xc3\\xfe\\n\\n\\xf8\\xa1\\xfe\\n\\n\\xf8\\x97\\xfe\\n\\n\\xf9(\\xfe\\n\\n\\x00h\\x00hT02\\x10\\x0er|RO\\xd2\\x00\\x00\\t21\\xc0\\xc1\\xc3\\xc2\\xc1\\xc1\\x00\\xf8\\xb7\\xfe\\n\\x00\\xf8\\xab\\xfe\\n\\x05\\xf8\\x8d\\xfe\\n\\x05\\xf8\\x95\\xfe\\n\\x05\\xf8\\xa6\\xfe\\n\\x05\\xf8\\xab\\xfe\\n\\x05\\xf8\\x8c\\xfe\\n\\x05\\xf8\\x88\\xfe\\n\\x05\\xf8\\x7f\\xfe\\n\\x05\\xf8\\x9f\\xfe\\n\\x05\\xf8\\x9f\\xfe\\n\\x05\\xf8\\x9e\\xfe\\n\\n\\xf8\\xb7\\xfe\\n\\n\\xf8\\x95\\xfe\\n\\n\\xf8\\x90\\xfe\\n\\n\\xf9\\x08\\xfe\\n\\n\\x00h\\x00hT02\\x10.r|RO\\xd2\\x00\\x00\\t21\\xc0\\xc1\\xc3\\xc2\\xc1\\xc1\\x00\\xf8\\xaa\\xfe\\n\\x00\\xf8\\xb2\\xfe\\n\\x05\\xf8\\x87\\xfe\\n\\x05\\xf8\\x8e\\xfe\\n\\x05\\xf8\\x99\\xfe\\n\\x05\\xf8\\xab\\xfe\\n\\x05\\xf8\\x8c\\xfe\\n\\x05\\xf8\\x88\\xfe\\n\\x05\\xf8x\\xfe\\n\\x05\\xf8\\x99\\xfe\\n\\x05\\xf8\\x99\\xfe\\n\\x05\\xf8\\xbd\\xfe\\n\\n\\xf8\\xb7\\xfe\\n\\n\\xf8\\x8e\\xfe\\n\\n\\xf8\\x84\\xfe\\n\\n\\xf8\\xfb\\xfe\\n\\n\\x00h\\x00hT02\\x10nr|RO\\xd2\\x00\\x00\\t21\\xc0\\xc1\\xc3\\xc2\\xc1\\xc1\\x00\\xf8\\xa3\\xfe\\n\\x00\\xf8\\xe5\\xfe\\n\\x05\\xf8{\\xfe\\n\\x05\\xf8\\x88\\xfe\\n\\x05\\xf8\\x86\\xfe\\n\\x05\\xf8\\xa5\\xfe\\n\\x05\\xf8\\x7f\\xfe\\n\\x05\\xf8\\x88\\xfe\\n\\x05\\xf8x\\xfe\\n\\x05\\xf8\\x93\\xfe\\n\\x05\\xf8\\x93\\xfe\\n\\x05\\xf8\\xde\\xfe\\n\\n\\xf8\\xaa\\xfe\\n\\n\\xf8\\x88\\xfe\\n\\n\\xf8\\x84\\xfe\\n\\n\\xf9\\x81\\xfe\\n\\n\\x00h\\x00hT02\\x10\\x8er|RO\\xd2\\x00\\x00\\t21\\xc0\\xc1\\xc3\\xc2\\xc1\\xc1\\x00\\xf8\\x97\\xfe\\n\\x00\\xf8\\xe5\\xfe\\n\\x05\\xf8m\\xfe\\n\\x05\\xf8\\x88\\xfe\\n\\x05\\xf8\\x80\\xfe\\n\\x05\\xf8\\x98\\xfe\\n\\x05\\xf8r\\xfe\\n\\x05\\xf8t\\xfe\\n\\x05\\xf8r\\xfe\\n\\x05\\xf8\\x93\\xfe\\n\\x05\\xf8\\x8c\\xfe\\n\\x05\\xf9\\n\\xfe\\n\\n\\xf8\\xa3\\xfe\\n\\n\\xf8{\\xfe\\n\\n\\xf8w\\xfe\\n\\n\\xf9\\xc8\\xfe\\n\\n\\x00h\\x00hT02\\x10\\xaer|RO\\xd2\\x00\\x00\\t21\\xc0\\xc1\\xc3\\xc2\\xc1\\xc1\\x00\\xf8\\x9d\\xfe\\n\\x00\\xf9\\x17\\xfe\\n\\x05\\xf8g\\xfe\\n\\x05\\xf8\\x88\\xfe\\n\\x05\\xf8s\\xfe\\n\\x05\\xf8\\x98\\xfe\\n\\x05\\xf8l\\xfe\\n\\x05\\xf8t\\xfe\\n\\x05\\xf8\\x7f\\xfe\\n\\x05\\xf8\\x99\\xfe\\n\\x05\\xf8\\x85\\xfe\\n\\x05\\xf9j\\xfe\\n\\n\\xf8\\xa3\\xfe\\n\\n\\xf8{\\xfe\\n\\n\\xf8q\\xfe\\n\\n\\xfa\\x01\\xfe\\n\\n\\x00h\\x00hT02\\x10\\xcer|RO\\xd2\\x00\\x00\\t21\\xc0\\xc1\\xc3\\xc2\\xc1\\xc1\\x00\\xf8\\xaa\\xfe\\n\\x00\\xf9J\\xfe\\n\\x05\\xf8Z\\xfe\\n\\x05\\xf8\\x82\\xfe\\n\\x05\\xf8f\\xfe\\n\\x05\\xf8\\x92\\xfe\\n\\x05\\xf8_\\xfe\\n\\x05\\xf8g\\xfe\\n\\x05\\xf8\\x91\\xfe\\n\\x05\\xf8\\x93\\xfe\\n\\x05\\xf8\\x7f\\xfe\\n\\x05\\xf9\\x91\\xfe\\n\\n\\xf8\\xb1\\xfe\\n\\n\\xf8n\\xfe\\n\\n\\xf8d\\xfe\\n\\n\\xfa\\x14\\xfe\\n\\n\\x00h\\x00hT02\\x10\\xeer|RO\\xd2\\x00\\x00\\t21\\xc0\\xc1\\xc3\\xc2\\xc1\\xc1\\x00\\xf8\\xbd\\xfe\\n\\x00\\xf9w\\xfe\\n\\x05\\xf8Z\\xfe\\n\\x05\\xf8\\x95\\xfe\\n\\x05\\xf8f\\xfe\\n\\x05\\xf8\\x98\\xfe\\n\\x05\\xf8Y\\xfe\\n\\x05\\xf8a\\xfe\\n\\x05\\xf8\\xa5\\xfe\\n\\x05\\xf8\\x99\\xfe\\n\\x05\\xf8\\x7f\\xfe\\n\\x05\\xf9\\xbd\\xfe\\n\\n\\xf8\\xdd\\xfe\\n\\n\\xf8n\\xfe\\n\\n\\xf8W\\xfe\\n\\n\\xfa(\\xfe\\n\\n\\x00h\\x00hT02\\x10\\x0es|RO\\xd2\\x00\\x00\\t21\\xc0\\xc1\\xc3\\xc2\\xc1\\xc1\\x00\\xf8\\xca\\xfe\\n\\x00\\xf9\\x83\\xfe\\n\\x05\\xf8T\\xfe\\n\\x05\\xf8\\xa8\\xfe\\n\\x05\\xf8`\\xfe\\n\\x05\\xf8\\x9f\\xfe\\n\\x05\\xf8S\\xfe\\n\\x05\\xf8[\\xfe\\n\\x05\\xf8\\xa5\\xfe\\n\\x05\\xf8\\x93\\xfe\\n\\x05\\xf8\\x85\\xfe\\n\\x05\\xf9\\xc4\\xfe\\n\\n\\xf9\\x04\\xfe\\n\\n\\xf8h\\xfe\\n\\n\\xf8Q\\xfe\\n\\n\\xfa\\x1a\\xfe\\n\\n\\x00h\\x00hT02\\x10.s|RO\\xd2\\x00\\x00\\t21\\xc0\\xc1\\xc3\\xc2\\xc1\\xc1\\x00\\xf8\\xbd\\xfe\\n\\x00\\xf9w\\xfe\\n\\x05\\xf8T\\xfe\\n\\x05\\xf8\\xb5\\xfe\\n\\x05\\xf8`\\xfe\\n\\x05\\xf8\\x9f\\xfe\\n\\x05\\xf8S\\xfe\\n\\x05\\xf8[\\xfe\\n\\x05\\xf8\\x9f\\xfe\\n\\x05\\xf8\\x93\\xfe\\n\\x05\\xf8\\x93\\xfe\\n\\x05\\xf9\\xab\\xfe\\n\\n\\xf9\\x1d\\xfe\\n\\n\\xf8h\\xfe\\n\\n\\xf8]\\xfe\\n\\n\\xf9\\xfb\\xfe\\n\\n\\x00h\\x00hT02\\x10Ns|RO\\xd2\\x00\\x00\\t21\\xc0\\xc1\\xc3\\xc2\\xc1\\xc1\\x00\\xf8\\xd6\\xfe\\n\\x00\\xf9\\x91\\xfe\\n\\x05\\xf8Z\\xfe\\n\\x05\\xf8\\xcf\\xfe\\n\\x05\\xf8f\\xfe\\n\\x05\\xf8\\xb9\\xfe\\n\\x05\\xf8_\\xfe\\n\\x05\\xf8g\\xfe\\n\\x05\\xf8\\xbe\\xfe\\n\\x05\\xf8\\xa5\\xfe\\n\\x05\\xf8\\x9f\\xfe\\n\\x05\\xf9\\xbd\\xfe\\n\\n\\xf9J\\xfe\\n\\n\\xf8n\\xfe\\n\\n\\xf8d\\xfe\\n\\n\\xfa\\x07\\xfe\\n\\n\\x00h\\x00hT02\\x10ns|RO\\xd2\\x00\\x00\\t21\\xc0\\xc1\\xc3\\xc2\\xc1\\xc1\\x00\\xf8\\xd6\\xfe\\n\\x00\\xf9\\x83\\xfe\\n\\x05\\xf8Z\\xfe\\n\\x05\\xf8\\xcf\\xfe\\n\\x05\\xf8f\\xfe\\n\\x05\\xf8\\xb9\\xfe\\n\\x05\\xf8_\\xfe\\n\\x05\\xf8a\\xfe\\n\\x05\\xf8\\xb8\\xfe\\n\\x05\\xf8\\xa5\\xfe\\n\\x05\\xf8\\xa6\\xfe\\n\\x05\\xf9\\xa4\\xfe\\n\\n\\xf9P\\xfe\\n\\n\\xf8n\\xfe\\n\\n\\xf8d\\xfe\\n\\n\\xf9\\xf5\\xfe\\n\\n\\x00h\\x00hT02\\x10\\x8es|RO\\xd2\\x00\\x00\\t21\\xc0\\xc1\\xc3\\xc2\\xc1\\xc1\\x00\\xf8\\xdd\\xfe\\n\\x00\\xf9}\\xfe\\n\\x05\\xf8Z\\xfe\\n\\x05\\xf8\\xdb\\xfe\\n\\x05\\xf8f\\xfe\\n\\x05\\xf8\\xc5\\xfe\\n\\x05\\xf8_\\xfe\\n\\x05\\xf8g\\xfe\\n\\x05\\xf8\\xa5\\xfe\\n\\x05\\xf8\\xac\\xfe\\n\\x05\\xf8\\xac\\xfe\\n\\x05\\xf9\\xb1\\xfe\\n\\n\\xf9v\\xfe\\n\\n\\xf8n\\xfe\\n\\n\\xf8d\\xfe\\n\\n\\xfa\\x01\\xfe\\n\\n\\x00h\\x00hT02\\x10\\xaes|RO\\xd2\\x00\\x00\\t21\\xc0\\xc1\\xc3\\xc2\\xc1\\xc1\\x00\\xf8\\xfd\\xfe\\n\\x00\\xf9\\xd0\\xfe\\n\\x05\\xf8s\\xfe\\n\\x05\\xf9\\x15\\xfe\\n\\x05\\xf8\\x80\\xfe\\n\\x05\\xf8\\xf2\\xfe\\n\\x05\\xf8r\\xfe\\n\\x05\\xf8\\x88\\xfe\\n\\x05\\xf8\\xb8\\xfe\\n\\x05\\xf8\\xd2\\xfe\\n\\x05\\xf8\\xd9\\xfe\\n\\x05\\xfa\\x11\\xfe\\n\\n\\xf9\\xd0\\xfe\\n\\n\\xf8\\x88\\xfe\\n\\n\\xf8}\\xfe\\n\\n\\xfaG\\xfe\\n\\n\\x00h\\x00hT02\\x10\\xces|RO\\xd2\\x00\\x00\\t21\\xc0\\xc1\\xc3\\xc2\\xc1\\xc1\\x00\\xf8\\xf0\\xfe\\n\\x00\\xf9\\xd7\\xfe\\n\\x05\\xf8{\\xfe\\n\\x05\\xf9(\\xfe\\n\\x05\\xf8\\x80\\xfe\\n\\x05\\xf9\\x05\\xfe\\n\\x05\\xf8x\\xfe\\n\\x05\\xf8\\x8e\\xfe\\n\\x05\\xf8\\xd1\\xfe\\n\\x05\\xf8\\xe5\\xfe\\n\\x05\\xf8\\xe5\\xfe\\n\\x05\\xf9\\xea\\xfe\\n\\n\\xf9\\xe4\\xfe\\n\\n\\xf8\\x88\\xfe\\n\\n\\xf8}\\xfe\\n\\n\\xfaM\\xfe\\n\\n\\x00h\\x00hT02\\x10\\xees|RO\\xd2\\x00\\x00\\t21\\xc0\\xc1\\xc3\\xc2\\xc1\\xc1\\x00\\xf8\\xd6\\xfe\\n\\x00\\xf9\\xaa\\xfe\\n\\x05\\xf8s\\xfe\\n\\x05\\xf9\\x15\\xfe\\n\\x05\\xf8z\\xfe\\n\\x05\\xf8\\xfe\\xfe\\n\\x05\\xf8r\\xfe\\n\\x05\\xf8\\x88\\xfe\\n\\x05\\xf8\\xd7\\xfe\\n\\x05\\xf8\\xe5\\xfe\\n\\x05\\xf8\\xd9\\xfe\\n\\x05\\xf9\\x8a\\xfe\\n\\n\\xf9\\xd0\\xfe\\n\\n\\xf8\\x81\\xfe\\n\\n\\xf8}\\xfe\\n\\n\\xfa4\\xfe\\n\\n\\x00h'"
      ]
     },
     "execution_count": 46,
     "metadata": {},
     "output_type": "execute_result"
    }
   ],
   "source": [
    "path ='C:/Users/user/Downloads/измерения1.gtm'\n",
    "# path = 'C:/Users/user/measure.gtm'\n",
    "\n",
    "file = open (path, 'rb', buffering = 0)\n",
    "\n",
    "text = file.read()\n",
    "file.close()\n",
    "\n",
    "text"
   ]
  },
  {
   "cell_type": "code",
   "execution_count": 248,
   "metadata": {},
   "outputs": [
    {
     "data": {
      "text/plain": [
       "23.47"
      ]
     },
     "execution_count": 248,
     "metadata": {},
     "output_type": "execute_result"
    }
   ],
   "source": [
    "data"
   ]
  },
  {
   "cell_type": "code",
   "execution_count": 259,
   "metadata": {},
   "outputs": [
    {
     "data": {
      "text/plain": [
       "b'\\xdeM'"
      ]
     },
     "execution_count": 259,
     "metadata": {},
     "output_type": "execute_result"
    }
   ],
   "source": [
    "data = np.float16(23.47).tostring()\n",
    "data\n",
    "# data = 23.47\n",
    "# print(hex(np.float16(data).tostring()[0]), hex(np.float16(data).tostring()[1]))"
   ]
  },
  {
   "cell_type": "code",
   "execution_count": 224,
   "metadata": {},
   "outputs": [
    {
     "data": {
      "text/plain": [
       "'0x40'"
      ]
     },
     "execution_count": 224,
     "metadata": {},
     "output_type": "execute_result"
    }
   ],
   "source": [
    "hex(np.float16(2.3).tostring()[1])"
   ]
  },
  {
   "cell_type": "code",
   "execution_count": 420,
   "metadata": {},
   "outputs": [
    {
     "data": {
      "text/plain": [
       "b'GTM0\\x00cT02\\x10\\x13YqRO\\xc8\\x00\\x00\\x04HUI\\x00\\t+\\xfe\\n\\x00\\x08\\xe7\\xfe\\n\\x05\\x08\\xf0\\xfe\\n\\x05\\t\\x07\\xfe\\n\\x05\\x08\\x82\\xfe\\n\\x05\\x08\\xf0\\xfe\\n\\x05\\x08\\xd0\\xfe\\n\\x05\\x08\\xe2\\xfe\\n\\x05\\x08\\xd2\\xfe\\n\\x05\\x08\\xe5\\xfe\\n\\x05\\t?\\xfe\\n\\x05\\tf\\xfe\\n\\n\\t\\x8d\\xfe\\n\\n\\x08\\xb3\\xfe\\n\\n\\t\\xb6\\xfe\\n\\n\\x08\\xe5\\xfe\\n\\n\\x00c\\x00cT02\\x10\\xc1YqRO\\xc8\\x00\\x00\\x04Hui\\x00\\n\"\\xfe\\n\\x00\\t\\xdc\\xfe\\n\\x05\\t\\xd4\\xfe\\n\\x05\\t\\xe5\\xfe\\n\\x05\\t`\\xfe\\n\\x05\\t\\xcc\\xfe\\n\\x05\\t\\x8d\\xfe\\n\\x05\\t\\xc5\\xfe\\n\\x05\\t\\xaf\\xfe\\n\\x05\\t\\xbb\\xfe\\n\\x05\\n*\\xfe\\n\\x05\\nQ\\xfe\\n\\n\\n\\x97\\xfe\\n\\n\\to\\xfe\\n\\n\\n\\xa1\\xfe\\n\\n\\t\\xae\\xfe\\n\\n\\x00c\\x00cT02\\x10\\xdbYqRO\\xc8\\x00\\x00\\x04Hiy\\x00\\n<\\xfe\\n\\x00\\t\\xf5\\xfe\\n\\x05\\t\\xf4\\xfe\\n\\x05\\t\\xfe\\xfe\\n\\x05\\t\\x7f\\xfe\\n\\x05\\t\\xe5\\xfe\\n\\x05\\t\\xa7\\xfe\\n\\x05\\t\\xde\\xfe\\n\\x05\\x00\\x00\\xfe\\x00\\x05\\x00\\x00\\xfe\\x00\\x05\\x00\\x00\\xfe\\x00\\x05\\x00\\x00\\xfe\\x00\\n\\x00\\x00\\xfe\\x00\\n\\x00\\x00\\xfe\\x00\\n\\x00\\x00\\xfe\\x00\\n\\x00\\x00\\xfe\\x00\\n\\x00c\\x00cT02\\x10#[qRO\\xc8\\x00\\x00\\x04hhh\\x00\\t\\xe2\\xfe\\n\\x00\\t\\xc2\\xfe\\n\\x05\\t\\xba\\xfe\\n\\x05\\t\\x93\\xfe\\n\\x05\\t\\xb8\\xfe\\n\\x05\\t\\xba\\xfe\\n\\x05\\t\\x86\\xfe\\n\\x05\\t\\xb3\\xfe\\n\\x05\\t\\xc2\\xfe\\n\\x05\\t\\xb5\\xfe\\n\\x05\\t\\xde\\xfe\\n\\x05\\t\\xeb\\xfe\\n\\n\\t\\xec\\xfe\\n\\n\\t\\x9c\\xfe\\n\\n\\t\\xdc\\xfe\\n\\n\\t\\x88\\xfe\\n\\n\\x00c\\x00cT02\\x107[qRO\\xc8\\x00\\x00\\x04HHH\\x00\\t\\xdc\\xfe\\n\\x00\\t\\xbc\\xfe\\n\\x05\\t\\xae\\xfe\\n\\x05\\t\\x8c\\xfe\\n\\x05\\t\\xb2\\xfe\\n\\x05\\t\\xad\\xfe\\n\\x05\\t\\x80\\xfe\\n\\x05\\t\\xac\\xfe\\n\\x05\\t\\xbc\\xfe\\n\\x05\\t\\xaf\\xfe\\n\\x05\\t\\xd1\\xfe\\n\\x05\\t\\xde\\xfe\\n\\n\\t\\xd9\\xfe\\n\\n\\t\\x96\\xfe\\n\\n\\t\\xd0\\xfe\\n\\n\\t\\x82\\xfe\\n\\n\\x00c\\x00cT02\\x10\\x04\\\\qRO\\xc8\\x00\\x00\\x04HhH\\x00\\t\\x9d\\xfe\\n\\x00\\tq\\xfe\\n\\x05\\t\\x82\\xfe\\n\\x05\\tS\\xfe\\n\\x05\\t\\x85\\xfe\\n\\x05\\tg\\xfe\\n\\x05\\t[\\xfe\\n\\x05\\tg\\xfe\\n\\x05\\t\\x8a\\xfe\\n\\x05\\to\\xfe\\n\\x05\\t\\x92\\xfe\\n\\x05\\t\\xa0\\xfe\\n\\n\\t\\x8d\\xfe\\n\\n\\tu\\xfe\\n\\n\\t\\x83\\xfe\\n\\n\\tV\\xfe\\n\\n\\x00c\\x00cT02\\x10\\x04dqRO\\xc8\\x00\\x00\\x04hHh\\x00\\x08\\xf8\\xfe\\n\\x00\\t\\x00\\xfe\\n\\x05\\x08\\xf7\\xfe\\n\\x05\\t\\r\\xfe\\n\\x05\\x08\\xfb\\xfe\\n\\x05\\t\\t\\xfe\\n\\x05\\x08\\xfc\\xfe\\n\\x05\\t\\t\\xfe\\n\\x05\\t\\x05\\xfe\\n\\x05\\t\\n\\xfe\\n\\x05\\x08\\xfa\\xfe\\n\\x05\\x08\\xfa\\xfe\\n\\n\\t\\x03\\xfe\\n\\n\\x08\\xfe\\xfe\\n\\n\\x08\\xf7\\xfe\\n\\n\\x08\\xd7\\xfe\\n\\n\\x00c\\x00cT02\\x10\\x04lqRO\\xc8\\x00\\x00\\x04HAA\\x00\\x08\\xec\\xfe\\n\\x00\\x08\\xf9\\xfe\\n\\x05\\x08\\xea\\xfe\\n\\x05\\x08\\xfb\\xfe\\n\\x05\\x08\\xee\\xfe\\n\\x05\\t\\x02\\xfe\\n\\x05\\x08\\xf6\\xfe\\n\\x05\\x08\\xf5\\xfe\\n\\x05\\x08\\xf8\\xfe\\n\\x05\\t\\x04\\xfe\\n\\x05\\x08\\xed\\xfe\\n\\x05\\x08\\xee\\xfe\\n\\n\\x08\\xf6\\xfe\\n\\n\\x08\\xf1\\xfe\\n\\n\\x08\\xeb\\xfe\\n\\n\\x08\\xc5\\xfe\\n\\n\\x00c\\x00cT02\\x10\\x04tqRO\\xc8\\x00\\x00\\x04HAH\\x00\\x08\\'\\xfe\\n\\x00\\x08/\\xfe\\n\\x05\\x08%\\xfe\\n\\x05\\x086\\xfe\\n\\x05\\x08*\\xfe\\n\\x05\\x08E\\xfe\\n\\x05\\x082\\xfe\\n\\x05\\x08,\\xfe\\n\\x05\\x08.\\xfe\\n\\x05\\x08@\\xfe\\n\\x05\\x08(\\xfe\\n\\x05\\x08#\\xfe\\n\\n\\x08+\\xfe\\n\\n\\x08.\\xfe\\n\\n\\x08&\\xfe\\n\\n\\x08!\\xfe\\n\\n\\x00c\\x00cT02\\x10\\x04|qRO\\xc8\\x00\\x00\\x04AHA\\x00\\x08`\\xfe\\n\\x00\\x08\\xad\\xfe\\n\\x05\\x08e\\xfe\\n\\x05\\x08\\xb5\\xfe\\n\\x05\\x08o\\xfe\\n\\x05\\x08\\xbd\\xfe\\n\\x05\\x08x\\xfe\\n\\x05\\x08\\xaa\\xfe\\n\\x05\\x08z\\xfe\\n\\x05\\x08\\xbe\\xfe\\n\\x05\\x08t\\xfe\\n\\x05\\x08b\\xfe\\n\\n\\x08w\\xfe\\n\\n\\x08m\\xfe\\n\\n\\x08r\\xfe\\n\\n\\x08S\\xfe\\n\\n\\x00c'"
      ]
     },
     "execution_count": 420,
     "metadata": {},
     "output_type": "execute_result"
    }
   ],
   "source": [
    "file = open (path, 'rb', buffering = 0)\n",
    "text = file.read()\n",
    "text"
   ]
  },
  {
   "cell_type": "code",
   "execution_count": 28,
   "metadata": {},
   "outputs": [
    {
     "data": {
      "text/plain": [
       "59"
      ]
     },
     "execution_count": 28,
     "metadata": {},
     "output_type": "execute_result"
    }
   ],
   "source": [
    "len(coding)"
   ]
  },
  {
   "cell_type": "code",
   "execution_count": null,
   "metadata": {},
   "outputs": [],
   "source": []
  }
 ],
 "metadata": {
  "kernelspec": {
   "display_name": "Python 3 (ipykernel)",
   "language": "python",
   "name": "python3"
  },
  "language_info": {
   "codemirror_mode": {
    "name": "ipython",
    "version": 3
   },
   "file_extension": ".py",
   "mimetype": "text/x-python",
   "name": "python",
   "nbconvert_exporter": "python",
   "pygments_lexer": "ipython3",
   "version": "3.9.7"
  }
 },
 "nbformat": 4,
 "nbformat_minor": 4
}
